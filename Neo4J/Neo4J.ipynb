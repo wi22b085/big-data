{
 "cells": [
  {
   "cell_type": "markdown",
   "id": "eec2fb20-ca2a-470a-86c4-a162811ea918",
   "metadata": {},
   "source": [
    "#                                       Big Data Infrastructure Projekt"
   ]
  },
  {
   "cell_type": "markdown",
   "id": "a6f4e4cc-ce37-48fd-9b23-523a5b99eea7",
   "metadata": {},
   "source": [
    "## Zusammenhang zwischen positiven Covid19-Testungen und Impfungen"
   ]
  },
  {
   "cell_type": "markdown",
   "id": "1349c127-d8bc-4b00-8293-0f80ca154960",
   "metadata": {},
   "source": [
    "In diesem Big Data Infrastructure Projekt geht es darum  die Anzahl der positiven Testungen sowie die Impfungen in Österreich bzw. in den jeweiligen Bundesländern/Gemeinden zu analysieren, zu visualisieren und miteinander in Zusammenhang zu setzen. \n",
    "\n",
    "In diesem Jupiter-Notebook werden alle relevanten Schritte (sowie Erklärungen dazu) dokumentiert."
   ]
  },
  {
   "cell_type": "markdown",
   "id": "1e719f47-026f-4658-a799-303d8c28aa26",
   "metadata": {},
   "source": [
    "## Neo4J"
   ]
  },
  {
   "cell_type": "markdown",
   "id": "d8be6d4b-d612-4a50-a1c8-21a8aeb03dca",
   "metadata": {},
   "source": [
    "Neo4J ist eine NoSQL-Graph-Database. Sie wurde aus folgenden Gründen für dieses Projekt gewählt:\n",
    "\n",
    "- Flexibilität\n",
    "- ACID-Transaktionen werden unterstützt\n",
    "- Daten sind eng miteinander verbunden\n",
    "- Einfache Darstellung der Daten"
   ]
  },
  {
   "cell_type": "markdown",
   "id": "007e5841-458b-49c1-9dc3-11cb6bab3823",
   "metadata": {},
   "source": [
    "BILD für letzten beiden punkte\n",
    "BILD\n",
    "BILD\n",
    "BILD"
   ]
  },
  {
   "cell_type": "markdown",
   "id": "9a9760df-ae10-4412-b0c9-c7063cb0d2fb",
   "metadata": {},
   "source": [
    "## 5 V's"
   ]
  },
  {
   "cell_type": "markdown",
   "id": "5700a6fe-da5b-4210-900c-3e845e87e00c",
   "metadata": {},
   "source": [
    "### Volume:"
   ]
  },
  {
   "cell_type": "markdown",
   "id": "13f06361-3bc2-40ec-90a3-516d57eba9ac",
   "metadata": {},
   "source": [
    "- Fallen die Daten in großen Mengen an?"
   ]
  },
  {
   "cell_type": "markdown",
   "id": "705bc35d-b348-4993-9a90-0559b1500e4c",
   "metadata": {},
   "source": [
    "Es ist wichtig anzumerken, dass die Größe der Datenmenge relativ ist. Dennoch fallen in diesem Projekt eindeutig keine großen Datenmengen an. Daher ist dieser Punkt hier wenig Big-Data-relevant."
   ]
  },
  {
   "cell_type": "markdown",
   "id": "db0de349-12b4-4e61-87a0-1318fffdcef2",
   "metadata": {},
   "source": [
    "Alle genutzten Daten haben gemeinsam eine Größe von:\n",
    "- ~ 13 000 Datensätzen\n",
    "- ~ 900 KB"
   ]
  },
  {
   "cell_type": "markdown",
   "id": "27edd72f-dad0-4c3f-bd22-6e2f99cd1d9e",
   "metadata": {},
   "source": [
    "### Velocity:"
   ]
  },
  {
   "cell_type": "markdown",
   "id": "3041dabe-af17-4672-8b53-30286209bdc9",
   "metadata": {},
   "source": [
    "- Fallen die Daten in einer großen Geschwindigkeit an?\n",
    "- In welcher Geschwindigkeit werden die Daten verarbeitet?"
   ]
  },
  {
   "cell_type": "markdown",
   "id": "6f58493c-c830-46ff-943f-8667c2ce0df8",
   "metadata": {},
   "source": [
    "Da in diesem Projekt keine neuen Daten anfallen ist Velocity hier nicht relevant."
   ]
  },
  {
   "cell_type": "markdown",
   "id": "768ae98a-ef81-4728-a165-fd2ef6d80409",
   "metadata": {},
   "source": [
    "Lese-Zeit für ~ 900 KB:\n",
    "- HDD: ~ 0,009 Sekunden bei 100 MB/s\n",
    "- SSD: ~ 0,002 Sekunden bei 450 MB/s"
   ]
  },
  {
   "cell_type": "markdown",
   "id": "c6c959a1-f40c-4d83-a7a6-37a7fcf1f487",
   "metadata": {},
   "source": [
    "Transfer-Zeit über Netzwertk für ~ 900 KB:\n",
    "- ~ 0,009 Sekunden bei 100 MB/s"
   ]
  },
  {
   "cell_type": "markdown",
   "id": "830d823b-58e8-4747-9814-5edd5c9ba096",
   "metadata": {},
   "source": [
    "### Variety:"
   ]
  },
  {
   "cell_type": "markdown",
   "id": "b1c1d618-62a9-4c6f-8c08-3c05ab2297de",
   "metadata": {},
   "source": [
    "- Fallen die Daten in Großer Vielfalt an (Datentyp, Datenstruktur)?"
   ]
  },
  {
   "cell_type": "markdown",
   "id": "b435d4c5-6955-4132-8e4c-4e47165bef6c",
   "metadata": {},
   "source": [
    "Alle genutzten Daten dieses Projekts sind vom TYP CSV und strukturiert. Daher sind sie auch vollständig und folgen einem klaren Schema. Die Daten könnten daher auch in einer relationalen Datenbank mit Reihen und Spalten gespeichert werden."
   ]
  },
  {
   "cell_type": "markdown",
   "id": "6cb48086-1960-4059-98d6-bc6b447a68cb",
   "metadata": {},
   "source": [
    "### Veracity:"
   ]
  },
  {
   "cell_type": "markdown",
   "id": "2f095133-2e39-4c49-9692-c85cbf9445d4",
   "metadata": {},
   "source": [
    "- Sind die daten von hoher Qualität (Glaubwürdigkeit, Gültigkeit, Wahrhaftigkeit)?"
   ]
  },
  {
   "cell_type": "markdown",
   "id": "248decc8-5f65-44c4-9002-aecff4ba83c9",
   "metadata": {},
   "source": [
    "Alle Daten dieses Projekts stammen aus glaubwürdigen Quellen:\n",
    "- https://info.gesundheitsministerium.at/\n",
    "- https://www.data.gv.at/"
   ]
  },
  {
   "cell_type": "markdown",
   "id": "07015dc2-b7e0-4e95-8b66-6e75c19366dd",
   "metadata": {},
   "source": [
    "Zusätzlich wurden die Daten auf Unstimmigkeiten (Ausreißer, Widersprüche, Fehlende Werte) geprüft. Deshalb kann davon ausgegangen werden, dass die Daten von hoher Qualität sind."
   ]
  },
  {
   "cell_type": "markdown",
   "id": "ec2db3a9-1331-46c7-9969-59c23cfb98c7",
   "metadata": {},
   "source": [
    "### Value:"
   ]
  },
  {
   "cell_type": "markdown",
   "id": "0bb25900-d052-41e0-8a29-aae1a802c146",
   "metadata": {},
   "source": [
    "- Haben die Daten einen Mehrwert?"
   ]
  },
  {
   "cell_type": "markdown",
   "id": "2205a040-57f0-4cd5-9449-c16049cf16dc",
   "metadata": {},
   "source": [
    "Die genutzten Daten haben einen großen Mehrwert. Durch ihre Analyse wird ein möglicher Zusammenhang zwischen den positiven Covid19-Testungen und den Impfungen festgestellt."
   ]
  },
  {
   "cell_type": "markdown",
   "id": "5feaa612-13e5-42cb-abbf-102182941e70",
   "metadata": {},
   "source": [
    "## 4 Levels of Data Processing"
   ]
  },
  {
   "cell_type": "markdown",
   "id": "a732ded6-2eb7-4a55-b338-cec06a249fc8",
   "metadata": {},
   "source": [
    "### Data Sources (Data Source Layer):"
   ]
  },
  {
   "cell_type": "markdown",
   "id": "e0771187-fa5a-4904-84cb-687723906dac",
   "metadata": {},
   "source": [
    "Für dieses Projekt sind keine Tools zur Datengewinnung notwendig. Die Daten wurden einmalig aus Quellen des Internets lokal abgespeichert."
   ]
  },
  {
   "cell_type": "markdown",
   "id": "f150695b-db31-4dc6-829f-dbee4e918d37",
   "metadata": {},
   "source": [
    "Daten:\n",
    "- Typ: Strukturiert\n",
    "- Velocity und Volume: Die Daten fallen einamlig in geringer Menge an\n",
    "- Externe Datenquelle: https://info.gesundheitsministerium.at/ und https://www.data.gv.at/\n",
    "- Daten-Typ: CSV"
   ]
  },
  {
   "cell_type": "markdown",
   "id": "d617d2d3-2581-4006-a778-c773578f5efa",
   "metadata": {},
   "source": [
    "### Data Messaging and Store Layer (Data Storage Layer):"
   ]
  },
  {
   "cell_type": "markdown",
   "id": "21c683bc-05b3-4f17-916b-c7428cdb5662",
   "metadata": {},
   "source": [
    "Die Daten wurden über Docker in der No-SQL-Graph-Database \"Neo4J\" gespeichert. Wie schnell die Daten gespeichert werden ist nicht releveant, da sie einmalig gewonnen wurden."
   ]
  },
  {
   "cell_type": "markdown",
   "id": "2ffd8528-0711-4f04-ab68-bc34bee10f9a",
   "metadata": {},
   "source": [
    "CAP:\n",
    "- Consistency: Neo4J bietet ACID-Transaktionen\n",
    "- Availability: Noe4J bietet Mechanismen für teilweisen Systemausfall\n",
    "- Partition Tolerance: Nicht relevant, da die Datenbank nur auf einem System ist"
   ]
  },
  {
   "cell_type": "markdown",
   "id": "41244927-403b-46df-b040-1038fb20350f",
   "metadata": {},
   "source": [
    "### Analysis Layer (Processing Layer):"
   ]
  },
  {
   "cell_type": "markdown",
   "id": "17dd7d17-8929-4b3c-adfd-f07450bb649b",
   "metadata": {},
   "source": [
    "Die Daten wurden mit einigen Pandas Funktionen analysiert. Zudem wurde eine MapReduce-Calculation mit Apache Hadoop durchgeführt.!!!!!!!!!!!!!!!!!!!!!!!!!!!!!!!!!!!!!!!!!!!!!"
   ]
  },
  {
   "cell_type": "markdown",
   "id": "17d3a3a2-636e-4716-957f-a795cf4d3b61",
   "metadata": {},
   "source": [
    "### Consumption Layer (Data Output Layer):"
   ]
  },
  {
   "cell_type": "markdown",
   "id": "f6450644-a41c-45c7-a5a4-61ba1143ab0f",
   "metadata": {},
   "source": [
    "Die Ergebnisse der Analyse und deren Value wurden mithilfe von Visualisierungen dargestellt. Hierzu wurden die Python-Libraries \"Matplotlib\" und \"Seaborn\" verwendet."
   ]
  },
  {
   "cell_type": "markdown",
   "id": "a524986c-39bd-45db-bdec-83f04ef2d54f",
   "metadata": {},
   "source": [
    "Folgende Diagrammtypen wurden eingesetzt:\n",
    "- Barplots\n",
    "- Histogramme\n",
    "- Kreisdiagramme\n",
    "- Boxplots\n",
    "- Streudiagramme!!!!!!!!!!!!!!!!!!!!!!!!!!"
   ]
  },
  {
   "cell_type": "markdown",
   "id": "882a3ac0-2d53-45c9-90e7-feb73d895293",
   "metadata": {},
   "source": [
    "Es wurden außerdem die Datenbank-Visualisierungen von Neo4J genutzt."
   ]
  },
  {
   "cell_type": "markdown",
   "id": "4c7582d7-04f5-4e4b-a98d-49e92a3977ed",
   "metadata": {},
   "source": [
    "## Analyse"
   ]
  },
  {
   "cell_type": "markdown",
   "id": "9dba0a13",
   "metadata": {},
   "source": [
    "Zuerst wird ein Docker Container erstellt. Dieser enthällt einen Container, ein neo4j Image, auf welches durch die Ports 7474 und 7687 zugegriffen wird, sowie auch ein Volume und die Verbindung mit neo4j mit Username und Passwort."
   ]
  },
  {
   "cell_type": "code",
   "execution_count": 36,
   "id": "44d92447",
   "metadata": {},
   "outputs": [
    {
     "name": "stderr",
     "output_type": "stream",
     "text": [
      " Container neo4j-container  Created\n",
      " Container neo4j-container  Starting\n",
      " Container neo4j-container  Started\n"
     ]
    }
   ],
   "source": [
    "!docker-compose -p completx_sql up -d"
   ]
  },
  {
   "cell_type": "markdown",
   "id": "d5df03f2",
   "metadata": {},
   "source": [
    "Um Neo4j zu verwenden, müssen Sie es und seinen Python-Treiber installieren. Darüber hinaus erleichtert die Installation der Bibliothek py2neo die Verbindungen und Interaktionen mit der Neo4j-Datenbank."
   ]
  },
  {
   "cell_type": "code",
   "execution_count": 37,
   "id": "6d7b0f8d",
   "metadata": {},
   "outputs": [
    {
     "name": "stdout",
     "output_type": "stream",
     "text": [
      "Requirement already satisfied: neo4j in c:\\users\\matthias jenewein\\appdata\\local\\programs\\python\\python310\\lib\\site-packages (5.19.0)\n",
      "Requirement already satisfied: pytz in c:\\users\\matthias jenewein\\appdata\\local\\programs\\python\\python310\\lib\\site-packages (from neo4j) (2022.7.1)\n",
      "Note: you may need to restart the kernel to use updated packages.\n"
     ]
    },
    {
     "name": "stderr",
     "output_type": "stream",
     "text": [
      "\n",
      "[notice] A new release of pip is available: 23.3.2 -> 24.0\n",
      "[notice] To update, run: python.exe -m pip install --upgrade pip\n"
     ]
    }
   ],
   "source": [
    "pip install neo4j"
   ]
  },
  {
   "cell_type": "code",
   "execution_count": 38,
   "id": "12af5d82",
   "metadata": {},
   "outputs": [
    {
     "name": "stdout",
     "output_type": "stream",
     "text": [
      "Requirement already satisfied: py2neo in c:\\users\\matthias jenewein\\appdata\\local\\programs\\python\\python310\\lib\\site-packages (2021.2.4)\n",
      "Requirement already satisfied: certifi in c:\\users\\matthias jenewein\\appdata\\local\\programs\\python\\python310\\lib\\site-packages (from py2neo) (2024.2.2)\n",
      "Requirement already satisfied: interchange~=2021.0.4 in c:\\users\\matthias jenewein\\appdata\\local\\programs\\python\\python310\\lib\\site-packages (from py2neo) (2021.0.4)\n",
      "Requirement already satisfied: monotonic in c:\\users\\matthias jenewein\\appdata\\local\\programs\\python\\python310\\lib\\site-packages (from py2neo) (1.6)\n",
      "Requirement already satisfied: packaging in c:\\users\\matthias jenewein\\appdata\\local\\programs\\python\\python310\\lib\\site-packages (from py2neo) (23.0)\n",
      "Requirement already satisfied: pansi>=2020.7.3 in c:\\users\\matthias jenewein\\appdata\\local\\programs\\python\\python310\\lib\\site-packages (from py2neo) (2020.7.3)\n",
      "Requirement already satisfied: pygments>=2.0.0 in c:\\users\\matthias jenewein\\appdata\\roaming\\python\\python310\\site-packages (from py2neo) (2.17.2)\n",
      "Requirement already satisfied: six>=1.15.0 in c:\\users\\matthias jenewein\\appdata\\local\\programs\\python\\python310\\lib\\site-packages (from py2neo) (1.16.0)\n",
      "Requirement already satisfied: urllib3 in c:\\users\\matthias jenewein\\appdata\\local\\programs\\python\\python310\\lib\\site-packages (from py2neo) (2.2.1)\n",
      "Requirement already satisfied: pytz in c:\\users\\matthias jenewein\\appdata\\local\\programs\\python\\python310\\lib\\site-packages (from interchange~=2021.0.4->py2neo) (2022.7.1)\n",
      "Note: you may need to restart the kernel to use updated packages.\n"
     ]
    },
    {
     "name": "stderr",
     "output_type": "stream",
     "text": [
      "\n",
      "[notice] A new release of pip is available: 23.3.2 -> 24.0\n",
      "[notice] To update, run: python.exe -m pip install --upgrade pip\n"
     ]
    }
   ],
   "source": [
    "pip install py2neo"
   ]
  },
  {
   "cell_type": "code",
   "execution_count": 39,
   "id": "97a391c1",
   "metadata": {},
   "outputs": [
    {
     "name": "stdout",
     "output_type": "stream",
     "text": [
      "Requirement already satisfied: requests in c:\\users\\matthias jenewein\\appdata\\local\\programs\\python\\python310\\lib\\site-packages (2.31.0)\n",
      "Requirement already satisfied: charset-normalizer<4,>=2 in c:\\users\\matthias jenewein\\appdata\\local\\programs\\python\\python310\\lib\\site-packages (from requests) (3.3.2)\n",
      "Requirement already satisfied: idna<4,>=2.5 in c:\\users\\matthias jenewein\\appdata\\local\\programs\\python\\python310\\lib\\site-packages (from requests) (3.3)\n",
      "Requirement already satisfied: urllib3<3,>=1.21.1 in c:\\users\\matthias jenewein\\appdata\\local\\programs\\python\\python310\\lib\\site-packages (from requests) (2.2.1)\n",
      "Requirement already satisfied: certifi>=2017.4.17 in c:\\users\\matthias jenewein\\appdata\\local\\programs\\python\\python310\\lib\\site-packages (from requests) (2024.2.2)\n",
      "Note: you may need to restart the kernel to use updated packages.\n"
     ]
    },
    {
     "name": "stderr",
     "output_type": "stream",
     "text": [
      "\n",
      "[notice] A new release of pip is available: 23.3.2 -> 24.0\n",
      "[notice] To update, run: python.exe -m pip install --upgrade pip\n"
     ]
    }
   ],
   "source": [
    "pip install requests"
   ]
  },
  {
   "cell_type": "code",
   "execution_count": 40,
   "id": "4e04a173",
   "metadata": {},
   "outputs": [
    {
     "name": "stdout",
     "output_type": "stream",
     "text": [
      "Requirement already satisfied: matplotlib in c:\\users\\matthias jenewein\\appdata\\local\\programs\\python\\python310\\lib\\site-packages (3.7.0)Note: you may need to restart the kernel to use updated packages.\n",
      "\n",
      "Requirement already satisfied: contourpy>=1.0.1 in c:\\users\\matthias jenewein\\appdata\\local\\programs\\python\\python310\\lib\\site-packages (from matplotlib) (1.0.7)\n",
      "Requirement already satisfied: cycler>=0.10 in c:\\users\\matthias jenewein\\appdata\\local\\programs\\python\\python310\\lib\\site-packages (from matplotlib) (0.11.0)\n",
      "Requirement already satisfied: fonttools>=4.22.0 in c:\\users\\matthias jenewein\\appdata\\local\\programs\\python\\python310\\lib\\site-packages (from matplotlib) (4.38.0)\n",
      "Requirement already satisfied: kiwisolver>=1.0.1 in c:\\users\\matthias jenewein\\appdata\\local\\programs\\python\\python310\\lib\\site-packages (from matplotlib) (1.4.4)\n",
      "Requirement already satisfied: numpy>=1.20 in c:\\users\\matthias jenewein\\appdata\\local\\programs\\python\\python310\\lib\\site-packages (from matplotlib) (1.24.2)\n",
      "Requirement already satisfied: packaging>=20.0 in c:\\users\\matthias jenewein\\appdata\\local\\programs\\python\\python310\\lib\\site-packages (from matplotlib) (23.0)\n",
      "Requirement already satisfied: pillow>=6.2.0 in c:\\users\\matthias jenewein\\appdata\\local\\programs\\python\\python310\\lib\\site-packages (from matplotlib) (9.4.0)\n",
      "Requirement already satisfied: pyparsing>=2.3.1 in c:\\users\\matthias jenewein\\appdata\\local\\programs\\python\\python310\\lib\\site-packages (from matplotlib) (3.0.9)\n",
      "Requirement already satisfied: python-dateutil>=2.7 in c:\\users\\matthias jenewein\\appdata\\local\\programs\\python\\python310\\lib\\site-packages (from matplotlib) (2.8.2)\n",
      "Requirement already satisfied: six>=1.5 in c:\\users\\matthias jenewein\\appdata\\local\\programs\\python\\python310\\lib\\site-packages (from python-dateutil>=2.7->matplotlib) (1.16.0)\n"
     ]
    },
    {
     "name": "stderr",
     "output_type": "stream",
     "text": [
      "\n",
      "[notice] A new release of pip is available: 23.3.2 -> 24.0\n",
      "[notice] To update, run: python.exe -m pip install --upgrade pip\n"
     ]
    }
   ],
   "source": [
    "pip install matplotlib"
   ]
  },
  {
   "cell_type": "code",
   "execution_count": 41,
   "id": "56e2238e",
   "metadata": {},
   "outputs": [
    {
     "name": "stdout",
     "output_type": "stream",
     "text": [
      "Requirement already satisfied: plotly in c:\\users\\matthias jenewein\\appdata\\local\\programs\\python\\python310\\lib\\site-packages (5.21.0)\n",
      "Requirement already satisfied: tenacity>=6.2.0 in c:\\users\\matthias jenewein\\appdata\\local\\programs\\python\\python310\\lib\\site-packages (from plotly) (8.2.3)\n",
      "Requirement already satisfied: packaging in c:\\users\\matthias jenewein\\appdata\\local\\programs\\python\\python310\\lib\\site-packages (from plotly) (23.0)\n",
      "Note: you may need to restart the kernel to use updated packages.\n"
     ]
    },
    {
     "name": "stderr",
     "output_type": "stream",
     "text": [
      "\n",
      "[notice] A new release of pip is available: 23.3.2 -> 24.0\n",
      "[notice] To update, run: python.exe -m pip install --upgrade pip\n"
     ]
    }
   ],
   "source": [
    "pip install plotly"
   ]
  },
  {
   "cell_type": "code",
   "execution_count": 42,
   "id": "2473336c",
   "metadata": {},
   "outputs": [
    {
     "name": "stdout",
     "output_type": "stream",
     "text": [
      "Note: you may need to restart the kernel to use updated packages.\n"
     ]
    },
    {
     "name": "stderr",
     "output_type": "stream",
     "text": [
      "\n",
      "[notice] A new release of pip is available: 23.3.2 -> 24.0\n",
      "[notice] To update, run: python.exe -m pip install --upgrade pip\n"
     ]
    }
   ],
   "source": [
    "pip install nbformat>=4.20"
   ]
  },
  {
   "cell_type": "markdown",
   "id": "1af430fa",
   "metadata": {},
   "source": [
    "Des weiteren werden Pandas, CSV, Requests und verschiedene Modules von Py2Neo importiert."
   ]
  },
  {
   "cell_type": "code",
   "execution_count": 43,
   "id": "2bc33061",
   "metadata": {},
   "outputs": [],
   "source": [
    "from py2neo import Graph, Node, Relationship\n",
    "import csv\n",
    "import pandas as pd\n",
    "import requests"
   ]
  },
  {
   "cell_type": "markdown",
   "id": "4521dfc7",
   "metadata": {},
   "source": [
    "Die benötigten CSV-Dateien werden mithilfe von pdf.read_csv eingelesen.\n",
    "Ingesamt gibt es vier CSV-Dateien. Drei davon enthalten Informationen über die Impfungen für die Jahre 2021, 2022 und 2023. Die vierte Datei gibt Information über die positiven Testungen pro Bundesland in den Jahren 2021 bis Ende 2022.  "
   ]
  },
  {
   "cell_type": "code",
   "execution_count": 44,
   "id": "bb18dd18",
   "metadata": {},
   "outputs": [],
   "source": [
    "faelle = pd.read_csv('timeline-faelle-bundeslaender.csv',delimiter=';')\n",
    "vaccines_2021_cumulated = pd.read_csv('impfungen_2021.csv',delimiter=';')\n",
    "vaccines_2022_cumulated = pd.read_csv('impfungen_2022.csv',delimiter=';')\n",
    "vaccines_2023_cumulated = pd.read_csv('impfungen_2023.csv',delimiter=';')"
   ]
  },
  {
   "cell_type": "markdown",
   "id": "4d6b05bf",
   "metadata": {},
   "source": [
    "Im folgenden ein paar allgemeine Informationen über Struktur und Inhalt der CSV-Dateien."
   ]
  },
  {
   "cell_type": "code",
   "execution_count": 45,
   "id": "8f3fbfa7",
   "metadata": {},
   "outputs": [
    {
     "data": {
      "text/html": [
       "<div>\n",
       "<style scoped>\n",
       "    .dataframe tbody tr th:only-of-type {\n",
       "        vertical-align: middle;\n",
       "    }\n",
       "\n",
       "    .dataframe tbody tr th {\n",
       "        vertical-align: top;\n",
       "    }\n",
       "\n",
       "    .dataframe thead th {\n",
       "        text-align: right;\n",
       "    }\n",
       "</style>\n",
       "<table border=\"1\" class=\"dataframe\">\n",
       "  <thead>\n",
       "    <tr style=\"text-align: right;\">\n",
       "      <th></th>\n",
       "      <th>Datum</th>\n",
       "      <th>BundeslandID</th>\n",
       "      <th>Name</th>\n",
       "      <th>Testungen</th>\n",
       "      <th>TestungenPCR</th>\n",
       "      <th>TestungenAntigen</th>\n",
       "    </tr>\n",
       "  </thead>\n",
       "  <tbody>\n",
       "    <tr>\n",
       "      <th>0</th>\n",
       "      <td>2021</td>\n",
       "      <td>1</td>\n",
       "      <td>Burgenland</td>\n",
       "      <td>638575</td>\n",
       "      <td>155435</td>\n",
       "      <td>483140</td>\n",
       "    </tr>\n",
       "    <tr>\n",
       "      <th>1</th>\n",
       "      <td>2021</td>\n",
       "      <td>2</td>\n",
       "      <td>Kärnten</td>\n",
       "      <td>675557</td>\n",
       "      <td>217933</td>\n",
       "      <td>457624</td>\n",
       "    </tr>\n",
       "    <tr>\n",
       "      <th>2</th>\n",
       "      <td>2021</td>\n",
       "      <td>3</td>\n",
       "      <td>Niederösterreich</td>\n",
       "      <td>3400756</td>\n",
       "      <td>1141984</td>\n",
       "      <td>2258772</td>\n",
       "    </tr>\n",
       "    <tr>\n",
       "      <th>3</th>\n",
       "      <td>2021</td>\n",
       "      <td>4</td>\n",
       "      <td>Oberösterreich</td>\n",
       "      <td>2162517</td>\n",
       "      <td>546777</td>\n",
       "      <td>1615740</td>\n",
       "    </tr>\n",
       "    <tr>\n",
       "      <th>4</th>\n",
       "      <td>2021</td>\n",
       "      <td>5</td>\n",
       "      <td>Salzburg</td>\n",
       "      <td>823353</td>\n",
       "      <td>274598</td>\n",
       "      <td>548755</td>\n",
       "    </tr>\n",
       "  </tbody>\n",
       "</table>\n",
       "</div>"
      ],
      "text/plain": [
       "   Datum  BundeslandID              Name  Testungen  TestungenPCR  \\\n",
       "0   2021             1        Burgenland     638575        155435   \n",
       "1   2021             2           Kärnten     675557        217933   \n",
       "2   2021             3  Niederösterreich    3400756       1141984   \n",
       "3   2021             4    Oberösterreich    2162517        546777   \n",
       "4   2021             5          Salzburg     823353        274598   \n",
       "\n",
       "   TestungenAntigen  \n",
       "0            483140  \n",
       "1            457624  \n",
       "2           2258772  \n",
       "3           1615740  \n",
       "4            548755  "
      ]
     },
     "execution_count": 45,
     "metadata": {},
     "output_type": "execute_result"
    }
   ],
   "source": [
    "faelle.head()"
   ]
  },
  {
   "cell_type": "code",
   "execution_count": 46,
   "id": "2167d150",
   "metadata": {},
   "outputs": [
    {
     "data": {
      "text/html": [
       "<div>\n",
       "<style scoped>\n",
       "    .dataframe tbody tr th:only-of-type {\n",
       "        vertical-align: middle;\n",
       "    }\n",
       "\n",
       "    .dataframe tbody tr th {\n",
       "        vertical-align: top;\n",
       "    }\n",
       "\n",
       "    .dataframe thead th {\n",
       "        text-align: right;\n",
       "    }\n",
       "</style>\n",
       "<table border=\"1\" class=\"dataframe\">\n",
       "  <thead>\n",
       "    <tr style=\"text-align: right;\">\n",
       "      <th></th>\n",
       "      <th>Datum</th>\n",
       "      <th>BundeslandID</th>\n",
       "      <th>Name</th>\n",
       "      <th>Testungen</th>\n",
       "      <th>TestungenPCR</th>\n",
       "      <th>TestungenAntigen</th>\n",
       "    </tr>\n",
       "  </thead>\n",
       "  <tbody>\n",
       "    <tr>\n",
       "      <th>6595</th>\n",
       "      <td>2022</td>\n",
       "      <td>6</td>\n",
       "      <td>Steiermark</td>\n",
       "      <td>22515339</td>\n",
       "      <td>6653515</td>\n",
       "      <td>15861824</td>\n",
       "    </tr>\n",
       "    <tr>\n",
       "      <th>6596</th>\n",
       "      <td>2022</td>\n",
       "      <td>7</td>\n",
       "      <td>Tirol</td>\n",
       "      <td>10201158</td>\n",
       "      <td>4456324</td>\n",
       "      <td>5744834</td>\n",
       "    </tr>\n",
       "    <tr>\n",
       "      <th>6597</th>\n",
       "      <td>2022</td>\n",
       "      <td>8</td>\n",
       "      <td>Vorarlberg</td>\n",
       "      <td>7295131</td>\n",
       "      <td>1652804</td>\n",
       "      <td>5642327</td>\n",
       "    </tr>\n",
       "    <tr>\n",
       "      <th>6598</th>\n",
       "      <td>2022</td>\n",
       "      <td>9</td>\n",
       "      <td>Wien</td>\n",
       "      <td>73308019</td>\n",
       "      <td>65638829</td>\n",
       "      <td>7669190</td>\n",
       "    </tr>\n",
       "    <tr>\n",
       "      <th>6599</th>\n",
       "      <td>2022</td>\n",
       "      <td>10</td>\n",
       "      <td>Österreich</td>\n",
       "      <td>204039989</td>\n",
       "      <td>107516250</td>\n",
       "      <td>96523739</td>\n",
       "    </tr>\n",
       "  </tbody>\n",
       "</table>\n",
       "</div>"
      ],
      "text/plain": [
       "      Datum  BundeslandID        Name  Testungen  TestungenPCR  \\\n",
       "6595   2022             6  Steiermark   22515339       6653515   \n",
       "6596   2022             7       Tirol   10201158       4456324   \n",
       "6597   2022             8  Vorarlberg    7295131       1652804   \n",
       "6598   2022             9        Wien   73308019      65638829   \n",
       "6599   2022            10  Österreich  204039989     107516250   \n",
       "\n",
       "      TestungenAntigen  \n",
       "6595          15861824  \n",
       "6596           5744834  \n",
       "6597           5642327  \n",
       "6598           7669190  \n",
       "6599          96523739  "
      ]
     },
     "execution_count": 46,
     "metadata": {},
     "output_type": "execute_result"
    }
   ],
   "source": [
    "faelle.tail()"
   ]
  },
  {
   "cell_type": "code",
   "execution_count": 47,
   "id": "e77e4913",
   "metadata": {},
   "outputs": [
    {
     "data": {
      "text/html": [
       "<div>\n",
       "<style scoped>\n",
       "    .dataframe tbody tr th:only-of-type {\n",
       "        vertical-align: middle;\n",
       "    }\n",
       "\n",
       "    .dataframe tbody tr th {\n",
       "        vertical-align: top;\n",
       "    }\n",
       "\n",
       "    .dataframe thead th {\n",
       "        text-align: right;\n",
       "    }\n",
       "</style>\n",
       "<table border=\"1\" class=\"dataframe\">\n",
       "  <thead>\n",
       "    <tr style=\"text-align: right;\">\n",
       "      <th></th>\n",
       "      <th>Datum</th>\n",
       "      <th>Gemeindecode</th>\n",
       "      <th>Einwohner</th>\n",
       "      <th>Teilgeimpfte</th>\n",
       "      <th>TeilgeimpftePro100</th>\n",
       "      <th>Vollimmunisierte</th>\n",
       "      <th>VollimmunisiertePro100</th>\n",
       "    </tr>\n",
       "  </thead>\n",
       "  <tbody>\n",
       "    <tr>\n",
       "      <th>0</th>\n",
       "      <td>2021</td>\n",
       "      <td>10101</td>\n",
       "      <td>14895</td>\n",
       "      <td>11666</td>\n",
       "      <td>78.321584</td>\n",
       "      <td>10961</td>\n",
       "      <td>73.588453</td>\n",
       "    </tr>\n",
       "    <tr>\n",
       "      <th>1</th>\n",
       "      <td>2021</td>\n",
       "      <td>10201</td>\n",
       "      <td>2000</td>\n",
       "      <td>1592</td>\n",
       "      <td>79.600000</td>\n",
       "      <td>1512</td>\n",
       "      <td>75.600000</td>\n",
       "    </tr>\n",
       "    <tr>\n",
       "      <th>2</th>\n",
       "      <td>2021</td>\n",
       "      <td>10301</td>\n",
       "      <td>1883</td>\n",
       "      <td>1506</td>\n",
       "      <td>79.978757</td>\n",
       "      <td>1444</td>\n",
       "      <td>76.686139</td>\n",
       "    </tr>\n",
       "    <tr>\n",
       "      <th>3</th>\n",
       "      <td>2021</td>\n",
       "      <td>10302</td>\n",
       "      <td>1841</td>\n",
       "      <td>1505</td>\n",
       "      <td>81.749049</td>\n",
       "      <td>1424</td>\n",
       "      <td>77.349267</td>\n",
       "    </tr>\n",
       "    <tr>\n",
       "      <th>4</th>\n",
       "      <td>2021</td>\n",
       "      <td>10303</td>\n",
       "      <td>2122</td>\n",
       "      <td>1672</td>\n",
       "      <td>78.793591</td>\n",
       "      <td>1591</td>\n",
       "      <td>74.976437</td>\n",
       "    </tr>\n",
       "  </tbody>\n",
       "</table>\n",
       "</div>"
      ],
      "text/plain": [
       "   Datum  Gemeindecode  Einwohner  Teilgeimpfte  TeilgeimpftePro100  \\\n",
       "0   2021         10101      14895         11666           78.321584   \n",
       "1   2021         10201       2000          1592           79.600000   \n",
       "2   2021         10301       1883          1506           79.978757   \n",
       "3   2021         10302       1841          1505           81.749049   \n",
       "4   2021         10303       2122          1672           78.793591   \n",
       "\n",
       "   Vollimmunisierte  VollimmunisiertePro100  \n",
       "0             10961               73.588453  \n",
       "1              1512               75.600000  \n",
       "2              1444               76.686139  \n",
       "3              1424               77.349267  \n",
       "4              1591               74.976437  "
      ]
     },
     "execution_count": 47,
     "metadata": {},
     "output_type": "execute_result"
    }
   ],
   "source": [
    "vaccines_2021_cumulated.head()"
   ]
  },
  {
   "cell_type": "code",
   "execution_count": 48,
   "id": "de210a29",
   "metadata": {},
   "outputs": [
    {
     "data": {
      "text/html": [
       "<div>\n",
       "<style scoped>\n",
       "    .dataframe tbody tr th:only-of-type {\n",
       "        vertical-align: middle;\n",
       "    }\n",
       "\n",
       "    .dataframe tbody tr th {\n",
       "        vertical-align: top;\n",
       "    }\n",
       "\n",
       "    .dataframe thead th {\n",
       "        text-align: right;\n",
       "    }\n",
       "</style>\n",
       "<table border=\"1\" class=\"dataframe\">\n",
       "  <thead>\n",
       "    <tr style=\"text-align: right;\">\n",
       "      <th></th>\n",
       "      <th>date</th>\n",
       "      <th>municipality_id</th>\n",
       "      <th>municipality_name</th>\n",
       "      <th>municipality_population</th>\n",
       "      <th>dose_1</th>\n",
       "      <th>dose_2</th>\n",
       "      <th>dose_3</th>\n",
       "      <th>dose_4</th>\n",
       "      <th>dose_5+</th>\n",
       "      <th>vaccinated_according_to_recommendation</th>\n",
       "      <th>vaccinated_according_to_recommendation_percent</th>\n",
       "    </tr>\n",
       "  </thead>\n",
       "  <tbody>\n",
       "    <tr>\n",
       "      <th>0</th>\n",
       "      <td>2022</td>\n",
       "      <td>10101</td>\n",
       "      <td>Eisenstadt</td>\n",
       "      <td>15485</td>\n",
       "      <td>12284</td>\n",
       "      <td>12037</td>\n",
       "      <td>9752</td>\n",
       "      <td>2169</td>\n",
       "      <td>18</td>\n",
       "      <td>9889</td>\n",
       "      <td>63.861802</td>\n",
       "    </tr>\n",
       "    <tr>\n",
       "      <th>1</th>\n",
       "      <td>2022</td>\n",
       "      <td>10201</td>\n",
       "      <td>Rust</td>\n",
       "      <td>2008</td>\n",
       "      <td>1644</td>\n",
       "      <td>1622</td>\n",
       "      <td>1356</td>\n",
       "      <td>261</td>\n",
       "      <td>4</td>\n",
       "      <td>1323</td>\n",
       "      <td>65.886454</td>\n",
       "    </tr>\n",
       "    <tr>\n",
       "      <th>2</th>\n",
       "      <td>2022</td>\n",
       "      <td>10301</td>\n",
       "      <td>Breitenbrunn am Neusiedler See</td>\n",
       "      <td>1922</td>\n",
       "      <td>1570</td>\n",
       "      <td>1552</td>\n",
       "      <td>1321</td>\n",
       "      <td>347</td>\n",
       "      <td>2</td>\n",
       "      <td>1340</td>\n",
       "      <td>69.719043</td>\n",
       "    </tr>\n",
       "    <tr>\n",
       "      <th>3</th>\n",
       "      <td>2022</td>\n",
       "      <td>10302</td>\n",
       "      <td>Donnerskirchen</td>\n",
       "      <td>1854</td>\n",
       "      <td>1552</td>\n",
       "      <td>1533</td>\n",
       "      <td>1298</td>\n",
       "      <td>281</td>\n",
       "      <td>0</td>\n",
       "      <td>1303</td>\n",
       "      <td>70.280475</td>\n",
       "    </tr>\n",
       "    <tr>\n",
       "      <th>4</th>\n",
       "      <td>2022</td>\n",
       "      <td>10303</td>\n",
       "      <td>Großhöflein</td>\n",
       "      <td>2099</td>\n",
       "      <td>1793</td>\n",
       "      <td>1759</td>\n",
       "      <td>1441</td>\n",
       "      <td>209</td>\n",
       "      <td>2</td>\n",
       "      <td>1465</td>\n",
       "      <td>69.795141</td>\n",
       "    </tr>\n",
       "  </tbody>\n",
       "</table>\n",
       "</div>"
      ],
      "text/plain": [
       "   date  municipality_id               municipality_name  \\\n",
       "0  2022            10101                      Eisenstadt   \n",
       "1  2022            10201                            Rust   \n",
       "2  2022            10301  Breitenbrunn am Neusiedler See   \n",
       "3  2022            10302                  Donnerskirchen   \n",
       "4  2022            10303                     Großhöflein   \n",
       "\n",
       "   municipality_population  dose_1  dose_2  dose_3  dose_4  dose_5+  \\\n",
       "0                    15485   12284   12037    9752    2169       18   \n",
       "1                     2008    1644    1622    1356     261        4   \n",
       "2                     1922    1570    1552    1321     347        2   \n",
       "3                     1854    1552    1533    1298     281        0   \n",
       "4                     2099    1793    1759    1441     209        2   \n",
       "\n",
       "   vaccinated_according_to_recommendation  \\\n",
       "0                                    9889   \n",
       "1                                    1323   \n",
       "2                                    1340   \n",
       "3                                    1303   \n",
       "4                                    1465   \n",
       "\n",
       "   vaccinated_according_to_recommendation_percent  \n",
       "0                                       63.861802  \n",
       "1                                       65.886454  \n",
       "2                                       69.719043  \n",
       "3                                       70.280475  \n",
       "4                                       69.795141  "
      ]
     },
     "execution_count": 48,
     "metadata": {},
     "output_type": "execute_result"
    }
   ],
   "source": [
    "vaccines_2022_cumulated.head()"
   ]
  },
  {
   "cell_type": "code",
   "execution_count": 49,
   "id": "04c46eb4",
   "metadata": {},
   "outputs": [
    {
     "data": {
      "text/html": [
       "<div>\n",
       "<style scoped>\n",
       "    .dataframe tbody tr th:only-of-type {\n",
       "        vertical-align: middle;\n",
       "    }\n",
       "\n",
       "    .dataframe tbody tr th {\n",
       "        vertical-align: top;\n",
       "    }\n",
       "\n",
       "    .dataframe thead th {\n",
       "        text-align: right;\n",
       "    }\n",
       "</style>\n",
       "<table border=\"1\" class=\"dataframe\">\n",
       "  <thead>\n",
       "    <tr style=\"text-align: right;\">\n",
       "      <th></th>\n",
       "      <th>date</th>\n",
       "      <th>municipality_id</th>\n",
       "      <th>municipality_name</th>\n",
       "      <th>municipality_population</th>\n",
       "      <th>vaccination_1</th>\n",
       "      <th>vaccination_2</th>\n",
       "      <th>vaccination_3</th>\n",
       "      <th>vaccination_4+</th>\n",
       "    </tr>\n",
       "  </thead>\n",
       "  <tbody>\n",
       "    <tr>\n",
       "      <th>0</th>\n",
       "      <td>2024</td>\n",
       "      <td>10101</td>\n",
       "      <td>Eisenstadt</td>\n",
       "      <td>15924</td>\n",
       "      <td>12095</td>\n",
       "      <td>11851</td>\n",
       "      <td>9740</td>\n",
       "      <td>3639</td>\n",
       "    </tr>\n",
       "    <tr>\n",
       "      <th>1</th>\n",
       "      <td>2024</td>\n",
       "      <td>10201</td>\n",
       "      <td>Rust</td>\n",
       "      <td>1978</td>\n",
       "      <td>1595</td>\n",
       "      <td>1572</td>\n",
       "      <td>1329</td>\n",
       "      <td>500</td>\n",
       "    </tr>\n",
       "    <tr>\n",
       "      <th>2</th>\n",
       "      <td>2024</td>\n",
       "      <td>10301</td>\n",
       "      <td>Breitenbrunn am Neusiedler See</td>\n",
       "      <td>1921</td>\n",
       "      <td>1517</td>\n",
       "      <td>1493</td>\n",
       "      <td>1285</td>\n",
       "      <td>569</td>\n",
       "    </tr>\n",
       "    <tr>\n",
       "      <th>3</th>\n",
       "      <td>2024</td>\n",
       "      <td>10302</td>\n",
       "      <td>Donnerskirchen</td>\n",
       "      <td>1857</td>\n",
       "      <td>1525</td>\n",
       "      <td>1505</td>\n",
       "      <td>1295</td>\n",
       "      <td>489</td>\n",
       "    </tr>\n",
       "    <tr>\n",
       "      <th>4</th>\n",
       "      <td>2024</td>\n",
       "      <td>10303</td>\n",
       "      <td>Großhöflein</td>\n",
       "      <td>2085</td>\n",
       "      <td>1739</td>\n",
       "      <td>1711</td>\n",
       "      <td>1411</td>\n",
       "      <td>433</td>\n",
       "    </tr>\n",
       "  </tbody>\n",
       "</table>\n",
       "</div>"
      ],
      "text/plain": [
       "   date  municipality_id               municipality_name  \\\n",
       "0  2024            10101                      Eisenstadt   \n",
       "1  2024            10201                            Rust   \n",
       "2  2024            10301  Breitenbrunn am Neusiedler See   \n",
       "3  2024            10302                  Donnerskirchen   \n",
       "4  2024            10303                     Großhöflein   \n",
       "\n",
       "   municipality_population  vaccination_1  vaccination_2  vaccination_3  \\\n",
       "0                    15924          12095          11851           9740   \n",
       "1                     1978           1595           1572           1329   \n",
       "2                     1921           1517           1493           1285   \n",
       "3                     1857           1525           1505           1295   \n",
       "4                     2085           1739           1711           1411   \n",
       "\n",
       "   vaccination_4+  \n",
       "0            3639  \n",
       "1             500  \n",
       "2             569  \n",
       "3             489  \n",
       "4             433  "
      ]
     },
     "execution_count": 49,
     "metadata": {},
     "output_type": "execute_result"
    }
   ],
   "source": [
    "vaccines_2023_cumulated.head()"
   ]
  },
  {
   "cell_type": "code",
   "execution_count": 50,
   "id": "5daa92de",
   "metadata": {},
   "outputs": [
    {
     "data": {
      "text/html": [
       "<div>\n",
       "<style scoped>\n",
       "    .dataframe tbody tr th:only-of-type {\n",
       "        vertical-align: middle;\n",
       "    }\n",
       "\n",
       "    .dataframe tbody tr th {\n",
       "        vertical-align: top;\n",
       "    }\n",
       "\n",
       "    .dataframe thead th {\n",
       "        text-align: right;\n",
       "    }\n",
       "</style>\n",
       "<table border=\"1\" class=\"dataframe\">\n",
       "  <thead>\n",
       "    <tr style=\"text-align: right;\">\n",
       "      <th></th>\n",
       "      <th>Datum</th>\n",
       "      <th>Gemeindecode</th>\n",
       "      <th>Einwohner</th>\n",
       "      <th>Teilgeimpfte</th>\n",
       "      <th>TeilgeimpftePro100</th>\n",
       "      <th>Vollimmunisierte</th>\n",
       "      <th>VollimmunisiertePro100</th>\n",
       "    </tr>\n",
       "  </thead>\n",
       "  <tbody>\n",
       "    <tr>\n",
       "      <th>2112</th>\n",
       "      <td>2021</td>\n",
       "      <td>91901</td>\n",
       "      <td>73861</td>\n",
       "      <td>55925</td>\n",
       "      <td>75.716549</td>\n",
       "      <td>52359</td>\n",
       "      <td>70.888561</td>\n",
       "    </tr>\n",
       "    <tr>\n",
       "      <th>2113</th>\n",
       "      <td>2021</td>\n",
       "      <td>92001</td>\n",
       "      <td>85264</td>\n",
       "      <td>57768</td>\n",
       "      <td>67.751923</td>\n",
       "      <td>53092</td>\n",
       "      <td>62.267780</td>\n",
       "    </tr>\n",
       "    <tr>\n",
       "      <th>2114</th>\n",
       "      <td>2021</td>\n",
       "      <td>92101</td>\n",
       "      <td>173916</td>\n",
       "      <td>126752</td>\n",
       "      <td>72.881161</td>\n",
       "      <td>116970</td>\n",
       "      <td>67.256607</td>\n",
       "    </tr>\n",
       "    <tr>\n",
       "      <th>2115</th>\n",
       "      <td>2021</td>\n",
       "      <td>92201</td>\n",
       "      <td>198806</td>\n",
       "      <td>149592</td>\n",
       "      <td>75.245214</td>\n",
       "      <td>138751</td>\n",
       "      <td>69.792159</td>\n",
       "    </tr>\n",
       "    <tr>\n",
       "      <th>2116</th>\n",
       "      <td>2021</td>\n",
       "      <td>92301</td>\n",
       "      <td>111812</td>\n",
       "      <td>84124</td>\n",
       "      <td>75.237005</td>\n",
       "      <td>78109</td>\n",
       "      <td>69.857439</td>\n",
       "    </tr>\n",
       "  </tbody>\n",
       "</table>\n",
       "</div>"
      ],
      "text/plain": [
       "      Datum  Gemeindecode  Einwohner  Teilgeimpfte  TeilgeimpftePro100  \\\n",
       "2112   2021         91901      73861         55925           75.716549   \n",
       "2113   2021         92001      85264         57768           67.751923   \n",
       "2114   2021         92101     173916        126752           72.881161   \n",
       "2115   2021         92201     198806        149592           75.245214   \n",
       "2116   2021         92301     111812         84124           75.237005   \n",
       "\n",
       "      Vollimmunisierte  VollimmunisiertePro100  \n",
       "2112             52359               70.888561  \n",
       "2113             53092               62.267780  \n",
       "2114            116970               67.256607  \n",
       "2115            138751               69.792159  \n",
       "2116             78109               69.857439  "
      ]
     },
     "execution_count": 50,
     "metadata": {},
     "output_type": "execute_result"
    }
   ],
   "source": [
    "vaccines_2021_cumulated.tail()"
   ]
  },
  {
   "cell_type": "code",
   "execution_count": 51,
   "id": "0710fc4a",
   "metadata": {},
   "outputs": [
    {
     "data": {
      "text/html": [
       "<div>\n",
       "<style scoped>\n",
       "    .dataframe tbody tr th:only-of-type {\n",
       "        vertical-align: middle;\n",
       "    }\n",
       "\n",
       "    .dataframe tbody tr th {\n",
       "        vertical-align: top;\n",
       "    }\n",
       "\n",
       "    .dataframe thead th {\n",
       "        text-align: right;\n",
       "    }\n",
       "</style>\n",
       "<table border=\"1\" class=\"dataframe\">\n",
       "  <thead>\n",
       "    <tr style=\"text-align: right;\">\n",
       "      <th></th>\n",
       "      <th>date</th>\n",
       "      <th>municipality_id</th>\n",
       "      <th>municipality_name</th>\n",
       "      <th>municipality_population</th>\n",
       "      <th>dose_1</th>\n",
       "      <th>dose_2</th>\n",
       "      <th>dose_3</th>\n",
       "      <th>dose_4</th>\n",
       "      <th>dose_5+</th>\n",
       "      <th>vaccinated_according_to_recommendation</th>\n",
       "      <th>vaccinated_according_to_recommendation_percent</th>\n",
       "    </tr>\n",
       "  </thead>\n",
       "  <tbody>\n",
       "    <tr>\n",
       "      <th>2110</th>\n",
       "      <td>2022</td>\n",
       "      <td>91901</td>\n",
       "      <td>Wien</td>\n",
       "      <td>75311</td>\n",
       "      <td>59229</td>\n",
       "      <td>57479</td>\n",
       "      <td>45842</td>\n",
       "      <td>11104</td>\n",
       "      <td>182</td>\n",
       "      <td>46412</td>\n",
       "      <td>61.627120</td>\n",
       "    </tr>\n",
       "    <tr>\n",
       "      <th>2111</th>\n",
       "      <td>2022</td>\n",
       "      <td>92001</td>\n",
       "      <td>Wien</td>\n",
       "      <td>84965</td>\n",
       "      <td>62179</td>\n",
       "      <td>59181</td>\n",
       "      <td>41511</td>\n",
       "      <td>7448</td>\n",
       "      <td>73</td>\n",
       "      <td>43494</td>\n",
       "      <td>51.190490</td>\n",
       "    </tr>\n",
       "    <tr>\n",
       "      <th>2112</th>\n",
       "      <td>2022</td>\n",
       "      <td>92101</td>\n",
       "      <td>Wien</td>\n",
       "      <td>181859</td>\n",
       "      <td>134331</td>\n",
       "      <td>129263</td>\n",
       "      <td>96569</td>\n",
       "      <td>18888</td>\n",
       "      <td>138</td>\n",
       "      <td>99984</td>\n",
       "      <td>54.978857</td>\n",
       "    </tr>\n",
       "    <tr>\n",
       "      <th>2113</th>\n",
       "      <td>2022</td>\n",
       "      <td>92201</td>\n",
       "      <td>Wien</td>\n",
       "      <td>208487</td>\n",
       "      <td>158431</td>\n",
       "      <td>153540</td>\n",
       "      <td>118550</td>\n",
       "      <td>21673</td>\n",
       "      <td>158</td>\n",
       "      <td>122136</td>\n",
       "      <td>58.582070</td>\n",
       "    </tr>\n",
       "    <tr>\n",
       "      <th>2114</th>\n",
       "      <td>2022</td>\n",
       "      <td>92301</td>\n",
       "      <td>Wien</td>\n",
       "      <td>116979</td>\n",
       "      <td>88831</td>\n",
       "      <td>85885</td>\n",
       "      <td>66592</td>\n",
       "      <td>14702</td>\n",
       "      <td>118</td>\n",
       "      <td>68510</td>\n",
       "      <td>58.566067</td>\n",
       "    </tr>\n",
       "  </tbody>\n",
       "</table>\n",
       "</div>"
      ],
      "text/plain": [
       "      date  municipality_id municipality_name  municipality_population  \\\n",
       "2110  2022            91901              Wien                    75311   \n",
       "2111  2022            92001              Wien                    84965   \n",
       "2112  2022            92101              Wien                   181859   \n",
       "2113  2022            92201              Wien                   208487   \n",
       "2114  2022            92301              Wien                   116979   \n",
       "\n",
       "      dose_1  dose_2  dose_3  dose_4  dose_5+  \\\n",
       "2110   59229   57479   45842   11104      182   \n",
       "2111   62179   59181   41511    7448       73   \n",
       "2112  134331  129263   96569   18888      138   \n",
       "2113  158431  153540  118550   21673      158   \n",
       "2114   88831   85885   66592   14702      118   \n",
       "\n",
       "      vaccinated_according_to_recommendation  \\\n",
       "2110                                   46412   \n",
       "2111                                   43494   \n",
       "2112                                   99984   \n",
       "2113                                  122136   \n",
       "2114                                   68510   \n",
       "\n",
       "      vaccinated_according_to_recommendation_percent  \n",
       "2110                                       61.627120  \n",
       "2111                                       51.190490  \n",
       "2112                                       54.978857  \n",
       "2113                                       58.582070  \n",
       "2114                                       58.566067  "
      ]
     },
     "execution_count": 51,
     "metadata": {},
     "output_type": "execute_result"
    }
   ],
   "source": [
    "vaccines_2022_cumulated.tail()"
   ]
  },
  {
   "cell_type": "code",
   "execution_count": 52,
   "id": "e24f5340",
   "metadata": {},
   "outputs": [
    {
     "data": {
      "text/html": [
       "<div>\n",
       "<style scoped>\n",
       "    .dataframe tbody tr th:only-of-type {\n",
       "        vertical-align: middle;\n",
       "    }\n",
       "\n",
       "    .dataframe tbody tr th {\n",
       "        vertical-align: top;\n",
       "    }\n",
       "\n",
       "    .dataframe thead th {\n",
       "        text-align: right;\n",
       "    }\n",
       "</style>\n",
       "<table border=\"1\" class=\"dataframe\">\n",
       "  <thead>\n",
       "    <tr style=\"text-align: right;\">\n",
       "      <th></th>\n",
       "      <th>date</th>\n",
       "      <th>municipality_id</th>\n",
       "      <th>municipality_name</th>\n",
       "      <th>municipality_population</th>\n",
       "      <th>vaccination_1</th>\n",
       "      <th>vaccination_2</th>\n",
       "      <th>vaccination_3</th>\n",
       "      <th>vaccination_4+</th>\n",
       "    </tr>\n",
       "  </thead>\n",
       "  <tbody>\n",
       "    <tr>\n",
       "      <th>2110</th>\n",
       "      <td>2024</td>\n",
       "      <td>91901</td>\n",
       "      <td>Wien 19. Döbling</td>\n",
       "      <td>75538</td>\n",
       "      <td>56636</td>\n",
       "      <td>54886</td>\n",
       "      <td>44430</td>\n",
       "      <td>17876</td>\n",
       "    </tr>\n",
       "    <tr>\n",
       "      <th>2111</th>\n",
       "      <td>2024</td>\n",
       "      <td>92001</td>\n",
       "      <td>Wien 20. Brigittenau</td>\n",
       "      <td>86663</td>\n",
       "      <td>59122</td>\n",
       "      <td>56133</td>\n",
       "      <td>39894</td>\n",
       "      <td>12837</td>\n",
       "    </tr>\n",
       "    <tr>\n",
       "      <th>2112</th>\n",
       "      <td>2024</td>\n",
       "      <td>92101</td>\n",
       "      <td>Wien 21. Floridsdorf</td>\n",
       "      <td>185847</td>\n",
       "      <td>133412</td>\n",
       "      <td>128129</td>\n",
       "      <td>96106</td>\n",
       "      <td>32764</td>\n",
       "    </tr>\n",
       "    <tr>\n",
       "      <th>2113</th>\n",
       "      <td>2024</td>\n",
       "      <td>92201</td>\n",
       "      <td>Wien 22. Donaustadt</td>\n",
       "      <td>219026</td>\n",
       "      <td>161785</td>\n",
       "      <td>156582</td>\n",
       "      <td>121503</td>\n",
       "      <td>40595</td>\n",
       "    </tr>\n",
       "    <tr>\n",
       "      <th>2114</th>\n",
       "      <td>2024</td>\n",
       "      <td>92301</td>\n",
       "      <td>Wien 23. Liesing</td>\n",
       "      <td>120393</td>\n",
       "      <td>88895</td>\n",
       "      <td>85791</td>\n",
       "      <td>66808</td>\n",
       "      <td>25195</td>\n",
       "    </tr>\n",
       "  </tbody>\n",
       "</table>\n",
       "</div>"
      ],
      "text/plain": [
       "      date  municipality_id     municipality_name  municipality_population  \\\n",
       "2110  2024            91901      Wien 19. Döbling                    75538   \n",
       "2111  2024            92001  Wien 20. Brigittenau                    86663   \n",
       "2112  2024            92101  Wien 21. Floridsdorf                   185847   \n",
       "2113  2024            92201   Wien 22. Donaustadt                   219026   \n",
       "2114  2024            92301      Wien 23. Liesing                   120393   \n",
       "\n",
       "      vaccination_1  vaccination_2  vaccination_3  vaccination_4+  \n",
       "2110          56636          54886          44430           17876  \n",
       "2111          59122          56133          39894           12837  \n",
       "2112         133412         128129          96106           32764  \n",
       "2113         161785         156582         121503           40595  \n",
       "2114          88895          85791          66808           25195  "
      ]
     },
     "execution_count": 52,
     "metadata": {},
     "output_type": "execute_result"
    }
   ],
   "source": [
    "vaccines_2023_cumulated.tail()"
   ]
  },
  {
   "cell_type": "code",
   "execution_count": 53,
   "id": "6e8de93e",
   "metadata": {},
   "outputs": [
    {
     "data": {
      "text/plain": [
       "(6600, 6)"
      ]
     },
     "execution_count": 53,
     "metadata": {},
     "output_type": "execute_result"
    }
   ],
   "source": [
    "faelle.shape"
   ]
  },
  {
   "cell_type": "code",
   "execution_count": 54,
   "id": "d64d9940",
   "metadata": {},
   "outputs": [
    {
     "data": {
      "text/plain": [
       "(2117, 7)"
      ]
     },
     "execution_count": 54,
     "metadata": {},
     "output_type": "execute_result"
    }
   ],
   "source": [
    "vaccines_2021_cumulated.shape"
   ]
  },
  {
   "cell_type": "code",
   "execution_count": 55,
   "id": "a6f00254",
   "metadata": {},
   "outputs": [
    {
     "data": {
      "text/plain": [
       "(2115, 11)"
      ]
     },
     "execution_count": 55,
     "metadata": {},
     "output_type": "execute_result"
    }
   ],
   "source": [
    "vaccines_2022_cumulated.shape"
   ]
  },
  {
   "cell_type": "code",
   "execution_count": 56,
   "id": "93dde0cf",
   "metadata": {},
   "outputs": [
    {
     "data": {
      "text/plain": [
       "(2115, 8)"
      ]
     },
     "execution_count": 56,
     "metadata": {},
     "output_type": "execute_result"
    }
   ],
   "source": [
    "vaccines_2023_cumulated.shape"
   ]
  },
  {
   "cell_type": "markdown",
   "id": "b2aa0a38",
   "metadata": {},
   "source": [
    "Wie unten ersichtlich, besteht der Datensatz aus einem Datum, welches mit Uhrzeit angegeben ist, der BundeslandID, dem Namen des jeweiligen Bundesland sowie der Anzahl der durchgeführten Coronatests. Diese werden dann wieder aufgeteilt in PCR- und Antigentests."
   ]
  },
  {
   "cell_type": "code",
   "execution_count": 57,
   "id": "4ad711f8",
   "metadata": {},
   "outputs": [
    {
     "data": {
      "text/plain": [
       "['Datum',\n",
       " 'BundeslandID',\n",
       " 'Name',\n",
       " 'Testungen',\n",
       " 'TestungenPCR',\n",
       " 'TestungenAntigen']"
      ]
     },
     "execution_count": 57,
     "metadata": {},
     "output_type": "execute_result"
    }
   ],
   "source": [
    "faelle.columns.tolist()"
   ]
  },
  {
   "cell_type": "markdown",
   "id": "86208e6b",
   "metadata": {},
   "source": [
    "Der Impfungsdatensatz besteht, wie durch die Form ersichtlich ist, aus 8 Spalten. Diese beinhalten, wie oben erwähnt, das Datum mit Uhrzeit, die ID des Bezirks (diese sind nach der ersten Zahl auch dem jeweiligen Bundesland zuordenbar), den Namen des Bezirks, die Bevölkerung und dann die Anzahl der Personen, die die jeweilige Impfungsanzahl erhalten haben."
   ]
  },
  {
   "cell_type": "code",
   "execution_count": 58,
   "id": "07f42474",
   "metadata": {},
   "outputs": [
    {
     "data": {
      "text/plain": [
       "['date',\n",
       " 'municipality_id',\n",
       " 'municipality_name',\n",
       " 'municipality_population',\n",
       " 'dose_1',\n",
       " 'dose_2',\n",
       " 'dose_3',\n",
       " 'dose_4',\n",
       " 'dose_5+',\n",
       " 'vaccinated_according_to_recommendation',\n",
       " 'vaccinated_according_to_recommendation_percent']"
      ]
     },
     "execution_count": 58,
     "metadata": {},
     "output_type": "execute_result"
    }
   ],
   "source": [
    "vaccines_2022_cumulated.columns.tolist()"
   ]
  },
  {
   "cell_type": "markdown",
   "id": "16196153",
   "metadata": {},
   "source": [
    "Es wird noch überprüft, ob einige Datensätze unvollständig sind oder fehlende Werte aufweisen."
   ]
  },
  {
   "cell_type": "code",
   "execution_count": 59,
   "id": "b85d0a25",
   "metadata": {},
   "outputs": [
    {
     "data": {
      "text/plain": [
       "Datum               0\n",
       "BundeslandID        0\n",
       "Name                0\n",
       "Testungen           0\n",
       "TestungenPCR        0\n",
       "TestungenAntigen    0\n",
       "dtype: int64"
      ]
     },
     "execution_count": 59,
     "metadata": {},
     "output_type": "execute_result"
    }
   ],
   "source": [
    "faelle.isnull().sum()"
   ]
  },
  {
   "cell_type": "code",
   "execution_count": 60,
   "id": "3be959d9",
   "metadata": {
    "scrolled": true
   },
   "outputs": [
    {
     "data": {
      "text/plain": [
       "Datum                     0\n",
       "Gemeindecode              0\n",
       "Einwohner                 0\n",
       "Teilgeimpfte              0\n",
       "TeilgeimpftePro100        0\n",
       "Vollimmunisierte          0\n",
       "VollimmunisiertePro100    0\n",
       "dtype: int64"
      ]
     },
     "execution_count": 60,
     "metadata": {},
     "output_type": "execute_result"
    }
   ],
   "source": [
    "vaccines_2021_cumulated.isnull().sum()"
   ]
  },
  {
   "cell_type": "code",
   "execution_count": 61,
   "id": "09633024",
   "metadata": {},
   "outputs": [
    {
     "data": {
      "text/plain": [
       "date                                              0\n",
       "municipality_id                                   0\n",
       "municipality_name                                 0\n",
       "municipality_population                           0\n",
       "dose_1                                            0\n",
       "dose_2                                            0\n",
       "dose_3                                            0\n",
       "dose_4                                            0\n",
       "dose_5+                                           0\n",
       "vaccinated_according_to_recommendation            0\n",
       "vaccinated_according_to_recommendation_percent    0\n",
       "dtype: int64"
      ]
     },
     "execution_count": 61,
     "metadata": {},
     "output_type": "execute_result"
    }
   ],
   "source": [
    "vaccines_2022_cumulated.isnull().sum()"
   ]
  },
  {
   "cell_type": "code",
   "execution_count": 62,
   "id": "2bea5a91",
   "metadata": {},
   "outputs": [
    {
     "data": {
      "text/plain": [
       "date                       0\n",
       "municipality_id            0\n",
       "municipality_name          0\n",
       "municipality_population    0\n",
       "vaccination_1              0\n",
       "vaccination_2              0\n",
       "vaccination_3              0\n",
       "vaccination_4+             0\n",
       "dtype: int64"
      ]
     },
     "execution_count": 62,
     "metadata": {},
     "output_type": "execute_result"
    }
   ],
   "source": [
    "vaccines_2023_cumulated.isnull().sum()"
   ]
  },
  {
   "cell_type": "markdown",
   "id": "5120696e",
   "metadata": {},
   "source": [
    "In diesem Fall sind alle Datensätze vollständig. Abschließend werden noch die allgemeinen Eigenschaften des Datensatzes angezeigt:"
   ]
  },
  {
   "cell_type": "code",
   "execution_count": 63,
   "id": "b536e310",
   "metadata": {
    "scrolled": true
   },
   "outputs": [
    {
     "name": "stdout",
     "output_type": "stream",
     "text": [
      "<class 'pandas.core.frame.DataFrame'>\n",
      "RangeIndex: 6600 entries, 0 to 6599\n",
      "Data columns (total 6 columns):\n",
      " #   Column            Non-Null Count  Dtype \n",
      "---  ------            --------------  ----- \n",
      " 0   Datum             6600 non-null   int64 \n",
      " 1   BundeslandID      6600 non-null   int64 \n",
      " 2   Name              6600 non-null   object\n",
      " 3   Testungen         6600 non-null   int64 \n",
      " 4   TestungenPCR      6600 non-null   int64 \n",
      " 5   TestungenAntigen  6600 non-null   int64 \n",
      "dtypes: int64(5), object(1)\n",
      "memory usage: 309.5+ KB\n"
     ]
    }
   ],
   "source": [
    "faelle.info()"
   ]
  },
  {
   "cell_type": "code",
   "execution_count": 64,
   "id": "dc9f8550",
   "metadata": {},
   "outputs": [
    {
     "name": "stdout",
     "output_type": "stream",
     "text": [
      "<class 'pandas.core.frame.DataFrame'>\n",
      "RangeIndex: 2115 entries, 0 to 2114\n",
      "Data columns (total 8 columns):\n",
      " #   Column                   Non-Null Count  Dtype \n",
      "---  ------                   --------------  ----- \n",
      " 0   date                     2115 non-null   int64 \n",
      " 1   municipality_id          2115 non-null   int64 \n",
      " 2   municipality_name        2115 non-null   object\n",
      " 3   municipality_population  2115 non-null   int64 \n",
      " 4   vaccination_1            2115 non-null   int64 \n",
      " 5   vaccination_2            2115 non-null   int64 \n",
      " 6   vaccination_3            2115 non-null   int64 \n",
      " 7   vaccination_4+           2115 non-null   int64 \n",
      "dtypes: int64(7), object(1)\n",
      "memory usage: 132.3+ KB\n"
     ]
    }
   ],
   "source": [
    "vaccines_2023_cumulated.info()"
   ]
  },
  {
   "cell_type": "markdown",
   "id": "72a13ed2",
   "metadata": {},
   "source": [
    "* Es ist ein DataFrame.\n",
    "* Es gibt 6600 Einträge, d.h. 6600 Zeilen.\n",
    "* Jede Zeile hat eine Zeilenbeschriftung (auch bekannt als index) mit Werten von 0 bis 6599.\n",
    "* Die Tabelle hat 6 Spalten. Alle Spalten haben einen Wert für jede der Zeilen (alle 6600 Werte sind non-null).\n",
    "* Die Spalten Datum und Name bestehen aus Textdaten (Strings, auch bekannt als object). Die anderen Spalten sind numerische Daten, von denen alle ganze Zahlen (aka integer) sind.\n",
    "* Die Art der Daten (Zeichen, Ganzzahlen,…) in den verschiedenen Spalten werden durch Auflisten der dtypes dargestellt.\n",
    "* Die ungefähre Menge an RAM, die zum Halten des DataFrame verwendet wird, wird ebenfalls angegeben. Das ist in dem Fall ~310 kb"
   ]
  },
  {
   "cell_type": "code",
   "execution_count": 65,
   "id": "96971c44",
   "metadata": {},
   "outputs": [],
   "source": [
    "# vaccines.info()"
   ]
  },
  {
   "cell_type": "markdown",
   "id": "4cb1ccc4",
   "metadata": {},
   "source": [
    "* Es ist ein DataFrame.\n",
    "* Es gibt 2115 Einträge, d.h. 2115 Zeilen.\n",
    "* Jede Zeile hat eine Zeilenbeschriftung (auch bekannt als index) mit Werten von 0 bis 2114.\n",
    "* Die Tabelle hat 8 Spalten. Alle Spalten haben einen Wert für jede der Zeilen (alle 6600 Werte sind non-null).\n",
    "* Die Spalten Date und Bezirks-name bestehen aus Textdaten (Strings, auch bekannt als object). Die anderen Spalten sind numerische Daten, von denen alle ganze Zahlen (aka integer) sind.\n",
    "* Die Art der Daten (Zeichen, Ganzzahlen,…) in den verschiedenen Spalten werden durch Auflisten der dtypes dargestellt.\n",
    "* Die ungefähre Menge an RAM, die zum Halten des DataFrame verwendet wird, wird ebenfalls angegeben. Das ist in dem Fall ~133 kb"
   ]
  },
  {
   "cell_type": "code",
   "execution_count": 66,
   "id": "7b7ace02",
   "metadata": {},
   "outputs": [],
   "source": [
    "from neo4j import GraphDatabase\n",
    "\n",
    "uri = \"neo4j://localhost:7687\"\n",
    "username = \"neo4j\"\n",
    "password = \"aveQho9yf6tx29vgW3kv\"\n",
    "\n",
    "graph = Graph(uri, auth=(username, password))\n",
    "driver=GraphDatabase.driver(uri, auth=(username, password))\n"
   ]
  },
  {
   "cell_type": "code",
   "execution_count": 68,
   "id": "632cf6d5",
   "metadata": {
    "scrolled": true
   },
   "outputs": [
    {
     "name": "stdout",
     "output_type": "stream",
     "text": [
      "Website is accessible.\n"
     ]
    }
   ],
   "source": [
    "url = \"http://localhost:7474/browser/\"\n",
    "response = requests.get(url)\n",
    "\n",
    "if response.status_code == 200:\n",
    "    print(\"Website is accessible.\")\n",
    "else:\n",
    "    print(\"Failed to access website.\")\n",
    "\n"
   ]
  },
  {
   "cell_type": "markdown",
   "id": "ade97f9f",
   "metadata": {},
   "source": [
    "Im Folgenden werden die vier CSV-Dateien in die Datenbank eingespeichert."
   ]
  },
  {
   "cell_type": "code",
   "execution_count": 69,
   "id": "e6e0db64",
   "metadata": {},
   "outputs": [],
   "source": [
    "with open('impfungen_2023.csv', 'r') as csvfile:\n",
    "    csvreader = csv.DictReader(csvfile, delimiter=';')\n",
    "    \n",
    "    for row in csvreader:\n",
    "            stripped_row = {key.replace('ï»¿', ''): value for key, value in row.items()}\n",
    "            # Create a Node for each row in the CSV file\n",
    "            impfPatient_node = Node(\"Impf_Patient\",\n",
    "                                    datum=row['date'],\n",
    "                                    bezirkId=row['municipality_id'],\n",
    "                                    bezirksName=row['municipality_name'],\n",
    "                                    ersteImpfung=int(stripped_row['vaccination_1']),\n",
    "                                    zweiteImpfung=int(stripped_row['vaccination_2']),\n",
    "                                    dritteImpfung=int(stripped_row['vaccination_3']),\n",
    "                                    mehrAls3=int(stripped_row['vaccination_4+']))\n",
    "            \n",
    "            # Add the Node to the graph\n",
    "            graph.create(impfPatient_node)"
   ]
  },
  {
   "cell_type": "code",
   "execution_count": 94,
   "id": "7d466d39",
   "metadata": {},
   "outputs": [],
   "source": [
    "with open('impfungen_2021.csv', 'r') as csvfile:\n",
    "    csvreader = csv.DictReader(csvfile, delimiter=';')\n",
    "    \n",
    "    for row in csvreader:\n",
    "            stripped_row = {key.replace('ï»¿', ''): value for key, value in row.items()}\n",
    "            # Create a Node for each row in the CSV file\n",
    "            impfPatient_node = Node(\"Impf_Patient2021\",\n",
    "                                    datum=stripped_row['Datum'],\n",
    "                                    bezirkId=row['Gemeindecode'],\n",
    "                                    population=row['Einwohner'],\n",
    "                                    ersteImpfung=int(stripped_row['Teilgeimpfte']),\n",
    "                                    zweiteImpfung=int(stripped_row['Vollimmunisierte']))\n",
    "            \n",
    "            # Add the Node to the graph\n",
    "            graph.create(impfPatient_node)"
   ]
  },
  {
   "cell_type": "code",
   "execution_count": 71,
   "id": "58517b98",
   "metadata": {},
   "outputs": [],
   "source": [
    "with open('impfungen_2022.csv', 'r') as csvfile:\n",
    "    csvreader = csv.DictReader(csvfile, delimiter=';')\n",
    "    \n",
    "    for row in csvreader:\n",
    "            stripped_row = {key.replace('ï»¿', ''): value for key, value in row.items()}\n",
    "            # Create a Node for each row in the CSV file\n",
    "            impfPatient_node = Node(\"Impf_Patient\",\n",
    "                                    datum=stripped_row['date'],\n",
    "                                    bezirkId=row['municipality_id'],\n",
    "                                    bezirksName=row['municipality_name'],\n",
    "                                    ersteImpfung=int(stripped_row['dose_1']),\n",
    "                                    zweiteImpfung=int(stripped_row['dose_2']),\n",
    "                                    dritteImpfung=int(stripped_row['dose_3']),\n",
    "                                    vierteImpfung=int(stripped_row['dose_4']),\n",
    "                                    mehrAlsVier=int(stripped_row['dose_5+']))\n",
    "            \n",
    "            # Add the Node to the graph\n",
    "            graph.create(impfPatient_node)"
   ]
  },
  {
   "cell_type": "code",
   "execution_count": 72,
   "id": "bbba3af5",
   "metadata": {},
   "outputs": [],
   "source": [
    "with open('timeline-faelle-bundeslaender.csv', 'r') as csvfile:\n",
    "    csvreader = csv.DictReader(csvfile, delimiter=';')\n",
    "    \n",
    "    for row in csvreader:\n",
    "            stripped_row = {key.replace('ï»¿', ''): value for key, value in row.items()}\n",
    "            tests_value = stripped_row['Testungen']\n",
    "            tests_value = int(tests_value) if tests_value.isdigit() else None\n",
    "            # Create a Node for each row in the CSV file\n",
    "            tests_node = Node(\"Tests\",\n",
    "                                datum=stripped_row['Datum'],\n",
    "                                BundeslandID=row['BundeslandID'],\n",
    "                                BundeslandName=row['Name'],\n",
    "                                Tests=int(tests_value),\n",
    "                                PCR=row['TestungenPCR'],\n",
    "                                Antigen=row['TestungenAntigen'],\n",
    "                               )\n",
    "            \n",
    "            # Add the Node to the graph\n",
    "            graph.create(tests_node)"
   ]
  },
  {
   "cell_type": "markdown",
   "id": "18e34b84",
   "metadata": {},
   "source": [
    "Um eine Verbindung zur Datenbank herzustellen, muss eine URL eingeben, über die die Verbindung hergestellt wird, sowie Authentifizierungsdaten, bestehend aus Benutzername und Passwort. Mit py2neo kann dann die Verbindung mithilfe von Graph hergestellt werden. Dies ist auch mit GraphDatabase von noe4j möglich."
   ]
  },
  {
   "cell_type": "markdown",
   "id": "aba1f8bc",
   "metadata": {},
   "source": [
    "Um zu überprüfen, ob die Seite aktiv ist, kann diese Funktion verwendet werden:"
   ]
  },
  {
   "cell_type": "code",
   "execution_count": 73,
   "id": "a81e7f03",
   "metadata": {},
   "outputs": [
    {
     "data": {
      "image/png": "[encoded data removed]",
      "text/plain": [
       "<Figure size 1000x600 with 1 Axes>"
      ]
     },
     "metadata": {},
     "output_type": "display_data"
    }
   ],
   "source": [
    "import matplotlib.pyplot as plt\n",
    "import pandas as pd\n",
    "from neo4j import GraphDatabase\n",
    "import numpy as np  # Import numpy for array operations\n",
    "\n",
    "# Run Cypher query\n",
    "result = graph.run(\"\"\"\n",
    "MATCH (t:Tests) where t.BundeslandName <> 'Österreich'AND t.BundeslandName <> 'Ã–sterreich'\n",
    "RETURN t.BundeslandName, t.Tests\n",
    "ORDER BY t.Tests DESC\n",
    "\"\"\")\n",
    "\n",
    "# Convert result to DataFrame\n",
    "df = pd.DataFrame([r.values() for r in result], columns=result.keys())\n",
    "\n",
    "# Replace None values with np.nan (NaN) or a default value\n",
    "df['t.BundeslandName'].replace({None: 'Unknown'}, inplace=True)\n",
    "df['t.Tests'].replace({None: 0}, inplace=True)  # Replace with 0 or np.nan based on your preference\n",
    "\n",
    "# Convert 't.Tests' column to numeric (in case it's not already)\n",
    "df['t.Tests'] = pd.to_numeric(df['t.Tests'])\n",
    "\n",
    "# Create bar chart\n",
    "plt.figure(figsize=(10, 6))\n",
    "plt.bar(df['t.BundeslandName'], df['t.Tests'])\n",
    "plt.xlabel('State')\n",
    "plt.ylabel('Number of Tests')\n",
    "plt.title('Number of Tests')\n",
    "plt.xticks(rotation=45)\n",
    "plt.tight_layout()\n",
    "plt.show()\n"
   ]
  },
  {
   "cell_type": "code",
   "execution_count": 75,
   "id": "bb9b698f",
   "metadata": {},
   "outputs": [
    {
     "ename": "ClientError",
     "evalue": "[Statement.TypeError] SUM(NodeProperty(0,13)) can only handle numerical values, duration, or null.",
     "output_type": "error",
     "traceback": [
      "\u001b[1;31m---------------------------------------------------------------------------\u001b[0m",
      "\u001b[1;31mClientError\u001b[0m                               Traceback (most recent call last)",
      "Cell \u001b[1;32mIn[75], line 7\u001b[0m\n\u001b[0;32m      1\u001b[0m cypher_query \u001b[38;5;241m=\u001b[39m \u001b[38;5;124m\"\"\"\u001b[39m\n\u001b[0;32m      2\u001b[0m \u001b[38;5;124mMATCH (t:Tests)\u001b[39m\n\u001b[0;32m      3\u001b[0m \u001b[38;5;124mWHERE t.BundeslandName <> \u001b[39m\u001b[38;5;124m'\u001b[39m\u001b[38;5;124mÖsterreich\u001b[39m\u001b[38;5;124m'\u001b[39m\u001b[38;5;124m AND t.BundeslandName <> \u001b[39m\u001b[38;5;124m'\u001b[39m\u001b[38;5;124mÃ–sterreich\u001b[39m\u001b[38;5;124m'\u001b[39m\n\u001b[0;32m      4\u001b[0m \u001b[38;5;124mRETURN t.BundeslandName, sum(t.Tests) as Tests\u001b[39m\n\u001b[0;32m      5\u001b[0m \u001b[38;5;124m\"\"\"\u001b[39m\n\u001b[1;32m----> 7\u001b[0m result \u001b[38;5;241m=\u001b[39m \u001b[43mgraph\u001b[49m\u001b[38;5;241;43m.\u001b[39;49m\u001b[43mrun\u001b[49m\u001b[43m(\u001b[49m\u001b[43mcypher_query\u001b[49m\u001b[43m)\u001b[49m\n\u001b[0;32m      9\u001b[0m \u001b[38;5;66;03m# Convert result to DataFrame\u001b[39;00m\n\u001b[0;32m     10\u001b[0m df \u001b[38;5;241m=\u001b[39m pd\u001b[38;5;241m.\u001b[39mDataFrame([\u001b[38;5;28mdict\u001b[39m(r) \u001b[38;5;28;01mfor\u001b[39;00m r \u001b[38;5;129;01min\u001b[39;00m result], columns\u001b[38;5;241m=\u001b[39m[\u001b[38;5;124m'\u001b[39m\u001b[38;5;124mt.BundeslandName\u001b[39m\u001b[38;5;124m'\u001b[39m, \u001b[38;5;124m'\u001b[39m\u001b[38;5;124mTests\u001b[39m\u001b[38;5;124m'\u001b[39m])\n",
      "File \u001b[1;32mc:\\Users\\Matthias Jenewein\\AppData\\Local\\Programs\\Python\\Python310\\lib\\site-packages\\py2neo\\database.py:405\u001b[0m, in \u001b[0;36mGraph.run\u001b[1;34m(self, cypher, parameters, **kwparameters)\u001b[0m\n\u001b[0;32m    395\u001b[0m \u001b[38;5;28;01mdef\u001b[39;00m \u001b[38;5;21mrun\u001b[39m(\u001b[38;5;28mself\u001b[39m, cypher, parameters\u001b[38;5;241m=\u001b[39m\u001b[38;5;28;01mNone\u001b[39;00m, \u001b[38;5;241m*\u001b[39m\u001b[38;5;241m*\u001b[39mkwparameters):\n\u001b[0;32m    396\u001b[0m \u001b[38;5;250m    \u001b[39m\u001b[38;5;124;03m\"\"\" Run a single read/write query within an auto-commit\u001b[39;00m\n\u001b[0;32m    397\u001b[0m \u001b[38;5;124;03m    :class:`~py2neo.Transaction`.\u001b[39;00m\n\u001b[0;32m    398\u001b[0m \n\u001b[1;32m   (...)\u001b[0m\n\u001b[0;32m    403\u001b[0m \u001b[38;5;124;03m    :return:\u001b[39;00m\n\u001b[0;32m    404\u001b[0m \u001b[38;5;124;03m    \"\"\"\u001b[39;00m\n\u001b[1;32m--> 405\u001b[0m     \u001b[38;5;28;01mreturn\u001b[39;00m \u001b[38;5;28mself\u001b[39m\u001b[38;5;241m.\u001b[39mauto()\u001b[38;5;241m.\u001b[39mrun(cypher, parameters, \u001b[38;5;241m*\u001b[39m\u001b[38;5;241m*\u001b[39mkwparameters)\n",
      "File \u001b[1;32mc:\\Users\\Matthias Jenewein\\AppData\\Local\\Programs\\Python\\Python310\\lib\\site-packages\\py2neo\\database.py:992\u001b[0m, in \u001b[0;36mTransaction.run\u001b[1;34m(self, cypher, parameters, **kwparameters)\u001b[0m\n\u001b[0;32m    988\u001b[0m     \u001b[38;5;28;01melse\u001b[39;00m:\n\u001b[0;32m    989\u001b[0m         result \u001b[38;5;241m=\u001b[39m \u001b[38;5;28mself\u001b[39m\u001b[38;5;241m.\u001b[39m_connector\u001b[38;5;241m.\u001b[39mauto_run(cypher, parameters,\n\u001b[0;32m    990\u001b[0m                                           graph_name\u001b[38;5;241m=\u001b[39m\u001b[38;5;28mself\u001b[39m\u001b[38;5;241m.\u001b[39mgraph\u001b[38;5;241m.\u001b[39mname,\n\u001b[0;32m    991\u001b[0m                                           readonly\u001b[38;5;241m=\u001b[39m\u001b[38;5;28mself\u001b[39m\u001b[38;5;241m.\u001b[39mreadonly)\n\u001b[1;32m--> 992\u001b[0m     \u001b[38;5;28;43mself\u001b[39;49m\u001b[38;5;241;43m.\u001b[39;49m\u001b[43m_connector\u001b[49m\u001b[38;5;241;43m.\u001b[39;49m\u001b[43mpull\u001b[49m\u001b[43m(\u001b[49m\u001b[43mresult\u001b[49m\u001b[43m,\u001b[49m\u001b[43m \u001b[49m\u001b[38;5;241;43m-\u001b[39;49m\u001b[38;5;241;43m1\u001b[39;49m\u001b[43m)\u001b[49m\n\u001b[0;32m    993\u001b[0m     \u001b[38;5;28;01mreturn\u001b[39;00m Cursor(result, hydrant)\n\u001b[0;32m    994\u001b[0m \u001b[38;5;28;01mfinally\u001b[39;00m:\n",
      "File \u001b[1;32mc:\\Users\\Matthias Jenewein\\AppData\\Local\\Programs\\Python\\Python310\\lib\\site-packages\\py2neo\\client\\__init__.py:1434\u001b[0m, in \u001b[0;36mConnector.pull\u001b[1;34m(self, result, n)\u001b[0m\n\u001b[0;32m   1432\u001b[0m cx \u001b[38;5;241m=\u001b[39m \u001b[38;5;28mself\u001b[39m\u001b[38;5;241m.\u001b[39m_reacquire(result\u001b[38;5;241m.\u001b[39mtransaction)\n\u001b[0;32m   1433\u001b[0m \u001b[38;5;28;01mtry\u001b[39;00m:\n\u001b[1;32m-> 1434\u001b[0m     \u001b[43mcx\u001b[49m\u001b[38;5;241;43m.\u001b[39;49m\u001b[43mpull\u001b[49m\u001b[43m(\u001b[49m\u001b[43mresult\u001b[49m\u001b[43m,\u001b[49m\u001b[43m \u001b[49m\u001b[43mn\u001b[49m\u001b[38;5;241;43m=\u001b[39;49m\u001b[43mn\u001b[49m\u001b[43m)\u001b[49m\n\u001b[0;32m   1435\u001b[0m \u001b[38;5;28;01mexcept\u001b[39;00m (ConnectionUnavailable, ConnectionBroken):\n\u001b[0;32m   1436\u001b[0m     \u001b[38;5;28mself\u001b[39m\u001b[38;5;241m.\u001b[39mprune(cx\u001b[38;5;241m.\u001b[39mprofile)\n",
      "File \u001b[1;32mc:\\Users\\Matthias Jenewein\\AppData\\Local\\Programs\\Python\\Python310\\lib\\site-packages\\py2neo\\client\\bolt.py:1001\u001b[0m, in \u001b[0;36mBolt4x0.pull\u001b[1;34m(self, result, n, capacity)\u001b[0m\n\u001b[0;32m    998\u001b[0m     raise_from(ConnectionBroken(\u001b[38;5;124m\"\u001b[39m\u001b[38;5;124mTransaction broken by disconnection \u001b[39m\u001b[38;5;124m\"\u001b[39m\n\u001b[0;32m    999\u001b[0m                                 \u001b[38;5;124m\"\u001b[39m\u001b[38;5;124mduring pull\u001b[39m\u001b[38;5;124m\"\u001b[39m), error)\n\u001b[0;32m   1000\u001b[0m \u001b[38;5;28;01melse\u001b[39;00m:\n\u001b[1;32m-> 1001\u001b[0m     \u001b[38;5;28;43mself\u001b[39;49m\u001b[38;5;241;43m.\u001b[39;49m\u001b[43m_audit\u001b[49m\u001b[43m(\u001b[49m\u001b[38;5;28;43mself\u001b[39;49m\u001b[38;5;241;43m.\u001b[39;49m\u001b[43m_transaction\u001b[49m\u001b[43m)\u001b[49m\n\u001b[0;32m   1002\u001b[0m     \u001b[38;5;28;01mreturn\u001b[39;00m response\n",
      "File \u001b[1;32mc:\\Users\\Matthias Jenewein\\AppData\\Local\\Programs\\Python\\Python310\\lib\\site-packages\\py2neo\\client\\bolt.py:810\u001b[0m, in \u001b[0;36mBolt1._audit\u001b[1;34m(self, task)\u001b[0m\n\u001b[0;32m    808\u001b[0m     \u001b[38;5;28;01mreturn\u001b[39;00m\n\u001b[0;32m    809\u001b[0m \u001b[38;5;28;01mtry\u001b[39;00m:\n\u001b[1;32m--> 810\u001b[0m     \u001b[43mtask\u001b[49m\u001b[38;5;241;43m.\u001b[39;49m\u001b[43maudit\u001b[49m\u001b[43m(\u001b[49m\u001b[43m)\u001b[49m\n\u001b[0;32m    811\u001b[0m \u001b[38;5;28;01mexcept\u001b[39;00m Neo4jError:\n\u001b[0;32m    812\u001b[0m     \u001b[38;5;28mself\u001b[39m\u001b[38;5;241m.\u001b[39mreset(force\u001b[38;5;241m=\u001b[39m\u001b[38;5;28;01mTrue\u001b[39;00m)\n",
      "File \u001b[1;32mc:\\Users\\Matthias Jenewein\\AppData\\Local\\Programs\\Python\\Python310\\lib\\site-packages\\py2neo\\client\\bolt.py:1140\u001b[0m, in \u001b[0;36mItemizedTask.audit\u001b[1;34m(self)\u001b[0m\n\u001b[0;32m   1138\u001b[0m \u001b[38;5;28;01mdef\u001b[39;00m \u001b[38;5;21maudit\u001b[39m(\u001b[38;5;28mself\u001b[39m):\n\u001b[0;32m   1139\u001b[0m     \u001b[38;5;28;01mfor\u001b[39;00m item \u001b[38;5;129;01min\u001b[39;00m \u001b[38;5;28mself\u001b[39m\u001b[38;5;241m.\u001b[39m_items:\n\u001b[1;32m-> 1140\u001b[0m         \u001b[43mitem\u001b[49m\u001b[38;5;241;43m.\u001b[39;49m\u001b[43maudit\u001b[49m\u001b[43m(\u001b[49m\u001b[43m)\u001b[49m\n",
      "File \u001b[1;32mc:\\Users\\Matthias Jenewein\\AppData\\Local\\Programs\\Python\\Python310\\lib\\site-packages\\py2neo\\client\\bolt.py:1140\u001b[0m, in \u001b[0;36mItemizedTask.audit\u001b[1;34m(self)\u001b[0m\n\u001b[0;32m   1138\u001b[0m \u001b[38;5;28;01mdef\u001b[39;00m \u001b[38;5;21maudit\u001b[39m(\u001b[38;5;28mself\u001b[39m):\n\u001b[0;32m   1139\u001b[0m     \u001b[38;5;28;01mfor\u001b[39;00m item \u001b[38;5;129;01min\u001b[39;00m \u001b[38;5;28mself\u001b[39m\u001b[38;5;241m.\u001b[39m_items:\n\u001b[1;32m-> 1140\u001b[0m         \u001b[43mitem\u001b[49m\u001b[38;5;241;43m.\u001b[39;49m\u001b[43maudit\u001b[49m\u001b[43m(\u001b[49m\u001b[43m)\u001b[49m\n",
      "File \u001b[1;32mc:\\Users\\Matthias Jenewein\\AppData\\Local\\Programs\\Python\\Python310\\lib\\site-packages\\py2neo\\client\\bolt.py:1303\u001b[0m, in \u001b[0;36mBoltResponse.audit\u001b[1;34m(self)\u001b[0m\n\u001b[0;32m   1301\u001b[0m \u001b[38;5;28;01mif\u001b[39;00m \u001b[38;5;28mself\u001b[39m\u001b[38;5;241m.\u001b[39m_failure:\n\u001b[0;32m   1302\u001b[0m     \u001b[38;5;28mself\u001b[39m\u001b[38;5;241m.\u001b[39mset_ignored()\n\u001b[1;32m-> 1303\u001b[0m     \u001b[38;5;28;01mraise\u001b[39;00m \u001b[38;5;28mself\u001b[39m\u001b[38;5;241m.\u001b[39m_failure\n",
      "\u001b[1;31mClientError\u001b[0m: [Statement.TypeError] SUM(NodeProperty(0,13)) can only handle numerical values, duration, or null."
     ]
    }
   ],
   "source": [
    "cypher_query = \"\"\"\n",
    "MATCH (t:Tests)\n",
    "WHERE t.BundeslandName <> 'Österreich' AND t.BundeslandName <> 'Ã–sterreich'\n",
    "RETURN t.BundeslandName, sum(t.Tests) as Tests\n",
    "\"\"\"\n",
    "\n",
    "result = graph.run(cypher_query)\n",
    "\n",
    "# Convert result to DataFrame\n",
    "df = pd.DataFrame([dict(r) for r in result], columns=['t.BundeslandName', 'Tests'])\n",
    "\n",
    "# Replace None values with 'Unknown' for BundeslandName and 0 for Tests\n",
    "df['t.BundeslandName'].replace({None: 'Unknown'}, inplace=True)\n",
    "df['Tests'].replace({None: 0}, inplace=True)\n",
    "\n",
    "# Convert 'Tests' column to numeric (in case it's not already)\n",
    "df['Tests'] = pd.to_numeric(df['Tests'], errors='coerce')\n",
    "\n",
    "# Remove rows with non-finite 'Tests' values\n",
    "df = df[np.isfinite(df['Tests'])]\n",
    "\n",
    "# Create pie chart\n",
    "plt.figure(figsize=(10, 6))\n",
    "plt.pie(df['Tests'], labels=df['t.BundeslandName'], autopct='%1.1f%%')\n",
    "plt.title('Distribution of Tests by State')\n",
    "plt.tight_layout()\n",
    "plt.show()\n",
    "\n"
   ]
  },
  {
   "cell_type": "code",
   "execution_count": null,
   "id": "92159632",
   "metadata": {},
   "outputs": [],
   "source": [
    "print(df.columns)"
   ]
  },
  {
   "cell_type": "code",
   "execution_count": 76,
   "id": "d0c88699",
   "metadata": {},
   "outputs": [
    {
     "ename": "CypherTypeError",
     "evalue": "{code: Neo.ClientError.Statement.TypeError} {message: SUM(Add(SlottedCachedNodeProperty(0,true,19,1),SlottedCachedNodeProperty(0,true,20,0))) can only handle numerical values, duration, or null.}",
     "output_type": "error",
     "traceback": [
      "\u001b[1;31m---------------------------------------------------------------------------\u001b[0m",
      "\u001b[1;31mCypherTypeError\u001b[0m                           Traceback (most recent call last)",
      "Cell \u001b[1;32mIn[76], line 10\u001b[0m\n\u001b[0;32m      8\u001b[0m \u001b[38;5;28;01mwith\u001b[39;00m driver\u001b[38;5;241m.\u001b[39msession() \u001b[38;5;28;01mas\u001b[39;00m session:\n\u001b[0;32m      9\u001b[0m     result \u001b[38;5;241m=\u001b[39m session\u001b[38;5;241m.\u001b[39mrun(cypher_query)\n\u001b[1;32m---> 10\u001b[0m     df \u001b[38;5;241m=\u001b[39m pd\u001b[38;5;241m.\u001b[39mDataFrame([\u001b[38;5;28mdict\u001b[39m(record) \u001b[38;5;28;01mfor\u001b[39;00m record \u001b[38;5;129;01min\u001b[39;00m result])\n\u001b[0;32m     12\u001b[0m \u001b[38;5;66;03m# Pivot the DataFrame to have Years as columns\u001b[39;00m\n\u001b[0;32m     13\u001b[0m df_pivot \u001b[38;5;241m=\u001b[39m df\u001b[38;5;241m.\u001b[39mpivot(index\u001b[38;5;241m=\u001b[39m\u001b[38;5;124m'\u001b[39m\u001b[38;5;124mBundeslandName\u001b[39m\u001b[38;5;124m'\u001b[39m, columns\u001b[38;5;241m=\u001b[39m\u001b[38;5;124m'\u001b[39m\u001b[38;5;124mYear\u001b[39m\u001b[38;5;124m'\u001b[39m, values\u001b[38;5;241m=\u001b[39m\u001b[38;5;124m'\u001b[39m\u001b[38;5;124mVaccinations\u001b[39m\u001b[38;5;124m'\u001b[39m)\n",
      "Cell \u001b[1;32mIn[76], line 10\u001b[0m, in \u001b[0;36m<listcomp>\u001b[1;34m(.0)\u001b[0m\n\u001b[0;32m      8\u001b[0m \u001b[38;5;28;01mwith\u001b[39;00m driver\u001b[38;5;241m.\u001b[39msession() \u001b[38;5;28;01mas\u001b[39;00m session:\n\u001b[0;32m      9\u001b[0m     result \u001b[38;5;241m=\u001b[39m session\u001b[38;5;241m.\u001b[39mrun(cypher_query)\n\u001b[1;32m---> 10\u001b[0m     df \u001b[38;5;241m=\u001b[39m pd\u001b[38;5;241m.\u001b[39mDataFrame([\u001b[38;5;28mdict\u001b[39m(record) \u001b[38;5;28;01mfor\u001b[39;00m record \u001b[38;5;129;01min\u001b[39;00m result])\n\u001b[0;32m     12\u001b[0m \u001b[38;5;66;03m# Pivot the DataFrame to have Years as columns\u001b[39;00m\n\u001b[0;32m     13\u001b[0m df_pivot \u001b[38;5;241m=\u001b[39m df\u001b[38;5;241m.\u001b[39mpivot(index\u001b[38;5;241m=\u001b[39m\u001b[38;5;124m'\u001b[39m\u001b[38;5;124mBundeslandName\u001b[39m\u001b[38;5;124m'\u001b[39m, columns\u001b[38;5;241m=\u001b[39m\u001b[38;5;124m'\u001b[39m\u001b[38;5;124mYear\u001b[39m\u001b[38;5;124m'\u001b[39m, values\u001b[38;5;241m=\u001b[39m\u001b[38;5;124m'\u001b[39m\u001b[38;5;124mVaccinations\u001b[39m\u001b[38;5;124m'\u001b[39m)\n",
      "File \u001b[1;32mc:\\Users\\Matthias Jenewein\\AppData\\Local\\Programs\\Python\\Python310\\lib\\site-packages\\neo4j\\_sync\\work\\result.py:270\u001b[0m, in \u001b[0;36mResult.__iter__\u001b[1;34m(self)\u001b[0m\n\u001b[0;32m    268\u001b[0m     \u001b[38;5;28;01myield\u001b[39;00m \u001b[38;5;28mself\u001b[39m\u001b[38;5;241m.\u001b[39m_record_buffer\u001b[38;5;241m.\u001b[39mpopleft()\n\u001b[0;32m    269\u001b[0m \u001b[38;5;28;01melif\u001b[39;00m \u001b[38;5;28mself\u001b[39m\u001b[38;5;241m.\u001b[39m_streaming:\n\u001b[1;32m--> 270\u001b[0m     \u001b[38;5;28;43mself\u001b[39;49m\u001b[38;5;241;43m.\u001b[39;49m\u001b[43m_connection\u001b[49m\u001b[38;5;241;43m.\u001b[39;49m\u001b[43mfetch_message\u001b[49m\u001b[43m(\u001b[49m\u001b[43m)\u001b[49m\n\u001b[0;32m    271\u001b[0m \u001b[38;5;28;01melif\u001b[39;00m \u001b[38;5;28mself\u001b[39m\u001b[38;5;241m.\u001b[39m_discarding:\n\u001b[0;32m    272\u001b[0m     \u001b[38;5;28mself\u001b[39m\u001b[38;5;241m.\u001b[39m_discard()\n",
      "File \u001b[1;32mc:\\Users\\Matthias Jenewein\\AppData\\Local\\Programs\\Python\\Python310\\lib\\site-packages\\neo4j\\_sync\\io\\_common.py:178\u001b[0m, in \u001b[0;36mConnectionErrorHandler.__getattr__.<locals>.outer.<locals>.inner\u001b[1;34m(*args, **kwargs)\u001b[0m\n\u001b[0;32m    176\u001b[0m \u001b[38;5;28;01mdef\u001b[39;00m \u001b[38;5;21minner\u001b[39m(\u001b[38;5;241m*\u001b[39margs, \u001b[38;5;241m*\u001b[39m\u001b[38;5;241m*\u001b[39mkwargs):\n\u001b[0;32m    177\u001b[0m     \u001b[38;5;28;01mtry\u001b[39;00m:\n\u001b[1;32m--> 178\u001b[0m         func(\u001b[38;5;241m*\u001b[39margs, \u001b[38;5;241m*\u001b[39m\u001b[38;5;241m*\u001b[39mkwargs)\n\u001b[0;32m    179\u001b[0m     \u001b[38;5;28;01mexcept\u001b[39;00m (Neo4jError, ServiceUnavailable, SessionExpired) \u001b[38;5;28;01mas\u001b[39;00m exc:\n\u001b[0;32m    180\u001b[0m         \u001b[38;5;28;01massert\u001b[39;00m \u001b[38;5;129;01mnot\u001b[39;00m asyncio\u001b[38;5;241m.\u001b[39miscoroutinefunction(\u001b[38;5;28mself\u001b[39m\u001b[38;5;241m.\u001b[39m__on_error)\n",
      "File \u001b[1;32mc:\\Users\\Matthias Jenewein\\AppData\\Local\\Programs\\Python\\Python310\\lib\\site-packages\\neo4j\\_sync\\io\\_bolt.py:850\u001b[0m, in \u001b[0;36mBolt.fetch_message\u001b[1;34m(self)\u001b[0m\n\u001b[0;32m    846\u001b[0m \u001b[38;5;66;03m# Receive exactly one message\u001b[39;00m\n\u001b[0;32m    847\u001b[0m tag, fields \u001b[38;5;241m=\u001b[39m \u001b[38;5;28mself\u001b[39m\u001b[38;5;241m.\u001b[39minbox\u001b[38;5;241m.\u001b[39mpop(\n\u001b[0;32m    848\u001b[0m     hydration_hooks\u001b[38;5;241m=\u001b[39m\u001b[38;5;28mself\u001b[39m\u001b[38;5;241m.\u001b[39mresponses[\u001b[38;5;241m0\u001b[39m]\u001b[38;5;241m.\u001b[39mhydration_hooks\n\u001b[0;32m    849\u001b[0m )\n\u001b[1;32m--> 850\u001b[0m res \u001b[38;5;241m=\u001b[39m \u001b[38;5;28;43mself\u001b[39;49m\u001b[38;5;241;43m.\u001b[39;49m\u001b[43m_process_message\u001b[49m\u001b[43m(\u001b[49m\u001b[43mtag\u001b[49m\u001b[43m,\u001b[49m\u001b[43m \u001b[49m\u001b[43mfields\u001b[49m\u001b[43m)\u001b[49m\n\u001b[0;32m    851\u001b[0m \u001b[38;5;28mself\u001b[39m\u001b[38;5;241m.\u001b[39midle_since \u001b[38;5;241m=\u001b[39m monotonic()\n\u001b[0;32m    852\u001b[0m \u001b[38;5;28;01mreturn\u001b[39;00m res\n",
      "File \u001b[1;32mc:\\Users\\Matthias Jenewein\\AppData\\Local\\Programs\\Python\\Python310\\lib\\site-packages\\neo4j\\_sync\\io\\_bolt5.py:369\u001b[0m, in \u001b[0;36mBolt5x0._process_message\u001b[1;34m(self, tag, fields)\u001b[0m\n\u001b[0;32m    367\u001b[0m \u001b[38;5;28mself\u001b[39m\u001b[38;5;241m.\u001b[39m_server_state_manager\u001b[38;5;241m.\u001b[39mstate \u001b[38;5;241m=\u001b[39m \u001b[38;5;28mself\u001b[39m\u001b[38;5;241m.\u001b[39mbolt_states\u001b[38;5;241m.\u001b[39mFAILED\n\u001b[0;32m    368\u001b[0m \u001b[38;5;28;01mtry\u001b[39;00m:\n\u001b[1;32m--> 369\u001b[0m     \u001b[43mresponse\u001b[49m\u001b[38;5;241;43m.\u001b[39;49m\u001b[43mon_failure\u001b[49m\u001b[43m(\u001b[49m\u001b[43msummary_metadata\u001b[49m\u001b[43m \u001b[49m\u001b[38;5;129;43;01mor\u001b[39;49;00m\u001b[43m \u001b[49m\u001b[43m{\u001b[49m\u001b[43m}\u001b[49m\u001b[43m)\u001b[49m\n\u001b[0;32m    370\u001b[0m \u001b[38;5;28;01mexcept\u001b[39;00m (ServiceUnavailable, DatabaseUnavailable):\n\u001b[0;32m    371\u001b[0m     \u001b[38;5;28;01mif\u001b[39;00m \u001b[38;5;28mself\u001b[39m\u001b[38;5;241m.\u001b[39mpool:\n",
      "File \u001b[1;32mc:\\Users\\Matthias Jenewein\\AppData\\Local\\Programs\\Python\\Python310\\lib\\site-packages\\neo4j\\_sync\\io\\_common.py:245\u001b[0m, in \u001b[0;36mResponse.on_failure\u001b[1;34m(self, metadata)\u001b[0m\n\u001b[0;32m    243\u001b[0m handler \u001b[38;5;241m=\u001b[39m \u001b[38;5;28mself\u001b[39m\u001b[38;5;241m.\u001b[39mhandlers\u001b[38;5;241m.\u001b[39mget(\u001b[38;5;124m\"\u001b[39m\u001b[38;5;124mon_summary\u001b[39m\u001b[38;5;124m\"\u001b[39m)\n\u001b[0;32m    244\u001b[0m Util\u001b[38;5;241m.\u001b[39mcallback(handler)\n\u001b[1;32m--> 245\u001b[0m \u001b[38;5;28;01mraise\u001b[39;00m Neo4jError\u001b[38;5;241m.\u001b[39mhydrate(\u001b[38;5;241m*\u001b[39m\u001b[38;5;241m*\u001b[39mmetadata)\n",
      "\u001b[1;31mCypherTypeError\u001b[0m: {code: Neo.ClientError.Statement.TypeError} {message: SUM(Add(SlottedCachedNodeProperty(0,true,19,1),SlottedCachedNodeProperty(0,true,20,0))) can only handle numerical values, duration, or null.}"
     ]
    }
   ],
   "source": [
    "# Cypher query to retrieve vaccination data\n",
    "cypher_query = \"\"\"\n",
    "MATCH (i:Impf_Patient)\n",
    "RETURN i.BundeslandName AS BundeslandName, i.datum AS Year, sum(i.ersteImpfung+i.zweiteImpfung) AS Vaccinations\n",
    "ORDER BY Year\n",
    "\"\"\"\n",
    "\n",
    "with driver.session() as session:\n",
    "    result = session.run(cypher_query)\n",
    "    df = pd.DataFrame([dict(record) for record in result])\n",
    "\n",
    "# Pivot the DataFrame to have Years as columns\n",
    "df_pivot = df.pivot(index='BundeslandName', columns='Year', values='Vaccinations')\n",
    "\n",
    "# Plotting\n",
    "plt.figure(figsize=(12, 6))\n",
    "df_pivot.plot(kind='line', marker='o')\n",
    "plt.title('Change in Vaccinations Over Years by State')\n",
    "plt.xlabel('State')\n",
    "plt.ylabel('Number of Vaccinations')\n",
    "plt.grid(True)\n",
    "plt.tight_layout()\n",
    "plt.show()\n",
    "\n"
   ]
  },
  {
   "cell_type": "code",
   "execution_count": 77,
   "id": "bc2d57ee",
   "metadata": {},
   "outputs": [
    {
     "ename": "CypherTypeError",
     "evalue": "{code: Neo.ClientError.Statement.TypeError} {message: SUM(SlottedCachedNodeProperty(0,true,19,0)) can only handle numerical values, duration, or null.}",
     "output_type": "error",
     "traceback": [
      "\u001b[1;31m---------------------------------------------------------------------------\u001b[0m",
      "\u001b[1;31mCypherTypeError\u001b[0m                           Traceback (most recent call last)",
      "Cell \u001b[1;32mIn[77], line 8\u001b[0m\n\u001b[0;32m      6\u001b[0m \u001b[38;5;28;01mwith\u001b[39;00m driver\u001b[38;5;241m.\u001b[39msession() \u001b[38;5;28;01mas\u001b[39;00m session:\n\u001b[0;32m      7\u001b[0m     result \u001b[38;5;241m=\u001b[39m session\u001b[38;5;241m.\u001b[39mrun(cypher_query)\n\u001b[1;32m----> 8\u001b[0m     df \u001b[38;5;241m=\u001b[39m pd\u001b[38;5;241m.\u001b[39mDataFrame([\u001b[38;5;28mdict\u001b[39m(record) \u001b[38;5;28;01mfor\u001b[39;00m record \u001b[38;5;129;01min\u001b[39;00m result])\n\u001b[0;32m     12\u001b[0m \u001b[38;5;66;03m# Pivot the DataFrame to have Years as columns\u001b[39;00m\n\u001b[0;32m     13\u001b[0m df_pivot \u001b[38;5;241m=\u001b[39m df\u001b[38;5;241m.\u001b[39mpivot(index\u001b[38;5;241m=\u001b[39m\u001b[38;5;124m'\u001b[39m\u001b[38;5;124mopt\u001b[39m\u001b[38;5;124m'\u001b[39m, columns\u001b[38;5;241m=\u001b[39m\u001b[38;5;124m'\u001b[39m\u001b[38;5;124mYear\u001b[39m\u001b[38;5;124m'\u001b[39m, values\u001b[38;5;241m=\u001b[39m\u001b[38;5;124m'\u001b[39m\u001b[38;5;124mVaccinations\u001b[39m\u001b[38;5;124m'\u001b[39m)\n",
      "Cell \u001b[1;32mIn[77], line 8\u001b[0m, in \u001b[0;36m<listcomp>\u001b[1;34m(.0)\u001b[0m\n\u001b[0;32m      6\u001b[0m \u001b[38;5;28;01mwith\u001b[39;00m driver\u001b[38;5;241m.\u001b[39msession() \u001b[38;5;28;01mas\u001b[39;00m session:\n\u001b[0;32m      7\u001b[0m     result \u001b[38;5;241m=\u001b[39m session\u001b[38;5;241m.\u001b[39mrun(cypher_query)\n\u001b[1;32m----> 8\u001b[0m     df \u001b[38;5;241m=\u001b[39m pd\u001b[38;5;241m.\u001b[39mDataFrame([\u001b[38;5;28mdict\u001b[39m(record) \u001b[38;5;28;01mfor\u001b[39;00m record \u001b[38;5;129;01min\u001b[39;00m result])\n\u001b[0;32m     12\u001b[0m \u001b[38;5;66;03m# Pivot the DataFrame to have Years as columns\u001b[39;00m\n\u001b[0;32m     13\u001b[0m df_pivot \u001b[38;5;241m=\u001b[39m df\u001b[38;5;241m.\u001b[39mpivot(index\u001b[38;5;241m=\u001b[39m\u001b[38;5;124m'\u001b[39m\u001b[38;5;124mopt\u001b[39m\u001b[38;5;124m'\u001b[39m, columns\u001b[38;5;241m=\u001b[39m\u001b[38;5;124m'\u001b[39m\u001b[38;5;124mYear\u001b[39m\u001b[38;5;124m'\u001b[39m, values\u001b[38;5;241m=\u001b[39m\u001b[38;5;124m'\u001b[39m\u001b[38;5;124mVaccinations\u001b[39m\u001b[38;5;124m'\u001b[39m)\n",
      "File \u001b[1;32mc:\\Users\\Matthias Jenewein\\AppData\\Local\\Programs\\Python\\Python310\\lib\\site-packages\\neo4j\\_sync\\work\\result.py:270\u001b[0m, in \u001b[0;36mResult.__iter__\u001b[1;34m(self)\u001b[0m\n\u001b[0;32m    268\u001b[0m     \u001b[38;5;28;01myield\u001b[39;00m \u001b[38;5;28mself\u001b[39m\u001b[38;5;241m.\u001b[39m_record_buffer\u001b[38;5;241m.\u001b[39mpopleft()\n\u001b[0;32m    269\u001b[0m \u001b[38;5;28;01melif\u001b[39;00m \u001b[38;5;28mself\u001b[39m\u001b[38;5;241m.\u001b[39m_streaming:\n\u001b[1;32m--> 270\u001b[0m     \u001b[38;5;28;43mself\u001b[39;49m\u001b[38;5;241;43m.\u001b[39;49m\u001b[43m_connection\u001b[49m\u001b[38;5;241;43m.\u001b[39;49m\u001b[43mfetch_message\u001b[49m\u001b[43m(\u001b[49m\u001b[43m)\u001b[49m\n\u001b[0;32m    271\u001b[0m \u001b[38;5;28;01melif\u001b[39;00m \u001b[38;5;28mself\u001b[39m\u001b[38;5;241m.\u001b[39m_discarding:\n\u001b[0;32m    272\u001b[0m     \u001b[38;5;28mself\u001b[39m\u001b[38;5;241m.\u001b[39m_discard()\n",
      "File \u001b[1;32mc:\\Users\\Matthias Jenewein\\AppData\\Local\\Programs\\Python\\Python310\\lib\\site-packages\\neo4j\\_sync\\io\\_common.py:178\u001b[0m, in \u001b[0;36mConnectionErrorHandler.__getattr__.<locals>.outer.<locals>.inner\u001b[1;34m(*args, **kwargs)\u001b[0m\n\u001b[0;32m    176\u001b[0m \u001b[38;5;28;01mdef\u001b[39;00m \u001b[38;5;21minner\u001b[39m(\u001b[38;5;241m*\u001b[39margs, \u001b[38;5;241m*\u001b[39m\u001b[38;5;241m*\u001b[39mkwargs):\n\u001b[0;32m    177\u001b[0m     \u001b[38;5;28;01mtry\u001b[39;00m:\n\u001b[1;32m--> 178\u001b[0m         func(\u001b[38;5;241m*\u001b[39margs, \u001b[38;5;241m*\u001b[39m\u001b[38;5;241m*\u001b[39mkwargs)\n\u001b[0;32m    179\u001b[0m     \u001b[38;5;28;01mexcept\u001b[39;00m (Neo4jError, ServiceUnavailable, SessionExpired) \u001b[38;5;28;01mas\u001b[39;00m exc:\n\u001b[0;32m    180\u001b[0m         \u001b[38;5;28;01massert\u001b[39;00m \u001b[38;5;129;01mnot\u001b[39;00m asyncio\u001b[38;5;241m.\u001b[39miscoroutinefunction(\u001b[38;5;28mself\u001b[39m\u001b[38;5;241m.\u001b[39m__on_error)\n",
      "File \u001b[1;32mc:\\Users\\Matthias Jenewein\\AppData\\Local\\Programs\\Python\\Python310\\lib\\site-packages\\neo4j\\_sync\\io\\_bolt.py:850\u001b[0m, in \u001b[0;36mBolt.fetch_message\u001b[1;34m(self)\u001b[0m\n\u001b[0;32m    846\u001b[0m \u001b[38;5;66;03m# Receive exactly one message\u001b[39;00m\n\u001b[0;32m    847\u001b[0m tag, fields \u001b[38;5;241m=\u001b[39m \u001b[38;5;28mself\u001b[39m\u001b[38;5;241m.\u001b[39minbox\u001b[38;5;241m.\u001b[39mpop(\n\u001b[0;32m    848\u001b[0m     hydration_hooks\u001b[38;5;241m=\u001b[39m\u001b[38;5;28mself\u001b[39m\u001b[38;5;241m.\u001b[39mresponses[\u001b[38;5;241m0\u001b[39m]\u001b[38;5;241m.\u001b[39mhydration_hooks\n\u001b[0;32m    849\u001b[0m )\n\u001b[1;32m--> 850\u001b[0m res \u001b[38;5;241m=\u001b[39m \u001b[38;5;28;43mself\u001b[39;49m\u001b[38;5;241;43m.\u001b[39;49m\u001b[43m_process_message\u001b[49m\u001b[43m(\u001b[49m\u001b[43mtag\u001b[49m\u001b[43m,\u001b[49m\u001b[43m \u001b[49m\u001b[43mfields\u001b[49m\u001b[43m)\u001b[49m\n\u001b[0;32m    851\u001b[0m \u001b[38;5;28mself\u001b[39m\u001b[38;5;241m.\u001b[39midle_since \u001b[38;5;241m=\u001b[39m monotonic()\n\u001b[0;32m    852\u001b[0m \u001b[38;5;28;01mreturn\u001b[39;00m res\n",
      "File \u001b[1;32mc:\\Users\\Matthias Jenewein\\AppData\\Local\\Programs\\Python\\Python310\\lib\\site-packages\\neo4j\\_sync\\io\\_bolt5.py:369\u001b[0m, in \u001b[0;36mBolt5x0._process_message\u001b[1;34m(self, tag, fields)\u001b[0m\n\u001b[0;32m    367\u001b[0m \u001b[38;5;28mself\u001b[39m\u001b[38;5;241m.\u001b[39m_server_state_manager\u001b[38;5;241m.\u001b[39mstate \u001b[38;5;241m=\u001b[39m \u001b[38;5;28mself\u001b[39m\u001b[38;5;241m.\u001b[39mbolt_states\u001b[38;5;241m.\u001b[39mFAILED\n\u001b[0;32m    368\u001b[0m \u001b[38;5;28;01mtry\u001b[39;00m:\n\u001b[1;32m--> 369\u001b[0m     \u001b[43mresponse\u001b[49m\u001b[38;5;241;43m.\u001b[39;49m\u001b[43mon_failure\u001b[49m\u001b[43m(\u001b[49m\u001b[43msummary_metadata\u001b[49m\u001b[43m \u001b[49m\u001b[38;5;129;43;01mor\u001b[39;49;00m\u001b[43m \u001b[49m\u001b[43m{\u001b[49m\u001b[43m}\u001b[49m\u001b[43m)\u001b[49m\n\u001b[0;32m    370\u001b[0m \u001b[38;5;28;01mexcept\u001b[39;00m (ServiceUnavailable, DatabaseUnavailable):\n\u001b[0;32m    371\u001b[0m     \u001b[38;5;28;01mif\u001b[39;00m \u001b[38;5;28mself\u001b[39m\u001b[38;5;241m.\u001b[39mpool:\n",
      "File \u001b[1;32mc:\\Users\\Matthias Jenewein\\AppData\\Local\\Programs\\Python\\Python310\\lib\\site-packages\\neo4j\\_sync\\io\\_common.py:245\u001b[0m, in \u001b[0;36mResponse.on_failure\u001b[1;34m(self, metadata)\u001b[0m\n\u001b[0;32m    243\u001b[0m handler \u001b[38;5;241m=\u001b[39m \u001b[38;5;28mself\u001b[39m\u001b[38;5;241m.\u001b[39mhandlers\u001b[38;5;241m.\u001b[39mget(\u001b[38;5;124m\"\u001b[39m\u001b[38;5;124mon_summary\u001b[39m\u001b[38;5;124m\"\u001b[39m)\n\u001b[0;32m    244\u001b[0m Util\u001b[38;5;241m.\u001b[39mcallback(handler)\n\u001b[1;32m--> 245\u001b[0m \u001b[38;5;28;01mraise\u001b[39;00m Neo4jError\u001b[38;5;241m.\u001b[39mhydrate(\u001b[38;5;241m*\u001b[39m\u001b[38;5;241m*\u001b[39mmetadata)\n",
      "\u001b[1;31mCypherTypeError\u001b[0m: {code: Neo.ClientError.Statement.TypeError} {message: SUM(SlottedCachedNodeProperty(0,true,19,0)) can only handle numerical values, duration, or null.}"
     ]
    }
   ],
   "source": [
    "cypher_query = \"\"\"\n",
    "MATCH (i:Impf_Patient)\n",
    "RETURN i.datum AS Year,i.bezirkId AS opt,sum(i.ersteImpfung) as Vaccinations\n",
    "\"\"\"\n",
    "\n",
    "with driver.session() as session:\n",
    "    result = session.run(cypher_query)\n",
    "    df = pd.DataFrame([dict(record) for record in result])\n",
    "\n",
    "\n",
    "\n",
    "# Pivot the DataFrame to have Years as columns\n",
    "df_pivot = df.pivot(index='opt', columns='Year', values='Vaccinations')\n",
    "\n",
    "# Plotting\n",
    "plt.figure(figsize=(12, 6))\n",
    "df_pivot.plot(kind='bar', figsize=(12, 6), stacked=True)\n",
    "plt.title('Total Vaccinations Over Years by District')\n",
    "plt.xlabel('District (bezirk)')\n",
    "plt.ylabel('Number of Vaccinations')\n",
    "plt.legend(title='Year')\n",
    "plt.tight_layout()\n",
    "plt.show()"
   ]
  },
  {
   "cell_type": "code",
   "execution_count": 78,
   "id": "4e63e300",
   "metadata": {},
   "outputs": [
    {
     "ename": "KeyError",
     "evalue": "'Year'",
     "output_type": "error",
     "traceback": [
      "\u001b[1;31m---------------------------------------------------------------------------\u001b[0m",
      "\u001b[1;31mKeyError\u001b[0m                                  Traceback (most recent call last)",
      "File \u001b[1;32mc:\\Users\\Matthias Jenewein\\AppData\\Local\\Programs\\Python\\Python310\\lib\\site-packages\\pandas\\core\\indexes\\base.py:3802\u001b[0m, in \u001b[0;36mIndex.get_loc\u001b[1;34m(self, key, method, tolerance)\u001b[0m\n\u001b[0;32m   3801\u001b[0m \u001b[38;5;28;01mtry\u001b[39;00m:\n\u001b[1;32m-> 3802\u001b[0m     \u001b[38;5;28;01mreturn\u001b[39;00m \u001b[38;5;28;43mself\u001b[39;49m\u001b[38;5;241;43m.\u001b[39;49m\u001b[43m_engine\u001b[49m\u001b[38;5;241;43m.\u001b[39;49m\u001b[43mget_loc\u001b[49m\u001b[43m(\u001b[49m\u001b[43mcasted_key\u001b[49m\u001b[43m)\u001b[49m\n\u001b[0;32m   3803\u001b[0m \u001b[38;5;28;01mexcept\u001b[39;00m \u001b[38;5;167;01mKeyError\u001b[39;00m \u001b[38;5;28;01mas\u001b[39;00m err:\n",
      "File \u001b[1;32mc:\\Users\\Matthias Jenewein\\AppData\\Local\\Programs\\Python\\Python310\\lib\\site-packages\\pandas\\_libs\\index.pyx:138\u001b[0m, in \u001b[0;36mpandas._libs.index.IndexEngine.get_loc\u001b[1;34m()\u001b[0m\n",
      "File \u001b[1;32mc:\\Users\\Matthias Jenewein\\AppData\\Local\\Programs\\Python\\Python310\\lib\\site-packages\\pandas\\_libs\\index.pyx:165\u001b[0m, in \u001b[0;36mpandas._libs.index.IndexEngine.get_loc\u001b[1;34m()\u001b[0m\n",
      "File \u001b[1;32mpandas\\_libs\\hashtable_class_helper.pxi:5745\u001b[0m, in \u001b[0;36mpandas._libs.hashtable.PyObjectHashTable.get_item\u001b[1;34m()\u001b[0m\n",
      "File \u001b[1;32mpandas\\_libs\\hashtable_class_helper.pxi:5753\u001b[0m, in \u001b[0;36mpandas._libs.hashtable.PyObjectHashTable.get_item\u001b[1;34m()\u001b[0m\n",
      "\u001b[1;31mKeyError\u001b[0m: 'Year'",
      "\nThe above exception was the direct cause of the following exception:\n",
      "\u001b[1;31mKeyError\u001b[0m                                  Traceback (most recent call last)",
      "Cell \u001b[1;32mIn[78], line 16\u001b[0m\n\u001b[0;32m     13\u001b[0m df \u001b[38;5;241m=\u001b[39m pd\u001b[38;5;241m.\u001b[39mDataFrame(result)\n\u001b[0;32m     15\u001b[0m \u001b[38;5;66;03m# Pivot the DataFrame to have Years as columns\u001b[39;00m\n\u001b[1;32m---> 16\u001b[0m df_pivot \u001b[38;5;241m=\u001b[39m \u001b[43mdf\u001b[49m\u001b[38;5;241;43m.\u001b[39;49m\u001b[43mpivot\u001b[49m\u001b[43m(\u001b[49m\u001b[43mcolumns\u001b[49m\u001b[38;5;241;43m=\u001b[39;49m\u001b[38;5;124;43m'\u001b[39;49m\u001b[38;5;124;43mYear\u001b[39;49m\u001b[38;5;124;43m'\u001b[39;49m\u001b[43m,\u001b[49m\u001b[43m \u001b[49m\u001b[43mvalues\u001b[49m\u001b[38;5;241;43m=\u001b[39;49m\u001b[38;5;124;43m'\u001b[39;49m\u001b[38;5;124;43mVaccinations\u001b[39;49m\u001b[38;5;124;43m'\u001b[39;49m\u001b[43m)\u001b[49m\n\u001b[0;32m     18\u001b[0m \u001b[38;5;66;03m# Plotting\u001b[39;00m\n\u001b[0;32m     19\u001b[0m plt\u001b[38;5;241m.\u001b[39mfigure(figsize\u001b[38;5;241m=\u001b[39m(\u001b[38;5;241m10\u001b[39m, \u001b[38;5;241m6\u001b[39m))\n",
      "File \u001b[1;32mc:\\Users\\Matthias Jenewein\\AppData\\Local\\Programs\\Python\\Python310\\lib\\site-packages\\pandas\\util\\_decorators.py:331\u001b[0m, in \u001b[0;36mdeprecate_nonkeyword_arguments.<locals>.decorate.<locals>.wrapper\u001b[1;34m(*args, **kwargs)\u001b[0m\n\u001b[0;32m    325\u001b[0m \u001b[38;5;28;01mif\u001b[39;00m \u001b[38;5;28mlen\u001b[39m(args) \u001b[38;5;241m>\u001b[39m num_allow_args:\n\u001b[0;32m    326\u001b[0m     warnings\u001b[38;5;241m.\u001b[39mwarn(\n\u001b[0;32m    327\u001b[0m         msg\u001b[38;5;241m.\u001b[39mformat(arguments\u001b[38;5;241m=\u001b[39m_format_argument_list(allow_args)),\n\u001b[0;32m    328\u001b[0m         \u001b[38;5;167;01mFutureWarning\u001b[39;00m,\n\u001b[0;32m    329\u001b[0m         stacklevel\u001b[38;5;241m=\u001b[39mfind_stack_level(),\n\u001b[0;32m    330\u001b[0m     )\n\u001b[1;32m--> 331\u001b[0m \u001b[38;5;28;01mreturn\u001b[39;00m func(\u001b[38;5;241m*\u001b[39margs, \u001b[38;5;241m*\u001b[39m\u001b[38;5;241m*\u001b[39mkwargs)\n",
      "File \u001b[1;32mc:\\Users\\Matthias Jenewein\\AppData\\Local\\Programs\\Python\\Python310\\lib\\site-packages\\pandas\\core\\frame.py:8567\u001b[0m, in \u001b[0;36mDataFrame.pivot\u001b[1;34m(self, index, columns, values)\u001b[0m\n\u001b[0;32m   8561\u001b[0m \u001b[38;5;129m@Substitution\u001b[39m(\u001b[38;5;124m\"\u001b[39m\u001b[38;5;124m\"\u001b[39m)\n\u001b[0;32m   8562\u001b[0m \u001b[38;5;129m@Appender\u001b[39m(_shared_docs[\u001b[38;5;124m\"\u001b[39m\u001b[38;5;124mpivot\u001b[39m\u001b[38;5;124m\"\u001b[39m])\n\u001b[0;32m   8563\u001b[0m \u001b[38;5;129m@deprecate_nonkeyword_arguments\u001b[39m(version\u001b[38;5;241m=\u001b[39m\u001b[38;5;28;01mNone\u001b[39;00m, allowed_args\u001b[38;5;241m=\u001b[39m[\u001b[38;5;124m\"\u001b[39m\u001b[38;5;124mself\u001b[39m\u001b[38;5;124m\"\u001b[39m])\n\u001b[0;32m   8564\u001b[0m \u001b[38;5;28;01mdef\u001b[39;00m \u001b[38;5;21mpivot\u001b[39m(\u001b[38;5;28mself\u001b[39m, index\u001b[38;5;241m=\u001b[39m\u001b[38;5;28;01mNone\u001b[39;00m, columns\u001b[38;5;241m=\u001b[39m\u001b[38;5;28;01mNone\u001b[39;00m, values\u001b[38;5;241m=\u001b[39m\u001b[38;5;28;01mNone\u001b[39;00m) \u001b[38;5;241m-\u001b[39m\u001b[38;5;241m>\u001b[39m DataFrame:\n\u001b[0;32m   8565\u001b[0m     \u001b[38;5;28;01mfrom\u001b[39;00m \u001b[38;5;21;01mpandas\u001b[39;00m\u001b[38;5;21;01m.\u001b[39;00m\u001b[38;5;21;01mcore\u001b[39;00m\u001b[38;5;21;01m.\u001b[39;00m\u001b[38;5;21;01mreshape\u001b[39;00m\u001b[38;5;21;01m.\u001b[39;00m\u001b[38;5;21;01mpivot\u001b[39;00m \u001b[38;5;28;01mimport\u001b[39;00m pivot\n\u001b[1;32m-> 8567\u001b[0m     \u001b[38;5;28;01mreturn\u001b[39;00m \u001b[43mpivot\u001b[49m\u001b[43m(\u001b[49m\u001b[38;5;28;43mself\u001b[39;49m\u001b[43m,\u001b[49m\u001b[43m \u001b[49m\u001b[43mindex\u001b[49m\u001b[38;5;241;43m=\u001b[39;49m\u001b[43mindex\u001b[49m\u001b[43m,\u001b[49m\u001b[43m \u001b[49m\u001b[43mcolumns\u001b[49m\u001b[38;5;241;43m=\u001b[39;49m\u001b[43mcolumns\u001b[49m\u001b[43m,\u001b[49m\u001b[43m \u001b[49m\u001b[43mvalues\u001b[49m\u001b[38;5;241;43m=\u001b[39;49m\u001b[43mvalues\u001b[49m\u001b[43m)\u001b[49m\n",
      "File \u001b[1;32mc:\\Users\\Matthias Jenewein\\AppData\\Local\\Programs\\Python\\Python310\\lib\\site-packages\\pandas\\util\\_decorators.py:331\u001b[0m, in \u001b[0;36mdeprecate_nonkeyword_arguments.<locals>.decorate.<locals>.wrapper\u001b[1;34m(*args, **kwargs)\u001b[0m\n\u001b[0;32m    325\u001b[0m \u001b[38;5;28;01mif\u001b[39;00m \u001b[38;5;28mlen\u001b[39m(args) \u001b[38;5;241m>\u001b[39m num_allow_args:\n\u001b[0;32m    326\u001b[0m     warnings\u001b[38;5;241m.\u001b[39mwarn(\n\u001b[0;32m    327\u001b[0m         msg\u001b[38;5;241m.\u001b[39mformat(arguments\u001b[38;5;241m=\u001b[39m_format_argument_list(allow_args)),\n\u001b[0;32m    328\u001b[0m         \u001b[38;5;167;01mFutureWarning\u001b[39;00m,\n\u001b[0;32m    329\u001b[0m         stacklevel\u001b[38;5;241m=\u001b[39mfind_stack_level(),\n\u001b[0;32m    330\u001b[0m     )\n\u001b[1;32m--> 331\u001b[0m \u001b[38;5;28;01mreturn\u001b[39;00m func(\u001b[38;5;241m*\u001b[39margs, \u001b[38;5;241m*\u001b[39m\u001b[38;5;241m*\u001b[39mkwargs)\n",
      "File \u001b[1;32mc:\\Users\\Matthias Jenewein\\AppData\\Local\\Programs\\Python\\Python310\\lib\\site-packages\\pandas\\core\\reshape\\pivot.py:525\u001b[0m, in \u001b[0;36mpivot\u001b[1;34m(data, index, columns, values)\u001b[0m\n\u001b[0;32m    522\u001b[0m \u001b[38;5;28;01melse\u001b[39;00m:\n\u001b[0;32m    523\u001b[0m     index_list \u001b[38;5;241m=\u001b[39m [data[idx] \u001b[38;5;28;01mfor\u001b[39;00m idx \u001b[38;5;129;01min\u001b[39;00m com\u001b[38;5;241m.\u001b[39mconvert_to_list_like(index)]\n\u001b[1;32m--> 525\u001b[0m data_columns \u001b[38;5;241m=\u001b[39m [data[col] \u001b[38;5;28;01mfor\u001b[39;00m col \u001b[38;5;129;01min\u001b[39;00m columns_listlike]\n\u001b[0;32m    526\u001b[0m index_list\u001b[38;5;241m.\u001b[39mextend(data_columns)\n\u001b[0;32m    527\u001b[0m multiindex \u001b[38;5;241m=\u001b[39m MultiIndex\u001b[38;5;241m.\u001b[39mfrom_arrays(index_list)\n",
      "File \u001b[1;32mc:\\Users\\Matthias Jenewein\\AppData\\Local\\Programs\\Python\\Python310\\lib\\site-packages\\pandas\\core\\reshape\\pivot.py:525\u001b[0m, in \u001b[0;36m<listcomp>\u001b[1;34m(.0)\u001b[0m\n\u001b[0;32m    522\u001b[0m \u001b[38;5;28;01melse\u001b[39;00m:\n\u001b[0;32m    523\u001b[0m     index_list \u001b[38;5;241m=\u001b[39m [data[idx] \u001b[38;5;28;01mfor\u001b[39;00m idx \u001b[38;5;129;01min\u001b[39;00m com\u001b[38;5;241m.\u001b[39mconvert_to_list_like(index)]\n\u001b[1;32m--> 525\u001b[0m data_columns \u001b[38;5;241m=\u001b[39m [\u001b[43mdata\u001b[49m\u001b[43m[\u001b[49m\u001b[43mcol\u001b[49m\u001b[43m]\u001b[49m \u001b[38;5;28;01mfor\u001b[39;00m col \u001b[38;5;129;01min\u001b[39;00m columns_listlike]\n\u001b[0;32m    526\u001b[0m index_list\u001b[38;5;241m.\u001b[39mextend(data_columns)\n\u001b[0;32m    527\u001b[0m multiindex \u001b[38;5;241m=\u001b[39m MultiIndex\u001b[38;5;241m.\u001b[39mfrom_arrays(index_list)\n",
      "File \u001b[1;32mc:\\Users\\Matthias Jenewein\\AppData\\Local\\Programs\\Python\\Python310\\lib\\site-packages\\pandas\\core\\frame.py:3807\u001b[0m, in \u001b[0;36mDataFrame.__getitem__\u001b[1;34m(self, key)\u001b[0m\n\u001b[0;32m   3805\u001b[0m \u001b[38;5;28;01mif\u001b[39;00m \u001b[38;5;28mself\u001b[39m\u001b[38;5;241m.\u001b[39mcolumns\u001b[38;5;241m.\u001b[39mnlevels \u001b[38;5;241m>\u001b[39m \u001b[38;5;241m1\u001b[39m:\n\u001b[0;32m   3806\u001b[0m     \u001b[38;5;28;01mreturn\u001b[39;00m \u001b[38;5;28mself\u001b[39m\u001b[38;5;241m.\u001b[39m_getitem_multilevel(key)\n\u001b[1;32m-> 3807\u001b[0m indexer \u001b[38;5;241m=\u001b[39m \u001b[38;5;28;43mself\u001b[39;49m\u001b[38;5;241;43m.\u001b[39;49m\u001b[43mcolumns\u001b[49m\u001b[38;5;241;43m.\u001b[39;49m\u001b[43mget_loc\u001b[49m\u001b[43m(\u001b[49m\u001b[43mkey\u001b[49m\u001b[43m)\u001b[49m\n\u001b[0;32m   3808\u001b[0m \u001b[38;5;28;01mif\u001b[39;00m is_integer(indexer):\n\u001b[0;32m   3809\u001b[0m     indexer \u001b[38;5;241m=\u001b[39m [indexer]\n",
      "File \u001b[1;32mc:\\Users\\Matthias Jenewein\\AppData\\Local\\Programs\\Python\\Python310\\lib\\site-packages\\pandas\\core\\indexes\\base.py:3804\u001b[0m, in \u001b[0;36mIndex.get_loc\u001b[1;34m(self, key, method, tolerance)\u001b[0m\n\u001b[0;32m   3802\u001b[0m     \u001b[38;5;28;01mreturn\u001b[39;00m \u001b[38;5;28mself\u001b[39m\u001b[38;5;241m.\u001b[39m_engine\u001b[38;5;241m.\u001b[39mget_loc(casted_key)\n\u001b[0;32m   3803\u001b[0m \u001b[38;5;28;01mexcept\u001b[39;00m \u001b[38;5;167;01mKeyError\u001b[39;00m \u001b[38;5;28;01mas\u001b[39;00m err:\n\u001b[1;32m-> 3804\u001b[0m     \u001b[38;5;28;01mraise\u001b[39;00m \u001b[38;5;167;01mKeyError\u001b[39;00m(key) \u001b[38;5;28;01mfrom\u001b[39;00m \u001b[38;5;21;01merr\u001b[39;00m\n\u001b[0;32m   3805\u001b[0m \u001b[38;5;28;01mexcept\u001b[39;00m \u001b[38;5;167;01mTypeError\u001b[39;00m:\n\u001b[0;32m   3806\u001b[0m     \u001b[38;5;66;03m# If we have a listlike key, _check_indexing_error will raise\u001b[39;00m\n\u001b[0;32m   3807\u001b[0m     \u001b[38;5;66;03m#  InvalidIndexError. Otherwise we fall through and re-raise\u001b[39;00m\n\u001b[0;32m   3808\u001b[0m     \u001b[38;5;66;03m#  the TypeError.\u001b[39;00m\n\u001b[0;32m   3809\u001b[0m     \u001b[38;5;28mself\u001b[39m\u001b[38;5;241m.\u001b[39m_check_indexing_error(key)\n",
      "\u001b[1;31mKeyError\u001b[0m: 'Year'"
     ]
    }
   ],
   "source": [
    "# Define the Cypher query\n",
    "cypher_query = \"\"\"\n",
    "MATCH (n:nodes)\n",
    "RETURN n.datum AS Year, sum(n.ersteImpfung) as Vaccinations\n",
    "\"\"\"\n",
    "\n",
    "# Execute the Cypher query\n",
    "with driver.session() as session:\n",
    "    result = session.run(cypher_query)\n",
    "    df = pd.DataFrame([dict(record) for record in result])\n",
    "\n",
    "# Convert the result to pandas DataFrame\n",
    "df = pd.DataFrame(result)\n",
    "\n",
    "# Pivot the DataFrame to have Years as columns\n",
    "df_pivot = df.pivot(columns='Year', values='Vaccinations')\n",
    "\n",
    "# Plotting\n",
    "plt.figure(figsize=(10, 6))\n",
    "\n",
    "# Define bar positions and widths\n",
    "bar_width = 0.35\n",
    "r1 = range(len(df_pivot))\n",
    "r2 = [x + bar_width for x in r1]\n",
    "\n",
    "# Create bars\n",
    "plt.bar(r1, df_pivot.iloc[:, 0], width=bar_width, label='Vaccinations')\n",
    "\n",
    "# Add labels, title, and legend\n",
    "plt.xlabel('Year', fontweight='bold')\n",
    "plt.ylabel('Count', fontweight='bold')\n",
    "plt.title('Vaccinations Per Year from Neo4j')\n",
    "plt.xticks([r + bar_width/2 for r in range(len(df_pivot.columns))], df_pivot.columns)\n",
    "plt.legend()\n",
    "\n",
    "# Show plot\n",
    "plt.tight_layout()\n",
    "plt.show()\n"
   ]
  },
  {
   "cell_type": "code",
   "execution_count": 79,
   "id": "b5b12c93-88bd-4068-88ee-58144f422915",
   "metadata": {},
   "outputs": [
    {
     "ename": "CypherTypeError",
     "evalue": "{code: Neo.ClientError.Statement.TypeError} {message: SUM(SlottedCachedNodeProperty(0,true,19,0)) can only handle numerical values, duration, or null.}",
     "output_type": "error",
     "traceback": [
      "\u001b[1;31m---------------------------------------------------------------------------\u001b[0m",
      "\u001b[1;31mCypherTypeError\u001b[0m                           Traceback (most recent call last)",
      "Cell \u001b[1;32mIn[79], line 14\u001b[0m\n\u001b[0;32m     12\u001b[0m \u001b[38;5;28;01mwith\u001b[39;00m driver\u001b[38;5;241m.\u001b[39msession() \u001b[38;5;28;01mas\u001b[39;00m session:\n\u001b[0;32m     13\u001b[0m     result \u001b[38;5;241m=\u001b[39m session\u001b[38;5;241m.\u001b[39mrun(cypher_query)\n\u001b[1;32m---> 14\u001b[0m     df \u001b[38;5;241m=\u001b[39m pd\u001b[38;5;241m.\u001b[39mDataFrame([\u001b[38;5;28mdict\u001b[39m(record) \u001b[38;5;28;01mfor\u001b[39;00m record \u001b[38;5;129;01min\u001b[39;00m result])\n\u001b[0;32m     16\u001b[0m \u001b[38;5;66;03m# Bundesland aus der Bezirks-ID extrahieren\u001b[39;00m\n\u001b[0;32m     17\u001b[0m df[\u001b[38;5;124m'\u001b[39m\u001b[38;5;124mbundesland\u001b[39m\u001b[38;5;124m'\u001b[39m] \u001b[38;5;241m=\u001b[39m df[\u001b[38;5;124m'\u001b[39m\u001b[38;5;124mopt\u001b[39m\u001b[38;5;124m'\u001b[39m]\u001b[38;5;241m.\u001b[39mapply(\u001b[38;5;28;01mlambda\u001b[39;00m x: \u001b[38;5;28mint\u001b[39m(\u001b[38;5;28mstr\u001b[39m(x)[\u001b[38;5;241m0\u001b[39m]))\n",
      "Cell \u001b[1;32mIn[79], line 14\u001b[0m, in \u001b[0;36m<listcomp>\u001b[1;34m(.0)\u001b[0m\n\u001b[0;32m     12\u001b[0m \u001b[38;5;28;01mwith\u001b[39;00m driver\u001b[38;5;241m.\u001b[39msession() \u001b[38;5;28;01mas\u001b[39;00m session:\n\u001b[0;32m     13\u001b[0m     result \u001b[38;5;241m=\u001b[39m session\u001b[38;5;241m.\u001b[39mrun(cypher_query)\n\u001b[1;32m---> 14\u001b[0m     df \u001b[38;5;241m=\u001b[39m pd\u001b[38;5;241m.\u001b[39mDataFrame([\u001b[38;5;28mdict\u001b[39m(record) \u001b[38;5;28;01mfor\u001b[39;00m record \u001b[38;5;129;01min\u001b[39;00m result])\n\u001b[0;32m     16\u001b[0m \u001b[38;5;66;03m# Bundesland aus der Bezirks-ID extrahieren\u001b[39;00m\n\u001b[0;32m     17\u001b[0m df[\u001b[38;5;124m'\u001b[39m\u001b[38;5;124mbundesland\u001b[39m\u001b[38;5;124m'\u001b[39m] \u001b[38;5;241m=\u001b[39m df[\u001b[38;5;124m'\u001b[39m\u001b[38;5;124mopt\u001b[39m\u001b[38;5;124m'\u001b[39m]\u001b[38;5;241m.\u001b[39mapply(\u001b[38;5;28;01mlambda\u001b[39;00m x: \u001b[38;5;28mint\u001b[39m(\u001b[38;5;28mstr\u001b[39m(x)[\u001b[38;5;241m0\u001b[39m]))\n",
      "File \u001b[1;32mc:\\Users\\Matthias Jenewein\\AppData\\Local\\Programs\\Python\\Python310\\lib\\site-packages\\neo4j\\_sync\\work\\result.py:270\u001b[0m, in \u001b[0;36mResult.__iter__\u001b[1;34m(self)\u001b[0m\n\u001b[0;32m    268\u001b[0m     \u001b[38;5;28;01myield\u001b[39;00m \u001b[38;5;28mself\u001b[39m\u001b[38;5;241m.\u001b[39m_record_buffer\u001b[38;5;241m.\u001b[39mpopleft()\n\u001b[0;32m    269\u001b[0m \u001b[38;5;28;01melif\u001b[39;00m \u001b[38;5;28mself\u001b[39m\u001b[38;5;241m.\u001b[39m_streaming:\n\u001b[1;32m--> 270\u001b[0m     \u001b[38;5;28;43mself\u001b[39;49m\u001b[38;5;241;43m.\u001b[39;49m\u001b[43m_connection\u001b[49m\u001b[38;5;241;43m.\u001b[39;49m\u001b[43mfetch_message\u001b[49m\u001b[43m(\u001b[49m\u001b[43m)\u001b[49m\n\u001b[0;32m    271\u001b[0m \u001b[38;5;28;01melif\u001b[39;00m \u001b[38;5;28mself\u001b[39m\u001b[38;5;241m.\u001b[39m_discarding:\n\u001b[0;32m    272\u001b[0m     \u001b[38;5;28mself\u001b[39m\u001b[38;5;241m.\u001b[39m_discard()\n",
      "File \u001b[1;32mc:\\Users\\Matthias Jenewein\\AppData\\Local\\Programs\\Python\\Python310\\lib\\site-packages\\neo4j\\_sync\\io\\_common.py:178\u001b[0m, in \u001b[0;36mConnectionErrorHandler.__getattr__.<locals>.outer.<locals>.inner\u001b[1;34m(*args, **kwargs)\u001b[0m\n\u001b[0;32m    176\u001b[0m \u001b[38;5;28;01mdef\u001b[39;00m \u001b[38;5;21minner\u001b[39m(\u001b[38;5;241m*\u001b[39margs, \u001b[38;5;241m*\u001b[39m\u001b[38;5;241m*\u001b[39mkwargs):\n\u001b[0;32m    177\u001b[0m     \u001b[38;5;28;01mtry\u001b[39;00m:\n\u001b[1;32m--> 178\u001b[0m         func(\u001b[38;5;241m*\u001b[39margs, \u001b[38;5;241m*\u001b[39m\u001b[38;5;241m*\u001b[39mkwargs)\n\u001b[0;32m    179\u001b[0m     \u001b[38;5;28;01mexcept\u001b[39;00m (Neo4jError, ServiceUnavailable, SessionExpired) \u001b[38;5;28;01mas\u001b[39;00m exc:\n\u001b[0;32m    180\u001b[0m         \u001b[38;5;28;01massert\u001b[39;00m \u001b[38;5;129;01mnot\u001b[39;00m asyncio\u001b[38;5;241m.\u001b[39miscoroutinefunction(\u001b[38;5;28mself\u001b[39m\u001b[38;5;241m.\u001b[39m__on_error)\n",
      "File \u001b[1;32mc:\\Users\\Matthias Jenewein\\AppData\\Local\\Programs\\Python\\Python310\\lib\\site-packages\\neo4j\\_sync\\io\\_bolt.py:850\u001b[0m, in \u001b[0;36mBolt.fetch_message\u001b[1;34m(self)\u001b[0m\n\u001b[0;32m    846\u001b[0m \u001b[38;5;66;03m# Receive exactly one message\u001b[39;00m\n\u001b[0;32m    847\u001b[0m tag, fields \u001b[38;5;241m=\u001b[39m \u001b[38;5;28mself\u001b[39m\u001b[38;5;241m.\u001b[39minbox\u001b[38;5;241m.\u001b[39mpop(\n\u001b[0;32m    848\u001b[0m     hydration_hooks\u001b[38;5;241m=\u001b[39m\u001b[38;5;28mself\u001b[39m\u001b[38;5;241m.\u001b[39mresponses[\u001b[38;5;241m0\u001b[39m]\u001b[38;5;241m.\u001b[39mhydration_hooks\n\u001b[0;32m    849\u001b[0m )\n\u001b[1;32m--> 850\u001b[0m res \u001b[38;5;241m=\u001b[39m \u001b[38;5;28;43mself\u001b[39;49m\u001b[38;5;241;43m.\u001b[39;49m\u001b[43m_process_message\u001b[49m\u001b[43m(\u001b[49m\u001b[43mtag\u001b[49m\u001b[43m,\u001b[49m\u001b[43m \u001b[49m\u001b[43mfields\u001b[49m\u001b[43m)\u001b[49m\n\u001b[0;32m    851\u001b[0m \u001b[38;5;28mself\u001b[39m\u001b[38;5;241m.\u001b[39midle_since \u001b[38;5;241m=\u001b[39m monotonic()\n\u001b[0;32m    852\u001b[0m \u001b[38;5;28;01mreturn\u001b[39;00m res\n",
      "File \u001b[1;32mc:\\Users\\Matthias Jenewein\\AppData\\Local\\Programs\\Python\\Python310\\lib\\site-packages\\neo4j\\_sync\\io\\_bolt5.py:369\u001b[0m, in \u001b[0;36mBolt5x0._process_message\u001b[1;34m(self, tag, fields)\u001b[0m\n\u001b[0;32m    367\u001b[0m \u001b[38;5;28mself\u001b[39m\u001b[38;5;241m.\u001b[39m_server_state_manager\u001b[38;5;241m.\u001b[39mstate \u001b[38;5;241m=\u001b[39m \u001b[38;5;28mself\u001b[39m\u001b[38;5;241m.\u001b[39mbolt_states\u001b[38;5;241m.\u001b[39mFAILED\n\u001b[0;32m    368\u001b[0m \u001b[38;5;28;01mtry\u001b[39;00m:\n\u001b[1;32m--> 369\u001b[0m     \u001b[43mresponse\u001b[49m\u001b[38;5;241;43m.\u001b[39;49m\u001b[43mon_failure\u001b[49m\u001b[43m(\u001b[49m\u001b[43msummary_metadata\u001b[49m\u001b[43m \u001b[49m\u001b[38;5;129;43;01mor\u001b[39;49;00m\u001b[43m \u001b[49m\u001b[43m{\u001b[49m\u001b[43m}\u001b[49m\u001b[43m)\u001b[49m\n\u001b[0;32m    370\u001b[0m \u001b[38;5;28;01mexcept\u001b[39;00m (ServiceUnavailable, DatabaseUnavailable):\n\u001b[0;32m    371\u001b[0m     \u001b[38;5;28;01mif\u001b[39;00m \u001b[38;5;28mself\u001b[39m\u001b[38;5;241m.\u001b[39mpool:\n",
      "File \u001b[1;32mc:\\Users\\Matthias Jenewein\\AppData\\Local\\Programs\\Python\\Python310\\lib\\site-packages\\neo4j\\_sync\\io\\_common.py:245\u001b[0m, in \u001b[0;36mResponse.on_failure\u001b[1;34m(self, metadata)\u001b[0m\n\u001b[0;32m    243\u001b[0m handler \u001b[38;5;241m=\u001b[39m \u001b[38;5;28mself\u001b[39m\u001b[38;5;241m.\u001b[39mhandlers\u001b[38;5;241m.\u001b[39mget(\u001b[38;5;124m\"\u001b[39m\u001b[38;5;124mon_summary\u001b[39m\u001b[38;5;124m\"\u001b[39m)\n\u001b[0;32m    244\u001b[0m Util\u001b[38;5;241m.\u001b[39mcallback(handler)\n\u001b[1;32m--> 245\u001b[0m \u001b[38;5;28;01mraise\u001b[39;00m Neo4jError\u001b[38;5;241m.\u001b[39mhydrate(\u001b[38;5;241m*\u001b[39m\u001b[38;5;241m*\u001b[39mmetadata)\n",
      "\u001b[1;31mCypherTypeError\u001b[0m: {code: Neo.ClientError.Statement.TypeError} {message: SUM(SlottedCachedNodeProperty(0,true,19,0)) can only handle numerical values, duration, or null.}"
     ]
    }
   ],
   "source": [
    "# Cypher-Abfrage definieren\n",
    "cypher_query = \"\"\"\n",
    "MATCH (i:Impf_Patient)\n",
    "RETURN i.datum AS Year, i.bezirkId AS opt,\n",
    "       CASE WHEN i.datum CONTAINS '2021' THEN sum(i.ersteImpfung) + sum(i.zweiteImpfung)\n",
    "            WHEN i.datum CONTAINS '2022' THEN sum(i.ersteImpfung) + sum(i.zweiteImpfung) + sum(i.dritteImpfung) + sum(i.vierteImpfung) + sum(i.mehrAlsVier)\n",
    "            WHEN i.datum CONTAINS '2023' THEN sum(i.ersteImpfung) + sum(i.zweiteImpfung) + sum(i.dritteImpfung) + sum(i.mehrAls3)\n",
    "       END as Vaccinations\n",
    "\"\"\"\n",
    "\n",
    "# Ergebnisse aus der Datenbank abrufen\n",
    "with driver.session() as session:\n",
    "    result = session.run(cypher_query)\n",
    "    df = pd.DataFrame([dict(record) for record in result])\n",
    "\n",
    "# Bundesland aus der Bezirks-ID extrahieren\n",
    "df['bundesland'] = df['opt'].apply(lambda x: int(str(x)[0]))\n",
    "\n",
    "# DataFrame pivotieren, um Jahre als Spalten zu haben\n",
    "df_pivot = df.pivot_table(index='bundesland', columns='Year', values='Vaccinations', aggfunc='sum')\n",
    "\n",
    "# Plot erstellen\n",
    "fig, ax = plt.subplots(figsize=(12, 6))\n",
    "\n",
    "colors = ['#1f77b4', '#ff7f0e', '#2ca02c']  # Farben für Jahre\n",
    "\n",
    "bar_width = 0.2\n",
    "for i, year in enumerate(df_pivot.columns):\n",
    "    x = df_pivot.index + i * bar_width  # x-Koordinaten für Balken\n",
    "    ax.bar(x, df_pivot[year], width=bar_width, label=year, color=colors[i % len(colors)])\n",
    "\n",
    "ax.set_title('Gesamtimpfungen über Jahre nach Bundesland')\n",
    "ax.set_xlabel('Bundesland')\n",
    "ax.set_ylabel('Anzahl der Impfungen')\n",
    "ax.set_xticks(df_pivot.index + (len(df_pivot.columns) - 1) * bar_width / 2)\n",
    "ax.set_xticklabels(['Burgenland', 'Kärnten', 'Niederösterreich', 'Oberösterreich',\n",
    "                    'Salzburg', 'Steiermark', 'Tirol', 'Vorarlberg', 'Wien'])\n",
    "ax.legend(title='Jahr')\n",
    "plt.tight_layout()\n",
    "plt.show()\n"
   ]
  },
  {
   "cell_type": "code",
   "execution_count": 93,
   "id": "da8e9949",
   "metadata": {},
   "outputs": [
    {
     "data": {
      "application/vnd.plotly.v1+json": {
       "config": {
        "plotlyServerURL": "https://plot.ly"
       },
       "data": [
        {
         "colorbar": {
          "title": {
           "text": "Anzahl der Befragten"
          }
         },
         "colorscale": [
          [
           0,
           "rgb(247,251,255)"
          ],
          [
           0.125,
           "rgb(222,235,247)"
          ],
          [
           0.25,
           "rgb(198,219,239)"
          ],
          [
           0.375,
           "rgb(158,202,225)"
          ],
          [
           0.5,
           "rgb(107,174,214)"
          ],
          [
           0.625,
           "rgb(66,146,198)"
          ],
          [
           0.75,
           "rgb(33,113,181)"
          ],
          [
           0.875,
           "rgb(8,81,156)"
          ],
          [
           1,
           "rgb(8,48,107)"
          ]
         ],
         "featureidkey": "properties.name",
         "geojson": {
          "crs": {
           "properties": {
            "name": "urn:ogc:def:crs:OGC:1.3:CRS84"
           },
           "type": "name"
          },
          "features": [
           {
            "geometry": {
             "coordinates": [
              [
               [
                [
                 12.708906048803351,
                 46.736370258232114
                ],
                [
                 12.687814998391627,
                 46.657687939565015
                ],
                [
                 12.62821625546327,
                 46.66210597394938
                ],
                [
                 12.548422273560332,
                 46.65947484467683
                ],
                [
                 12.424214927277898,
                 46.69980654007058
                ],
                [
                 12.374798258989214,
                 46.72301852722734
                ],
                [
                 12.35460834340331,
                 46.77568491587727
                ],
                [
                 12.306142163751153,
                 46.785705936866705
                ],
                [
                 12.289024792646087,
                 46.865910021407046
                ],
                [
                 12.27107091505439,
                 46.88493797950103
                ],
                [
                 12.215309947954404,
                 46.87446771907225
                ],
                [
                 12.165533736965445,
                 46.93900115687934
                ],
                [
                 12.135444934530662,
                 46.95718551698287
                ],
                [
                 12.118351563502069,
                 47.006780453973406
                ],
                [
                 12.144589646846239,
                 47.02561613327365
                ],
                [
                 12.202045768383902,
                 47.02769206781959
                ],
                [
                 12.237924613286085,
                 47.069884004190115
                ],
                [
                 12.280957414203254,
                 47.09326480647793
                ],
                [
                 12.342795704847681,
                 47.10998476028861
                ],
                [
                 12.360454539252105,
                 47.142098997698724
                ],
                [
                 12.396701690532645,
                 47.15351595995203
                ],
                [
                 12.462736611250595,
                 47.14506846369805
                ],
                [
                 12.48070043046074,
                 47.15855964154146
                ],
                [
                 12.563556470390875,
                 47.136739497405685
                ],
                [
                 12.5894168444659,
                 47.12558674595656
                ],
                [
                 12.654016066248188,
                 47.100231353836485
                ],
                [
                 12.707697515119014,
                 47.04914786384203
                ],
                [
                 12.752064972756102,
                 47.02557638523418
                ],
                [
                 12.73826593135879,
                 46.96970298983289
                ],
                [
                 12.756752974781406,
                 46.95732550566128
                ],
                [
                 12.78359041430831,
                 46.940276760811784
                ],
                [
                 12.790855801946638,
                 46.92719618819176
                ],
                [
                 12.805634318053574,
                 46.92331374882672
                ],
                [
                 12.819009511450858,
                 46.917531662989035
                ],
                [
                 12.838340668011002,
                 46.86169424249905
                ],
                [
                 12.89278121589817,
                 46.82652148783386
                ],
                [
                 12.90264695172511,
                 46.82334499490438
                ],
                [
                 12.904298041316295,
                 46.82338779024406
                ],
                [
                 12.960670629253963,
                 46.79936335184976
                ],
                [
                 12.928609757041915,
                 46.76475736834992
                ],
                [
                 12.896567448024967,
                 46.777562323716694
                ],
                [
                 12.854022169611744,
                 46.76088408544631
                ],
                [
                 12.83840776878861,
                 46.75005145771911
                ],
                [
                 12.807097813753057,
                 46.75699830816364
                ],
                [
                 12.793001465389452,
                 46.75605573563165
                ],
                [
                 12.745381295751143,
                 46.74816493301869
                ],
                [
                 12.708906048803351,
                 46.736370258232114
                ]
               ]
              ],
              [
               [
                [
                 10.621446193557658,
                 46.865129833771505
                ],
                [
                 10.567670311638754,
                 46.84312600058576
                ],
                [
                 10.466817101807274,
                 46.85563731032554
                ],
                [
                 10.461859818510101,
                 46.88500413143552
                ],
                [
                 10.486513742396113,
                 46.938512613423626
                ],
                [
                 10.453920431976055,
                 46.952130725004864
                ],
                [
                 10.386480665215979,
                 47.00124676440322
                ],
                [
                 10.346141472622726,
                 46.991333955227006
                ],
                [
                 10.294046176153982,
                 46.92067957879495
                ],
                [
                 10.2388600019946,
                 46.93235848521496
                ],
                [
                 10.229100082545589,
                 46.8674600446882
                ],
                [
                 10.142134531334351,
                 46.85173310139351
                ],
                [
                 10.095380369809417,
                 46.92808123012872
                ],
                [
                 10.15696699113046,
                 46.98447380186136
                ],
                [
                 10.131710106273683,
                 47.03007593651905
                ],
                [
                 10.130705085035299,
                 47.07861162544421
                ],
                [
                 10.210157276244534,
                 47.15830616955267
                ],
                [
                 10.208581427535876,
                 47.172052842700865
                ],
                [
                 10.194909802163204,
                 47.23730371456389
                ],
                [
                 10.175515804959819,
                 47.27083541340971
                ],
                [
                 10.229522455336305,
                 47.27124282735078
                ],
                [
                 10.263139502469024,
                 47.28879731342489
                ],
                [
                 10.345967022921542,
                 47.31822954598765
                ],
                [
                 10.39470273530341,
                 47.37759933682062
                ],
                [
                 10.433934189600418,
                 47.38108326198349
                ],
                [
                 10.435717385282741,
                 47.414262298769295
                ],
                [
                 10.467386132281675,
                 47.449250152438665
                ],
                [
                 10.460930568529879,
                 47.48345976455217
                ],
                [
                 10.432896912747138,
                 47.496085759022996
                ],
                [
                 10.451606268660269,
                 47.5565158960459
                ],
                [
                 10.48608214882319,
                 47.541123345902896
                ],
                [
                 10.49494077517394,
                 47.53982185422103
                ],
                [
                 10.52170443832089,
                 47.53588526029041
                ],
                [
                 10.560017708085406,
                 47.53677717184118
                ],
                [
                 10.59512557590957,
                 47.57045868150772
                ],
                [
                 10.675179690462913,
                 47.55695507424351
                ],
                [
                 10.73755124416664,
                 47.5392501933462
                ],
                [
                 10.760934072815889,
                 47.5203156477209
                ],
                [
                 10.887521284279195,
                 47.53800568248985
                ],
                [
                 10.883706183927114,
                 47.480880951846565
                ],
                [
                 10.929652859498093,
                 47.46875195999207
                ],
                [
                 10.9807847401356,
                 47.43073584204067
                ],
                [
                 10.988373470002166,
                 47.396849160997995
                ],
                [
                 11.013671491602462,
                 47.397086133818576
                ],
                [
                 11.0525460169938,
                 47.39668393224864
                ],
                [
                 11.097869829078155,
                 47.39511051066365
                ],
                [
                 11.202656984421157,
                 47.43460935986391
                ],
                [
                 11.219479238422403,
                 47.398065066527415
                ],
                [
                 11.269703523772494,
                 47.398689996725146
                ],
                [
                 11.288177067823016,
                 47.42777621575619
                ],
                [
                 11.333259151212076,
                 47.449348710557736
                ],
                [
                 11.418602198400968,
                 47.44556864007676
                ],
                [
                 11.388716308988093,
                 47.483158994288885
                ],
                [
                 11.446498747299188,
                 47.50794729087614
                ],
                [
                 11.569583796482195,
                 47.5152212776142
                ],
                [
                 11.597829189077459,
                 47.56857334499714
                ],
                [
                 11.655378728105196,
                 47.58483975499621
                ],
                [
                 11.772244891055076,
                 47.59111923429204
                ],
                [
                 11.844538310587,
                 47.58302152110163
                ],
                [
                 11.891469151198377,
                 47.60916262349546
                ],
                [
                 12.009937678897424,
                 47.623915322063155
                ],
                [
                 12.079529921310117,
                 47.6104586736182
                ],
                [
                 12.14662968633101,
                 47.609353336492454
                ],
                [
                 12.175320951558362,
                 47.60160342259396
                ],
                [
                 12.195595985396162,
                 47.64285407432214
                ],
                [
                 12.184026980293938,
                 47.65804441718302
                ],
                [
                 12.180651314626534,
                 47.70120062762335
                ],
                [
                 12.240330224610581,
                 47.69238467703806
                ],
                [
                 12.254361683792434,
                 47.679812739802
                ],
                [
                 12.324310078465027,
                 47.69608147950925
                ],
                [
                 12.33717443056712,
                 47.6910781928758
                ],
                [
                 12.437252407684086,
                 47.695932457970244
                ],
                [
                 12.437942165400903,
                 47.67460365242248
                ],
                [
                 12.496355889630921,
                 47.62581036913322
                ],
                [
                 12.522425020996293,
                 47.631461509939584
                ],
                [
                 12.572213000152678,
                 47.63302734283744
                ],
                [
                 12.571713210946912,
                 47.60570124217504
                ],
                [
                 12.650732825987651,
                 47.588739771087816
                ],
                [
                 12.62535195417081,
                 47.55025842621544
                ],
                [
                 12.651318336612611,
                 47.53748228560774
                ],
                [
                 12.662316157261458,
                 47.506781030711906
                ],
                [
                 12.696777382304528,
                 47.47859809099986
                ],
                [
                 12.629463336415112,
                 47.465777514603346
                ],
                [
                 12.629478377239565,
                 47.432807492676346
                ],
                [
                 12.621757739986972,
                 47.42322767010251
                ],
                [
                 12.575794307927712,
                 47.39321028987878
                ],
                [
                 12.542482549397553,
                 47.39875406995694
                ],
                [
                 12.503274276420276,
                 47.394842678075356
                ],
                [
                 12.476154094388688,
                 47.368943885527884
                ],
                [
                 12.492393544557732,
                 47.33812330074012
                ],
                [
                 12.47549976642619,
                 47.32710774589435
                ],
                [
                 12.37177067497208,
                 47.31202262451423
                ],
                [
                 12.33243725497615,
                 47.32923161071505
                ],
                [
                 12.29368730421171,
                 47.32880364491527
                ],
                [
                 12.261297429832275,
                 47.302924956931115
                ],
                [
                 12.25187573191091,
                 47.30867861955565
                ],
                [
                 12.21616138062162,
                 47.31184493836425
                ],
                [
                 12.161804090720976,
                 47.30225548421314
                ],
                [
                 12.11172562405633,
                 47.307158890850715
                ],
                [
                 12.075754696908119,
                 47.27589522045737
                ],
                [
                 12.107262767387029,
                 47.24110464334159
                ],
                [
                 12.0799689120931,
                 47.196434418696505
                ],
                [
                 12.090447365445778,
                 47.14676824315532
                ],
                [
                 12.133192576151718,
                 47.08138357679902
                ],
                [
                 12.017121405985966,
                 47.04778411332054
                ],
                [
                 11.976302948360514,
                 47.05071756822536
                ],
                [
                 11.871221080459375,
                 47.010795853416134
                ],
                [
                 11.761502559228102,
                 46.973467443400445
                ],
                [
                 11.708564156894194,
                 46.99396640682449
                ],
                [
                 11.661565928376545,
                 46.99265408144388
                ],
                [
                 11.62437336198879,
                 47.014017249269244
                ],
                [
                 11.58707436084756,
                 47.006113145263335
                ],
                [
                 11.535699669879767,
                 46.9847991350959
                ],
                [
                 11.475939460574509,
                 47.0116969716107
                ],
                [
                 11.43205135015384,
                 46.974812456332245
                ],
                [
                 11.398692874663546,
                 46.96569498502723
                ],
                [
                 11.356262359666182,
                 46.99091703234566
                ],
                [
                 11.317672499645997,
                 46.993090697138044
                ],
                [
                 11.24645582377226,
                 46.97489913417677
                ],
                [
                 11.161450501034402,
                 46.966442235048454
                ],
                [
                 11.152137670378973,
                 46.93474335229433
                ],
                [
                 11.112563878850608,
                 46.93220792675269
                ],
                [
                 11.069056213028512,
                 46.85672201174444
                ],
                [
                 11.080594534498601,
                 46.82325010558045
                ],
                [
                 11.033221878969464,
                 46.79460921420747
                ],
                [
                 11.01914495199923,
                 46.76662828387846
                ],
                [
                 10.915267525310016,
                 46.77569752888964
                ],
                [
                 10.880113888722828,
                 46.76356772659452
                ],
                [
                 10.793090242425658,
                 46.792036941378946
                ],
                [
                 10.761011171375584,
                 46.823350473631386
                ],
                [
                 10.69127276896304,
                 46.85287124599388
                ],
                [
                 10.664533079139378,
                 46.876212266836106
                ],
                [
                 10.621446193557658,
                 46.865129833771505
                ]
               ]
              ],
              [
               [
                [
                 10.451606268660269,
                 47.5565158960459
                ],
                [
                 10.43211614062269,
                 47.58434362891172
                ],
                [
                 10.466845068726881,
                 47.58784816659636
                ],
                [
                 10.451606268660269,
                 47.5565158960459
                ]
               ]
              ]
             ],
             "type": "MultiPolygon"
            },
            "properties": {
             "iso": "7",
             "name": "Tirol"
            },
            "type": "Feature"
           },
           {
            "geometry": {
             "coordinates": [
              [
               [
                [
                 10.131710106273683,
                 47.03007593651905
                ],
                [
                 10.15696699113046,
                 46.98447380186136
                ],
                [
                 10.095380369809417,
                 46.92808123012872
                ],
                [
                 10.142134531334351,
                 46.85173310139351
                ],
                [
                 10.084607822663017,
                 46.861924493419814
                ],
                [
                 9.975045857897188,
                 46.91661377194212
                ],
                [
                 9.943300382180304,
                 46.91308046235146
                ],
                [
                 9.873472458173548,
                 46.9358597522813
                ],
                [
                 9.88595733270574,
                 47.00145701328279
                ],
                [
                 9.790312411237773,
                 47.03197639952213
                ],
                [
                 9.705314358299798,
                 47.05355071067595
                ],
                [
                 9.674611092605879,
                 47.06213107256141
                ],
                [
                 9.604234693994679,
                 47.06149897975254
                ],
                [
                 9.63155980599962,
                 47.10181666977854
                ],
                [
                 9.617737867746301,
                 47.15236918432538
                ],
                [
                 9.57029884553658,
                 47.17642945369458
                ],
                [
                 9.581966650939734,
                 47.20529419545041
                ],
                [
                 9.527906274165764,
                 47.27130446534194
                ],
                [
                 9.556383781335274,
                 47.30091465843335
                ],
                [
                 9.585446891637062,
                 47.3182672826373
                ],
                [
                 9.593511040008812,
                 47.338242925141124
                ],
                [
                 9.616832692245142,
                 47.363157550504276
                ],
                [
                 9.646704609417956,
                 47.368168576420665
                ],
                [
                 9.670737857835704,
                 47.39201317736705
                ],
                [
                 9.649039609013167,
                 47.409514420679024
                ],
                [
                 9.656608880410563,
                 47.45210456370628
                ],
                [
                 9.604408048327947,
                 47.47105056049308
                ],
                [
                 9.590053123568174,
                 47.4666961752656
                ],
                [
                 9.559020177329709,
                 47.49735265730645
                ],
                [
                 9.575891483429718,
                 47.508236233244844
                ],
                [
                 9.61378241176977,
                 47.514851178860454
                ],
                [
                 9.637723710860172,
                 47.51902358905906
                ],
                [
                 9.665000937735615,
                 47.523770376211125
                ],
                [
                 9.729273360385836,
                 47.53444768379634
                ],
                [
                 9.752841469113573,
                 47.57288534772455
                ],
                [
                 9.773109717594943,
                 47.594125549008055
                ],
                [
                 9.817471623702062,
                 47.588360957551934
                ],
                [
                 9.826928505743602,
                 47.54525343563684
                ],
                [
                 9.871652054892266,
                 47.52925971450445
                ],
                [
                 9.877395933603122,
                 47.54863554637214
                ],
                [
                 9.962190659269536,
                 47.523721220675526
                ],
                [
                 9.996688566113756,
                 47.483737773966546
                ],
                [
                 10.034595458307908,
                 47.489898611763174
                ],
                [
                 10.101056495934124,
                 47.43122557134696
                ],
                [
                 10.070795318012706,
                 47.41515218607402
                ],
                [
                 10.094800257756095,
                 47.360579545574325
                ],
                [
                 10.097013498573132,
                 47.355482519485925
                ],
                [
                 10.11650965136806,
                 47.376335070568906
                ],
                [
                 10.166753684278076,
                 47.3720218050919
                ],
                [
                 10.19215131666309,
                 47.39008974130895
                ],
                [
                 10.234189635234534,
                 47.37437608647386
                ],
                [
                 10.169250645198016,
                 47.279800065458026
                ],
                [
                 10.175515804959819,
                 47.27083541340971
                ],
                [
                 10.194909802163204,
                 47.23730371456389
                ],
                [
                 10.208581427535876,
                 47.172052842700865
                ],
                [
                 10.210157276244534,
                 47.15830616955267
                ],
                [
                 10.130705085035299,
                 47.07861162544421
                ],
                [
                 10.131710106273683,
                 47.03007593651905
                ]
               ]
              ]
             ],
             "type": "MultiPolygon"
            },
            "properties": {
             "iso": "8",
             "name": "Vorarlberg"
            },
            "type": "Feature"
           },
           {
            "geometry": {
             "coordinates": [
              [
               [
                [
                 16.362860914712996,
                 48.12936740383815
                ],
                [
                 16.309429782935833,
                 48.12022714306248
                ],
                [
                 16.29577743156106,
                 48.126017999864594
                ],
                [
                 16.226346919323102,
                 48.12784698736299
                ],
                [
                 16.222751181809326,
                 48.12616536751681
                ],
                [
                 16.215319946458333,
                 48.12876260702782
                ],
                [
                 16.22042735257546,
                 48.15387843224085
                ],
                [
                 16.195198488648696,
                 48.155241722116926
                ],
                [
                 16.179122869495856,
                 48.17172505807664
                ],
                [
                 16.20461564491174,
                 48.20303439441751
                ],
                [
                 16.18239186839708,
                 48.22390134272117
                ],
                [
                 16.205295593469874,
                 48.264791213360155
                ],
                [
                 16.253842706615437,
                 48.24057601187154
                ],
                [
                 16.282784673675316,
                 48.25901822523876
                ],
                [
                 16.353184316827658,
                 48.284042653322786
                ],
                [
                 16.360411753940745,
                 48.28299603442784
                ],
                [
                 16.39239950424916,
                 48.323256351480374
                ],
                [
                 16.425226930412876,
                 48.32107384619422
                ],
                [
                 16.471936075452582,
                 48.276008516001454
                ],
                [
                 16.4994138251528,
                 48.291052237931495
                ],
                [
                 16.512124331592528,
                 48.28622670147884
                ],
                [
                 16.54420825354776,
                 48.26369178826104
                ],
                [
                 16.549971211397587,
                 48.23969285403885
                ],
                [
                 16.533509707881418,
                 48.177768384145324
                ],
                [
                 16.574217561105915,
                 48.14513007099916
                ],
                [
                 16.57325705011586,
                 48.13591277512623
                ],
                [
                 16.511013602174128,
                 48.1596215500773
                ],
                [
                 16.43344804359402,
                 48.13867258550262
                ],
                [
                 16.434246243952863,
                 48.12062596106924
                ],
                [
                 16.410046375913776,
                 48.118937473447055
                ],
                [
                 16.38556577135256,
                 48.12606494554488
                ],
                [
                 16.363113841196046,
                 48.129094678210095
                ],
                [
                 16.362860914712996,
                 48.12936740383815
                ]
               ]
              ]
             ],
             "type": "MultiPolygon"
            },
            "properties": {
             "iso": "9",
             "name": "Wien"
            },
            "type": "Feature"
           },
           {
            "geometry": {
             "coordinates": [
              [
               [
                [
                 16.06292885586225,
                 46.85059656895981
                ],
                [
                 15.993444557407093,
                 46.8361010228545
                ],
                [
                 15.999889799681938,
                 46.84759547874293
                ],
                [
                 16.02063565181343,
                 46.88863061392031
                ],
                [
                 16.032607364588106,
                 46.893565782674635
                ],
                [
                 16.051258370533102,
                 46.911077148922466
                ],
                [
                 16.0920023328516,
                 46.93504614362515
                ],
                [
                 16.092612098137973,
                 46.95473777555299
                ],
                [
                 16.104969698078822,
                 46.966031480721185
                ],
                [
                 16.151740961122126,
                 46.99151535103217
                ],
                [
                 16.142810831509557,
                 47.00050122374456
                ],
                [
                 16.12793859490346,
                 47.01282713383637
                ],
                [
                 16.0955744934835,
                 47.061767746088016
                ],
                [
                 16.08379119127893,
                 47.088540159123625
                ],
                [
                 16.09200488331858,
                 47.112900947470955
                ],
                [
                 16.11223706808718,
                 47.13389169512108
                ],
                [
                 16.106498791610996,
                 47.16748643081477
                ],
                [
                 16.099793329518068,
                 47.18435125977481
                ],
                [
                 16.08870982183728,
                 47.199163592268384
                ],
                [
                 16.090014113418867,
                 47.200610938367774
                ],
                [
                 16.083734166890213,
                 47.23424160111403
                ],
                [
                 16.07348043721224,
                 47.27232749291293
                ],
                [
                 16.071944319118813,
                 47.275387030187574
                ],
                [
                 16.055664585847495,
                 47.31082316246469
                ],
                [
                 16.05673238140275,
                 47.315391460800434
                ],
                [
                 16.031718176228672,
                 47.356307783280435
                ],
                [
                 16.027430487596547,
                 47.37210245401324
                ],
                [
                 16.031256102645052,
                 47.372894344310296
                ],
                [
                 16.02732620577123,
                 47.37998987335984
                ],
                [
                 16.055967976466043,
                 47.384506814206084
                ],
                [
                 16.05763297797225,
                 47.38493882757068
                ],
                [
                 16.081326072415987,
                 47.40985517946214
                ],
                [
                 16.113357185217723,
                 47.41457019243507
                ],
                [
                 16.138900969886,
                 47.41820793584231
                ],
                [
                 16.16225508757511,
                 47.421446209348034
                ],
                [
                 16.168984537359943,
                 47.42309851780552
                ],
                [
                 16.204232454542808,
                 47.42534545906766
                ],
                [
                 16.250379469394755,
                 47.44879197302711
                ],
                [
                 16.27829728927083,
                 47.45583072325187
                ],
                [
                 16.31803676050826,
                 47.49440856379773
                ],
                [
                 16.33689793466329,
                 47.51686862264116
                ],
                [
                 16.31343312313319,
                 47.54302902159353
                ],
                [
                 16.310899424541972,
                 47.54343328881605
                ],
                [
                 16.310379184086287,
                 47.56604267323226
                ],
                [
                 16.328181570547695,
                 47.59020133838872
                ],
                [
                 16.34157804623995,
                 47.603496687062126
                ],
                [
                 16.36972106462448,
                 47.643182430568785
                ],
                [
                 16.353910123786463,
                 47.680223516491566
                ],
                [
                 16.32098198217421,
                 47.684020871094084
                ],
                [
                 16.30626007036071,
                 47.68786961112027
                ],
                [
                 16.30633345433366,
                 47.69610853538658
                ],
                [
                 16.292270048199715,
                 47.71600852539431
                ],
                [
                 16.292853913209843,
                 47.74298347359984
                ],
                [
                 16.296561008927558,
                 47.76188094970652
                ],
                [
                 16.29560707465297,
                 47.762426246673286
                ],
                [
                 16.26596696179286,
                 47.79177241507691
                ],
                [
                 16.283111982106668,
                 47.812154047917055
                ],
                [
                 16.312839520214343,
                 47.78528870451298
                ],
                [
                 16.35197571862428,
                 47.82140801243818
                ],
                [
                 16.359575179437723,
                 47.82395074491146
                ],
                [
                 16.374408353813276,
                 47.82801619560718
                ],
                [
                 16.371726354412612,
                 47.85318242791672
                ],
                [
                 16.345205623935428,
                 47.86884180661631
                ],
                [
                 16.379864999603505,
                 47.87697313029638
                ],
                [
                 16.386112966164124,
                 47.88229641225812
                ],
                [
                 16.42002654599533,
                 47.90262218974607
                ],
                [
                 16.449579415505003,
                 47.934958462722626
                ],
                [
                 16.515899532448145,
                 47.944264537338306
                ],
                [
                 16.538264510538703,
                 47.920369002731974
                ],
                [
                 16.571232259949394,
                 47.88696873231212
                ],
                [
                 16.577502815389312,
                 47.889302841196105
                ],
                [
                 16.59453528022339,
                 47.90458679138213
                ],
                [
                 16.605575246026643,
                 47.913049268193646
                ],
                [
                 16.629303767916955,
                 47.93410193548187
                ],
                [
                 16.629113866608552,
                 47.934487523744856
                ],
                [
                 16.637013055109616,
                 47.94663617645925
                ],
                [
                 16.662417861038595,
                 47.95776385758359
                ],
                [
                 16.698409667384464,
                 47.974499943912654
                ],
                [
                 16.699325155015398,
                 48.01234541497467
                ],
                [
                 16.8224484323827,
                 48.029842217267436
                ],
                [
                 16.825388139976685,
                 48.029851275277565
                ],
                [
                 16.871311734331908,
                 48.07304320397352
                ],
                [
                 16.901505578559604,
                 48.07170756911927
                ],
                [
                 16.912439984108136,
                 48.0573978763389
                ],
                [
                 16.966191013958028,
                 48.02688375933133
                ],
                [
                 16.990966118475157,
                 48.04615674102818
                ],
                [
                 17.013523461741293,
                 48.07421258671947
                ],
                [
                 16.995991166528455,
                 48.084821275472564
                ],
                [
                 16.968312239323314,
                 48.10126385975401
                ],
                [
                 16.98377462656014,
                 48.112100974566474
                ],
                [
                 16.99508675688021,
                 48.109778326838715
                ],
                [
                 17.00437190427233,
                 48.09215768227161
                ],
                [
                 17.033224294610196,
                 48.0849940261275
                ],
                [
                 17.0639703389668,
                 48.119372977795
                ],
                [
                 17.067390953142212,
                 48.05770374615449
                ],
                [
                 17.072854908075506,
                 48.02824246222237
                ],
                [
                 17.10728240058563,
                 48.03192458486286
                ],
                [
                 17.15786908837973,
                 48.00722705356292
                ],
                [
                 17.09188970442628,
                 47.9715637746233
                ],
                [
                 17.114213572049977,
                 47.96159564440019
                ],
                [
                 17.10139670289824,
                 47.899952847634395
                ],
                [
                 17.075026504657576,
                 47.878239703521594
                ],
                [
                 17.008422643118024,
                 47.85809103152148
                ],
                [
                 17.04414003527141,
                 47.82904489461225
                ],
                [
                 17.067988587955945,
                 47.75064893321053
                ],
                [
                 17.068491944686123,
                 47.70734546518337
                ],
                [
                 17.037366782040753,
                 47.70501681009862
                ],
                [
                 16.956554676862233,
                 47.6934040684487
                ],
                [
                 16.86885591602544,
                 47.69079982555234
                ],
                [
                 16.864127728652694,
                 47.72233776522754
                ],
                [
                 16.825550790348405,
                 47.68343003857542
                ],
                [
                 16.746249931218795,
                 47.68212465361253
                ],
                [
                 16.737020305371466,
                 47.69594609890398
                ],
                [
                 16.718164802359098,
                 47.736029476109195
                ],
                [
                 16.654397498250383,
                 47.74225112165735
                ],
                [
                 16.631485811337217,
                 47.75974811334682
                ],
                [
                 16.61935403324121,
                 47.75793646235263
                ],
                [
                 16.588171540535217,
                 47.758657291005036
                ],
                [
                 16.539944205865016,
                 47.74304196274296
                ],
                [
                 16.534788735311388,
                 47.74069163948882
                ],
                [
                 16.5336858091214,
                 47.73733785616481
                ],
                [
                 16.494986821815136,
                 47.70411003711086
                ],
                [
                 16.44454765373676,
                 47.69700515540072
                ],
                [
                 16.418762235075995,
                 47.66599463668965
                ],
                [
                 16.419065734321073,
                 47.66540076884538
                ],
                [
                 16.447440481309574,
                 47.65649513553265
                ],
                [
                 16.49504641447893,
                 47.640047784040384
                ],
                [
                 16.513624617929747,
                 47.64607168961034
                ],
                [
                 16.587467933694693,
                 47.61815920186904
                ],
                [
                 16.650150250037502,
                 47.622933043767326
                ],
                [
                 16.660368296847604,
                 47.569398933656224
                ],
                [
                 16.70282078270522,
                 47.52388678306067
                ],
                [
                 16.649559959279543,
                 47.50103285908685
                ],
                [
                 16.6592441398403,
                 47.45639763988556
                ],
                [
                 16.609024577645982,
                 47.43232726685147
                ],
                [
                 16.585114694932837,
                 47.423478381971535
                ],
                [
                 16.572966932473676,
                 47.40705896891354
                ],
                [
                 16.455909694105863,
                 47.413685371410274
                ],
                [
                 16.45421358162934,
                 47.367931263774615
                ],
                [
                 16.430978378251755,
                 47.35361641726944
                ],
                [
                 16.460229585514284,
                 47.33650737722064
                ],
                [
                 16.47536651328228,
                 47.27580197324926
                ],
                [
                 16.42769378317476,
                 47.25105269418027
                ],
                [
                 16.41411312421021,
                 47.20603833787363
                ],
                [
                 16.418314416059623,
                 47.197824486953344
                ],
                [
                 16.45046806412569,
                 47.18882085596126
                ],
                [
                 16.451514619913517,
                 47.14300862345645
                ],
                [
                 16.497089227248306,
                 47.12411363545492
                ],
                [
                 16.461827485158516,
                 47.09965089474552
                ],
                [
                 16.48450167558544,
                 47.06953996729686
                ],
                [
                 16.4484602172117,
                 47.04078654143369
                ],
                [
                 16.489742666748867,
                 47.010867066630965
                ],
                [
                 16.424683505828202,
                 46.9938368845392
                ],
                [
                 16.38373849435677,
                 47.00112410683754
                ],
                [
                 16.34015105970244,
                 46.999794818816234
                ],
                [
                 16.319681953878646,
                 47.003264715475744
                ],
                [
                 16.29948484882968,
                 46.999134689026306
                ],
                [
                 16.29595589732107,
                 47.00677492785637
                ],
                [
                 16.286511552627722,
                 47.01412270172017
                ],
                [
                 16.252534754682205,
                 46.96490969573436
                ],
                [
                 16.20724352130954,
                 46.94320062412089
                ],
                [
                 16.19475542672988,
                 46.940658521397594
                ],
                [
                 16.176434891954955,
                 46.907343743319686
                ],
                [
                 16.089141127913905,
                 46.86528228567972
                ],
                [
                 16.06292885586225,
                 46.85059656895981
                ]
               ]
              ]
             ],
             "type": "MultiPolygon"
            },
            "properties": {
             "iso": "1",
             "name": "Burgenland"
            },
            "type": "Feature"
           },
           {
            "geometry": {
             "coordinates": [
              [
               [
                [
                 14.431692925911257,
                 46.44365425302772
                ],
                [
                 14.305342799404816,
                 46.431338016743794
                ],
                [
                 14.28039112325805,
                 46.444209047511066
                ],
                [
                 14.234377009537496,
                 46.43292966140553
                ],
                [
                 14.188290480159955,
                 46.44463875719028
                ],
                [
                 14.151832852705116,
                 46.43638612801249
                ],
                [
                 14.108624532282356,
                 46.479516018884404
                ],
                [
                 14.047936696941981,
                 46.49390231330789
                ],
                [
                 14.003683669933451,
                 46.482070900703945
                ],
                [
                 13.972825007641028,
                 46.498978509036355
                ],
                [
                 13.909152198216141,
                 46.52184892138495
                ],
                [
                 13.796129488432994,
                 46.50725382920029
                ],
                [
                 13.6883135349986,
                 46.52171292062461
                ],
                [
                 13.619081134351674,
                 46.542909931771035
                ],
                [
                 13.511982045177659,
                 46.54952811507516
                ],
                [
                 13.50143526403357,
                 46.56701736426058
                ],
                [
                 13.420670044436319,
                 46.55928901690671
                ],
                [
                 13.369421917320153,
                 46.57998709766953
                ],
                [
                 13.319276323709943,
                 46.55392028719338
                ],
                [
                 13.249993269013684,
                 46.5611940504026
                ],
                [
                 13.165783664211574,
                 46.589614349290045
                ],
                [
                 13.084789000801713,
                 46.60197302792549
                ],
                [
                 13.06781896006076,
                 46.600231131949634
                ],
                [
                 13.029760059273684,
                 46.596731636449576
                ],
                [
                 12.93075056680859,
                 46.6104151416533
                ],
                [
                 12.887392948554197,
                 46.607939085915575
                ],
                [
                 12.830858429966487,
                 46.61060259950278
                ],
                [
                 12.773114549599189,
                 46.647408684654124
                ],
                [
                 12.728569302262331,
                 46.635007776264885
                ],
                [
                 12.687814998391627,
                 46.657687939565015
                ],
                [
                 12.708906048803351,
                 46.736370258232114
                ],
                [
                 12.745381295751143,
                 46.74816493301869
                ],
                [
                 12.793001465389452,
                 46.75605573563165
                ],
                [
                 12.807097813753057,
                 46.75699830816364
                ],
                [
                 12.83840776878861,
                 46.75005145771911
                ],
                [
                 12.854022169611744,
                 46.76088408544631
                ],
                [
                 12.896567448024967,
                 46.777562323716694
                ],
                [
                 12.928609757041915,
                 46.76475736834992
                ],
                [
                 12.960670629253963,
                 46.79936335184976
                ],
                [
                 12.904298041316295,
                 46.82338779024406
                ],
                [
                 12.90264695172511,
                 46.82334499490438
                ],
                [
                 12.89278121589817,
                 46.82652148783386
                ],
                [
                 12.838340668011002,
                 46.86169424249905
                ],
                [
                 12.819009511450858,
                 46.917531662989035
                ],
                [
                 12.805634318053574,
                 46.92331374882672
                ],
                [
                 12.790855801946638,
                 46.92719618819176
                ],
                [
                 12.78359041430831,
                 46.940276760811784
                ],
                [
                 12.756752974781406,
                 46.95732550566128
                ],
                [
                 12.73826593135879,
                 46.96970298983289
                ],
                [
                 12.752064972756102,
                 47.02557638523418
                ],
                [
                 12.707697515119014,
                 47.04914786384203
                ],
                [
                 12.654016066248188,
                 47.100231353836485
                ],
                [
                 12.663320495046412,
                 47.12354691699273
                ],
                [
                 12.728080438914334,
                 47.13170610856031
                ],
                [
                 12.736033033360467,
                 47.10102981945141
                ],
                [
                 12.817464537284497,
                 47.09837715608704
                ],
                [
                 12.934473141851598,
                 47.07671988824226
                ],
                [
                 12.950189502492924,
                 47.0499694167178
                ],
                [
                 12.982537409143534,
                 47.036315422559284
                ],
                [
                 13.000275721836859,
                 47.04458431950818
                ],
                [
                 13.070207373241482,
                 47.01412404171541
                ],
                [
                 13.077521976587828,
                 47.02752186224722
                ],
                [
                 13.245313561168297,
                 47.05128768878815
                ],
                [
                 13.274503599910444,
                 47.095862267896415
                ],
                [
                 13.35170799917132,
                 47.09781536481606
                ],
                [
                 13.403554866604855,
                 47.06996352363297
                ],
                [
                 13.424763290456012,
                 47.0820862928719
                ],
                [
                 13.591419662691269,
                 47.056673264809525
                ],
                [
                 13.634826979627563,
                 47.056210337271956
                ],
                [
                 13.683729312368797,
                 47.04052982514287
                ],
                [
                 13.696406737061356,
                 47.00399643062416
                ],
                [
                 13.768931487558667,
                 46.97779355575246
                ],
                [
                 13.781858253483055,
                 46.944566726240176
                ],
                [
                 13.812548725751137,
                 46.91922079716213
                ],
                [
                 13.879060825088889,
                 46.91852569455783
                ],
                [
                 13.94391568309175,
                 46.941339953575834
                ],
                [
                 13.965353819946968,
                 46.96375750198801
                ],
                [
                 14.013625887190985,
                 46.989780922491505
                ],
                [
                 14.076338288515274,
                 47.02273881391121
                ],
                [
                 14.129757610613044,
                 47.06305077344774
                ],
                [
                 14.158799840554162,
                 47.05312008248935
                ],
                [
                 14.19962181928544,
                 47.0766044867391
                ],
                [
                 14.232236104985565,
                 47.02653071848637
                ],
                [
                 14.234893334266026,
                 47.02906133305401
                ],
                [
                 14.327397088037056,
                 47.02984590762905
                ],
                [
                 14.42739604891257,
                 47.00118650442543
                ],
                [
                 14.4690500355669,
                 47.00841794284422
                ],
                [
                 14.583124270383646,
                 47.0124232984338
                ],
                [
                 14.612463774440057,
                 46.998655758835234
                ],
                [
                 14.624948149152406,
                 47.01428298253796
                ],
                [
                 14.695861526766844,
                 47.01698773271139
                ],
                [
                 14.771524903004831,
                 47.04001782848264
                ],
                [
                 14.841676489061658,
                 47.048805304818195
                ],
                [
                 14.84417882509954,
                 47.03364454740318
                ],
                [
                 14.882741006492154,
                 47.01187740670246
                ],
                [
                 14.964149997281826,
                 46.982472194636294
                ],
                [
                 15.024207631891255,
                 46.910440804398895
                ],
                [
                 15.012112493120615,
                 46.881946353479314
                ],
                [
                 15.005425055975238,
                 46.880570359407294
                ],
                [
                 15.016832434338669,
                 46.844960815216176
                ],
                [
                 14.973464266422333,
                 46.785491239529
                ],
                [
                 14.993871884429375,
                 46.78153279916539
                ],
                [
                 15.028749900382708,
                 46.746421499326736
                ],
                [
                 15.039478767649438,
                 46.72158463624366
                ],
                [
                 15.021723960006229,
                 46.67044019676584
                ],
                [
                 15.062313842013335,
                 46.65277657493685
                ],
                [
                 15.013368241990358,
                 46.641529001273476
                ],
                [
                 14.976576037392586,
                 46.60210463029701
                ],
                [
                 14.952874555691627,
                 46.63343538070825
                ],
                [
                 14.920242590075713,
                 46.60395521961447
                ],
                [
                 14.87686361624382,
                 46.61195597427698
                ],
                [
                 14.819946564830833,
                 46.53525123161495
                ],
                [
                 14.815810830087,
                 46.51009850020857
                ],
                [
                 14.756288397793044,
                 46.50515144573579
                ],
                [
                 14.711967345197497,
                 46.50065880758124
                ],
                [
                 14.696326755027028,
                 46.4643026251442
                ],
                [
                 14.537070079808835,
                 46.41230158735734
                ],
                [
                 14.443957445302393,
                 46.42230367767151
                ],
                [
                 14.431692925911257,
                 46.44365425302772
                ]
               ]
              ]
             ],
             "type": "MultiPolygon"
            },
            "properties": {
             "iso": "2",
             "name": "Kaernten"
            },
            "type": "Feature"
           },
           {
            "geometry": {
             "coordinates": [
              [
               [
                [
                 16.250379469394755,
                 47.44879197302711
                ],
                [
                 16.204232454542808,
                 47.42534545906766
                ],
                [
                 16.168984537359943,
                 47.42309851780552
                ],
                [
                 16.13519069023434,
                 47.46213595254102
                ],
                [
                 16.108419408036877,
                 47.52267217535619
                ],
                [
                 16.084613735772102,
                 47.50785604821462
                ],
                [
                 16.062303772060602,
                 47.487035116629556
                ],
                [
                 15.997287113811915,
                 47.516538148561374
                ],
                [
                 15.955735933816998,
                 47.518553434992604
                ],
                [
                 15.917716205195124,
                 47.53071767551388
                ],
                [
                 15.911075331820498,
                 47.53112632814445
                ],
                [
                 15.902627080805715,
                 47.56050479117799
                ],
                [
                 15.844224479544629,
                 47.56848860973404
                ],
                [
                 15.85778105484603,
                 47.617376268322836
                ],
                [
                 15.837512602790229,
                 47.61880014884725
                ],
                [
                 15.778544678678688,
                 47.64299940448292
                ],
                [
                 15.739522772636551,
                 47.642908508568475
                ],
                [
                 15.72231622717731,
                 47.6471548134285
                ],
                [
                 15.716360145031679,
                 47.71058281328566
                ],
                [
                 15.675945114743612,
                 47.69969487804562
                ],
                [
                 15.63317312259398,
                 47.716120757997125
                ],
                [
                 15.608925525753648,
                 47.75178605106096
                ],
                [
                 15.51100145314899,
                 47.74725153227008
                ],
                [
                 15.503824297663224,
                 47.76849707072922
                ],
                [
                 15.458173341840908,
                 47.770446655783324
                ],
                [
                 15.376750891518832,
                 47.82424031724305
                ],
                [
                 15.343100790488187,
                 47.826458307274905
                ],
                [
                 15.342419192626412,
                 47.8263742451942
                ],
                [
                 15.297045639104294,
                 47.8217441428425
                ],
                [
                 15.286082617985503,
                 47.79187864761831
                ],
                [
                 15.214516325735632,
                 47.79672841493683
                ],
                [
                 15.196587995010171,
                 47.75412792009144
                ],
                [
                 15.132045631353076,
                 47.75870100875711
                ],
                [
                 15.086457681336192,
                 47.74217222908681
                ],
                [
                 15.031926069993437,
                 47.75344200233826
                ],
                [
                 14.970044350325894,
                 47.744303408961784
                ],
                [
                 14.898419706847834,
                 47.711530267676075
                ],
                [
                 14.85526693611768,
                 47.7411939788452
                ],
                [
                 14.815521484791581,
                 47.74490961049843
                ],
                [
                 14.764254891795062,
                 47.7270126926241
                ],
                [
                 14.73566808338259,
                 47.749426793777985
                ],
                [
                 14.70908265136549,
                 47.7907888318586
                ],
                [
                 14.707199855307106,
                 47.85134395356477
                ],
                [
                 14.759948034358755,
                 47.87294189127239
                ],
                [
                 14.766758218261662,
                 47.88031598057858
                ],
                [
                 14.725084760353196,
                 47.935665590452615
                ],
                [
                 14.667816193597279,
                 47.93544154897088
                ],
                [
                 14.646271824385098,
                 47.942846942149735
                ],
                [
                 14.613423048698143,
                 47.94880206559831
                ],
                [
                 14.552335912421619,
                 47.98056368741308
                ],
                [
                 14.489303378556682,
                 48.01155203960905
                ],
                [
                 14.453328788357997,
                 48.04373968089135
                ],
                [
                 14.456054223911236,
                 48.07471409261751
                ],
                [
                 14.45511611401903,
                 48.08939123399559
                ],
                [
                 14.476249613684136,
                 48.10511664536289
                ],
                [
                 14.490160602378694,
                 48.11066844412551
                ],
                [
                 14.46511946673231,
                 48.148296658581444
                ],
                [
                 14.480047265119381,
                 48.172261697684455
                ],
                [
                 14.479323305252938,
                 48.17919735664716
                ],
                [
                 14.47815826291343,
                 48.202624776750156
                ],
                [
                 14.512754675251516,
                 48.23476123119458
                ],
                [
                 14.518386993837433,
                 48.238310752577775
                ],
                [
                 14.55807323829416,
                 48.231687424757496
                ],
                [
                 14.620464597522956,
                 48.191385824204254
                ],
                [
                 14.640839520032836,
                 48.17594383171885
                ],
                [
                 14.685579357914088,
                 48.15799181197546
                ],
                [
                 14.71249549298957,
                 48.17936993754109
                ],
                [
                 14.75880317196169,
                 48.178278333262355
                ],
                [
                 14.7662172367989,
                 48.179814509183586
                ],
                [
                 14.837515898992754,
                 48.19443533879205
                ],
                [
                 14.853860494650831,
                 48.21202671893576
                ],
                [
                 14.882880860379144,
                 48.23345935719385
                ],
                [
                 14.941654295692935,
                 48.227976825078045
                ],
                [
                 14.959655590894204,
                 48.2030813602234
                ],
                [
                 14.9713677938265,
                 48.199533558138796
                ],
                [
                 14.9493765953804,
                 48.21983256245666
                ],
                [
                 14.967176679359643,
                 48.246454313680665
                ],
                [
                 14.989257710600386,
                 48.25662772166145
                ],
                [
                 14.98229724223215,
                 48.299809064582774
                ],
                [
                 14.940899818669662,
                 48.324346429341
                ],
                [
                 14.944696456681836,
                 48.334060909925796
                ],
                [
                 14.961661862276186,
                 48.37921100464351
                ],
                [
                 14.95359394767566,
                 48.392005112113246
                ],
                [
                 14.925412208947593,
                 48.424502749993884
                ],
                [
                 14.908937674498883,
                 48.43537910048248
                ],
                [
                 14.874229757250031,
                 48.46507772877569
                ],
                [
                 14.91817106851184,
                 48.506423610629525
                ],
                [
                 14.872313402415301,
                 48.52844246254901
                ],
                [
                 14.808355569985297,
                 48.55445214731674
                ],
                [
                 14.733512866405684,
                 48.553484172246414
                ],
                [
                 14.688226952664776,
                 48.58500109238852
                ],
                [
                 14.718354997522574,
                 48.603076705437715
                ],
                [
                 14.719335904651496,
                 48.63908058379089
                ],
                [
                 14.720672548060689,
                 48.67639835335183
                ],
                [
                 14.738011793297394,
                 48.70201358776005
                ],
                [
                 14.80535366479332,
                 48.734578392881396
                ],
                [
                 14.826505263821442,
                 48.78118462355596
                ],
                [
                 14.878515393980718,
                 48.78080325481152
                ],
                [
                 14.96095802937347,
                 48.76384768746768
                ],
                [
                 14.96696038109277,
                 48.824599254268456
                ],
                [
                 14.985075129117067,
                 48.895943317304145
                ],
                [
                 14.973715380388786,
                 48.956519350294435
                ],
                [
                 14.995047359971757,
                 48.99265310857604
                ],
                [
                 15.018951011986436,
                 49.021160570100974
                ],
                [
                 15.102862904426933,
                 48.996901065404224
                ],
                [
                 15.15585995053525,
                 48.990604496273136
                ],
                [
                 15.157467543278031,
                 48.94238199302791
                ],
                [
                 15.221669314475886,
                 48.960834559976554
                ],
                [
                 15.258669983287632,
                 48.95461799799502
                ],
                [
                 15.288251143314094,
                 48.98500701379043
                ],
                [
                 15.318956553726645,
                 48.97681832333384
                ],
                [
                 15.364197726131652,
                 48.98257139274837
                ],
                [
                 15.42675608545628,
                 48.95188253615465
                ],
                [
                 15.465710717754735,
                 48.95250650920895
                ],
                [
                 15.510610351038196,
                 48.914811254519044
                ],
                [
                 15.584317685813051,
                 48.89668056387212
                ],
                [
                 15.616816384821187,
                 48.896298413540016
                ],
                [
                 15.68979805612949,
                 48.85622182399376
                ],
                [
                 15.750881335199988,
                 48.85286553641451
                ],
                [
                 15.776751556907506,
                 48.87557410899057
                ],
                [
                 15.824799733754151,
                 48.87173809257282
                ],
                [
                 15.967289442397114,
                 48.79600999173755
                ],
                [
                 16.06189523534486,
                 48.75554032964282
                ],
                [
                 16.086203511193652,
                 48.748515658553934
                ],
                [
                 16.100111483084625,
                 48.74608853301508
                ],
                [
                 16.14711359989114,
                 48.74388583401482
                ],
                [
                 16.220728389706213,
                 48.74079591508512
                ],
                [
                 16.270246299768875,
                 48.74196866816831
                ],
                [
                 16.35699545719752,
                 48.72875891866815
                ],
                [
                 16.425453394516435,
                 48.76333870658652
                ],
                [
                 16.432228250167324,
                 48.76632072783392
                ],
                [
                 16.445926809612626,
                 48.80006951889997
                ],
                [
                 16.53128201340749,
                 48.811517501346984
                ],
                [
                 16.59046297544054,
                 48.78348303632656
                ],
                [
                 16.6486497365074,
                 48.78583664445341
                ],
                [
                 16.679775730542573,
                 48.72877701111707
                ],
                [
                 16.679817776884818,
                 48.728482535918694
                ],
                [
                 16.744512212590028,
                 48.73280794703052
                ],
                [
                 16.757694009288155,
                 48.71748037802902
                ],
                [
                 16.90288051310717,
                 48.71465362866254
                ],
                [
                 16.90771280899858,
                 48.67938070352061
                ],
                [
                 16.925637128813538,
                 48.63957995053511
                ],
                [
                 16.932088347684548,
                 48.602928166820696
                ],
                [
                 16.935745550204242,
                 48.5660678099936
                ],
                [
                 16.918697640430135,
                 48.51646483655429
                ],
                [
                 16.877946595193354,
                 48.47817228864426
                ],
                [
                 16.84837565916137,
                 48.43932234589058
                ],
                [
                 16.859357845974603,
                 48.41826107204193
                ],
                [
                 16.8394258681644,
                 48.36082317296454
                ],
                [
                 16.904578010832964,
                 48.327419832777174
                ],
                [
                 16.897937963088,
                 48.298573169937285
                ],
                [
                 16.949336383327477,
                 48.25837219940928
                ],
                [
                 16.959323827464573,
                 48.21818137235134
                ],
                [
                 16.97334065223632,
                 48.17295812671726
                ],
                [
                 16.99678075091509,
                 48.15929581523624
                ],
                [
                 17.059408008536607,
                 48.12371991846312
                ],
                [
                 17.0639703389668,
                 48.119372977795
                ],
                [
                 17.033224294610196,
                 48.0849940261275
                ],
                [
                 17.00437190427233,
                 48.09215768227161
                ],
                [
                 16.99508675688021,
                 48.109778326838715
                ],
                [
                 16.98377462656014,
                 48.112100974566474
                ],
                [
                 16.968312239323314,
                 48.10126385975401
                ],
                [
                 16.995991166528455,
                 48.084821275472564
                ],
                [
                 17.013523461741293,
                 48.07421258671947
                ],
                [
                 16.990966118475157,
                 48.04615674102818
                ],
                [
                 16.966191013958028,
                 48.02688375933133
                ],
                [
                 16.912439984108136,
                 48.0573978763389
                ],
                [
                 16.901505578559604,
                 48.07170756911927
                ],
                [
                 16.871311734331908,
                 48.07304320397352
                ],
                [
                 16.825388139976685,
                 48.029851275277565
                ],
                [
                 16.8224484323827,
                 48.029842217267436
                ],
                [
                 16.699325155015398,
                 48.01234541497467
                ],
                [
                 16.698409667384464,
                 47.974499943912654
                ],
                [
                 16.662417861038595,
                 47.95776385758359
                ],
                [
                 16.637013055109616,
                 47.94663617645925
                ],
                [
                 16.629113866608552,
                 47.934487523744856
                ],
                [
                 16.629303767916955,
                 47.93410193548187
                ],
                [
                 16.605575246026643,
                 47.913049268193646
                ],
                [
                 16.59453528022339,
                 47.90458679138213
                ],
                [
                 16.577502815389312,
                 47.889302841196105
                ],
                [
                 16.571232259949394,
                 47.88696873231212
                ],
                [
                 16.538264510538703,
                 47.920369002731974
                ],
                [
                 16.515899532448145,
                 47.944264537338306
                ],
                [
                 16.449579415505003,
                 47.934958462722626
                ],
                [
                 16.42002654599533,
                 47.90262218974607
                ],
                [
                 16.386112966164124,
                 47.88229641225812
                ],
                [
                 16.379864999603505,
                 47.87697313029638
                ],
                [
                 16.345205623935428,
                 47.86884180661631
                ],
                [
                 16.371726354412612,
                 47.85318242791672
                ],
                [
                 16.374408353813276,
                 47.82801619560718
                ],
                [
                 16.359575179437723,
                 47.82395074491146
                ],
                [
                 16.35197571862428,
                 47.82140801243818
                ],
                [
                 16.312839520214343,
                 47.78528870451298
                ],
                [
                 16.283111982106668,
                 47.812154047917055
                ],
                [
                 16.26596696179286,
                 47.79177241507691
                ],
                [
                 16.29560707465297,
                 47.762426246673286
                ],
                [
                 16.296561008927558,
                 47.76188094970652
                ],
                [
                 16.292853913209843,
                 47.74298347359984
                ],
                [
                 16.292270048199715,
                 47.71600852539431
                ],
                [
                 16.30633345433366,
                 47.69610853538658
                ],
                [
                 16.30626007036071,
                 47.68786961112027
                ],
                [
                 16.32098198217421,
                 47.684020871094084
                ],
                [
                 16.353910123786463,
                 47.680223516491566
                ],
                [
                 16.36972106462448,
                 47.643182430568785
                ],
                [
                 16.34157804623995,
                 47.603496687062126
                ],
                [
                 16.328181570547695,
                 47.59020133838872
                ],
                [
                 16.310379184086287,
                 47.56604267323226
                ],
                [
                 16.310899424541972,
                 47.54343328881605
                ],
                [
                 16.31343312313319,
                 47.54302902159353
                ],
                [
                 16.33689793466329,
                 47.51686862264116
                ],
                [
                 16.31803676050826,
                 47.49440856379773
                ],
                [
                 16.27829728927083,
                 47.45583072325187
                ],
                [
                 16.250379469394755,
                 47.44879197302711
                ]
               ],
               [
                [
                 16.205295593469874,
                 48.264791213360155
                ],
                [
                 16.18239186839708,
                 48.22390134272117
                ],
                [
                 16.20461564491174,
                 48.20303439441751
                ],
                [
                 16.179122869495856,
                 48.17172505807664
                ],
                [
                 16.195198488648696,
                 48.155241722116926
                ],
                [
                 16.22042735257546,
                 48.15387843224085
                ],
                [
                 16.215319946458333,
                 48.12876260702782
                ],
                [
                 16.222751181809326,
                 48.12616536751681
                ],
                [
                 16.226346919323102,
                 48.12784698736299
                ],
                [
                 16.29577743156106,
                 48.126017999864594
                ],
                [
                 16.309429782935833,
                 48.12022714306248
                ],
                [
                 16.362860914712996,
                 48.12936740383815
                ],
                [
                 16.363113841196046,
                 48.129094678210095
                ],
                [
                 16.38556577135256,
                 48.12606494554488
                ],
                [
                 16.410046375913776,
                 48.118937473447055
                ],
                [
                 16.434246243952863,
                 48.12062596106924
                ],
                [
                 16.43344804359402,
                 48.13867258550262
                ],
                [
                 16.511013602174128,
                 48.1596215500773
                ],
                [
                 16.57325705011586,
                 48.13591277512623
                ],
                [
                 16.574217561105915,
                 48.14513007099916
                ],
                [
                 16.533509707881418,
                 48.177768384145324
                ],
                [
                 16.549971211397587,
                 48.23969285403885
                ],
                [
                 16.54420825354776,
                 48.26369178826104
                ],
                [
                 16.512124331592528,
                 48.28622670147884
                ],
                [
                 16.4994138251528,
                 48.291052237931495
                ],
                [
                 16.471936075452582,
                 48.276008516001454
                ],
                [
                 16.425226930412876,
                 48.32107384619422
                ],
                [
                 16.39239950424916,
                 48.323256351480374
                ],
                [
                 16.360411753940745,
                 48.28299603442784
                ],
                [
                 16.353184316827658,
                 48.284042653322786
                ],
                [
                 16.282784673675316,
                 48.25901822523876
                ],
                [
                 16.253842706615437,
                 48.24057601187154
                ],
                [
                 16.205295593469874,
                 48.264791213360155
                ]
               ]
              ]
             ],
             "type": "MultiPolygon"
            },
            "properties": {
             "iso": "3",
             "name": "Niederoesterreich"
            },
            "type": "Feature"
           },
           {
            "geometry": {
             "coordinates": [
              [
               [
                [
                 13.691787532748462,
                 47.57998041592989
                ],
                [
                 13.732654022442613,
                 47.57773034335252
                ],
                [
                 13.757865107283767,
                 47.5210073854116
                ],
                [
                 13.74632626158727,
                 47.50232005685372
                ],
                [
                 13.719754990487411,
                 47.46281999761018
                ],
                [
                 13.605942430202054,
                 47.47584573560712
                ],
                [
                 13.602876972006017,
                 47.475896454616894
                ],
                [
                 13.582856450628059,
                 47.47550827496876
                ],
                [
                 13.51336171370177,
                 47.49721345287628
                ],
                [
                 13.47393478304975,
                 47.531024630060806
                ],
                [
                 13.478469659926446,
                 47.562433763605
                ],
                [
                 13.51747441347207,
                 47.62388895672504
                ],
                [
                 13.487057210977767,
                 47.63103549735677
                ],
                [
                 13.514140817579701,
                 47.67624104126502
                ],
                [
                 13.548063967268417,
                 47.71482345429212
                ],
                [
                 13.433469015572669,
                 47.73925871047796
                ],
                [
                 13.462474874718307,
                 47.7868595313544
                ],
                [
                 13.532580670419073,
                 47.77684447891034
                ],
                [
                 13.5266703981245,
                 47.797732246245786
                ],
                [
                 13.44761088071781,
                 47.804451135674846
                ],
                [
                 13.395275767028675,
                 47.79860057191996
                ],
                [
                 13.348156258606874,
                 47.810649045104206
                ],
                [
                 13.309401296692693,
                 47.8135364131342
                ],
                [
                 13.290325527302539,
                 47.86446689504523
                ],
                [
                 13.267308525551996,
                 47.89213552582762
                ],
                [
                 13.278323565236123,
                 47.90534293936875
                ],
                [
                 13.27748367233546,
                 47.95542212434089
                ],
                [
                 13.30473321992954,
                 47.96472179538623
                ],
                [
                 13.355740647248055,
                 47.940468302241094
                ],
                [
                 13.360320994161707,
                 47.94478873157334
                ],
                [
                 13.368852912648117,
                 47.9726880695492
                ],
                [
                 13.301126898814976,
                 48.00857637935583
                ],
                [
                 13.209901470411149,
                 47.98317470618085
                ],
                [
                 13.20707267531659,
                 47.979650150038374
                ],
                [
                 13.195874250533201,
                 47.974880264576974
                ],
                [
                 13.142370975421642,
                 47.97505273345684
                ],
                [
                 13.12144503777586,
                 47.99688921221891
                ],
                [
                 13.101131942650055,
                 47.997459459925935
                ],
                [
                 13.09995818793229,
                 47.99826928865161
                ],
                [
                 13.054856938977494,
                 48.01399941780563
                ],
                [
                 13.044399891734093,
                 48.027968838524316
                ],
                [
                 13.044189302795095,
                 48.03806907306838
                ],
                [
                 13.009492383988002,
                 48.03721884633031
                ],
                [
                 12.986804806863335,
                 48.02854596229712
                ],
                [
                 12.936698792726006,
                 48.037115468453756
                ],
                [
                 12.935265163581597,
                 48.0366690206478
                ],
                [
                 12.889187330800945,
                 47.991719778098854
                ],
                [
                 12.857373111808512,
                 47.99734890974755
                ],
                [
                 12.83118509068697,
                 48.0287719771843
                ],
                [
                 12.767673450093653,
                 48.06665677116696
                ],
                [
                 12.747826656014277,
                 48.100304100647094
                ],
                [
                 12.790346772329324,
                 48.13315744537651
                ],
                [
                 12.845252918438023,
                 48.16856968273441
                ],
                [
                 12.870881070167139,
                 48.203182106974296
                ],
                [
                 12.952378942158441,
                 48.20967364184935
                ],
                [
                 13.015391671626906,
                 48.25703851753609
                ],
                [
                 13.061375271190983,
                 48.27004501197854
                ],
                [
                 13.139822670863945,
                 48.28359704154739
                ],
                [
                 13.192688191200137,
                 48.296170250328196
                ],
                [
                 13.25088294137018,
                 48.29386175367304
                ],
                [
                 13.311682411530184,
                 48.31712769524386
                ],
                [
                 13.338548653413923,
                 48.33239741106821
                ],
                [
                 13.341050019387982,
                 48.33418792108856
                ],
                [
                 13.37125457639638,
                 48.35717518435716
                ],
                [
                 13.405037671422647,
                 48.37286534715562
                ],
                [
                 13.417363959519246,
                 48.40073697627005
                ],
                [
                 13.433191830057275,
                 48.42644131393122
                ],
                [
                 13.431445079844236,
                 48.44582856081033
                ],
                [
                 13.436763053259218,
                 48.479597690391955
                ],
                [
                 13.440462322656579,
                 48.48596381248104
                ],
                [
                 13.44213347706727,
                 48.528795266536655
                ],
                [
                 13.47228162522768,
                 48.55669015613033
                ],
                [
                 13.508662244547365,
                 48.591828028544256
                ],
                [
                 13.548703234276186,
                 48.57148084298868
                ],
                [
                 13.638347253103191,
                 48.55319978445303
                ],
                [
                 13.674360798678439,
                 48.531203739405335
                ],
                [
                 13.724293960302278,
                 48.51372234135987
                ],
                [
                 13.761501495250306,
                 48.56131120555194
                ],
                [
                 13.798201945685692,
                 48.57439244049023
                ],
                [
                 13.822976306837825,
                 48.619325703855495
                ],
                [
                 13.814563703814196,
                 48.6594152652378
                ],
                [
                 13.830810367795081,
                 48.692603328274984
                ],
                [
                 13.834546973023194,
                 48.700829893613104
                ],
                [
                 13.818321368921968,
                 48.7552369829344
                ],
                [
                 13.874166490423294,
                 48.76667507631359
                ],
                [
                 13.923547047315743,
                 48.73539194920978
                ],
                [
                 13.973700672480517,
                 48.71179319563461
                ],
                [
                 14.000496542507,
                 48.70928357147841
                ],
                [
                 14.055060253195919,
                 48.65843982022575
                ],
                [
                 14.00777687982591,
                 48.64035473646379
                ],
                [
                 14.03940102613522,
                 48.613557738746344
                ],
                [
                 14.092791744772713,
                 48.59293951082102
                ],
                [
                 14.160742302808048,
                 48.58993624174441
                ],
                [
                 14.267600759754272,
                 48.58169515407956
                ],
                [
                 14.330418283185368,
                 48.55252643335807
                ],
                [
                 14.33862381175925,
                 48.55538478799617
                ],
                [
                 14.390866619742345,
                 48.57817399588618
                ],
                [
                 14.440767624693814,
                 48.60484441715599
                ],
                [
                 14.471901256140397,
                 48.644650018063714
                ],
                [
                 14.501203068003178,
                 48.617915201286756
                ],
                [
                 14.552094269195178,
                 48.60645558813764
                ],
                [
                 14.603578015697249,
                 48.629287997532494
                ],
                [
                 14.623950449236242,
                 48.60505470425649
                ],
                [
                 14.688226952664776,
                 48.58500109238852
                ],
                [
                 14.733512866405684,
                 48.553484172246414
                ],
                [
                 14.808355569985297,
                 48.55445214731674
                ],
                [
                 14.872313402415301,
                 48.52844246254901
                ],
                [
                 14.91817106851184,
                 48.506423610629525
                ],
                [
                 14.874229757250031,
                 48.46507772877569
                ],
                [
                 14.908937674498883,
                 48.43537910048248
                ],
                [
                 14.925412208947593,
                 48.424502749993884
                ],
                [
                 14.95359394767566,
                 48.392005112113246
                ],
                [
                 14.961661862276186,
                 48.37921100464351
                ],
                [
                 14.944696456681836,
                 48.334060909925796
                ],
                [
                 14.940899818669662,
                 48.324346429341
                ],
                [
                 14.98229724223215,
                 48.299809064582774
                ],
                [
                 14.989257710600386,
                 48.25662772166145
                ],
                [
                 14.967176679359643,
                 48.246454313680665
                ],
                [
                 14.9493765953804,
                 48.21983256245666
                ],
                [
                 14.9713677938265,
                 48.199533558138796
                ],
                [
                 14.959655590894204,
                 48.2030813602234
                ],
                [
                 14.941654295692935,
                 48.227976825078045
                ],
                [
                 14.882880860379144,
                 48.23345935719385
                ],
                [
                 14.853860494650831,
                 48.21202671893576
                ],
                [
                 14.837515898992754,
                 48.19443533879205
                ],
                [
                 14.7662172367989,
                 48.179814509183586
                ],
                [
                 14.75880317196169,
                 48.178278333262355
                ],
                [
                 14.71249549298957,
                 48.17936993754109
                ],
                [
                 14.685579357914088,
                 48.15799181197546
                ],
                [
                 14.640839520032836,
                 48.17594383171885
                ],
                [
                 14.620464597522956,
                 48.191385824204254
                ],
                [
                 14.55807323829416,
                 48.231687424757496
                ],
                [
                 14.518386993837433,
                 48.238310752577775
                ],
                [
                 14.512754675251516,
                 48.23476123119458
                ],
                [
                 14.47815826291343,
                 48.202624776750156
                ],
                [
                 14.479323305252938,
                 48.17919735664716
                ],
                [
                 14.480047265119381,
                 48.172261697684455
                ],
                [
                 14.46511946673231,
                 48.148296658581444
                ],
                [
                 14.490160602378694,
                 48.11066844412551
                ],
                [
                 14.476249613684136,
                 48.10511664536289
                ],
                [
                 14.45511611401903,
                 48.08939123399559
                ],
                [
                 14.456054223911236,
                 48.07471409261751
                ],
                [
                 14.453328788357997,
                 48.04373968089135
                ],
                [
                 14.489303378556682,
                 48.01155203960905
                ],
                [
                 14.552335912421619,
                 47.98056368741308
                ],
                [
                 14.613423048698143,
                 47.94880206559831
                ],
                [
                 14.646271824385098,
                 47.942846942149735
                ],
                [
                 14.667816193597279,
                 47.93544154897088
                ],
                [
                 14.725084760353196,
                 47.935665590452615
                ],
                [
                 14.766758218261662,
                 47.88031598057858
                ],
                [
                 14.759948034358755,
                 47.87294189127239
                ],
                [
                 14.707199855307106,
                 47.85134395356477
                ],
                [
                 14.70908265136549,
                 47.7907888318586
                ],
                [
                 14.73566808338259,
                 47.749426793777985
                ],
                [
                 14.6941683957161,
                 47.76650462689978
                ],
                [
                 14.643463521446574,
                 47.726160420642856
                ],
                [
                 14.528885381761471,
                 47.7143019672102
                ],
                [
                 14.485769844431777,
                 47.682746730614916
                ],
                [
                 14.441435979634011,
                 47.656118020052254
                ],
                [
                 14.41805486150295,
                 47.65728031640895
                ],
                [
                 14.388734994989315,
                 47.636643741682384
                ],
                [
                 14.323597311082393,
                 47.60825952976716
                ],
                [
                 14.261611978484815,
                 47.61117896452449
                ],
                [
                 14.229754900473345,
                 47.651335265305775
                ],
                [
                 14.202993128424746,
                 47.65324349425967
                ],
                [
                 14.174786412508292,
                 47.63865431978715
                ],
                [
                 14.090321147711409,
                 47.620244800293115
                ],
                [
                 14.04797578242021,
                 47.61786314553959
                ],
                [
                 14.045938276604826,
                 47.63762832958257
                ],
                [
                 14.052627135407647,
                 47.66859366683909
                ],
                [
                 14.007797462698619,
                 47.70159791563943
                ],
                [
                 13.893114702931202,
                 47.71818645283093
                ],
                [
                 13.857510045138977,
                 47.7279221891866
                ],
                [
                 13.774852101100302,
                 47.719032619853486
                ],
                [
                 13.70505213579654,
                 47.65716240372051
                ],
                [
                 13.695703979460355,
                 47.60275900602188
                ],
                [
                 13.691787532748462,
                 47.57998041592989
                ]
               ]
              ]
             ],
             "type": "MultiPolygon"
            },
            "properties": {
             "iso": "4",
             "name": "Oberoesterreich"
            },
            "type": "Feature"
           },
           {
            "geometry": {
             "coordinates": [
              [
               [
                [
                 13.798352103631528,
                 46.951844674621924
                ],
                [
                 13.781858253483055,
                 46.944566726240176
                ],
                [
                 13.768931487558667,
                 46.97779355575246
                ],
                [
                 13.696406737061356,
                 47.00399643062416
                ],
                [
                 13.683729312368797,
                 47.04052982514287
                ],
                [
                 13.634826979627563,
                 47.056210337271956
                ],
                [
                 13.591419662691269,
                 47.056673264809525
                ],
                [
                 13.424763290456012,
                 47.0820862928719
                ],
                [
                 13.403554866604855,
                 47.06996352363297
                ],
                [
                 13.35170799917132,
                 47.09781536481606
                ],
                [
                 13.274503599910444,
                 47.095862267896415
                ],
                [
                 13.245313561168297,
                 47.05128768878815
                ],
                [
                 13.077521976587828,
                 47.02752186224722
                ],
                [
                 13.070207373241482,
                 47.01412404171541
                ],
                [
                 13.000275721836859,
                 47.04458431950818
                ],
                [
                 12.982537409143534,
                 47.036315422559284
                ],
                [
                 12.950189502492924,
                 47.0499694167178
                ],
                [
                 12.934473141851598,
                 47.07671988824226
                ],
                [
                 12.817464537284497,
                 47.09837715608704
                ],
                [
                 12.736033033360467,
                 47.10102981945141
                ],
                [
                 12.728080438914334,
                 47.13170610856031
                ],
                [
                 12.663320495046412,
                 47.12354691699273
                ],
                [
                 12.654016066248188,
                 47.100231353836485
                ],
                [
                 12.5894168444659,
                 47.12558674595656
                ],
                [
                 12.563556470390875,
                 47.136739497405685
                ],
                [
                 12.48070043046074,
                 47.15855964154146
                ],
                [
                 12.462736611250595,
                 47.14506846369805
                ],
                [
                 12.396701690532645,
                 47.15351595995203
                ],
                [
                 12.360454539252105,
                 47.142098997698724
                ],
                [
                 12.342795704847681,
                 47.10998476028861
                ],
                [
                 12.280957414203254,
                 47.09326480647793
                ],
                [
                 12.237924613286085,
                 47.069884004190115
                ],
                [
                 12.183138449276436,
                 47.09286179526465
                ],
                [
                 12.133192576151718,
                 47.08138357679902
                ],
                [
                 12.090447365445778,
                 47.14676824315532
                ],
                [
                 12.0799689120931,
                 47.196434418696505
                ],
                [
                 12.107262767387029,
                 47.24110464334159
                ],
                [
                 12.075754696908119,
                 47.27589522045737
                ],
                [
                 12.11172562405633,
                 47.307158890850715
                ],
                [
                 12.161804090720976,
                 47.30225548421314
                ],
                [
                 12.21616138062162,
                 47.31184493836425
                ],
                [
                 12.25187573191091,
                 47.30867861955565
                ],
                [
                 12.261297429832275,
                 47.302924956931115
                ],
                [
                 12.29368730421171,
                 47.32880364491527
                ],
                [
                 12.33243725497615,
                 47.32923161071505
                ],
                [
                 12.37177067497208,
                 47.31202262451423
                ],
                [
                 12.47549976642619,
                 47.32710774589435
                ],
                [
                 12.492393544557732,
                 47.33812330074012
                ],
                [
                 12.476154094388688,
                 47.368943885527884
                ],
                [
                 12.503274276420276,
                 47.394842678075356
                ],
                [
                 12.542482549397553,
                 47.39875406995694
                ],
                [
                 12.575794307927712,
                 47.39321028987878
                ],
                [
                 12.621757739986972,
                 47.42322767010251
                ],
                [
                 12.629478377239565,
                 47.432807492676346
                ],
                [
                 12.629463336415112,
                 47.465777514603346
                ],
                [
                 12.696777382304528,
                 47.47859809099986
                ],
                [
                 12.662316157261458,
                 47.506781030711906
                ],
                [
                 12.651318336612611,
                 47.53748228560774
                ],
                [
                 12.62535195417081,
                 47.55025842621544
                ],
                [
                 12.650732825987651,
                 47.588739771087816
                ],
                [
                 12.571713210946912,
                 47.60570124217504
                ],
                [
                 12.572213000152678,
                 47.63302734283744
                ],
                [
                 12.600584094360492,
                 47.67292687273303
                ],
                [
                 12.663274400481706,
                 47.681752463021496
                ],
                [
                 12.742010996435436,
                 47.67647165646622
                ],
                [
                 12.786886172366993,
                 47.63393170802258
                ],
                [
                 12.788515205985565,
                 47.5990781803635
                ],
                [
                 12.776444015382088,
                 47.57999669054089
                ],
                [
                 12.783545828560367,
                 47.5687317828688
                ],
                [
                 12.881657514824614,
                 47.513466587663615
                ],
                [
                 12.929111962535124,
                 47.488461701056174
                ],
                [
                 12.99824236041834,
                 47.46472201900445
                ],
                [
                 13.015056978575542,
                 47.4753883664406
                ],
                [
                 13.043245063668714,
                 47.521212831363364
                ],
                [
                 13.068698231612442,
                 47.59060827180462
                ],
                [
                 13.095138628499006,
                 47.634426505171646
                ],
                [
                 13.075814245585148,
                 47.68867507656984
                ],
                [
                 13.043132293801934,
                 47.713407424860314
                ],
                [
                 12.984388964825083,
                 47.708121198638366
                ],
                [
                 12.930368321934951,
                 47.71025461386205
                ],
                [
                 12.940655718630108,
                 47.76361507204281
                ],
                [
                 12.986257062250298,
                 47.83267212381816
                ],
                [
                 12.998581847888278,
                 47.85510337499348
                ],
                [
                 12.984790236493808,
                 47.869900339367774
                ],
                [
                 12.963649379017989,
                 47.90137425902917
                ],
                [
                 12.936454197863693,
                 47.93736666165952
                ],
                [
                 12.917879824205455,
                 47.951591297071886
                ],
                [
                 12.868304939173719,
                 47.96714218663524
                ],
                [
                 12.857373111808512,
                 47.99734890974755
                ],
                [
                 12.889187330800945,
                 47.991719778098854
                ],
                [
                 12.935265163581597,
                 48.0366690206478
                ],
                [
                 12.936698792726006,
                 48.037115468453756
                ],
                [
                 12.986804806863335,
                 48.02854596229712
                ],
                [
                 13.009492383988002,
                 48.03721884633031
                ],
                [
                 13.044189302795095,
                 48.03806907306838
                ],
                [
                 13.044399891734093,
                 48.027968838524316
                ],
                [
                 13.054856938977494,
                 48.01399941780563
                ],
                [
                 13.09995818793229,
                 47.99826928865161
                ],
                [
                 13.101131942650055,
                 47.997459459925935
                ],
                [
                 13.12144503777586,
                 47.99688921221891
                ],
                [
                 13.142370975421642,
                 47.97505273345684
                ],
                [
                 13.195874250533201,
                 47.974880264576974
                ],
                [
                 13.20707267531659,
                 47.979650150038374
                ],
                [
                 13.209901470411149,
                 47.98317470618085
                ],
                [
                 13.301126898814976,
                 48.00857637935583
                ],
                [
                 13.368852912648117,
                 47.9726880695492
                ],
                [
                 13.360320994161707,
                 47.94478873157334
                ],
                [
                 13.355740647248055,
                 47.940468302241094
                ],
                [
                 13.30473321992954,
                 47.96472179538623
                ],
                [
                 13.27748367233546,
                 47.95542212434089
                ],
                [
                 13.278323565236123,
                 47.90534293936875
                ],
                [
                 13.267308525551996,
                 47.89213552582762
                ],
                [
                 13.290325527302539,
                 47.86446689504523
                ],
                [
                 13.309401296692693,
                 47.8135364131342
                ],
                [
                 13.348156258606874,
                 47.810649045104206
                ],
                [
                 13.395275767028675,
                 47.79860057191996
                ],
                [
                 13.44761088071781,
                 47.804451135674846
                ],
                [
                 13.5266703981245,
                 47.797732246245786
                ],
                [
                 13.532580670419073,
                 47.77684447891034
                ],
                [
                 13.462474874718307,
                 47.7868595313544
                ],
                [
                 13.433469015572669,
                 47.73925871047796
                ],
                [
                 13.548063967268417,
                 47.71482345429212
                ],
                [
                 13.514140817579701,
                 47.67624104126502
                ],
                [
                 13.487057210977767,
                 47.63103549735677
                ],
                [
                 13.51747441347207,
                 47.62388895672504
                ],
                [
                 13.478469659926446,
                 47.562433763605
                ],
                [
                 13.47393478304975,
                 47.531024630060806
                ],
                [
                 13.51336171370177,
                 47.49721345287628
                ],
                [
                 13.582856450628059,
                 47.47550827496876
                ],
                [
                 13.561322502595704,
                 47.41877795531392
                ],
                [
                 13.561746557279987,
                 47.41739787895367
                ],
                [
                 13.569492539300748,
                 47.39381056606523
                ],
                [
                 13.596895659286297,
                 47.341409015053536
                ],
                [
                 13.605134010473964,
                 47.28409682834876
                ],
                [
                 13.693014143657168,
                 47.26079573074071
                ],
                [
                 13.709056671941815,
                 47.26021105480682
                ],
                [
                 13.757832871689208,
                 47.266979618653856
                ],
                [
                 13.822535502019646,
                 47.29391075928638
                ],
                [
                 13.86137413022891,
                 47.252877782610945
                ],
                [
                 13.861939615717835,
                 47.22064419930689
                ],
                [
                 13.939942624981187,
                 47.16710273135776
                ],
                [
                 13.99009642683173,
                 47.1429496672736
                ],
                [
                 13.985012729848352,
                 47.12781112252956
                ],
                [
                 13.932850541084347,
                 47.13580419887789
                ],
                [
                 13.875611432150723,
                 47.10107458962025
                ],
                [
                 13.903967588488547,
                 47.0708202774534
                ],
                [
                 13.829007172764317,
                 46.96615800830227
                ],
                [
                 13.798352103631528,
                 46.951844674621924
                ]
               ]
              ]
             ],
             "type": "MultiPolygon"
            },
            "properties": {
             "iso": "5",
             "name": "Salzburg"
            },
            "type": "Feature"
           },
           {
            "geometry": {
             "coordinates": [
              [
               [
                [
                 15.062313842013335,
                 46.65277657493685
                ],
                [
                 15.021723960006229,
                 46.67044019676584
                ],
                [
                 15.039478767649438,
                 46.72158463624366
                ],
                [
                 15.028749900382708,
                 46.746421499326736
                ],
                [
                 14.993871884429375,
                 46.78153279916539
                ],
                [
                 14.973464266422333,
                 46.785491239529
                ],
                [
                 15.016832434338669,
                 46.844960815216176
                ],
                [
                 15.005425055975238,
                 46.880570359407294
                ],
                [
                 15.012112493120615,
                 46.881946353479314
                ],
                [
                 15.024207631891255,
                 46.910440804398895
                ],
                [
                 14.964149997281826,
                 46.982472194636294
                ],
                [
                 14.882741006492154,
                 47.01187740670246
                ],
                [
                 14.84417882509954,
                 47.03364454740318
                ],
                [
                 14.841676489061658,
                 47.048805304818195
                ],
                [
                 14.771524903004831,
                 47.04001782848264
                ],
                [
                 14.695861526766844,
                 47.01698773271139
                ],
                [
                 14.624948149152406,
                 47.01428298253796
                ],
                [
                 14.612463774440057,
                 46.998655758835234
                ],
                [
                 14.583124270383646,
                 47.0124232984338
                ],
                [
                 14.4690500355669,
                 47.00841794284422
                ],
                [
                 14.42739604891257,
                 47.00118650442543
                ],
                [
                 14.327397088037056,
                 47.02984590762905
                ],
                [
                 14.234893334266026,
                 47.02906133305401
                ],
                [
                 14.232236104985565,
                 47.02653071848637
                ],
                [
                 14.19962181928544,
                 47.0766044867391
                ],
                [
                 14.158799840554162,
                 47.05312008248935
                ],
                [
                 14.129757610613044,
                 47.06305077344774
                ],
                [
                 14.076338288515274,
                 47.02273881391121
                ],
                [
                 14.013625887190985,
                 46.989780922491505
                ],
                [
                 13.965353819946968,
                 46.96375750198801
                ],
                [
                 13.94391568309175,
                 46.941339953575834
                ],
                [
                 13.879060825088889,
                 46.91852569455783
                ],
                [
                 13.812548725751137,
                 46.91922079716213
                ],
                [
                 13.781858253483055,
                 46.944566726240176
                ],
                [
                 13.798352103631528,
                 46.951844674621924
                ],
                [
                 13.829007172764317,
                 46.96615800830227
                ],
                [
                 13.903967588488547,
                 47.0708202774534
                ],
                [
                 13.875611432150723,
                 47.10107458962025
                ],
                [
                 13.932850541084347,
                 47.13580419887789
                ],
                [
                 13.985012729848352,
                 47.12781112252956
                ],
                [
                 13.99009642683173,
                 47.1429496672736
                ],
                [
                 13.939942624981187,
                 47.16710273135776
                ],
                [
                 13.861939615717835,
                 47.22064419930689
                ],
                [
                 13.86137413022891,
                 47.252877782610945
                ],
                [
                 13.822535502019646,
                 47.29391075928638
                ],
                [
                 13.757832871689208,
                 47.266979618653856
                ],
                [
                 13.709056671941815,
                 47.26021105480682
                ],
                [
                 13.693014143657168,
                 47.26079573074071
                ],
                [
                 13.605134010473964,
                 47.28409682834876
                ],
                [
                 13.596895659286297,
                 47.341409015053536
                ],
                [
                 13.569492539300748,
                 47.39381056606523
                ],
                [
                 13.561746557279987,
                 47.41739787895367
                ],
                [
                 13.561322502595704,
                 47.41877795531392
                ],
                [
                 13.582856450628059,
                 47.47550827496876
                ],
                [
                 13.602876972006017,
                 47.475896454616894
                ],
                [
                 13.605942430202054,
                 47.47584573560712
                ],
                [
                 13.719754990487411,
                 47.46281999761018
                ],
                [
                 13.74632626158727,
                 47.50232005685372
                ],
                [
                 13.757865107283767,
                 47.5210073854116
                ],
                [
                 13.732654022442613,
                 47.57773034335252
                ],
                [
                 13.691787532748462,
                 47.57998041592989
                ],
                [
                 13.695703979460355,
                 47.60275900602188
                ],
                [
                 13.70505213579654,
                 47.65716240372051
                ],
                [
                 13.774852101100302,
                 47.719032619853486
                ],
                [
                 13.857510045138977,
                 47.7279221891866
                ],
                [
                 13.893114702931202,
                 47.71818645283093
                ],
                [
                 14.007797462698619,
                 47.70159791563943
                ],
                [
                 14.052627135407647,
                 47.66859366683909
                ],
                [
                 14.045938276604826,
                 47.63762832958257
                ],
                [
                 14.04797578242021,
                 47.61786314553959
                ],
                [
                 14.090321147711409,
                 47.620244800293115
                ],
                [
                 14.174786412508292,
                 47.63865431978715
                ],
                [
                 14.202993128424746,
                 47.65324349425967
                ],
                [
                 14.229754900473345,
                 47.651335265305775
                ],
                [
                 14.261611978484815,
                 47.61117896452449
                ],
                [
                 14.323597311082393,
                 47.60825952976716
                ],
                [
                 14.388734994989315,
                 47.636643741682384
                ],
                [
                 14.41805486150295,
                 47.65728031640895
                ],
                [
                 14.441435979634011,
                 47.656118020052254
                ],
                [
                 14.485769844431777,
                 47.682746730614916
                ],
                [
                 14.528885381761471,
                 47.7143019672102
                ],
                [
                 14.643463521446574,
                 47.726160420642856
                ],
                [
                 14.6941683957161,
                 47.76650462689978
                ],
                [
                 14.73566808338259,
                 47.749426793777985
                ],
                [
                 14.764254891795062,
                 47.7270126926241
                ],
                [
                 14.815521484791581,
                 47.74490961049843
                ],
                [
                 14.85526693611768,
                 47.7411939788452
                ],
                [
                 14.898419706847834,
                 47.711530267676075
                ],
                [
                 14.970044350325894,
                 47.744303408961784
                ],
                [
                 15.031926069993437,
                 47.75344200233826
                ],
                [
                 15.086457681336192,
                 47.74217222908681
                ],
                [
                 15.132045631353076,
                 47.75870100875711
                ],
                [
                 15.196587995010171,
                 47.75412792009144
                ],
                [
                 15.214516325735632,
                 47.79672841493683
                ],
                [
                 15.286082617985503,
                 47.79187864761831
                ],
                [
                 15.297045639104294,
                 47.8217441428425
                ],
                [
                 15.342419192626412,
                 47.8263742451942
                ],
                [
                 15.343100790488187,
                 47.826458307274905
                ],
                [
                 15.376750891518832,
                 47.82424031724305
                ],
                [
                 15.458173341840908,
                 47.770446655783324
                ],
                [
                 15.503824297663224,
                 47.76849707072922
                ],
                [
                 15.51100145314899,
                 47.74725153227008
                ],
                [
                 15.608925525753648,
                 47.75178605106096
                ],
                [
                 15.63317312259398,
                 47.716120757997125
                ],
                [
                 15.675945114743612,
                 47.69969487804562
                ],
                [
                 15.716360145031679,
                 47.71058281328566
                ],
                [
                 15.72231622717731,
                 47.6471548134285
                ],
                [
                 15.739522772636551,
                 47.642908508568475
                ],
                [
                 15.778544678678688,
                 47.64299940448292
                ],
                [
                 15.837512602790229,
                 47.61880014884725
                ],
                [
                 15.85778105484603,
                 47.617376268322836
                ],
                [
                 15.844224479544629,
                 47.56848860973404
                ],
                [
                 15.902627080805715,
                 47.56050479117799
                ],
                [
                 15.911075331820498,
                 47.53112632814445
                ],
                [
                 15.917716205195124,
                 47.53071767551388
                ],
                [
                 15.955735933816998,
                 47.518553434992604
                ],
                [
                 15.997287113811915,
                 47.516538148561374
                ],
                [
                 16.062303772060602,
                 47.487035116629556
                ],
                [
                 16.084613735772102,
                 47.50785604821462
                ],
                [
                 16.108419408036877,
                 47.52267217535619
                ],
                [
                 16.13519069023434,
                 47.46213595254102
                ],
                [
                 16.168984537359943,
                 47.42309851780552
                ],
                [
                 16.16225508757511,
                 47.421446209348034
                ],
                [
                 16.138900969886,
                 47.41820793584231
                ],
                [
                 16.113357185217723,
                 47.41457019243507
                ],
                [
                 16.081326072415987,
                 47.40985517946214
                ],
                [
                 16.05763297797225,
                 47.38493882757068
                ],
                [
                 16.055967976466043,
                 47.384506814206084
                ],
                [
                 16.02732620577123,
                 47.37998987335984
                ],
                [
                 16.031256102645052,
                 47.372894344310296
                ],
                [
                 16.027430487596547,
                 47.37210245401324
                ],
                [
                 16.031718176228672,
                 47.356307783280435
                ],
                [
                 16.05673238140275,
                 47.315391460800434
                ],
                [
                 16.055664585847495,
                 47.31082316246469
                ],
                [
                 16.071944319118813,
                 47.275387030187574
                ],
                [
                 16.07348043721224,
                 47.27232749291293
                ],
                [
                 16.083734166890213,
                 47.23424160111403
                ],
                [
                 16.090014113418867,
                 47.200610938367774
                ],
                [
                 16.08870982183728,
                 47.199163592268384
                ],
                [
                 16.099793329518068,
                 47.18435125977481
                ],
                [
                 16.106498791610996,
                 47.16748643081477
                ],
                [
                 16.11223706808718,
                 47.13389169512108
                ],
                [
                 16.09200488331858,
                 47.112900947470955
                ],
                [
                 16.08379119127893,
                 47.088540159123625
                ],
                [
                 16.0955744934835,
                 47.061767746088016
                ],
                [
                 16.12793859490346,
                 47.01282713383637
                ],
                [
                 16.142810831509557,
                 47.00050122374456
                ],
                [
                 16.151740961122126,
                 46.99151535103217
                ],
                [
                 16.104969698078822,
                 46.966031480721185
                ],
                [
                 16.092612098137973,
                 46.95473777555299
                ],
                [
                 16.0920023328516,
                 46.93504614362515
                ],
                [
                 16.051258370533102,
                 46.911077148922466
                ],
                [
                 16.032607364588106,
                 46.893565782674635
                ],
                [
                 16.02063565181343,
                 46.88863061392031
                ],
                [
                 15.999889799681938,
                 46.84759547874293
                ],
                [
                 15.993444557407093,
                 46.8361010228545
                ],
                [
                 15.990246335972122,
                 46.80503827011241
                ],
                [
                 15.991074058234284,
                 46.731309120135435
                ],
                [
                 15.998980769151713,
                 46.67913941001775
                ],
                [
                 15.944271763223398,
                 46.6897696212966
                ],
                [
                 15.874362255140666,
                 46.72037419163835
                ],
                [
                 15.827678233311913,
                 46.72235674188238
                ],
                [
                 15.749649088414047,
                 46.69867313405675
                ],
                [
                 15.671143464648242,
                 46.70769892036839
                ],
                [
                 15.611752080737702,
                 46.6828740150043
                ],
                [
                 15.567357317663744,
                 46.68161490896958
                ],
                [
                 15.543483174661946,
                 46.67085858678629
                ],
                [
                 15.540751620293973,
                 46.6329194776281
                ],
                [
                 15.47005564365718,
                 46.61270289994332
                ],
                [
                 15.446856573597634,
                 46.64304530357307
                ],
                [
                 15.38009834434934,
                 46.652329541572676
                ],
                [
                 15.305197043876301,
                 46.6531438691042
                ],
                [
                 15.23311517595507,
                 46.64009200845612
                ],
                [
                 15.179858196910967,
                 46.65672814158692
                ],
                [
                 15.062313842013335,
                 46.65277657493685
                ]
               ]
              ]
             ],
             "type": "MultiPolygon"
            },
            "properties": {
             "iso": "6",
             "name": "Steiermark"
            },
            "type": "Feature"
           }
          ],
          "name": "laender_999_geo",
          "type": "FeatureCollection"
         },
         "locations": [
          "Wien",
          "Niederoesterreich",
          "Oberoesterreich",
          "Steiermark",
          "Kaernten",
          "Salzburg",
          "Tirol",
          "Vorarlberg",
          "Burgenland"
         ],
         "marker": {
          "line": {
           "width": 0.5
          }
         },
         "reversescale": true,
         "type": "choropleth",
         "z": [
          100,
          200,
          150,
          250,
          80,
          90,
          120,
          60,
          30
         ]
        }
       ],
       "layout": {
        "geo": {
         "center": {
          "lat": 47.6965,
          "lon": 13.3457
         },
         "countrycolor": "DarkBlue",
         "countrywidth": 1,
         "lakecolor": "rgb(255, 255, 255)",
         "landcolor": "White",
         "lataxis": {
          "range": [
           46,
           49
          ]
         },
         "lonaxis": {
          "range": [
           9,
           17
          ]
         },
         "scope": "europe",
         "showcountries": true,
         "showlakes": true
        },
        "template": {
         "data": {
          "bar": [
           {
            "error_x": {
             "color": "#2a3f5f"
            },
            "error_y": {
             "color": "#2a3f5f"
            },
            "marker": {
             "line": {
              "color": "#E5ECF6",
              "width": 0.5
             },
             "pattern": {
              "fillmode": "overlay",
              "size": 10,
              "solidity": 0.2
             }
            },
            "type": "bar"
           }
          ],
          "barpolar": [
           {
            "marker": {
             "line": {
              "color": "#E5ECF6",
              "width": 0.5
             },
             "pattern": {
              "fillmode": "overlay",
              "size": 10,
              "solidity": 0.2
             }
            },
            "type": "barpolar"
           }
          ],
          "carpet": [
           {
            "aaxis": {
             "endlinecolor": "#2a3f5f",
             "gridcolor": "white",
             "linecolor": "white",
             "minorgridcolor": "white",
             "startlinecolor": "#2a3f5f"
            },
            "baxis": {
             "endlinecolor": "#2a3f5f",
             "gridcolor": "white",
             "linecolor": "white",
             "minorgridcolor": "white",
             "startlinecolor": "#2a3f5f"
            },
            "type": "carpet"
           }
          ],
          "choropleth": [
           {
            "colorbar": {
             "outlinewidth": 0,
             "ticks": ""
            },
            "type": "choropleth"
           }
          ],
          "contour": [
           {
            "colorbar": {
             "outlinewidth": 0,
             "ticks": ""
            },
            "colorscale": [
             [
              0,
              "#0d0887"
             ],
             [
              0.1111111111111111,
              "#46039f"
             ],
             [
              0.2222222222222222,
              "#7201a8"
             ],
             [
              0.3333333333333333,
              "#9c179e"
             ],
             [
              0.4444444444444444,
              "#bd3786"
             ],
             [
              0.5555555555555556,
              "#d8576b"
             ],
             [
              0.6666666666666666,
              "#ed7953"
             ],
             [
              0.7777777777777778,
              "#fb9f3a"
             ],
             [
              0.8888888888888888,
              "#fdca26"
             ],
             [
              1,
              "#f0f921"
             ]
            ],
            "type": "contour"
           }
          ],
          "contourcarpet": [
           {
            "colorbar": {
             "outlinewidth": 0,
             "ticks": ""
            },
            "type": "contourcarpet"
           }
          ],
          "heatmap": [
           {
            "colorbar": {
             "outlinewidth": 0,
             "ticks": ""
            },
            "colorscale": [
             [
              0,
              "#0d0887"
             ],
             [
              0.1111111111111111,
              "#46039f"
             ],
             [
              0.2222222222222222,
              "#7201a8"
             ],
             [
              0.3333333333333333,
              "#9c179e"
             ],
             [
              0.4444444444444444,
              "#bd3786"
             ],
             [
              0.5555555555555556,
              "#d8576b"
             ],
             [
              0.6666666666666666,
              "#ed7953"
             ],
             [
              0.7777777777777778,
              "#fb9f3a"
             ],
             [
              0.8888888888888888,
              "#fdca26"
             ],
             [
              1,
              "#f0f921"
             ]
            ],
            "type": "heatmap"
           }
          ],
          "heatmapgl": [
           {
            "colorbar": {
             "outlinewidth": 0,
             "ticks": ""
            },
            "colorscale": [
             [
              0,
              "#0d0887"
             ],
             [
              0.1111111111111111,
              "#46039f"
             ],
             [
              0.2222222222222222,
              "#7201a8"
             ],
             [
              0.3333333333333333,
              "#9c179e"
             ],
             [
              0.4444444444444444,
              "#bd3786"
             ],
             [
              0.5555555555555556,
              "#d8576b"
             ],
             [
              0.6666666666666666,
              "#ed7953"
             ],
             [
              0.7777777777777778,
              "#fb9f3a"
             ],
             [
              0.8888888888888888,
              "#fdca26"
             ],
             [
              1,
              "#f0f921"
             ]
            ],
            "type": "heatmapgl"
           }
          ],
          "histogram": [
           {
            "marker": {
             "pattern": {
              "fillmode": "overlay",
              "size": 10,
              "solidity": 0.2
             }
            },
            "type": "histogram"
           }
          ],
          "histogram2d": [
           {
            "colorbar": {
             "outlinewidth": 0,
             "ticks": ""
            },
            "colorscale": [
             [
              0,
              "#0d0887"
             ],
             [
              0.1111111111111111,
              "#46039f"
             ],
             [
              0.2222222222222222,
              "#7201a8"
             ],
             [
              0.3333333333333333,
              "#9c179e"
             ],
             [
              0.4444444444444444,
              "#bd3786"
             ],
             [
              0.5555555555555556,
              "#d8576b"
             ],
             [
              0.6666666666666666,
              "#ed7953"
             ],
             [
              0.7777777777777778,
              "#fb9f3a"
             ],
             [
              0.8888888888888888,
              "#fdca26"
             ],
             [
              1,
              "#f0f921"
             ]
            ],
            "type": "histogram2d"
           }
          ],
          "histogram2dcontour": [
           {
            "colorbar": {
             "outlinewidth": 0,
             "ticks": ""
            },
            "colorscale": [
             [
              0,
              "#0d0887"
             ],
             [
              0.1111111111111111,
              "#46039f"
             ],
             [
              0.2222222222222222,
              "#7201a8"
             ],
             [
              0.3333333333333333,
              "#9c179e"
             ],
             [
              0.4444444444444444,
              "#bd3786"
             ],
             [
              0.5555555555555556,
              "#d8576b"
             ],
             [
              0.6666666666666666,
              "#ed7953"
             ],
             [
              0.7777777777777778,
              "#fb9f3a"
             ],
             [
              0.8888888888888888,
              "#fdca26"
             ],
             [
              1,
              "#f0f921"
             ]
            ],
            "type": "histogram2dcontour"
           }
          ],
          "mesh3d": [
           {
            "colorbar": {
             "outlinewidth": 0,
             "ticks": ""
            },
            "type": "mesh3d"
           }
          ],
          "parcoords": [
           {
            "line": {
             "colorbar": {
              "outlinewidth": 0,
              "ticks": ""
             }
            },
            "type": "parcoords"
           }
          ],
          "pie": [
           {
            "automargin": true,
            "type": "pie"
           }
          ],
          "scatter": [
           {
            "fillpattern": {
             "fillmode": "overlay",
             "size": 10,
             "solidity": 0.2
            },
            "type": "scatter"
           }
          ],
          "scatter3d": [
           {
            "line": {
             "colorbar": {
              "outlinewidth": 0,
              "ticks": ""
             }
            },
            "marker": {
             "colorbar": {
              "outlinewidth": 0,
              "ticks": ""
             }
            },
            "type": "scatter3d"
           }
          ],
          "scattercarpet": [
           {
            "marker": {
             "colorbar": {
              "outlinewidth": 0,
              "ticks": ""
             }
            },
            "type": "scattercarpet"
           }
          ],
          "scattergeo": [
           {
            "marker": {
             "colorbar": {
              "outlinewidth": 0,
              "ticks": ""
             }
            },
            "type": "scattergeo"
           }
          ],
          "scattergl": [
           {
            "marker": {
             "colorbar": {
              "outlinewidth": 0,
              "ticks": ""
             }
            },
            "type": "scattergl"
           }
          ],
          "scattermapbox": [
           {
            "marker": {
             "colorbar": {
              "outlinewidth": 0,
              "ticks": ""
             }
            },
            "type": "scattermapbox"
           }
          ],
          "scatterpolar": [
           {
            "marker": {
             "colorbar": {
              "outlinewidth": 0,
              "ticks": ""
             }
            },
            "type": "scatterpolar"
           }
          ],
          "scatterpolargl": [
           {
            "marker": {
             "colorbar": {
              "outlinewidth": 0,
              "ticks": ""
             }
            },
            "type": "scatterpolargl"
           }
          ],
          "scatterternary": [
           {
            "marker": {
             "colorbar": {
              "outlinewidth": 0,
              "ticks": ""
             }
            },
            "type": "scatterternary"
           }
          ],
          "surface": [
           {
            "colorbar": {
             "outlinewidth": 0,
             "ticks": ""
            },
            "colorscale": [
             [
              0,
              "#0d0887"
             ],
             [
              0.1111111111111111,
              "#46039f"
             ],
             [
              0.2222222222222222,
              "#7201a8"
             ],
             [
              0.3333333333333333,
              "#9c179e"
             ],
             [
              0.4444444444444444,
              "#bd3786"
             ],
             [
              0.5555555555555556,
              "#d8576b"
             ],
             [
              0.6666666666666666,
              "#ed7953"
             ],
             [
              0.7777777777777778,
              "#fb9f3a"
             ],
             [
              0.8888888888888888,
              "#fdca26"
             ],
             [
              1,
              "#f0f921"
             ]
            ],
            "type": "surface"
           }
          ],
          "table": [
           {
            "cells": {
             "fill": {
              "color": "#EBF0F8"
             },
             "line": {
              "color": "white"
             }
            },
            "header": {
             "fill": {
              "color": "#C8D4E3"
             },
             "line": {
              "color": "white"
             }
            },
            "type": "table"
           }
          ]
         },
         "layout": {
          "annotationdefaults": {
           "arrowcolor": "#2a3f5f",
           "arrowhead": 0,
           "arrowwidth": 1
          },
          "autotypenumbers": "strict",
          "coloraxis": {
           "colorbar": {
            "outlinewidth": 0,
            "ticks": ""
           }
          },
          "colorscale": {
           "diverging": [
            [
             0,
             "#8e0152"
            ],
            [
             0.1,
             "#c51b7d"
            ],
            [
             0.2,
             "#de77ae"
            ],
            [
             0.3,
             "#f1b6da"
            ],
            [
             0.4,
             "#fde0ef"
            ],
            [
             0.5,
             "#f7f7f7"
            ],
            [
             0.6,
             "#e6f5d0"
            ],
            [
             0.7,
             "#b8e186"
            ],
            [
             0.8,
             "#7fbc41"
            ],
            [
             0.9,
             "#4d9221"
            ],
            [
             1,
             "#276419"
            ]
           ],
           "sequential": [
            [
             0,
             "#0d0887"
            ],
            [
             0.1111111111111111,
             "#46039f"
            ],
            [
             0.2222222222222222,
             "#7201a8"
            ],
            [
             0.3333333333333333,
             "#9c179e"
            ],
            [
             0.4444444444444444,
             "#bd3786"
            ],
            [
             0.5555555555555556,
             "#d8576b"
            ],
            [
             0.6666666666666666,
             "#ed7953"
            ],
            [
             0.7777777777777778,
             "#fb9f3a"
            ],
            [
             0.8888888888888888,
             "#fdca26"
            ],
            [
             1,
             "#f0f921"
            ]
           ],
           "sequentialminus": [
            [
             0,
             "#0d0887"
            ],
            [
             0.1111111111111111,
             "#46039f"
            ],
            [
             0.2222222222222222,
             "#7201a8"
            ],
            [
             0.3333333333333333,
             "#9c179e"
            ],
            [
             0.4444444444444444,
             "#bd3786"
            ],
            [
             0.5555555555555556,
             "#d8576b"
            ],
            [
             0.6666666666666666,
             "#ed7953"
            ],
            [
             0.7777777777777778,
             "#fb9f3a"
            ],
            [
             0.8888888888888888,
             "#fdca26"
            ],
            [
             1,
             "#f0f921"
            ]
           ]
          },
          "colorway": [
           "#636efa",
           "#EF553B",
           "#00cc96",
           "#ab63fa",
           "#FFA15A",
           "#19d3f3",
           "#FF6692",
           "#B6E880",
           "#FF97FF",
           "#FECB52"
          ],
          "font": {
           "color": "#2a3f5f"
          },
          "geo": {
           "bgcolor": "white",
           "lakecolor": "white",
           "landcolor": "#E5ECF6",
           "showlakes": true,
           "showland": true,
           "subunitcolor": "white"
          },
          "hoverlabel": {
           "align": "left"
          },
          "hovermode": "closest",
          "mapbox": {
           "style": "light"
          },
          "paper_bgcolor": "white",
          "plot_bgcolor": "#E5ECF6",
          "polar": {
           "angularaxis": {
            "gridcolor": "white",
            "linecolor": "white",
            "ticks": ""
           },
           "bgcolor": "#E5ECF6",
           "radialaxis": {
            "gridcolor": "white",
            "linecolor": "white",
            "ticks": ""
           }
          },
          "scene": {
           "xaxis": {
            "backgroundcolor": "#E5ECF6",
            "gridcolor": "white",
            "gridwidth": 2,
            "linecolor": "white",
            "showbackground": true,
            "ticks": "",
            "zerolinecolor": "white"
           },
           "yaxis": {
            "backgroundcolor": "#E5ECF6",
            "gridcolor": "white",
            "gridwidth": 2,
            "linecolor": "white",
            "showbackground": true,
            "ticks": "",
            "zerolinecolor": "white"
           },
           "zaxis": {
            "backgroundcolor": "#E5ECF6",
            "gridcolor": "white",
            "gridwidth": 2,
            "linecolor": "white",
            "showbackground": true,
            "ticks": "",
            "zerolinecolor": "white"
           }
          },
          "shapedefaults": {
           "line": {
            "color": "#2a3f5f"
           }
          },
          "ternary": {
           "aaxis": {
            "gridcolor": "white",
            "linecolor": "white",
            "ticks": ""
           },
           "baxis": {
            "gridcolor": "white",
            "linecolor": "white",
            "ticks": ""
           },
           "bgcolor": "#E5ECF6",
           "caxis": {
            "gridcolor": "white",
            "linecolor": "white",
            "ticks": ""
           }
          },
          "title": {
           "x": 0.05
          },
          "xaxis": {
           "automargin": true,
           "gridcolor": "white",
           "linecolor": "white",
           "ticks": "",
           "title": {
            "standoff": 15
           },
           "zerolinecolor": "white",
           "zerolinewidth": 2
          },
          "yaxis": {
           "automargin": true,
           "gridcolor": "white",
           "linecolor": "white",
           "ticks": "",
           "title": {
            "standoff": 15
           },
           "zerolinecolor": "white",
           "zerolinewidth": 2
          }
         }
        },
        "title": {
         "text": "Anzahl der Befragten in Österreich nach Bundesländern"
        }
       }
      }
     },
     "metadata": {},
     "output_type": "display_data"
    }
   ],
   "source": [
    "import plotly.graph_objs as go\n",
    "import pandas as pd\n",
    "import json\n",
    "\n",
    "\n",
    "austria_geojson_path = 'laender_999_geo.json'\n",
    "\n",
    "\n",
    "with open(austria_geojson_path) as f:\n",
    "    austria_geojson = json.load(f)\n",
    "\n",
    "\n",
    "bundeslander = ['Wien', 'Niederoesterreich', 'Oberoesterreich', 'Steiermark', 'Kaernten', \n",
    "                'Salzburg', 'Tirol', 'Vorarlberg', 'Burgenland']\n",
    "\n",
    "\n",
    "anzahl_befragte = [100, 200, 150, 250, 80, 90, 120, 60, 30]\n",
    "\n",
    "austriamap = go.Choropleth(\n",
    "    geojson=austria_geojson,  # Verweise auf die GeoJSON-Datei\n",
    "    featureidkey=\"properties.name\",  # Pfad zum Attribut im GeoJSON Feature, das den Namen des Bundeslandes enthält\n",
    "    locations=bundeslander,  # Namen der Bundesländer aus deiner Liste\n",
    "    z=anzahl_befragte,  # Numerische Werte, die du darstellen möchtest\n",
    "    colorscale=\"Blues\",\n",
    "    reversescale=True,\n",
    "    marker_line_width=0.5,\n",
    "    colorbar_title=\"Anzahl der Befragten\"\n",
    ")\n",
    "\n",
    "layout = go.Layout(\n",
    "    title_text=\"Anzahl der Befragten in Österreich nach Bundesländern\",\n",
    "    geo=dict(\n",
    "        scope=\"europe\",  # Begrenzt die Ansicht auf Europa\n",
    "        showlakes=True,\n",
    "        lakecolor=\"rgb(255, 255, 255)\",\n",
    "        center={\"lat\": 47.6965, \"lon\": 13.3457},  # Zentriere die Karte auf Österreich\n",
    "        lataxis={\"range\": [46, 49]},  # Begrenzt den Breitengradbereich\n",
    "        lonaxis={\"range\": [9, 17]},  # Begrenzt den Längengradbereich\n",
    "        countrycolor=\"DarkBlue\",\n",
    "        landcolor=\"White\",\n",
    "        showcountries=True,\n",
    "        countrywidth=1.0\n",
    "    )\n",
    ")\n",
    "\n",
    "fig = go.Figure(data=austriamap, layout=layout)\n",
    "fig.show()"
   ]
  },
  {
   "cell_type": "code",
   "execution_count": 121,
   "id": "10cced98",
   "metadata": {},
   "outputs": [
    {
     "data": {
      "application/vnd.plotly.v1+json": {
       "config": {
        "plotlyServerURL": "https://plot.ly"
       },
       "data": [
        {
         "colorbar": {
          "title": {
           "text": "Anzahl der Geimpften"
          }
         },
         "colorscale": [
          [
           0,
           "rgb(247,251,255)"
          ],
          [
           0.125,
           "rgb(222,235,247)"
          ],
          [
           0.25,
           "rgb(198,219,239)"
          ],
          [
           0.375,
           "rgb(158,202,225)"
          ],
          [
           0.5,
           "rgb(107,174,214)"
          ],
          [
           0.625,
           "rgb(66,146,198)"
          ],
          [
           0.75,
           "rgb(33,113,181)"
          ],
          [
           0.875,
           "rgb(8,81,156)"
          ],
          [
           1,
           "rgb(8,48,107)"
          ]
         ],
         "featureidkey": "properties.iso",
         "geojson": {
          "crs": {
           "properties": {
            "name": "urn:ogc:def:crs:OGC:1.3:CRS84"
           },
           "type": "name"
          },
          "features": [
           {
            "geometry": {
             "coordinates": [
              [
               [
                [
                 12.708906048803351,
                 46.736370258232114
                ],
                [
                 12.687814998391627,
                 46.657687939565015
                ],
                [
                 12.62821625546327,
                 46.66210597394938
                ],
                [
                 12.548422273560332,
                 46.65947484467683
                ],
                [
                 12.424214927277898,
                 46.69980654007058
                ],
                [
                 12.374798258989214,
                 46.72301852722734
                ],
                [
                 12.35460834340331,
                 46.77568491587727
                ],
                [
                 12.306142163751153,
                 46.785705936866705
                ],
                [
                 12.289024792646087,
                 46.865910021407046
                ],
                [
                 12.27107091505439,
                 46.88493797950103
                ],
                [
                 12.215309947954404,
                 46.87446771907225
                ],
                [
                 12.165533736965445,
                 46.93900115687934
                ],
                [
                 12.135444934530662,
                 46.95718551698287
                ],
                [
                 12.118351563502069,
                 47.006780453973406
                ],
                [
                 12.144589646846239,
                 47.02561613327365
                ],
                [
                 12.202045768383902,
                 47.02769206781959
                ],
                [
                 12.237924613286085,
                 47.069884004190115
                ],
                [
                 12.280957414203254,
                 47.09326480647793
                ],
                [
                 12.342795704847681,
                 47.10998476028861
                ],
                [
                 12.360454539252105,
                 47.142098997698724
                ],
                [
                 12.396701690532645,
                 47.15351595995203
                ],
                [
                 12.462736611250595,
                 47.14506846369805
                ],
                [
                 12.48070043046074,
                 47.15855964154146
                ],
                [
                 12.563556470390875,
                 47.136739497405685
                ],
                [
                 12.5894168444659,
                 47.12558674595656
                ],
                [
                 12.654016066248188,
                 47.100231353836485
                ],
                [
                 12.707697515119014,
                 47.04914786384203
                ],
                [
                 12.752064972756102,
                 47.02557638523418
                ],
                [
                 12.73826593135879,
                 46.96970298983289
                ],
                [
                 12.756752974781406,
                 46.95732550566128
                ],
                [
                 12.78359041430831,
                 46.940276760811784
                ],
                [
                 12.790855801946638,
                 46.92719618819176
                ],
                [
                 12.805634318053574,
                 46.92331374882672
                ],
                [
                 12.819009511450858,
                 46.917531662989035
                ],
                [
                 12.838340668011002,
                 46.86169424249905
                ],
                [
                 12.89278121589817,
                 46.82652148783386
                ],
                [
                 12.90264695172511,
                 46.82334499490438
                ],
                [
                 12.904298041316295,
                 46.82338779024406
                ],
                [
                 12.960670629253963,
                 46.79936335184976
                ],
                [
                 12.928609757041915,
                 46.76475736834992
                ],
                [
                 12.896567448024967,
                 46.777562323716694
                ],
                [
                 12.854022169611744,
                 46.76088408544631
                ],
                [
                 12.83840776878861,
                 46.75005145771911
                ],
                [
                 12.807097813753057,
                 46.75699830816364
                ],
                [
                 12.793001465389452,
                 46.75605573563165
                ],
                [
                 12.745381295751143,
                 46.74816493301869
                ],
                [
                 12.708906048803351,
                 46.736370258232114
                ]
               ]
              ],
              [
               [
                [
                 10.621446193557658,
                 46.865129833771505
                ],
                [
                 10.567670311638754,
                 46.84312600058576
                ],
                [
                 10.466817101807274,
                 46.85563731032554
                ],
                [
                 10.461859818510101,
                 46.88500413143552
                ],
                [
                 10.486513742396113,
                 46.938512613423626
                ],
                [
                 10.453920431976055,
                 46.952130725004864
                ],
                [
                 10.386480665215979,
                 47.00124676440322
                ],
                [
                 10.346141472622726,
                 46.991333955227006
                ],
                [
                 10.294046176153982,
                 46.92067957879495
                ],
                [
                 10.2388600019946,
                 46.93235848521496
                ],
                [
                 10.229100082545589,
                 46.8674600446882
                ],
                [
                 10.142134531334351,
                 46.85173310139351
                ],
                [
                 10.095380369809417,
                 46.92808123012872
                ],
                [
                 10.15696699113046,
                 46.98447380186136
                ],
                [
                 10.131710106273683,
                 47.03007593651905
                ],
                [
                 10.130705085035299,
                 47.07861162544421
                ],
                [
                 10.210157276244534,
                 47.15830616955267
                ],
                [
                 10.208581427535876,
                 47.172052842700865
                ],
                [
                 10.194909802163204,
                 47.23730371456389
                ],
                [
                 10.175515804959819,
                 47.27083541340971
                ],
                [
                 10.229522455336305,
                 47.27124282735078
                ],
                [
                 10.263139502469024,
                 47.28879731342489
                ],
                [
                 10.345967022921542,
                 47.31822954598765
                ],
                [
                 10.39470273530341,
                 47.37759933682062
                ],
                [
                 10.433934189600418,
                 47.38108326198349
                ],
                [
                 10.435717385282741,
                 47.414262298769295
                ],
                [
                 10.467386132281675,
                 47.449250152438665
                ],
                [
                 10.460930568529879,
                 47.48345976455217
                ],
                [
                 10.432896912747138,
                 47.496085759022996
                ],
                [
                 10.451606268660269,
                 47.5565158960459
                ],
                [
                 10.48608214882319,
                 47.541123345902896
                ],
                [
                 10.49494077517394,
                 47.53982185422103
                ],
                [
                 10.52170443832089,
                 47.53588526029041
                ],
                [
                 10.560017708085406,
                 47.53677717184118
                ],
                [
                 10.59512557590957,
                 47.57045868150772
                ],
                [
                 10.675179690462913,
                 47.55695507424351
                ],
                [
                 10.73755124416664,
                 47.5392501933462
                ],
                [
                 10.760934072815889,
                 47.5203156477209
                ],
                [
                 10.887521284279195,
                 47.53800568248985
                ],
                [
                 10.883706183927114,
                 47.480880951846565
                ],
                [
                 10.929652859498093,
                 47.46875195999207
                ],
                [
                 10.9807847401356,
                 47.43073584204067
                ],
                [
                 10.988373470002166,
                 47.396849160997995
                ],
                [
                 11.013671491602462,
                 47.397086133818576
                ],
                [
                 11.0525460169938,
                 47.39668393224864
                ],
                [
                 11.097869829078155,
                 47.39511051066365
                ],
                [
                 11.202656984421157,
                 47.43460935986391
                ],
                [
                 11.219479238422403,
                 47.398065066527415
                ],
                [
                 11.269703523772494,
                 47.398689996725146
                ],
                [
                 11.288177067823016,
                 47.42777621575619
                ],
                [
                 11.333259151212076,
                 47.449348710557736
                ],
                [
                 11.418602198400968,
                 47.44556864007676
                ],
                [
                 11.388716308988093,
                 47.483158994288885
                ],
                [
                 11.446498747299188,
                 47.50794729087614
                ],
                [
                 11.569583796482195,
                 47.5152212776142
                ],
                [
                 11.597829189077459,
                 47.56857334499714
                ],
                [
                 11.655378728105196,
                 47.58483975499621
                ],
                [
                 11.772244891055076,
                 47.59111923429204
                ],
                [
                 11.844538310587,
                 47.58302152110163
                ],
                [
                 11.891469151198377,
                 47.60916262349546
                ],
                [
                 12.009937678897424,
                 47.623915322063155
                ],
                [
                 12.079529921310117,
                 47.6104586736182
                ],
                [
                 12.14662968633101,
                 47.609353336492454
                ],
                [
                 12.175320951558362,
                 47.60160342259396
                ],
                [
                 12.195595985396162,
                 47.64285407432214
                ],
                [
                 12.184026980293938,
                 47.65804441718302
                ],
                [
                 12.180651314626534,
                 47.70120062762335
                ],
                [
                 12.240330224610581,
                 47.69238467703806
                ],
                [
                 12.254361683792434,
                 47.679812739802
                ],
                [
                 12.324310078465027,
                 47.69608147950925
                ],
                [
                 12.33717443056712,
                 47.6910781928758
                ],
                [
                 12.437252407684086,
                 47.695932457970244
                ],
                [
                 12.437942165400903,
                 47.67460365242248
                ],
                [
                 12.496355889630921,
                 47.62581036913322
                ],
                [
                 12.522425020996293,
                 47.631461509939584
                ],
                [
                 12.572213000152678,
                 47.63302734283744
                ],
                [
                 12.571713210946912,
                 47.60570124217504
                ],
                [
                 12.650732825987651,
                 47.588739771087816
                ],
                [
                 12.62535195417081,
                 47.55025842621544
                ],
                [
                 12.651318336612611,
                 47.53748228560774
                ],
                [
                 12.662316157261458,
                 47.506781030711906
                ],
                [
                 12.696777382304528,
                 47.47859809099986
                ],
                [
                 12.629463336415112,
                 47.465777514603346
                ],
                [
                 12.629478377239565,
                 47.432807492676346
                ],
                [
                 12.621757739986972,
                 47.42322767010251
                ],
                [
                 12.575794307927712,
                 47.39321028987878
                ],
                [
                 12.542482549397553,
                 47.39875406995694
                ],
                [
                 12.503274276420276,
                 47.394842678075356
                ],
                [
                 12.476154094388688,
                 47.368943885527884
                ],
                [
                 12.492393544557732,
                 47.33812330074012
                ],
                [
                 12.47549976642619,
                 47.32710774589435
                ],
                [
                 12.37177067497208,
                 47.31202262451423
                ],
                [
                 12.33243725497615,
                 47.32923161071505
                ],
                [
                 12.29368730421171,
                 47.32880364491527
                ],
                [
                 12.261297429832275,
                 47.302924956931115
                ],
                [
                 12.25187573191091,
                 47.30867861955565
                ],
                [
                 12.21616138062162,
                 47.31184493836425
                ],
                [
                 12.161804090720976,
                 47.30225548421314
                ],
                [
                 12.11172562405633,
                 47.307158890850715
                ],
                [
                 12.075754696908119,
                 47.27589522045737
                ],
                [
                 12.107262767387029,
                 47.24110464334159
                ],
                [
                 12.0799689120931,
                 47.196434418696505
                ],
                [
                 12.090447365445778,
                 47.14676824315532
                ],
                [
                 12.133192576151718,
                 47.08138357679902
                ],
                [
                 12.017121405985966,
                 47.04778411332054
                ],
                [
                 11.976302948360514,
                 47.05071756822536
                ],
                [
                 11.871221080459375,
                 47.010795853416134
                ],
                [
                 11.761502559228102,
                 46.973467443400445
                ],
                [
                 11.708564156894194,
                 46.99396640682449
                ],
                [
                 11.661565928376545,
                 46.99265408144388
                ],
                [
                 11.62437336198879,
                 47.014017249269244
                ],
                [
                 11.58707436084756,
                 47.006113145263335
                ],
                [
                 11.535699669879767,
                 46.9847991350959
                ],
                [
                 11.475939460574509,
                 47.0116969716107
                ],
                [
                 11.43205135015384,
                 46.974812456332245
                ],
                [
                 11.398692874663546,
                 46.96569498502723
                ],
                [
                 11.356262359666182,
                 46.99091703234566
                ],
                [
                 11.317672499645997,
                 46.993090697138044
                ],
                [
                 11.24645582377226,
                 46.97489913417677
                ],
                [
                 11.161450501034402,
                 46.966442235048454
                ],
                [
                 11.152137670378973,
                 46.93474335229433
                ],
                [
                 11.112563878850608,
                 46.93220792675269
                ],
                [
                 11.069056213028512,
                 46.85672201174444
                ],
                [
                 11.080594534498601,
                 46.82325010558045
                ],
                [
                 11.033221878969464,
                 46.79460921420747
                ],
                [
                 11.01914495199923,
                 46.76662828387846
                ],
                [
                 10.915267525310016,
                 46.77569752888964
                ],
                [
                 10.880113888722828,
                 46.76356772659452
                ],
                [
                 10.793090242425658,
                 46.792036941378946
                ],
                [
                 10.761011171375584,
                 46.823350473631386
                ],
                [
                 10.69127276896304,
                 46.85287124599388
                ],
                [
                 10.664533079139378,
                 46.876212266836106
                ],
                [
                 10.621446193557658,
                 46.865129833771505
                ]
               ]
              ],
              [
               [
                [
                 10.451606268660269,
                 47.5565158960459
                ],
                [
                 10.43211614062269,
                 47.58434362891172
                ],
                [
                 10.466845068726881,
                 47.58784816659636
                ],
                [
                 10.451606268660269,
                 47.5565158960459
                ]
               ]
              ]
             ],
             "type": "MultiPolygon"
            },
            "properties": {
             "iso": "7",
             "name": "Tirol"
            },
            "type": "Feature"
           },
           {
            "geometry": {
             "coordinates": [
              [
               [
                [
                 10.131710106273683,
                 47.03007593651905
                ],
                [
                 10.15696699113046,
                 46.98447380186136
                ],
                [
                 10.095380369809417,
                 46.92808123012872
                ],
                [
                 10.142134531334351,
                 46.85173310139351
                ],
                [
                 10.084607822663017,
                 46.861924493419814
                ],
                [
                 9.975045857897188,
                 46.91661377194212
                ],
                [
                 9.943300382180304,
                 46.91308046235146
                ],
                [
                 9.873472458173548,
                 46.9358597522813
                ],
                [
                 9.88595733270574,
                 47.00145701328279
                ],
                [
                 9.790312411237773,
                 47.03197639952213
                ],
                [
                 9.705314358299798,
                 47.05355071067595
                ],
                [
                 9.674611092605879,
                 47.06213107256141
                ],
                [
                 9.604234693994679,
                 47.06149897975254
                ],
                [
                 9.63155980599962,
                 47.10181666977854
                ],
                [
                 9.617737867746301,
                 47.15236918432538
                ],
                [
                 9.57029884553658,
                 47.17642945369458
                ],
                [
                 9.581966650939734,
                 47.20529419545041
                ],
                [
                 9.527906274165764,
                 47.27130446534194
                ],
                [
                 9.556383781335274,
                 47.30091465843335
                ],
                [
                 9.585446891637062,
                 47.3182672826373
                ],
                [
                 9.593511040008812,
                 47.338242925141124
                ],
                [
                 9.616832692245142,
                 47.363157550504276
                ],
                [
                 9.646704609417956,
                 47.368168576420665
                ],
                [
                 9.670737857835704,
                 47.39201317736705
                ],
                [
                 9.649039609013167,
                 47.409514420679024
                ],
                [
                 9.656608880410563,
                 47.45210456370628
                ],
                [
                 9.604408048327947,
                 47.47105056049308
                ],
                [
                 9.590053123568174,
                 47.4666961752656
                ],
                [
                 9.559020177329709,
                 47.49735265730645
                ],
                [
                 9.575891483429718,
                 47.508236233244844
                ],
                [
                 9.61378241176977,
                 47.514851178860454
                ],
                [
                 9.637723710860172,
                 47.51902358905906
                ],
                [
                 9.665000937735615,
                 47.523770376211125
                ],
                [
                 9.729273360385836,
                 47.53444768379634
                ],
                [
                 9.752841469113573,
                 47.57288534772455
                ],
                [
                 9.773109717594943,
                 47.594125549008055
                ],
                [
                 9.817471623702062,
                 47.588360957551934
                ],
                [
                 9.826928505743602,
                 47.54525343563684
                ],
                [
                 9.871652054892266,
                 47.52925971450445
                ],
                [
                 9.877395933603122,
                 47.54863554637214
                ],
                [
                 9.962190659269536,
                 47.523721220675526
                ],
                [
                 9.996688566113756,
                 47.483737773966546
                ],
                [
                 10.034595458307908,
                 47.489898611763174
                ],
                [
                 10.101056495934124,
                 47.43122557134696
                ],
                [
                 10.070795318012706,
                 47.41515218607402
                ],
                [
                 10.094800257756095,
                 47.360579545574325
                ],
                [
                 10.097013498573132,
                 47.355482519485925
                ],
                [
                 10.11650965136806,
                 47.376335070568906
                ],
                [
                 10.166753684278076,
                 47.3720218050919
                ],
                [
                 10.19215131666309,
                 47.39008974130895
                ],
                [
                 10.234189635234534,
                 47.37437608647386
                ],
                [
                 10.169250645198016,
                 47.279800065458026
                ],
                [
                 10.175515804959819,
                 47.27083541340971
                ],
                [
                 10.194909802163204,
                 47.23730371456389
                ],
                [
                 10.208581427535876,
                 47.172052842700865
                ],
                [
                 10.210157276244534,
                 47.15830616955267
                ],
                [
                 10.130705085035299,
                 47.07861162544421
                ],
                [
                 10.131710106273683,
                 47.03007593651905
                ]
               ]
              ]
             ],
             "type": "MultiPolygon"
            },
            "properties": {
             "iso": "8",
             "name": "Vorarlberg"
            },
            "type": "Feature"
           },
           {
            "geometry": {
             "coordinates": [
              [
               [
                [
                 16.362860914712996,
                 48.12936740383815
                ],
                [
                 16.309429782935833,
                 48.12022714306248
                ],
                [
                 16.29577743156106,
                 48.126017999864594
                ],
                [
                 16.226346919323102,
                 48.12784698736299
                ],
                [
                 16.222751181809326,
                 48.12616536751681
                ],
                [
                 16.215319946458333,
                 48.12876260702782
                ],
                [
                 16.22042735257546,
                 48.15387843224085
                ],
                [
                 16.195198488648696,
                 48.155241722116926
                ],
                [
                 16.179122869495856,
                 48.17172505807664
                ],
                [
                 16.20461564491174,
                 48.20303439441751
                ],
                [
                 16.18239186839708,
                 48.22390134272117
                ],
                [
                 16.205295593469874,
                 48.264791213360155
                ],
                [
                 16.253842706615437,
                 48.24057601187154
                ],
                [
                 16.282784673675316,
                 48.25901822523876
                ],
                [
                 16.353184316827658,
                 48.284042653322786
                ],
                [
                 16.360411753940745,
                 48.28299603442784
                ],
                [
                 16.39239950424916,
                 48.323256351480374
                ],
                [
                 16.425226930412876,
                 48.32107384619422
                ],
                [
                 16.471936075452582,
                 48.276008516001454
                ],
                [
                 16.4994138251528,
                 48.291052237931495
                ],
                [
                 16.512124331592528,
                 48.28622670147884
                ],
                [
                 16.54420825354776,
                 48.26369178826104
                ],
                [
                 16.549971211397587,
                 48.23969285403885
                ],
                [
                 16.533509707881418,
                 48.177768384145324
                ],
                [
                 16.574217561105915,
                 48.14513007099916
                ],
                [
                 16.57325705011586,
                 48.13591277512623
                ],
                [
                 16.511013602174128,
                 48.1596215500773
                ],
                [
                 16.43344804359402,
                 48.13867258550262
                ],
                [
                 16.434246243952863,
                 48.12062596106924
                ],
                [
                 16.410046375913776,
                 48.118937473447055
                ],
                [
                 16.38556577135256,
                 48.12606494554488
                ],
                [
                 16.363113841196046,
                 48.129094678210095
                ],
                [
                 16.362860914712996,
                 48.12936740383815
                ]
               ]
              ]
             ],
             "type": "MultiPolygon"
            },
            "properties": {
             "iso": "9",
             "name": "Wien"
            },
            "type": "Feature"
           },
           {
            "geometry": {
             "coordinates": [
              [
               [
                [
                 16.06292885586225,
                 46.85059656895981
                ],
                [
                 15.993444557407093,
                 46.8361010228545
                ],
                [
                 15.999889799681938,
                 46.84759547874293
                ],
                [
                 16.02063565181343,
                 46.88863061392031
                ],
                [
                 16.032607364588106,
                 46.893565782674635
                ],
                [
                 16.051258370533102,
                 46.911077148922466
                ],
                [
                 16.0920023328516,
                 46.93504614362515
                ],
                [
                 16.092612098137973,
                 46.95473777555299
                ],
                [
                 16.104969698078822,
                 46.966031480721185
                ],
                [
                 16.151740961122126,
                 46.99151535103217
                ],
                [
                 16.142810831509557,
                 47.00050122374456
                ],
                [
                 16.12793859490346,
                 47.01282713383637
                ],
                [
                 16.0955744934835,
                 47.061767746088016
                ],
                [
                 16.08379119127893,
                 47.088540159123625
                ],
                [
                 16.09200488331858,
                 47.112900947470955
                ],
                [
                 16.11223706808718,
                 47.13389169512108
                ],
                [
                 16.106498791610996,
                 47.16748643081477
                ],
                [
                 16.099793329518068,
                 47.18435125977481
                ],
                [
                 16.08870982183728,
                 47.199163592268384
                ],
                [
                 16.090014113418867,
                 47.200610938367774
                ],
                [
                 16.083734166890213,
                 47.23424160111403
                ],
                [
                 16.07348043721224,
                 47.27232749291293
                ],
                [
                 16.071944319118813,
                 47.275387030187574
                ],
                [
                 16.055664585847495,
                 47.31082316246469
                ],
                [
                 16.05673238140275,
                 47.315391460800434
                ],
                [
                 16.031718176228672,
                 47.356307783280435
                ],
                [
                 16.027430487596547,
                 47.37210245401324
                ],
                [
                 16.031256102645052,
                 47.372894344310296
                ],
                [
                 16.02732620577123,
                 47.37998987335984
                ],
                [
                 16.055967976466043,
                 47.384506814206084
                ],
                [
                 16.05763297797225,
                 47.38493882757068
                ],
                [
                 16.081326072415987,
                 47.40985517946214
                ],
                [
                 16.113357185217723,
                 47.41457019243507
                ],
                [
                 16.138900969886,
                 47.41820793584231
                ],
                [
                 16.16225508757511,
                 47.421446209348034
                ],
                [
                 16.168984537359943,
                 47.42309851780552
                ],
                [
                 16.204232454542808,
                 47.42534545906766
                ],
                [
                 16.250379469394755,
                 47.44879197302711
                ],
                [
                 16.27829728927083,
                 47.45583072325187
                ],
                [
                 16.31803676050826,
                 47.49440856379773
                ],
                [
                 16.33689793466329,
                 47.51686862264116
                ],
                [
                 16.31343312313319,
                 47.54302902159353
                ],
                [
                 16.310899424541972,
                 47.54343328881605
                ],
                [
                 16.310379184086287,
                 47.56604267323226
                ],
                [
                 16.328181570547695,
                 47.59020133838872
                ],
                [
                 16.34157804623995,
                 47.603496687062126
                ],
                [
                 16.36972106462448,
                 47.643182430568785
                ],
                [
                 16.353910123786463,
                 47.680223516491566
                ],
                [
                 16.32098198217421,
                 47.684020871094084
                ],
                [
                 16.30626007036071,
                 47.68786961112027
                ],
                [
                 16.30633345433366,
                 47.69610853538658
                ],
                [
                 16.292270048199715,
                 47.71600852539431
                ],
                [
                 16.292853913209843,
                 47.74298347359984
                ],
                [
                 16.296561008927558,
                 47.76188094970652
                ],
                [
                 16.29560707465297,
                 47.762426246673286
                ],
                [
                 16.26596696179286,
                 47.79177241507691
                ],
                [
                 16.283111982106668,
                 47.812154047917055
                ],
                [
                 16.312839520214343,
                 47.78528870451298
                ],
                [
                 16.35197571862428,
                 47.82140801243818
                ],
                [
                 16.359575179437723,
                 47.82395074491146
                ],
                [
                 16.374408353813276,
                 47.82801619560718
                ],
                [
                 16.371726354412612,
                 47.85318242791672
                ],
                [
                 16.345205623935428,
                 47.86884180661631
                ],
                [
                 16.379864999603505,
                 47.87697313029638
                ],
                [
                 16.386112966164124,
                 47.88229641225812
                ],
                [
                 16.42002654599533,
                 47.90262218974607
                ],
                [
                 16.449579415505003,
                 47.934958462722626
                ],
                [
                 16.515899532448145,
                 47.944264537338306
                ],
                [
                 16.538264510538703,
                 47.920369002731974
                ],
                [
                 16.571232259949394,
                 47.88696873231212
                ],
                [
                 16.577502815389312,
                 47.889302841196105
                ],
                [
                 16.59453528022339,
                 47.90458679138213
                ],
                [
                 16.605575246026643,
                 47.913049268193646
                ],
                [
                 16.629303767916955,
                 47.93410193548187
                ],
                [
                 16.629113866608552,
                 47.934487523744856
                ],
                [
                 16.637013055109616,
                 47.94663617645925
                ],
                [
                 16.662417861038595,
                 47.95776385758359
                ],
                [
                 16.698409667384464,
                 47.974499943912654
                ],
                [
                 16.699325155015398,
                 48.01234541497467
                ],
                [
                 16.8224484323827,
                 48.029842217267436
                ],
                [
                 16.825388139976685,
                 48.029851275277565
                ],
                [
                 16.871311734331908,
                 48.07304320397352
                ],
                [
                 16.901505578559604,
                 48.07170756911927
                ],
                [
                 16.912439984108136,
                 48.0573978763389
                ],
                [
                 16.966191013958028,
                 48.02688375933133
                ],
                [
                 16.990966118475157,
                 48.04615674102818
                ],
                [
                 17.013523461741293,
                 48.07421258671947
                ],
                [
                 16.995991166528455,
                 48.084821275472564
                ],
                [
                 16.968312239323314,
                 48.10126385975401
                ],
                [
                 16.98377462656014,
                 48.112100974566474
                ],
                [
                 16.99508675688021,
                 48.109778326838715
                ],
                [
                 17.00437190427233,
                 48.09215768227161
                ],
                [
                 17.033224294610196,
                 48.0849940261275
                ],
                [
                 17.0639703389668,
                 48.119372977795
                ],
                [
                 17.067390953142212,
                 48.05770374615449
                ],
                [
                 17.072854908075506,
                 48.02824246222237
                ],
                [
                 17.10728240058563,
                 48.03192458486286
                ],
                [
                 17.15786908837973,
                 48.00722705356292
                ],
                [
                 17.09188970442628,
                 47.9715637746233
                ],
                [
                 17.114213572049977,
                 47.96159564440019
                ],
                [
                 17.10139670289824,
                 47.899952847634395
                ],
                [
                 17.075026504657576,
                 47.878239703521594
                ],
                [
                 17.008422643118024,
                 47.85809103152148
                ],
                [
                 17.04414003527141,
                 47.82904489461225
                ],
                [
                 17.067988587955945,
                 47.75064893321053
                ],
                [
                 17.068491944686123,
                 47.70734546518337
                ],
                [
                 17.037366782040753,
                 47.70501681009862
                ],
                [
                 16.956554676862233,
                 47.6934040684487
                ],
                [
                 16.86885591602544,
                 47.69079982555234
                ],
                [
                 16.864127728652694,
                 47.72233776522754
                ],
                [
                 16.825550790348405,
                 47.68343003857542
                ],
                [
                 16.746249931218795,
                 47.68212465361253
                ],
                [
                 16.737020305371466,
                 47.69594609890398
                ],
                [
                 16.718164802359098,
                 47.736029476109195
                ],
                [
                 16.654397498250383,
                 47.74225112165735
                ],
                [
                 16.631485811337217,
                 47.75974811334682
                ],
                [
                 16.61935403324121,
                 47.75793646235263
                ],
                [
                 16.588171540535217,
                 47.758657291005036
                ],
                [
                 16.539944205865016,
                 47.74304196274296
                ],
                [
                 16.534788735311388,
                 47.74069163948882
                ],
                [
                 16.5336858091214,
                 47.73733785616481
                ],
                [
                 16.494986821815136,
                 47.70411003711086
                ],
                [
                 16.44454765373676,
                 47.69700515540072
                ],
                [
                 16.418762235075995,
                 47.66599463668965
                ],
                [
                 16.419065734321073,
                 47.66540076884538
                ],
                [
                 16.447440481309574,
                 47.65649513553265
                ],
                [
                 16.49504641447893,
                 47.640047784040384
                ],
                [
                 16.513624617929747,
                 47.64607168961034
                ],
                [
                 16.587467933694693,
                 47.61815920186904
                ],
                [
                 16.650150250037502,
                 47.622933043767326
                ],
                [
                 16.660368296847604,
                 47.569398933656224
                ],
                [
                 16.70282078270522,
                 47.52388678306067
                ],
                [
                 16.649559959279543,
                 47.50103285908685
                ],
                [
                 16.6592441398403,
                 47.45639763988556
                ],
                [
                 16.609024577645982,
                 47.43232726685147
                ],
                [
                 16.585114694932837,
                 47.423478381971535
                ],
                [
                 16.572966932473676,
                 47.40705896891354
                ],
                [
                 16.455909694105863,
                 47.413685371410274
                ],
                [
                 16.45421358162934,
                 47.367931263774615
                ],
                [
                 16.430978378251755,
                 47.35361641726944
                ],
                [
                 16.460229585514284,
                 47.33650737722064
                ],
                [
                 16.47536651328228,
                 47.27580197324926
                ],
                [
                 16.42769378317476,
                 47.25105269418027
                ],
                [
                 16.41411312421021,
                 47.20603833787363
                ],
                [
                 16.418314416059623,
                 47.197824486953344
                ],
                [
                 16.45046806412569,
                 47.18882085596126
                ],
                [
                 16.451514619913517,
                 47.14300862345645
                ],
                [
                 16.497089227248306,
                 47.12411363545492
                ],
                [
                 16.461827485158516,
                 47.09965089474552
                ],
                [
                 16.48450167558544,
                 47.06953996729686
                ],
                [
                 16.4484602172117,
                 47.04078654143369
                ],
                [
                 16.489742666748867,
                 47.010867066630965
                ],
                [
                 16.424683505828202,
                 46.9938368845392
                ],
                [
                 16.38373849435677,
                 47.00112410683754
                ],
                [
                 16.34015105970244,
                 46.999794818816234
                ],
                [
                 16.319681953878646,
                 47.003264715475744
                ],
                [
                 16.29948484882968,
                 46.999134689026306
                ],
                [
                 16.29595589732107,
                 47.00677492785637
                ],
                [
                 16.286511552627722,
                 47.01412270172017
                ],
                [
                 16.252534754682205,
                 46.96490969573436
                ],
                [
                 16.20724352130954,
                 46.94320062412089
                ],
                [
                 16.19475542672988,
                 46.940658521397594
                ],
                [
                 16.176434891954955,
                 46.907343743319686
                ],
                [
                 16.089141127913905,
                 46.86528228567972
                ],
                [
                 16.06292885586225,
                 46.85059656895981
                ]
               ]
              ]
             ],
             "type": "MultiPolygon"
            },
            "properties": {
             "iso": "1",
             "name": "Burgenland"
            },
            "type": "Feature"
           },
           {
            "geometry": {
             "coordinates": [
              [
               [
                [
                 14.431692925911257,
                 46.44365425302772
                ],
                [
                 14.305342799404816,
                 46.431338016743794
                ],
                [
                 14.28039112325805,
                 46.444209047511066
                ],
                [
                 14.234377009537496,
                 46.43292966140553
                ],
                [
                 14.188290480159955,
                 46.44463875719028
                ],
                [
                 14.151832852705116,
                 46.43638612801249
                ],
                [
                 14.108624532282356,
                 46.479516018884404
                ],
                [
                 14.047936696941981,
                 46.49390231330789
                ],
                [
                 14.003683669933451,
                 46.482070900703945
                ],
                [
                 13.972825007641028,
                 46.498978509036355
                ],
                [
                 13.909152198216141,
                 46.52184892138495
                ],
                [
                 13.796129488432994,
                 46.50725382920029
                ],
                [
                 13.6883135349986,
                 46.52171292062461
                ],
                [
                 13.619081134351674,
                 46.542909931771035
                ],
                [
                 13.511982045177659,
                 46.54952811507516
                ],
                [
                 13.50143526403357,
                 46.56701736426058
                ],
                [
                 13.420670044436319,
                 46.55928901690671
                ],
                [
                 13.369421917320153,
                 46.57998709766953
                ],
                [
                 13.319276323709943,
                 46.55392028719338
                ],
                [
                 13.249993269013684,
                 46.5611940504026
                ],
                [
                 13.165783664211574,
                 46.589614349290045
                ],
                [
                 13.084789000801713,
                 46.60197302792549
                ],
                [
                 13.06781896006076,
                 46.600231131949634
                ],
                [
                 13.029760059273684,
                 46.596731636449576
                ],
                [
                 12.93075056680859,
                 46.6104151416533
                ],
                [
                 12.887392948554197,
                 46.607939085915575
                ],
                [
                 12.830858429966487,
                 46.61060259950278
                ],
                [
                 12.773114549599189,
                 46.647408684654124
                ],
                [
                 12.728569302262331,
                 46.635007776264885
                ],
                [
                 12.687814998391627,
                 46.657687939565015
                ],
                [
                 12.708906048803351,
                 46.736370258232114
                ],
                [
                 12.745381295751143,
                 46.74816493301869
                ],
                [
                 12.793001465389452,
                 46.75605573563165
                ],
                [
                 12.807097813753057,
                 46.75699830816364
                ],
                [
                 12.83840776878861,
                 46.75005145771911
                ],
                [
                 12.854022169611744,
                 46.76088408544631
                ],
                [
                 12.896567448024967,
                 46.777562323716694
                ],
                [
                 12.928609757041915,
                 46.76475736834992
                ],
                [
                 12.960670629253963,
                 46.79936335184976
                ],
                [
                 12.904298041316295,
                 46.82338779024406
                ],
                [
                 12.90264695172511,
                 46.82334499490438
                ],
                [
                 12.89278121589817,
                 46.82652148783386
                ],
                [
                 12.838340668011002,
                 46.86169424249905
                ],
                [
                 12.819009511450858,
                 46.917531662989035
                ],
                [
                 12.805634318053574,
                 46.92331374882672
                ],
                [
                 12.790855801946638,
                 46.92719618819176
                ],
                [
                 12.78359041430831,
                 46.940276760811784
                ],
                [
                 12.756752974781406,
                 46.95732550566128
                ],
                [
                 12.73826593135879,
                 46.96970298983289
                ],
                [
                 12.752064972756102,
                 47.02557638523418
                ],
                [
                 12.707697515119014,
                 47.04914786384203
                ],
                [
                 12.654016066248188,
                 47.100231353836485
                ],
                [
                 12.663320495046412,
                 47.12354691699273
                ],
                [
                 12.728080438914334,
                 47.13170610856031
                ],
                [
                 12.736033033360467,
                 47.10102981945141
                ],
                [
                 12.817464537284497,
                 47.09837715608704
                ],
                [
                 12.934473141851598,
                 47.07671988824226
                ],
                [
                 12.950189502492924,
                 47.0499694167178
                ],
                [
                 12.982537409143534,
                 47.036315422559284
                ],
                [
                 13.000275721836859,
                 47.04458431950818
                ],
                [
                 13.070207373241482,
                 47.01412404171541
                ],
                [
                 13.077521976587828,
                 47.02752186224722
                ],
                [
                 13.245313561168297,
                 47.05128768878815
                ],
                [
                 13.274503599910444,
                 47.095862267896415
                ],
                [
                 13.35170799917132,
                 47.09781536481606
                ],
                [
                 13.403554866604855,
                 47.06996352363297
                ],
                [
                 13.424763290456012,
                 47.0820862928719
                ],
                [
                 13.591419662691269,
                 47.056673264809525
                ],
                [
                 13.634826979627563,
                 47.056210337271956
                ],
                [
                 13.683729312368797,
                 47.04052982514287
                ],
                [
                 13.696406737061356,
                 47.00399643062416
                ],
                [
                 13.768931487558667,
                 46.97779355575246
                ],
                [
                 13.781858253483055,
                 46.944566726240176
                ],
                [
                 13.812548725751137,
                 46.91922079716213
                ],
                [
                 13.879060825088889,
                 46.91852569455783
                ],
                [
                 13.94391568309175,
                 46.941339953575834
                ],
                [
                 13.965353819946968,
                 46.96375750198801
                ],
                [
                 14.013625887190985,
                 46.989780922491505
                ],
                [
                 14.076338288515274,
                 47.02273881391121
                ],
                [
                 14.129757610613044,
                 47.06305077344774
                ],
                [
                 14.158799840554162,
                 47.05312008248935
                ],
                [
                 14.19962181928544,
                 47.0766044867391
                ],
                [
                 14.232236104985565,
                 47.02653071848637
                ],
                [
                 14.234893334266026,
                 47.02906133305401
                ],
                [
                 14.327397088037056,
                 47.02984590762905
                ],
                [
                 14.42739604891257,
                 47.00118650442543
                ],
                [
                 14.4690500355669,
                 47.00841794284422
                ],
                [
                 14.583124270383646,
                 47.0124232984338
                ],
                [
                 14.612463774440057,
                 46.998655758835234
                ],
                [
                 14.624948149152406,
                 47.01428298253796
                ],
                [
                 14.695861526766844,
                 47.01698773271139
                ],
                [
                 14.771524903004831,
                 47.04001782848264
                ],
                [
                 14.841676489061658,
                 47.048805304818195
                ],
                [
                 14.84417882509954,
                 47.03364454740318
                ],
                [
                 14.882741006492154,
                 47.01187740670246
                ],
                [
                 14.964149997281826,
                 46.982472194636294
                ],
                [
                 15.024207631891255,
                 46.910440804398895
                ],
                [
                 15.012112493120615,
                 46.881946353479314
                ],
                [
                 15.005425055975238,
                 46.880570359407294
                ],
                [
                 15.016832434338669,
                 46.844960815216176
                ],
                [
                 14.973464266422333,
                 46.785491239529
                ],
                [
                 14.993871884429375,
                 46.78153279916539
                ],
                [
                 15.028749900382708,
                 46.746421499326736
                ],
                [
                 15.039478767649438,
                 46.72158463624366
                ],
                [
                 15.021723960006229,
                 46.67044019676584
                ],
                [
                 15.062313842013335,
                 46.65277657493685
                ],
                [
                 15.013368241990358,
                 46.641529001273476
                ],
                [
                 14.976576037392586,
                 46.60210463029701
                ],
                [
                 14.952874555691627,
                 46.63343538070825
                ],
                [
                 14.920242590075713,
                 46.60395521961447
                ],
                [
                 14.87686361624382,
                 46.61195597427698
                ],
                [
                 14.819946564830833,
                 46.53525123161495
                ],
                [
                 14.815810830087,
                 46.51009850020857
                ],
                [
                 14.756288397793044,
                 46.50515144573579
                ],
                [
                 14.711967345197497,
                 46.50065880758124
                ],
                [
                 14.696326755027028,
                 46.4643026251442
                ],
                [
                 14.537070079808835,
                 46.41230158735734
                ],
                [
                 14.443957445302393,
                 46.42230367767151
                ],
                [
                 14.431692925911257,
                 46.44365425302772
                ]
               ]
              ]
             ],
             "type": "MultiPolygon"
            },
            "properties": {
             "iso": "2",
             "name": "Kaernten"
            },
            "type": "Feature"
           },
           {
            "geometry": {
             "coordinates": [
              [
               [
                [
                 16.250379469394755,
                 47.44879197302711
                ],
                [
                 16.204232454542808,
                 47.42534545906766
                ],
                [
                 16.168984537359943,
                 47.42309851780552
                ],
                [
                 16.13519069023434,
                 47.46213595254102
                ],
                [
                 16.108419408036877,
                 47.52267217535619
                ],
                [
                 16.084613735772102,
                 47.50785604821462
                ],
                [
                 16.062303772060602,
                 47.487035116629556
                ],
                [
                 15.997287113811915,
                 47.516538148561374
                ],
                [
                 15.955735933816998,
                 47.518553434992604
                ],
                [
                 15.917716205195124,
                 47.53071767551388
                ],
                [
                 15.911075331820498,
                 47.53112632814445
                ],
                [
                 15.902627080805715,
                 47.56050479117799
                ],
                [
                 15.844224479544629,
                 47.56848860973404
                ],
                [
                 15.85778105484603,
                 47.617376268322836
                ],
                [
                 15.837512602790229,
                 47.61880014884725
                ],
                [
                 15.778544678678688,
                 47.64299940448292
                ],
                [
                 15.739522772636551,
                 47.642908508568475
                ],
                [
                 15.72231622717731,
                 47.6471548134285
                ],
                [
                 15.716360145031679,
                 47.71058281328566
                ],
                [
                 15.675945114743612,
                 47.69969487804562
                ],
                [
                 15.63317312259398,
                 47.716120757997125
                ],
                [
                 15.608925525753648,
                 47.75178605106096
                ],
                [
                 15.51100145314899,
                 47.74725153227008
                ],
                [
                 15.503824297663224,
                 47.76849707072922
                ],
                [
                 15.458173341840908,
                 47.770446655783324
                ],
                [
                 15.376750891518832,
                 47.82424031724305
                ],
                [
                 15.343100790488187,
                 47.826458307274905
                ],
                [
                 15.342419192626412,
                 47.8263742451942
                ],
                [
                 15.297045639104294,
                 47.8217441428425
                ],
                [
                 15.286082617985503,
                 47.79187864761831
                ],
                [
                 15.214516325735632,
                 47.79672841493683
                ],
                [
                 15.196587995010171,
                 47.75412792009144
                ],
                [
                 15.132045631353076,
                 47.75870100875711
                ],
                [
                 15.086457681336192,
                 47.74217222908681
                ],
                [
                 15.031926069993437,
                 47.75344200233826
                ],
                [
                 14.970044350325894,
                 47.744303408961784
                ],
                [
                 14.898419706847834,
                 47.711530267676075
                ],
                [
                 14.85526693611768,
                 47.7411939788452
                ],
                [
                 14.815521484791581,
                 47.74490961049843
                ],
                [
                 14.764254891795062,
                 47.7270126926241
                ],
                [
                 14.73566808338259,
                 47.749426793777985
                ],
                [
                 14.70908265136549,
                 47.7907888318586
                ],
                [
                 14.707199855307106,
                 47.85134395356477
                ],
                [
                 14.759948034358755,
                 47.87294189127239
                ],
                [
                 14.766758218261662,
                 47.88031598057858
                ],
                [
                 14.725084760353196,
                 47.935665590452615
                ],
                [
                 14.667816193597279,
                 47.93544154897088
                ],
                [
                 14.646271824385098,
                 47.942846942149735
                ],
                [
                 14.613423048698143,
                 47.94880206559831
                ],
                [
                 14.552335912421619,
                 47.98056368741308
                ],
                [
                 14.489303378556682,
                 48.01155203960905
                ],
                [
                 14.453328788357997,
                 48.04373968089135
                ],
                [
                 14.456054223911236,
                 48.07471409261751
                ],
                [
                 14.45511611401903,
                 48.08939123399559
                ],
                [
                 14.476249613684136,
                 48.10511664536289
                ],
                [
                 14.490160602378694,
                 48.11066844412551
                ],
                [
                 14.46511946673231,
                 48.148296658581444
                ],
                [
                 14.480047265119381,
                 48.172261697684455
                ],
                [
                 14.479323305252938,
                 48.17919735664716
                ],
                [
                 14.47815826291343,
                 48.202624776750156
                ],
                [
                 14.512754675251516,
                 48.23476123119458
                ],
                [
                 14.518386993837433,
                 48.238310752577775
                ],
                [
                 14.55807323829416,
                 48.231687424757496
                ],
                [
                 14.620464597522956,
                 48.191385824204254
                ],
                [
                 14.640839520032836,
                 48.17594383171885
                ],
                [
                 14.685579357914088,
                 48.15799181197546
                ],
                [
                 14.71249549298957,
                 48.17936993754109
                ],
                [
                 14.75880317196169,
                 48.178278333262355
                ],
                [
                 14.7662172367989,
                 48.179814509183586
                ],
                [
                 14.837515898992754,
                 48.19443533879205
                ],
                [
                 14.853860494650831,
                 48.21202671893576
                ],
                [
                 14.882880860379144,
                 48.23345935719385
                ],
                [
                 14.941654295692935,
                 48.227976825078045
                ],
                [
                 14.959655590894204,
                 48.2030813602234
                ],
                [
                 14.9713677938265,
                 48.199533558138796
                ],
                [
                 14.9493765953804,
                 48.21983256245666
                ],
                [
                 14.967176679359643,
                 48.246454313680665
                ],
                [
                 14.989257710600386,
                 48.25662772166145
                ],
                [
                 14.98229724223215,
                 48.299809064582774
                ],
                [
                 14.940899818669662,
                 48.324346429341
                ],
                [
                 14.944696456681836,
                 48.334060909925796
                ],
                [
                 14.961661862276186,
                 48.37921100464351
                ],
                [
                 14.95359394767566,
                 48.392005112113246
                ],
                [
                 14.925412208947593,
                 48.424502749993884
                ],
                [
                 14.908937674498883,
                 48.43537910048248
                ],
                [
                 14.874229757250031,
                 48.46507772877569
                ],
                [
                 14.91817106851184,
                 48.506423610629525
                ],
                [
                 14.872313402415301,
                 48.52844246254901
                ],
                [
                 14.808355569985297,
                 48.55445214731674
                ],
                [
                 14.733512866405684,
                 48.553484172246414
                ],
                [
                 14.688226952664776,
                 48.58500109238852
                ],
                [
                 14.718354997522574,
                 48.603076705437715
                ],
                [
                 14.719335904651496,
                 48.63908058379089
                ],
                [
                 14.720672548060689,
                 48.67639835335183
                ],
                [
                 14.738011793297394,
                 48.70201358776005
                ],
                [
                 14.80535366479332,
                 48.734578392881396
                ],
                [
                 14.826505263821442,
                 48.78118462355596
                ],
                [
                 14.878515393980718,
                 48.78080325481152
                ],
                [
                 14.96095802937347,
                 48.76384768746768
                ],
                [
                 14.96696038109277,
                 48.824599254268456
                ],
                [
                 14.985075129117067,
                 48.895943317304145
                ],
                [
                 14.973715380388786,
                 48.956519350294435
                ],
                [
                 14.995047359971757,
                 48.99265310857604
                ],
                [
                 15.018951011986436,
                 49.021160570100974
                ],
                [
                 15.102862904426933,
                 48.996901065404224
                ],
                [
                 15.15585995053525,
                 48.990604496273136
                ],
                [
                 15.157467543278031,
                 48.94238199302791
                ],
                [
                 15.221669314475886,
                 48.960834559976554
                ],
                [
                 15.258669983287632,
                 48.95461799799502
                ],
                [
                 15.288251143314094,
                 48.98500701379043
                ],
                [
                 15.318956553726645,
                 48.97681832333384
                ],
                [
                 15.364197726131652,
                 48.98257139274837
                ],
                [
                 15.42675608545628,
                 48.95188253615465
                ],
                [
                 15.465710717754735,
                 48.95250650920895
                ],
                [
                 15.510610351038196,
                 48.914811254519044
                ],
                [
                 15.584317685813051,
                 48.89668056387212
                ],
                [
                 15.616816384821187,
                 48.896298413540016
                ],
                [
                 15.68979805612949,
                 48.85622182399376
                ],
                [
                 15.750881335199988,
                 48.85286553641451
                ],
                [
                 15.776751556907506,
                 48.87557410899057
                ],
                [
                 15.824799733754151,
                 48.87173809257282
                ],
                [
                 15.967289442397114,
                 48.79600999173755
                ],
                [
                 16.06189523534486,
                 48.75554032964282
                ],
                [
                 16.086203511193652,
                 48.748515658553934
                ],
                [
                 16.100111483084625,
                 48.74608853301508
                ],
                [
                 16.14711359989114,
                 48.74388583401482
                ],
                [
                 16.220728389706213,
                 48.74079591508512
                ],
                [
                 16.270246299768875,
                 48.74196866816831
                ],
                [
                 16.35699545719752,
                 48.72875891866815
                ],
                [
                 16.425453394516435,
                 48.76333870658652
                ],
                [
                 16.432228250167324,
                 48.76632072783392
                ],
                [
                 16.445926809612626,
                 48.80006951889997
                ],
                [
                 16.53128201340749,
                 48.811517501346984
                ],
                [
                 16.59046297544054,
                 48.78348303632656
                ],
                [
                 16.6486497365074,
                 48.78583664445341
                ],
                [
                 16.679775730542573,
                 48.72877701111707
                ],
                [
                 16.679817776884818,
                 48.728482535918694
                ],
                [
                 16.744512212590028,
                 48.73280794703052
                ],
                [
                 16.757694009288155,
                 48.71748037802902
                ],
                [
                 16.90288051310717,
                 48.71465362866254
                ],
                [
                 16.90771280899858,
                 48.67938070352061
                ],
                [
                 16.925637128813538,
                 48.63957995053511
                ],
                [
                 16.932088347684548,
                 48.602928166820696
                ],
                [
                 16.935745550204242,
                 48.5660678099936
                ],
                [
                 16.918697640430135,
                 48.51646483655429
                ],
                [
                 16.877946595193354,
                 48.47817228864426
                ],
                [
                 16.84837565916137,
                 48.43932234589058
                ],
                [
                 16.859357845974603,
                 48.41826107204193
                ],
                [
                 16.8394258681644,
                 48.36082317296454
                ],
                [
                 16.904578010832964,
                 48.327419832777174
                ],
                [
                 16.897937963088,
                 48.298573169937285
                ],
                [
                 16.949336383327477,
                 48.25837219940928
                ],
                [
                 16.959323827464573,
                 48.21818137235134
                ],
                [
                 16.97334065223632,
                 48.17295812671726
                ],
                [
                 16.99678075091509,
                 48.15929581523624
                ],
                [
                 17.059408008536607,
                 48.12371991846312
                ],
                [
                 17.0639703389668,
                 48.119372977795
                ],
                [
                 17.033224294610196,
                 48.0849940261275
                ],
                [
                 17.00437190427233,
                 48.09215768227161
                ],
                [
                 16.99508675688021,
                 48.109778326838715
                ],
                [
                 16.98377462656014,
                 48.112100974566474
                ],
                [
                 16.968312239323314,
                 48.10126385975401
                ],
                [
                 16.995991166528455,
                 48.084821275472564
                ],
                [
                 17.013523461741293,
                 48.07421258671947
                ],
                [
                 16.990966118475157,
                 48.04615674102818
                ],
                [
                 16.966191013958028,
                 48.02688375933133
                ],
                [
                 16.912439984108136,
                 48.0573978763389
                ],
                [
                 16.901505578559604,
                 48.07170756911927
                ],
                [
                 16.871311734331908,
                 48.07304320397352
                ],
                [
                 16.825388139976685,
                 48.029851275277565
                ],
                [
                 16.8224484323827,
                 48.029842217267436
                ],
                [
                 16.699325155015398,
                 48.01234541497467
                ],
                [
                 16.698409667384464,
                 47.974499943912654
                ],
                [
                 16.662417861038595,
                 47.95776385758359
                ],
                [
                 16.637013055109616,
                 47.94663617645925
                ],
                [
                 16.629113866608552,
                 47.934487523744856
                ],
                [
                 16.629303767916955,
                 47.93410193548187
                ],
                [
                 16.605575246026643,
                 47.913049268193646
                ],
                [
                 16.59453528022339,
                 47.90458679138213
                ],
                [
                 16.577502815389312,
                 47.889302841196105
                ],
                [
                 16.571232259949394,
                 47.88696873231212
                ],
                [
                 16.538264510538703,
                 47.920369002731974
                ],
                [
                 16.515899532448145,
                 47.944264537338306
                ],
                [
                 16.449579415505003,
                 47.934958462722626
                ],
                [
                 16.42002654599533,
                 47.90262218974607
                ],
                [
                 16.386112966164124,
                 47.88229641225812
                ],
                [
                 16.379864999603505,
                 47.87697313029638
                ],
                [
                 16.345205623935428,
                 47.86884180661631
                ],
                [
                 16.371726354412612,
                 47.85318242791672
                ],
                [
                 16.374408353813276,
                 47.82801619560718
                ],
                [
                 16.359575179437723,
                 47.82395074491146
                ],
                [
                 16.35197571862428,
                 47.82140801243818
                ],
                [
                 16.312839520214343,
                 47.78528870451298
                ],
                [
                 16.283111982106668,
                 47.812154047917055
                ],
                [
                 16.26596696179286,
                 47.79177241507691
                ],
                [
                 16.29560707465297,
                 47.762426246673286
                ],
                [
                 16.296561008927558,
                 47.76188094970652
                ],
                [
                 16.292853913209843,
                 47.74298347359984
                ],
                [
                 16.292270048199715,
                 47.71600852539431
                ],
                [
                 16.30633345433366,
                 47.69610853538658
                ],
                [
                 16.30626007036071,
                 47.68786961112027
                ],
                [
                 16.32098198217421,
                 47.684020871094084
                ],
                [
                 16.353910123786463,
                 47.680223516491566
                ],
                [
                 16.36972106462448,
                 47.643182430568785
                ],
                [
                 16.34157804623995,
                 47.603496687062126
                ],
                [
                 16.328181570547695,
                 47.59020133838872
                ],
                [
                 16.310379184086287,
                 47.56604267323226
                ],
                [
                 16.310899424541972,
                 47.54343328881605
                ],
                [
                 16.31343312313319,
                 47.54302902159353
                ],
                [
                 16.33689793466329,
                 47.51686862264116
                ],
                [
                 16.31803676050826,
                 47.49440856379773
                ],
                [
                 16.27829728927083,
                 47.45583072325187
                ],
                [
                 16.250379469394755,
                 47.44879197302711
                ]
               ],
               [
                [
                 16.205295593469874,
                 48.264791213360155
                ],
                [
                 16.18239186839708,
                 48.22390134272117
                ],
                [
                 16.20461564491174,
                 48.20303439441751
                ],
                [
                 16.179122869495856,
                 48.17172505807664
                ],
                [
                 16.195198488648696,
                 48.155241722116926
                ],
                [
                 16.22042735257546,
                 48.15387843224085
                ],
                [
                 16.215319946458333,
                 48.12876260702782
                ],
                [
                 16.222751181809326,
                 48.12616536751681
                ],
                [
                 16.226346919323102,
                 48.12784698736299
                ],
                [
                 16.29577743156106,
                 48.126017999864594
                ],
                [
                 16.309429782935833,
                 48.12022714306248
                ],
                [
                 16.362860914712996,
                 48.12936740383815
                ],
                [
                 16.363113841196046,
                 48.129094678210095
                ],
                [
                 16.38556577135256,
                 48.12606494554488
                ],
                [
                 16.410046375913776,
                 48.118937473447055
                ],
                [
                 16.434246243952863,
                 48.12062596106924
                ],
                [
                 16.43344804359402,
                 48.13867258550262
                ],
                [
                 16.511013602174128,
                 48.1596215500773
                ],
                [
                 16.57325705011586,
                 48.13591277512623
                ],
                [
                 16.574217561105915,
                 48.14513007099916
                ],
                [
                 16.533509707881418,
                 48.177768384145324
                ],
                [
                 16.549971211397587,
                 48.23969285403885
                ],
                [
                 16.54420825354776,
                 48.26369178826104
                ],
                [
                 16.512124331592528,
                 48.28622670147884
                ],
                [
                 16.4994138251528,
                 48.291052237931495
                ],
                [
                 16.471936075452582,
                 48.276008516001454
                ],
                [
                 16.425226930412876,
                 48.32107384619422
                ],
                [
                 16.39239950424916,
                 48.323256351480374
                ],
                [
                 16.360411753940745,
                 48.28299603442784
                ],
                [
                 16.353184316827658,
                 48.284042653322786
                ],
                [
                 16.282784673675316,
                 48.25901822523876
                ],
                [
                 16.253842706615437,
                 48.24057601187154
                ],
                [
                 16.205295593469874,
                 48.264791213360155
                ]
               ]
              ]
             ],
             "type": "MultiPolygon"
            },
            "properties": {
             "iso": "3",
             "name": "Niederoesterreich"
            },
            "type": "Feature"
           },
           {
            "geometry": {
             "coordinates": [
              [
               [
                [
                 13.691787532748462,
                 47.57998041592989
                ],
                [
                 13.732654022442613,
                 47.57773034335252
                ],
                [
                 13.757865107283767,
                 47.5210073854116
                ],
                [
                 13.74632626158727,
                 47.50232005685372
                ],
                [
                 13.719754990487411,
                 47.46281999761018
                ],
                [
                 13.605942430202054,
                 47.47584573560712
                ],
                [
                 13.602876972006017,
                 47.475896454616894
                ],
                [
                 13.582856450628059,
                 47.47550827496876
                ],
                [
                 13.51336171370177,
                 47.49721345287628
                ],
                [
                 13.47393478304975,
                 47.531024630060806
                ],
                [
                 13.478469659926446,
                 47.562433763605
                ],
                [
                 13.51747441347207,
                 47.62388895672504
                ],
                [
                 13.487057210977767,
                 47.63103549735677
                ],
                [
                 13.514140817579701,
                 47.67624104126502
                ],
                [
                 13.548063967268417,
                 47.71482345429212
                ],
                [
                 13.433469015572669,
                 47.73925871047796
                ],
                [
                 13.462474874718307,
                 47.7868595313544
                ],
                [
                 13.532580670419073,
                 47.77684447891034
                ],
                [
                 13.5266703981245,
                 47.797732246245786
                ],
                [
                 13.44761088071781,
                 47.804451135674846
                ],
                [
                 13.395275767028675,
                 47.79860057191996
                ],
                [
                 13.348156258606874,
                 47.810649045104206
                ],
                [
                 13.309401296692693,
                 47.8135364131342
                ],
                [
                 13.290325527302539,
                 47.86446689504523
                ],
                [
                 13.267308525551996,
                 47.89213552582762
                ],
                [
                 13.278323565236123,
                 47.90534293936875
                ],
                [
                 13.27748367233546,
                 47.95542212434089
                ],
                [
                 13.30473321992954,
                 47.96472179538623
                ],
                [
                 13.355740647248055,
                 47.940468302241094
                ],
                [
                 13.360320994161707,
                 47.94478873157334
                ],
                [
                 13.368852912648117,
                 47.9726880695492
                ],
                [
                 13.301126898814976,
                 48.00857637935583
                ],
                [
                 13.209901470411149,
                 47.98317470618085
                ],
                [
                 13.20707267531659,
                 47.979650150038374
                ],
                [
                 13.195874250533201,
                 47.974880264576974
                ],
                [
                 13.142370975421642,
                 47.97505273345684
                ],
                [
                 13.12144503777586,
                 47.99688921221891
                ],
                [
                 13.101131942650055,
                 47.997459459925935
                ],
                [
                 13.09995818793229,
                 47.99826928865161
                ],
                [
                 13.054856938977494,
                 48.01399941780563
                ],
                [
                 13.044399891734093,
                 48.027968838524316
                ],
                [
                 13.044189302795095,
                 48.03806907306838
                ],
                [
                 13.009492383988002,
                 48.03721884633031
                ],
                [
                 12.986804806863335,
                 48.02854596229712
                ],
                [
                 12.936698792726006,
                 48.037115468453756
                ],
                [
                 12.935265163581597,
                 48.0366690206478
                ],
                [
                 12.889187330800945,
                 47.991719778098854
                ],
                [
                 12.857373111808512,
                 47.99734890974755
                ],
                [
                 12.83118509068697,
                 48.0287719771843
                ],
                [
                 12.767673450093653,
                 48.06665677116696
                ],
                [
                 12.747826656014277,
                 48.100304100647094
                ],
                [
                 12.790346772329324,
                 48.13315744537651
                ],
                [
                 12.845252918438023,
                 48.16856968273441
                ],
                [
                 12.870881070167139,
                 48.203182106974296
                ],
                [
                 12.952378942158441,
                 48.20967364184935
                ],
                [
                 13.015391671626906,
                 48.25703851753609
                ],
                [
                 13.061375271190983,
                 48.27004501197854
                ],
                [
                 13.139822670863945,
                 48.28359704154739
                ],
                [
                 13.192688191200137,
                 48.296170250328196
                ],
                [
                 13.25088294137018,
                 48.29386175367304
                ],
                [
                 13.311682411530184,
                 48.31712769524386
                ],
                [
                 13.338548653413923,
                 48.33239741106821
                ],
                [
                 13.341050019387982,
                 48.33418792108856
                ],
                [
                 13.37125457639638,
                 48.35717518435716
                ],
                [
                 13.405037671422647,
                 48.37286534715562
                ],
                [
                 13.417363959519246,
                 48.40073697627005
                ],
                [
                 13.433191830057275,
                 48.42644131393122
                ],
                [
                 13.431445079844236,
                 48.44582856081033
                ],
                [
                 13.436763053259218,
                 48.479597690391955
                ],
                [
                 13.440462322656579,
                 48.48596381248104
                ],
                [
                 13.44213347706727,
                 48.528795266536655
                ],
                [
                 13.47228162522768,
                 48.55669015613033
                ],
                [
                 13.508662244547365,
                 48.591828028544256
                ],
                [
                 13.548703234276186,
                 48.57148084298868
                ],
                [
                 13.638347253103191,
                 48.55319978445303
                ],
                [
                 13.674360798678439,
                 48.531203739405335
                ],
                [
                 13.724293960302278,
                 48.51372234135987
                ],
                [
                 13.761501495250306,
                 48.56131120555194
                ],
                [
                 13.798201945685692,
                 48.57439244049023
                ],
                [
                 13.822976306837825,
                 48.619325703855495
                ],
                [
                 13.814563703814196,
                 48.6594152652378
                ],
                [
                 13.830810367795081,
                 48.692603328274984
                ],
                [
                 13.834546973023194,
                 48.700829893613104
                ],
                [
                 13.818321368921968,
                 48.7552369829344
                ],
                [
                 13.874166490423294,
                 48.76667507631359
                ],
                [
                 13.923547047315743,
                 48.73539194920978
                ],
                [
                 13.973700672480517,
                 48.71179319563461
                ],
                [
                 14.000496542507,
                 48.70928357147841
                ],
                [
                 14.055060253195919,
                 48.65843982022575
                ],
                [
                 14.00777687982591,
                 48.64035473646379
                ],
                [
                 14.03940102613522,
                 48.613557738746344
                ],
                [
                 14.092791744772713,
                 48.59293951082102
                ],
                [
                 14.160742302808048,
                 48.58993624174441
                ],
                [
                 14.267600759754272,
                 48.58169515407956
                ],
                [
                 14.330418283185368,
                 48.55252643335807
                ],
                [
                 14.33862381175925,
                 48.55538478799617
                ],
                [
                 14.390866619742345,
                 48.57817399588618
                ],
                [
                 14.440767624693814,
                 48.60484441715599
                ],
                [
                 14.471901256140397,
                 48.644650018063714
                ],
                [
                 14.501203068003178,
                 48.617915201286756
                ],
                [
                 14.552094269195178,
                 48.60645558813764
                ],
                [
                 14.603578015697249,
                 48.629287997532494
                ],
                [
                 14.623950449236242,
                 48.60505470425649
                ],
                [
                 14.688226952664776,
                 48.58500109238852
                ],
                [
                 14.733512866405684,
                 48.553484172246414
                ],
                [
                 14.808355569985297,
                 48.55445214731674
                ],
                [
                 14.872313402415301,
                 48.52844246254901
                ],
                [
                 14.91817106851184,
                 48.506423610629525
                ],
                [
                 14.874229757250031,
                 48.46507772877569
                ],
                [
                 14.908937674498883,
                 48.43537910048248
                ],
                [
                 14.925412208947593,
                 48.424502749993884
                ],
                [
                 14.95359394767566,
                 48.392005112113246
                ],
                [
                 14.961661862276186,
                 48.37921100464351
                ],
                [
                 14.944696456681836,
                 48.334060909925796
                ],
                [
                 14.940899818669662,
                 48.324346429341
                ],
                [
                 14.98229724223215,
                 48.299809064582774
                ],
                [
                 14.989257710600386,
                 48.25662772166145
                ],
                [
                 14.967176679359643,
                 48.246454313680665
                ],
                [
                 14.9493765953804,
                 48.21983256245666
                ],
                [
                 14.9713677938265,
                 48.199533558138796
                ],
                [
                 14.959655590894204,
                 48.2030813602234
                ],
                [
                 14.941654295692935,
                 48.227976825078045
                ],
                [
                 14.882880860379144,
                 48.23345935719385
                ],
                [
                 14.853860494650831,
                 48.21202671893576
                ],
                [
                 14.837515898992754,
                 48.19443533879205
                ],
                [
                 14.7662172367989,
                 48.179814509183586
                ],
                [
                 14.75880317196169,
                 48.178278333262355
                ],
                [
                 14.71249549298957,
                 48.17936993754109
                ],
                [
                 14.685579357914088,
                 48.15799181197546
                ],
                [
                 14.640839520032836,
                 48.17594383171885
                ],
                [
                 14.620464597522956,
                 48.191385824204254
                ],
                [
                 14.55807323829416,
                 48.231687424757496
                ],
                [
                 14.518386993837433,
                 48.238310752577775
                ],
                [
                 14.512754675251516,
                 48.23476123119458
                ],
                [
                 14.47815826291343,
                 48.202624776750156
                ],
                [
                 14.479323305252938,
                 48.17919735664716
                ],
                [
                 14.480047265119381,
                 48.172261697684455
                ],
                [
                 14.46511946673231,
                 48.148296658581444
                ],
                [
                 14.490160602378694,
                 48.11066844412551
                ],
                [
                 14.476249613684136,
                 48.10511664536289
                ],
                [
                 14.45511611401903,
                 48.08939123399559
                ],
                [
                 14.456054223911236,
                 48.07471409261751
                ],
                [
                 14.453328788357997,
                 48.04373968089135
                ],
                [
                 14.489303378556682,
                 48.01155203960905
                ],
                [
                 14.552335912421619,
                 47.98056368741308
                ],
                [
                 14.613423048698143,
                 47.94880206559831
                ],
                [
                 14.646271824385098,
                 47.942846942149735
                ],
                [
                 14.667816193597279,
                 47.93544154897088
                ],
                [
                 14.725084760353196,
                 47.935665590452615
                ],
                [
                 14.766758218261662,
                 47.88031598057858
                ],
                [
                 14.759948034358755,
                 47.87294189127239
                ],
                [
                 14.707199855307106,
                 47.85134395356477
                ],
                [
                 14.70908265136549,
                 47.7907888318586
                ],
                [
                 14.73566808338259,
                 47.749426793777985
                ],
                [
                 14.6941683957161,
                 47.76650462689978
                ],
                [
                 14.643463521446574,
                 47.726160420642856
                ],
                [
                 14.528885381761471,
                 47.7143019672102
                ],
                [
                 14.485769844431777,
                 47.682746730614916
                ],
                [
                 14.441435979634011,
                 47.656118020052254
                ],
                [
                 14.41805486150295,
                 47.65728031640895
                ],
                [
                 14.388734994989315,
                 47.636643741682384
                ],
                [
                 14.323597311082393,
                 47.60825952976716
                ],
                [
                 14.261611978484815,
                 47.61117896452449
                ],
                [
                 14.229754900473345,
                 47.651335265305775
                ],
                [
                 14.202993128424746,
                 47.65324349425967
                ],
                [
                 14.174786412508292,
                 47.63865431978715
                ],
                [
                 14.090321147711409,
                 47.620244800293115
                ],
                [
                 14.04797578242021,
                 47.61786314553959
                ],
                [
                 14.045938276604826,
                 47.63762832958257
                ],
                [
                 14.052627135407647,
                 47.66859366683909
                ],
                [
                 14.007797462698619,
                 47.70159791563943
                ],
                [
                 13.893114702931202,
                 47.71818645283093
                ],
                [
                 13.857510045138977,
                 47.7279221891866
                ],
                [
                 13.774852101100302,
                 47.719032619853486
                ],
                [
                 13.70505213579654,
                 47.65716240372051
                ],
                [
                 13.695703979460355,
                 47.60275900602188
                ],
                [
                 13.691787532748462,
                 47.57998041592989
                ]
               ]
              ]
             ],
             "type": "MultiPolygon"
            },
            "properties": {
             "iso": "4",
             "name": "Oberoesterreich"
            },
            "type": "Feature"
           },
           {
            "geometry": {
             "coordinates": [
              [
               [
                [
                 13.798352103631528,
                 46.951844674621924
                ],
                [
                 13.781858253483055,
                 46.944566726240176
                ],
                [
                 13.768931487558667,
                 46.97779355575246
                ],
                [
                 13.696406737061356,
                 47.00399643062416
                ],
                [
                 13.683729312368797,
                 47.04052982514287
                ],
                [
                 13.634826979627563,
                 47.056210337271956
                ],
                [
                 13.591419662691269,
                 47.056673264809525
                ],
                [
                 13.424763290456012,
                 47.0820862928719
                ],
                [
                 13.403554866604855,
                 47.06996352363297
                ],
                [
                 13.35170799917132,
                 47.09781536481606
                ],
                [
                 13.274503599910444,
                 47.095862267896415
                ],
                [
                 13.245313561168297,
                 47.05128768878815
                ],
                [
                 13.077521976587828,
                 47.02752186224722
                ],
                [
                 13.070207373241482,
                 47.01412404171541
                ],
                [
                 13.000275721836859,
                 47.04458431950818
                ],
                [
                 12.982537409143534,
                 47.036315422559284
                ],
                [
                 12.950189502492924,
                 47.0499694167178
                ],
                [
                 12.934473141851598,
                 47.07671988824226
                ],
                [
                 12.817464537284497,
                 47.09837715608704
                ],
                [
                 12.736033033360467,
                 47.10102981945141
                ],
                [
                 12.728080438914334,
                 47.13170610856031
                ],
                [
                 12.663320495046412,
                 47.12354691699273
                ],
                [
                 12.654016066248188,
                 47.100231353836485
                ],
                [
                 12.5894168444659,
                 47.12558674595656
                ],
                [
                 12.563556470390875,
                 47.136739497405685
                ],
                [
                 12.48070043046074,
                 47.15855964154146
                ],
                [
                 12.462736611250595,
                 47.14506846369805
                ],
                [
                 12.396701690532645,
                 47.15351595995203
                ],
                [
                 12.360454539252105,
                 47.142098997698724
                ],
                [
                 12.342795704847681,
                 47.10998476028861
                ],
                [
                 12.280957414203254,
                 47.09326480647793
                ],
                [
                 12.237924613286085,
                 47.069884004190115
                ],
                [
                 12.183138449276436,
                 47.09286179526465
                ],
                [
                 12.133192576151718,
                 47.08138357679902
                ],
                [
                 12.090447365445778,
                 47.14676824315532
                ],
                [
                 12.0799689120931,
                 47.196434418696505
                ],
                [
                 12.107262767387029,
                 47.24110464334159
                ],
                [
                 12.075754696908119,
                 47.27589522045737
                ],
                [
                 12.11172562405633,
                 47.307158890850715
                ],
                [
                 12.161804090720976,
                 47.30225548421314
                ],
                [
                 12.21616138062162,
                 47.31184493836425
                ],
                [
                 12.25187573191091,
                 47.30867861955565
                ],
                [
                 12.261297429832275,
                 47.302924956931115
                ],
                [
                 12.29368730421171,
                 47.32880364491527
                ],
                [
                 12.33243725497615,
                 47.32923161071505
                ],
                [
                 12.37177067497208,
                 47.31202262451423
                ],
                [
                 12.47549976642619,
                 47.32710774589435
                ],
                [
                 12.492393544557732,
                 47.33812330074012
                ],
                [
                 12.476154094388688,
                 47.368943885527884
                ],
                [
                 12.503274276420276,
                 47.394842678075356
                ],
                [
                 12.542482549397553,
                 47.39875406995694
                ],
                [
                 12.575794307927712,
                 47.39321028987878
                ],
                [
                 12.621757739986972,
                 47.42322767010251
                ],
                [
                 12.629478377239565,
                 47.432807492676346
                ],
                [
                 12.629463336415112,
                 47.465777514603346
                ],
                [
                 12.696777382304528,
                 47.47859809099986
                ],
                [
                 12.662316157261458,
                 47.506781030711906
                ],
                [
                 12.651318336612611,
                 47.53748228560774
                ],
                [
                 12.62535195417081,
                 47.55025842621544
                ],
                [
                 12.650732825987651,
                 47.588739771087816
                ],
                [
                 12.571713210946912,
                 47.60570124217504
                ],
                [
                 12.572213000152678,
                 47.63302734283744
                ],
                [
                 12.600584094360492,
                 47.67292687273303
                ],
                [
                 12.663274400481706,
                 47.681752463021496
                ],
                [
                 12.742010996435436,
                 47.67647165646622
                ],
                [
                 12.786886172366993,
                 47.63393170802258
                ],
                [
                 12.788515205985565,
                 47.5990781803635
                ],
                [
                 12.776444015382088,
                 47.57999669054089
                ],
                [
                 12.783545828560367,
                 47.5687317828688
                ],
                [
                 12.881657514824614,
                 47.513466587663615
                ],
                [
                 12.929111962535124,
                 47.488461701056174
                ],
                [
                 12.99824236041834,
                 47.46472201900445
                ],
                [
                 13.015056978575542,
                 47.4753883664406
                ],
                [
                 13.043245063668714,
                 47.521212831363364
                ],
                [
                 13.068698231612442,
                 47.59060827180462
                ],
                [
                 13.095138628499006,
                 47.634426505171646
                ],
                [
                 13.075814245585148,
                 47.68867507656984
                ],
                [
                 13.043132293801934,
                 47.713407424860314
                ],
                [
                 12.984388964825083,
                 47.708121198638366
                ],
                [
                 12.930368321934951,
                 47.71025461386205
                ],
                [
                 12.940655718630108,
                 47.76361507204281
                ],
                [
                 12.986257062250298,
                 47.83267212381816
                ],
                [
                 12.998581847888278,
                 47.85510337499348
                ],
                [
                 12.984790236493808,
                 47.869900339367774
                ],
                [
                 12.963649379017989,
                 47.90137425902917
                ],
                [
                 12.936454197863693,
                 47.93736666165952
                ],
                [
                 12.917879824205455,
                 47.951591297071886
                ],
                [
                 12.868304939173719,
                 47.96714218663524
                ],
                [
                 12.857373111808512,
                 47.99734890974755
                ],
                [
                 12.889187330800945,
                 47.991719778098854
                ],
                [
                 12.935265163581597,
                 48.0366690206478
                ],
                [
                 12.936698792726006,
                 48.037115468453756
                ],
                [
                 12.986804806863335,
                 48.02854596229712
                ],
                [
                 13.009492383988002,
                 48.03721884633031
                ],
                [
                 13.044189302795095,
                 48.03806907306838
                ],
                [
                 13.044399891734093,
                 48.027968838524316
                ],
                [
                 13.054856938977494,
                 48.01399941780563
                ],
                [
                 13.09995818793229,
                 47.99826928865161
                ],
                [
                 13.101131942650055,
                 47.997459459925935
                ],
                [
                 13.12144503777586,
                 47.99688921221891
                ],
                [
                 13.142370975421642,
                 47.97505273345684
                ],
                [
                 13.195874250533201,
                 47.974880264576974
                ],
                [
                 13.20707267531659,
                 47.979650150038374
                ],
                [
                 13.209901470411149,
                 47.98317470618085
                ],
                [
                 13.301126898814976,
                 48.00857637935583
                ],
                [
                 13.368852912648117,
                 47.9726880695492
                ],
                [
                 13.360320994161707,
                 47.94478873157334
                ],
                [
                 13.355740647248055,
                 47.940468302241094
                ],
                [
                 13.30473321992954,
                 47.96472179538623
                ],
                [
                 13.27748367233546,
                 47.95542212434089
                ],
                [
                 13.278323565236123,
                 47.90534293936875
                ],
                [
                 13.267308525551996,
                 47.89213552582762
                ],
                [
                 13.290325527302539,
                 47.86446689504523
                ],
                [
                 13.309401296692693,
                 47.8135364131342
                ],
                [
                 13.348156258606874,
                 47.810649045104206
                ],
                [
                 13.395275767028675,
                 47.79860057191996
                ],
                [
                 13.44761088071781,
                 47.804451135674846
                ],
                [
                 13.5266703981245,
                 47.797732246245786
                ],
                [
                 13.532580670419073,
                 47.77684447891034
                ],
                [
                 13.462474874718307,
                 47.7868595313544
                ],
                [
                 13.433469015572669,
                 47.73925871047796
                ],
                [
                 13.548063967268417,
                 47.71482345429212
                ],
                [
                 13.514140817579701,
                 47.67624104126502
                ],
                [
                 13.487057210977767,
                 47.63103549735677
                ],
                [
                 13.51747441347207,
                 47.62388895672504
                ],
                [
                 13.478469659926446,
                 47.562433763605
                ],
                [
                 13.47393478304975,
                 47.531024630060806
                ],
                [
                 13.51336171370177,
                 47.49721345287628
                ],
                [
                 13.582856450628059,
                 47.47550827496876
                ],
                [
                 13.561322502595704,
                 47.41877795531392
                ],
                [
                 13.561746557279987,
                 47.41739787895367
                ],
                [
                 13.569492539300748,
                 47.39381056606523
                ],
                [
                 13.596895659286297,
                 47.341409015053536
                ],
                [
                 13.605134010473964,
                 47.28409682834876
                ],
                [
                 13.693014143657168,
                 47.26079573074071
                ],
                [
                 13.709056671941815,
                 47.26021105480682
                ],
                [
                 13.757832871689208,
                 47.266979618653856
                ],
                [
                 13.822535502019646,
                 47.29391075928638
                ],
                [
                 13.86137413022891,
                 47.252877782610945
                ],
                [
                 13.861939615717835,
                 47.22064419930689
                ],
                [
                 13.939942624981187,
                 47.16710273135776
                ],
                [
                 13.99009642683173,
                 47.1429496672736
                ],
                [
                 13.985012729848352,
                 47.12781112252956
                ],
                [
                 13.932850541084347,
                 47.13580419887789
                ],
                [
                 13.875611432150723,
                 47.10107458962025
                ],
                [
                 13.903967588488547,
                 47.0708202774534
                ],
                [
                 13.829007172764317,
                 46.96615800830227
                ],
                [
                 13.798352103631528,
                 46.951844674621924
                ]
               ]
              ]
             ],
             "type": "MultiPolygon"
            },
            "properties": {
             "iso": "5",
             "name": "Salzburg"
            },
            "type": "Feature"
           },
           {
            "geometry": {
             "coordinates": [
              [
               [
                [
                 15.062313842013335,
                 46.65277657493685
                ],
                [
                 15.021723960006229,
                 46.67044019676584
                ],
                [
                 15.039478767649438,
                 46.72158463624366
                ],
                [
                 15.028749900382708,
                 46.746421499326736
                ],
                [
                 14.993871884429375,
                 46.78153279916539
                ],
                [
                 14.973464266422333,
                 46.785491239529
                ],
                [
                 15.016832434338669,
                 46.844960815216176
                ],
                [
                 15.005425055975238,
                 46.880570359407294
                ],
                [
                 15.012112493120615,
                 46.881946353479314
                ],
                [
                 15.024207631891255,
                 46.910440804398895
                ],
                [
                 14.964149997281826,
                 46.982472194636294
                ],
                [
                 14.882741006492154,
                 47.01187740670246
                ],
                [
                 14.84417882509954,
                 47.03364454740318
                ],
                [
                 14.841676489061658,
                 47.048805304818195
                ],
                [
                 14.771524903004831,
                 47.04001782848264
                ],
                [
                 14.695861526766844,
                 47.01698773271139
                ],
                [
                 14.624948149152406,
                 47.01428298253796
                ],
                [
                 14.612463774440057,
                 46.998655758835234
                ],
                [
                 14.583124270383646,
                 47.0124232984338
                ],
                [
                 14.4690500355669,
                 47.00841794284422
                ],
                [
                 14.42739604891257,
                 47.00118650442543
                ],
                [
                 14.327397088037056,
                 47.02984590762905
                ],
                [
                 14.234893334266026,
                 47.02906133305401
                ],
                [
                 14.232236104985565,
                 47.02653071848637
                ],
                [
                 14.19962181928544,
                 47.0766044867391
                ],
                [
                 14.158799840554162,
                 47.05312008248935
                ],
                [
                 14.129757610613044,
                 47.06305077344774
                ],
                [
                 14.076338288515274,
                 47.02273881391121
                ],
                [
                 14.013625887190985,
                 46.989780922491505
                ],
                [
                 13.965353819946968,
                 46.96375750198801
                ],
                [
                 13.94391568309175,
                 46.941339953575834
                ],
                [
                 13.879060825088889,
                 46.91852569455783
                ],
                [
                 13.812548725751137,
                 46.91922079716213
                ],
                [
                 13.781858253483055,
                 46.944566726240176
                ],
                [
                 13.798352103631528,
                 46.951844674621924
                ],
                [
                 13.829007172764317,
                 46.96615800830227
                ],
                [
                 13.903967588488547,
                 47.0708202774534
                ],
                [
                 13.875611432150723,
                 47.10107458962025
                ],
                [
                 13.932850541084347,
                 47.13580419887789
                ],
                [
                 13.985012729848352,
                 47.12781112252956
                ],
                [
                 13.99009642683173,
                 47.1429496672736
                ],
                [
                 13.939942624981187,
                 47.16710273135776
                ],
                [
                 13.861939615717835,
                 47.22064419930689
                ],
                [
                 13.86137413022891,
                 47.252877782610945
                ],
                [
                 13.822535502019646,
                 47.29391075928638
                ],
                [
                 13.757832871689208,
                 47.266979618653856
                ],
                [
                 13.709056671941815,
                 47.26021105480682
                ],
                [
                 13.693014143657168,
                 47.26079573074071
                ],
                [
                 13.605134010473964,
                 47.28409682834876
                ],
                [
                 13.596895659286297,
                 47.341409015053536
                ],
                [
                 13.569492539300748,
                 47.39381056606523
                ],
                [
                 13.561746557279987,
                 47.41739787895367
                ],
                [
                 13.561322502595704,
                 47.41877795531392
                ],
                [
                 13.582856450628059,
                 47.47550827496876
                ],
                [
                 13.602876972006017,
                 47.475896454616894
                ],
                [
                 13.605942430202054,
                 47.47584573560712
                ],
                [
                 13.719754990487411,
                 47.46281999761018
                ],
                [
                 13.74632626158727,
                 47.50232005685372
                ],
                [
                 13.757865107283767,
                 47.5210073854116
                ],
                [
                 13.732654022442613,
                 47.57773034335252
                ],
                [
                 13.691787532748462,
                 47.57998041592989
                ],
                [
                 13.695703979460355,
                 47.60275900602188
                ],
                [
                 13.70505213579654,
                 47.65716240372051
                ],
                [
                 13.774852101100302,
                 47.719032619853486
                ],
                [
                 13.857510045138977,
                 47.7279221891866
                ],
                [
                 13.893114702931202,
                 47.71818645283093
                ],
                [
                 14.007797462698619,
                 47.70159791563943
                ],
                [
                 14.052627135407647,
                 47.66859366683909
                ],
                [
                 14.045938276604826,
                 47.63762832958257
                ],
                [
                 14.04797578242021,
                 47.61786314553959
                ],
                [
                 14.090321147711409,
                 47.620244800293115
                ],
                [
                 14.174786412508292,
                 47.63865431978715
                ],
                [
                 14.202993128424746,
                 47.65324349425967
                ],
                [
                 14.229754900473345,
                 47.651335265305775
                ],
                [
                 14.261611978484815,
                 47.61117896452449
                ],
                [
                 14.323597311082393,
                 47.60825952976716
                ],
                [
                 14.388734994989315,
                 47.636643741682384
                ],
                [
                 14.41805486150295,
                 47.65728031640895
                ],
                [
                 14.441435979634011,
                 47.656118020052254
                ],
                [
                 14.485769844431777,
                 47.682746730614916
                ],
                [
                 14.528885381761471,
                 47.7143019672102
                ],
                [
                 14.643463521446574,
                 47.726160420642856
                ],
                [
                 14.6941683957161,
                 47.76650462689978
                ],
                [
                 14.73566808338259,
                 47.749426793777985
                ],
                [
                 14.764254891795062,
                 47.7270126926241
                ],
                [
                 14.815521484791581,
                 47.74490961049843
                ],
                [
                 14.85526693611768,
                 47.7411939788452
                ],
                [
                 14.898419706847834,
                 47.711530267676075
                ],
                [
                 14.970044350325894,
                 47.744303408961784
                ],
                [
                 15.031926069993437,
                 47.75344200233826
                ],
                [
                 15.086457681336192,
                 47.74217222908681
                ],
                [
                 15.132045631353076,
                 47.75870100875711
                ],
                [
                 15.196587995010171,
                 47.75412792009144
                ],
                [
                 15.214516325735632,
                 47.79672841493683
                ],
                [
                 15.286082617985503,
                 47.79187864761831
                ],
                [
                 15.297045639104294,
                 47.8217441428425
                ],
                [
                 15.342419192626412,
                 47.8263742451942
                ],
                [
                 15.343100790488187,
                 47.826458307274905
                ],
                [
                 15.376750891518832,
                 47.82424031724305
                ],
                [
                 15.458173341840908,
                 47.770446655783324
                ],
                [
                 15.503824297663224,
                 47.76849707072922
                ],
                [
                 15.51100145314899,
                 47.74725153227008
                ],
                [
                 15.608925525753648,
                 47.75178605106096
                ],
                [
                 15.63317312259398,
                 47.716120757997125
                ],
                [
                 15.675945114743612,
                 47.69969487804562
                ],
                [
                 15.716360145031679,
                 47.71058281328566
                ],
                [
                 15.72231622717731,
                 47.6471548134285
                ],
                [
                 15.739522772636551,
                 47.642908508568475
                ],
                [
                 15.778544678678688,
                 47.64299940448292
                ],
                [
                 15.837512602790229,
                 47.61880014884725
                ],
                [
                 15.85778105484603,
                 47.617376268322836
                ],
                [
                 15.844224479544629,
                 47.56848860973404
                ],
                [
                 15.902627080805715,
                 47.56050479117799
                ],
                [
                 15.911075331820498,
                 47.53112632814445
                ],
                [
                 15.917716205195124,
                 47.53071767551388
                ],
                [
                 15.955735933816998,
                 47.518553434992604
                ],
                [
                 15.997287113811915,
                 47.516538148561374
                ],
                [
                 16.062303772060602,
                 47.487035116629556
                ],
                [
                 16.084613735772102,
                 47.50785604821462
                ],
                [
                 16.108419408036877,
                 47.52267217535619
                ],
                [
                 16.13519069023434,
                 47.46213595254102
                ],
                [
                 16.168984537359943,
                 47.42309851780552
                ],
                [
                 16.16225508757511,
                 47.421446209348034
                ],
                [
                 16.138900969886,
                 47.41820793584231
                ],
                [
                 16.113357185217723,
                 47.41457019243507
                ],
                [
                 16.081326072415987,
                 47.40985517946214
                ],
                [
                 16.05763297797225,
                 47.38493882757068
                ],
                [
                 16.055967976466043,
                 47.384506814206084
                ],
                [
                 16.02732620577123,
                 47.37998987335984
                ],
                [
                 16.031256102645052,
                 47.372894344310296
                ],
                [
                 16.027430487596547,
                 47.37210245401324
                ],
                [
                 16.031718176228672,
                 47.356307783280435
                ],
                [
                 16.05673238140275,
                 47.315391460800434
                ],
                [
                 16.055664585847495,
                 47.31082316246469
                ],
                [
                 16.071944319118813,
                 47.275387030187574
                ],
                [
                 16.07348043721224,
                 47.27232749291293
                ],
                [
                 16.083734166890213,
                 47.23424160111403
                ],
                [
                 16.090014113418867,
                 47.200610938367774
                ],
                [
                 16.08870982183728,
                 47.199163592268384
                ],
                [
                 16.099793329518068,
                 47.18435125977481
                ],
                [
                 16.106498791610996,
                 47.16748643081477
                ],
                [
                 16.11223706808718,
                 47.13389169512108
                ],
                [
                 16.09200488331858,
                 47.112900947470955
                ],
                [
                 16.08379119127893,
                 47.088540159123625
                ],
                [
                 16.0955744934835,
                 47.061767746088016
                ],
                [
                 16.12793859490346,
                 47.01282713383637
                ],
                [
                 16.142810831509557,
                 47.00050122374456
                ],
                [
                 16.151740961122126,
                 46.99151535103217
                ],
                [
                 16.104969698078822,
                 46.966031480721185
                ],
                [
                 16.092612098137973,
                 46.95473777555299
                ],
                [
                 16.0920023328516,
                 46.93504614362515
                ],
                [
                 16.051258370533102,
                 46.911077148922466
                ],
                [
                 16.032607364588106,
                 46.893565782674635
                ],
                [
                 16.02063565181343,
                 46.88863061392031
                ],
                [
                 15.999889799681938,
                 46.84759547874293
                ],
                [
                 15.993444557407093,
                 46.8361010228545
                ],
                [
                 15.990246335972122,
                 46.80503827011241
                ],
                [
                 15.991074058234284,
                 46.731309120135435
                ],
                [
                 15.998980769151713,
                 46.67913941001775
                ],
                [
                 15.944271763223398,
                 46.6897696212966
                ],
                [
                 15.874362255140666,
                 46.72037419163835
                ],
                [
                 15.827678233311913,
                 46.72235674188238
                ],
                [
                 15.749649088414047,
                 46.69867313405675
                ],
                [
                 15.671143464648242,
                 46.70769892036839
                ],
                [
                 15.611752080737702,
                 46.6828740150043
                ],
                [
                 15.567357317663744,
                 46.68161490896958
                ],
                [
                 15.543483174661946,
                 46.67085858678629
                ],
                [
                 15.540751620293973,
                 46.6329194776281
                ],
                [
                 15.47005564365718,
                 46.61270289994332
                ],
                [
                 15.446856573597634,
                 46.64304530357307
                ],
                [
                 15.38009834434934,
                 46.652329541572676
                ],
                [
                 15.305197043876301,
                 46.6531438691042
                ],
                [
                 15.23311517595507,
                 46.64009200845612
                ],
                [
                 15.179858196910967,
                 46.65672814158692
                ],
                [
                 15.062313842013335,
                 46.65277657493685
                ]
               ]
              ]
             ],
             "type": "MultiPolygon"
            },
            "properties": {
             "iso": "6",
             "name": "Steiermark"
            },
            "type": "Feature"
           }
          ],
          "name": "laender_999_geo",
          "type": "FeatureCollection"
         },
         "locations": [
          "9",
          "3",
          "4",
          "6",
          "7",
          "2",
          "5",
          "8",
          "1"
         ],
         "marker": {
          "line": {
           "width": 0.5
          }
         },
         "type": "choropleth",
         "z": [
          1280093,
          1174706,
          943550,
          847856,
          501226,
          362700,
          357473,
          261025,
          217465
         ]
        }
       ],
       "layout": {
        "geo": {
         "countrycolor": "DarkBlue",
         "lakecolor": "rgb(255, 255, 255)",
         "scope": "europe",
         "showcountries": true,
         "showlakes": true
        },
        "template": {
         "data": {
          "bar": [
           {
            "error_x": {
             "color": "#2a3f5f"
            },
            "error_y": {
             "color": "#2a3f5f"
            },
            "marker": {
             "line": {
              "color": "#E5ECF6",
              "width": 0.5
             },
             "pattern": {
              "fillmode": "overlay",
              "size": 10,
              "solidity": 0.2
             }
            },
            "type": "bar"
           }
          ],
          "barpolar": [
           {
            "marker": {
             "line": {
              "color": "#E5ECF6",
              "width": 0.5
             },
             "pattern": {
              "fillmode": "overlay",
              "size": 10,
              "solidity": 0.2
             }
            },
            "type": "barpolar"
           }
          ],
          "carpet": [
           {
            "aaxis": {
             "endlinecolor": "#2a3f5f",
             "gridcolor": "white",
             "linecolor": "white",
             "minorgridcolor": "white",
             "startlinecolor": "#2a3f5f"
            },
            "baxis": {
             "endlinecolor": "#2a3f5f",
             "gridcolor": "white",
             "linecolor": "white",
             "minorgridcolor": "white",
             "startlinecolor": "#2a3f5f"
            },
            "type": "carpet"
           }
          ],
          "choropleth": [
           {
            "colorbar": {
             "outlinewidth": 0,
             "ticks": ""
            },
            "type": "choropleth"
           }
          ],
          "contour": [
           {
            "colorbar": {
             "outlinewidth": 0,
             "ticks": ""
            },
            "colorscale": [
             [
              0,
              "#0d0887"
             ],
             [
              0.1111111111111111,
              "#46039f"
             ],
             [
              0.2222222222222222,
              "#7201a8"
             ],
             [
              0.3333333333333333,
              "#9c179e"
             ],
             [
              0.4444444444444444,
              "#bd3786"
             ],
             [
              0.5555555555555556,
              "#d8576b"
             ],
             [
              0.6666666666666666,
              "#ed7953"
             ],
             [
              0.7777777777777778,
              "#fb9f3a"
             ],
             [
              0.8888888888888888,
              "#fdca26"
             ],
             [
              1,
              "#f0f921"
             ]
            ],
            "type": "contour"
           }
          ],
          "contourcarpet": [
           {
            "colorbar": {
             "outlinewidth": 0,
             "ticks": ""
            },
            "type": "contourcarpet"
           }
          ],
          "heatmap": [
           {
            "colorbar": {
             "outlinewidth": 0,
             "ticks": ""
            },
            "colorscale": [
             [
              0,
              "#0d0887"
             ],
             [
              0.1111111111111111,
              "#46039f"
             ],
             [
              0.2222222222222222,
              "#7201a8"
             ],
             [
              0.3333333333333333,
              "#9c179e"
             ],
             [
              0.4444444444444444,
              "#bd3786"
             ],
             [
              0.5555555555555556,
              "#d8576b"
             ],
             [
              0.6666666666666666,
              "#ed7953"
             ],
             [
              0.7777777777777778,
              "#fb9f3a"
             ],
             [
              0.8888888888888888,
              "#fdca26"
             ],
             [
              1,
              "#f0f921"
             ]
            ],
            "type": "heatmap"
           }
          ],
          "heatmapgl": [
           {
            "colorbar": {
             "outlinewidth": 0,
             "ticks": ""
            },
            "colorscale": [
             [
              0,
              "#0d0887"
             ],
             [
              0.1111111111111111,
              "#46039f"
             ],
             [
              0.2222222222222222,
              "#7201a8"
             ],
             [
              0.3333333333333333,
              "#9c179e"
             ],
             [
              0.4444444444444444,
              "#bd3786"
             ],
             [
              0.5555555555555556,
              "#d8576b"
             ],
             [
              0.6666666666666666,
              "#ed7953"
             ],
             [
              0.7777777777777778,
              "#fb9f3a"
             ],
             [
              0.8888888888888888,
              "#fdca26"
             ],
             [
              1,
              "#f0f921"
             ]
            ],
            "type": "heatmapgl"
           }
          ],
          "histogram": [
           {
            "marker": {
             "pattern": {
              "fillmode": "overlay",
              "size": 10,
              "solidity": 0.2
             }
            },
            "type": "histogram"
           }
          ],
          "histogram2d": [
           {
            "colorbar": {
             "outlinewidth": 0,
             "ticks": ""
            },
            "colorscale": [
             [
              0,
              "#0d0887"
             ],
             [
              0.1111111111111111,
              "#46039f"
             ],
             [
              0.2222222222222222,
              "#7201a8"
             ],
             [
              0.3333333333333333,
              "#9c179e"
             ],
             [
              0.4444444444444444,
              "#bd3786"
             ],
             [
              0.5555555555555556,
              "#d8576b"
             ],
             [
              0.6666666666666666,
              "#ed7953"
             ],
             [
              0.7777777777777778,
              "#fb9f3a"
             ],
             [
              0.8888888888888888,
              "#fdca26"
             ],
             [
              1,
              "#f0f921"
             ]
            ],
            "type": "histogram2d"
           }
          ],
          "histogram2dcontour": [
           {
            "colorbar": {
             "outlinewidth": 0,
             "ticks": ""
            },
            "colorscale": [
             [
              0,
              "#0d0887"
             ],
             [
              0.1111111111111111,
              "#46039f"
             ],
             [
              0.2222222222222222,
              "#7201a8"
             ],
             [
              0.3333333333333333,
              "#9c179e"
             ],
             [
              0.4444444444444444,
              "#bd3786"
             ],
             [
              0.5555555555555556,
              "#d8576b"
             ],
             [
              0.6666666666666666,
              "#ed7953"
             ],
             [
              0.7777777777777778,
              "#fb9f3a"
             ],
             [
              0.8888888888888888,
              "#fdca26"
             ],
             [
              1,
              "#f0f921"
             ]
            ],
            "type": "histogram2dcontour"
           }
          ],
          "mesh3d": [
           {
            "colorbar": {
             "outlinewidth": 0,
             "ticks": ""
            },
            "type": "mesh3d"
           }
          ],
          "parcoords": [
           {
            "line": {
             "colorbar": {
              "outlinewidth": 0,
              "ticks": ""
             }
            },
            "type": "parcoords"
           }
          ],
          "pie": [
           {
            "automargin": true,
            "type": "pie"
           }
          ],
          "scatter": [
           {
            "fillpattern": {
             "fillmode": "overlay",
             "size": 10,
             "solidity": 0.2
            },
            "type": "scatter"
           }
          ],
          "scatter3d": [
           {
            "line": {
             "colorbar": {
              "outlinewidth": 0,
              "ticks": ""
             }
            },
            "marker": {
             "colorbar": {
              "outlinewidth": 0,
              "ticks": ""
             }
            },
            "type": "scatter3d"
           }
          ],
          "scattercarpet": [
           {
            "marker": {
             "colorbar": {
              "outlinewidth": 0,
              "ticks": ""
             }
            },
            "type": "scattercarpet"
           }
          ],
          "scattergeo": [
           {
            "marker": {
             "colorbar": {
              "outlinewidth": 0,
              "ticks": ""
             }
            },
            "type": "scattergeo"
           }
          ],
          "scattergl": [
           {
            "marker": {
             "colorbar": {
              "outlinewidth": 0,
              "ticks": ""
             }
            },
            "type": "scattergl"
           }
          ],
          "scattermapbox": [
           {
            "marker": {
             "colorbar": {
              "outlinewidth": 0,
              "ticks": ""
             }
            },
            "type": "scattermapbox"
           }
          ],
          "scatterpolar": [
           {
            "marker": {
             "colorbar": {
              "outlinewidth": 0,
              "ticks": ""
             }
            },
            "type": "scatterpolar"
           }
          ],
          "scatterpolargl": [
           {
            "marker": {
             "colorbar": {
              "outlinewidth": 0,
              "ticks": ""
             }
            },
            "type": "scatterpolargl"
           }
          ],
          "scatterternary": [
           {
            "marker": {
             "colorbar": {
              "outlinewidth": 0,
              "ticks": ""
             }
            },
            "type": "scatterternary"
           }
          ],
          "surface": [
           {
            "colorbar": {
             "outlinewidth": 0,
             "ticks": ""
            },
            "colorscale": [
             [
              0,
              "#0d0887"
             ],
             [
              0.1111111111111111,
              "#46039f"
             ],
             [
              0.2222222222222222,
              "#7201a8"
             ],
             [
              0.3333333333333333,
              "#9c179e"
             ],
             [
              0.4444444444444444,
              "#bd3786"
             ],
             [
              0.5555555555555556,
              "#d8576b"
             ],
             [
              0.6666666666666666,
              "#ed7953"
             ],
             [
              0.7777777777777778,
              "#fb9f3a"
             ],
             [
              0.8888888888888888,
              "#fdca26"
             ],
             [
              1,
              "#f0f921"
             ]
            ],
            "type": "surface"
           }
          ],
          "table": [
           {
            "cells": {
             "fill": {
              "color": "#EBF0F8"
             },
             "line": {
              "color": "white"
             }
            },
            "header": {
             "fill": {
              "color": "#C8D4E3"
             },
             "line": {
              "color": "white"
             }
            },
            "type": "table"
           }
          ]
         },
         "layout": {
          "annotationdefaults": {
           "arrowcolor": "#2a3f5f",
           "arrowhead": 0,
           "arrowwidth": 1
          },
          "autotypenumbers": "strict",
          "coloraxis": {
           "colorbar": {
            "outlinewidth": 0,
            "ticks": ""
           }
          },
          "colorscale": {
           "diverging": [
            [
             0,
             "#8e0152"
            ],
            [
             0.1,
             "#c51b7d"
            ],
            [
             0.2,
             "#de77ae"
            ],
            [
             0.3,
             "#f1b6da"
            ],
            [
             0.4,
             "#fde0ef"
            ],
            [
             0.5,
             "#f7f7f7"
            ],
            [
             0.6,
             "#e6f5d0"
            ],
            [
             0.7,
             "#b8e186"
            ],
            [
             0.8,
             "#7fbc41"
            ],
            [
             0.9,
             "#4d9221"
            ],
            [
             1,
             "#276419"
            ]
           ],
           "sequential": [
            [
             0,
             "#0d0887"
            ],
            [
             0.1111111111111111,
             "#46039f"
            ],
            [
             0.2222222222222222,
             "#7201a8"
            ],
            [
             0.3333333333333333,
             "#9c179e"
            ],
            [
             0.4444444444444444,
             "#bd3786"
            ],
            [
             0.5555555555555556,
             "#d8576b"
            ],
            [
             0.6666666666666666,
             "#ed7953"
            ],
            [
             0.7777777777777778,
             "#fb9f3a"
            ],
            [
             0.8888888888888888,
             "#fdca26"
            ],
            [
             1,
             "#f0f921"
            ]
           ],
           "sequentialminus": [
            [
             0,
             "#0d0887"
            ],
            [
             0.1111111111111111,
             "#46039f"
            ],
            [
             0.2222222222222222,
             "#7201a8"
            ],
            [
             0.3333333333333333,
             "#9c179e"
            ],
            [
             0.4444444444444444,
             "#bd3786"
            ],
            [
             0.5555555555555556,
             "#d8576b"
            ],
            [
             0.6666666666666666,
             "#ed7953"
            ],
            [
             0.7777777777777778,
             "#fb9f3a"
            ],
            [
             0.8888888888888888,
             "#fdca26"
            ],
            [
             1,
             "#f0f921"
            ]
           ]
          },
          "colorway": [
           "#636efa",
           "#EF553B",
           "#00cc96",
           "#ab63fa",
           "#FFA15A",
           "#19d3f3",
           "#FF6692",
           "#B6E880",
           "#FF97FF",
           "#FECB52"
          ],
          "font": {
           "color": "#2a3f5f"
          },
          "geo": {
           "bgcolor": "white",
           "lakecolor": "white",
           "landcolor": "#E5ECF6",
           "showlakes": true,
           "showland": true,
           "subunitcolor": "white"
          },
          "hoverlabel": {
           "align": "left"
          },
          "hovermode": "closest",
          "mapbox": {
           "style": "light"
          },
          "paper_bgcolor": "white",
          "plot_bgcolor": "#E5ECF6",
          "polar": {
           "angularaxis": {
            "gridcolor": "white",
            "linecolor": "white",
            "ticks": ""
           },
           "bgcolor": "#E5ECF6",
           "radialaxis": {
            "gridcolor": "white",
            "linecolor": "white",
            "ticks": ""
           }
          },
          "scene": {
           "xaxis": {
            "backgroundcolor": "#E5ECF6",
            "gridcolor": "white",
            "gridwidth": 2,
            "linecolor": "white",
            "showbackground": true,
            "ticks": "",
            "zerolinecolor": "white"
           },
           "yaxis": {
            "backgroundcolor": "#E5ECF6",
            "gridcolor": "white",
            "gridwidth": 2,
            "linecolor": "white",
            "showbackground": true,
            "ticks": "",
            "zerolinecolor": "white"
           },
           "zaxis": {
            "backgroundcolor": "#E5ECF6",
            "gridcolor": "white",
            "gridwidth": 2,
            "linecolor": "white",
            "showbackground": true,
            "ticks": "",
            "zerolinecolor": "white"
           }
          },
          "shapedefaults": {
           "line": {
            "color": "#2a3f5f"
           }
          },
          "ternary": {
           "aaxis": {
            "gridcolor": "white",
            "linecolor": "white",
            "ticks": ""
           },
           "baxis": {
            "gridcolor": "white",
            "linecolor": "white",
            "ticks": ""
           },
           "bgcolor": "#E5ECF6",
           "caxis": {
            "gridcolor": "white",
            "linecolor": "white",
            "ticks": ""
           }
          },
          "title": {
           "x": 0.05
          },
          "xaxis": {
           "automargin": true,
           "gridcolor": "white",
           "linecolor": "white",
           "ticks": "",
           "title": {
            "standoff": 15
           },
           "zerolinecolor": "white",
           "zerolinewidth": 2
          },
          "yaxis": {
           "automargin": true,
           "gridcolor": "white",
           "linecolor": "white",
           "ticks": "",
           "title": {
            "standoff": 15
           },
           "zerolinecolor": "white",
           "zerolinewidth": 2
          }
         }
        },
        "title": {
         "text": "Anzahl der Geimpften in Österreich nach Bundesländern"
        }
       }
      }
     },
     "metadata": {},
     "output_type": "display_data"
    }
   ],
   "source": [
    "import plotly.graph_objs as go\n",
    "import pandas as pd\n",
    "import json\n",
    "\n",
    "\n",
    "with open('laender_999_geo.json', 'r') as f:\n",
    "    austria_geojson = json.load(f)\n",
    "\n",
    "\n",
    "Impf = graph.run(\"\"\"\n",
    "MATCH (i:Impf_Patient2021)\n",
    "WITH i, substring(i.bezirkId, 0, 1) AS bundeslandId\n",
    "RETURN bundeslandId AS bezirkId, sum(i.zweiteImpfung) AS TotalImpfungen\n",
    "ORDER BY TotalImpfungen DESC\n",
    "\"\"\")\n",
    "\n",
    "df = pd.DataFrame([dict(r) for r in Impf], columns=['bezirkId', 'TotalImpfungen'])\n",
    "\n",
    "df['TotalImpfungen'] = pd.to_numeric(df['TotalImpfungen'])\n",
    "\n",
    "austriamap = [go.Choropleth(\n",
    "    geojson=austria_geojson,  \n",
    "    featureidkey=\"properties.iso\",  \n",
    "    locations=df['bezirkId'],  \n",
    "    z=df['TotalImpfungen'],  \n",
    "    colorscale=\"Blues\",\n",
    "    marker_line_width=0.5,\n",
    "    colorbar_title=\"Anzahl der Geimpften\"\n",
    ")]\n",
    "\n",
    "layout = go.Layout(\n",
    "    title_text=\"Anzahl der Geimpften in Österreich nach Bundesländern\",\n",
    "    geo=dict(\n",
    "        scope=\"europe\",\n",
    "        showcountries=True,\n",
    "        showlakes=True,\n",
    "        lakecolor=\"rgb(255, 255, 255)\",\n",
    "        countrycolor=\"DarkBlue\"\n",
    "    )\n",
    ")\n",
    "\n",
    "fig = go.Figure(data=austriamap, layout=layout)\n",
    "fig.show()\n"
   ]
  },
  {
   "cell_type": "code",
   "execution_count": 113,
   "id": "20638f6b",
   "metadata": {},
   "outputs": [
    {
     "data": {
      "application/vnd.plotly.v1+json": {
       "config": {
        "plotlyServerURL": "https://plot.ly"
       },
       "data": [
        {
         "colorbar": {
          "title": {
           "text": "Anzahl der Befragten"
          }
         },
         "colorscale": [
          [
           0,
           "rgb(247,251,255)"
          ],
          [
           0.125,
           "rgb(222,235,247)"
          ],
          [
           0.25,
           "rgb(198,219,239)"
          ],
          [
           0.375,
           "rgb(158,202,225)"
          ],
          [
           0.5,
           "rgb(107,174,214)"
          ],
          [
           0.625,
           "rgb(66,146,198)"
          ],
          [
           0.75,
           "rgb(33,113,181)"
          ],
          [
           0.875,
           "rgb(8,81,156)"
          ],
          [
           1,
           "rgb(8,48,107)"
          ]
         ],
         "featureidkey": "properties.iso",
         "geojson": {
          "crs": {
           "properties": {
            "name": "urn:ogc:def:crs:OGC:1.3:CRS84"
           },
           "type": "name"
          },
          "features": [
           {
            "geometry": {
             "coordinates": [
              [
               [
                [
                 12.708906048803351,
                 46.736370258232114
                ],
                [
                 12.687814998391627,
                 46.657687939565015
                ],
                [
                 12.62821625546327,
                 46.66210597394938
                ],
                [
                 12.548422273560332,
                 46.65947484467683
                ],
                [
                 12.424214927277898,
                 46.69980654007058
                ],
                [
                 12.374798258989214,
                 46.72301852722734
                ],
                [
                 12.35460834340331,
                 46.77568491587727
                ],
                [
                 12.306142163751153,
                 46.785705936866705
                ],
                [
                 12.289024792646087,
                 46.865910021407046
                ],
                [
                 12.27107091505439,
                 46.88493797950103
                ],
                [
                 12.215309947954404,
                 46.87446771907225
                ],
                [
                 12.165533736965445,
                 46.93900115687934
                ],
                [
                 12.135444934530662,
                 46.95718551698287
                ],
                [
                 12.118351563502069,
                 47.006780453973406
                ],
                [
                 12.144589646846239,
                 47.02561613327365
                ],
                [
                 12.202045768383902,
                 47.02769206781959
                ],
                [
                 12.237924613286085,
                 47.069884004190115
                ],
                [
                 12.280957414203254,
                 47.09326480647793
                ],
                [
                 12.342795704847681,
                 47.10998476028861
                ],
                [
                 12.360454539252105,
                 47.142098997698724
                ],
                [
                 12.396701690532645,
                 47.15351595995203
                ],
                [
                 12.462736611250595,
                 47.14506846369805
                ],
                [
                 12.48070043046074,
                 47.15855964154146
                ],
                [
                 12.563556470390875,
                 47.136739497405685
                ],
                [
                 12.5894168444659,
                 47.12558674595656
                ],
                [
                 12.654016066248188,
                 47.100231353836485
                ],
                [
                 12.707697515119014,
                 47.04914786384203
                ],
                [
                 12.752064972756102,
                 47.02557638523418
                ],
                [
                 12.73826593135879,
                 46.96970298983289
                ],
                [
                 12.756752974781406,
                 46.95732550566128
                ],
                [
                 12.78359041430831,
                 46.940276760811784
                ],
                [
                 12.790855801946638,
                 46.92719618819176
                ],
                [
                 12.805634318053574,
                 46.92331374882672
                ],
                [
                 12.819009511450858,
                 46.917531662989035
                ],
                [
                 12.838340668011002,
                 46.86169424249905
                ],
                [
                 12.89278121589817,
                 46.82652148783386
                ],
                [
                 12.90264695172511,
                 46.82334499490438
                ],
                [
                 12.904298041316295,
                 46.82338779024406
                ],
                [
                 12.960670629253963,
                 46.79936335184976
                ],
                [
                 12.928609757041915,
                 46.76475736834992
                ],
                [
                 12.896567448024967,
                 46.777562323716694
                ],
                [
                 12.854022169611744,
                 46.76088408544631
                ],
                [
                 12.83840776878861,
                 46.75005145771911
                ],
                [
                 12.807097813753057,
                 46.75699830816364
                ],
                [
                 12.793001465389452,
                 46.75605573563165
                ],
                [
                 12.745381295751143,
                 46.74816493301869
                ],
                [
                 12.708906048803351,
                 46.736370258232114
                ]
               ]
              ],
              [
               [
                [
                 10.621446193557658,
                 46.865129833771505
                ],
                [
                 10.567670311638754,
                 46.84312600058576
                ],
                [
                 10.466817101807274,
                 46.85563731032554
                ],
                [
                 10.461859818510101,
                 46.88500413143552
                ],
                [
                 10.486513742396113,
                 46.938512613423626
                ],
                [
                 10.453920431976055,
                 46.952130725004864
                ],
                [
                 10.386480665215979,
                 47.00124676440322
                ],
                [
                 10.346141472622726,
                 46.991333955227006
                ],
                [
                 10.294046176153982,
                 46.92067957879495
                ],
                [
                 10.2388600019946,
                 46.93235848521496
                ],
                [
                 10.229100082545589,
                 46.8674600446882
                ],
                [
                 10.142134531334351,
                 46.85173310139351
                ],
                [
                 10.095380369809417,
                 46.92808123012872
                ],
                [
                 10.15696699113046,
                 46.98447380186136
                ],
                [
                 10.131710106273683,
                 47.03007593651905
                ],
                [
                 10.130705085035299,
                 47.07861162544421
                ],
                [
                 10.210157276244534,
                 47.15830616955267
                ],
                [
                 10.208581427535876,
                 47.172052842700865
                ],
                [
                 10.194909802163204,
                 47.23730371456389
                ],
                [
                 10.175515804959819,
                 47.27083541340971
                ],
                [
                 10.229522455336305,
                 47.27124282735078
                ],
                [
                 10.263139502469024,
                 47.28879731342489
                ],
                [
                 10.345967022921542,
                 47.31822954598765
                ],
                [
                 10.39470273530341,
                 47.37759933682062
                ],
                [
                 10.433934189600418,
                 47.38108326198349
                ],
                [
                 10.435717385282741,
                 47.414262298769295
                ],
                [
                 10.467386132281675,
                 47.449250152438665
                ],
                [
                 10.460930568529879,
                 47.48345976455217
                ],
                [
                 10.432896912747138,
                 47.496085759022996
                ],
                [
                 10.451606268660269,
                 47.5565158960459
                ],
                [
                 10.48608214882319,
                 47.541123345902896
                ],
                [
                 10.49494077517394,
                 47.53982185422103
                ],
                [
                 10.52170443832089,
                 47.53588526029041
                ],
                [
                 10.560017708085406,
                 47.53677717184118
                ],
                [
                 10.59512557590957,
                 47.57045868150772
                ],
                [
                 10.675179690462913,
                 47.55695507424351
                ],
                [
                 10.73755124416664,
                 47.5392501933462
                ],
                [
                 10.760934072815889,
                 47.5203156477209
                ],
                [
                 10.887521284279195,
                 47.53800568248985
                ],
                [
                 10.883706183927114,
                 47.480880951846565
                ],
                [
                 10.929652859498093,
                 47.46875195999207
                ],
                [
                 10.9807847401356,
                 47.43073584204067
                ],
                [
                 10.988373470002166,
                 47.396849160997995
                ],
                [
                 11.013671491602462,
                 47.397086133818576
                ],
                [
                 11.0525460169938,
                 47.39668393224864
                ],
                [
                 11.097869829078155,
                 47.39511051066365
                ],
                [
                 11.202656984421157,
                 47.43460935986391
                ],
                [
                 11.219479238422403,
                 47.398065066527415
                ],
                [
                 11.269703523772494,
                 47.398689996725146
                ],
                [
                 11.288177067823016,
                 47.42777621575619
                ],
                [
                 11.333259151212076,
                 47.449348710557736
                ],
                [
                 11.418602198400968,
                 47.44556864007676
                ],
                [
                 11.388716308988093,
                 47.483158994288885
                ],
                [
                 11.446498747299188,
                 47.50794729087614
                ],
                [
                 11.569583796482195,
                 47.5152212776142
                ],
                [
                 11.597829189077459,
                 47.56857334499714
                ],
                [
                 11.655378728105196,
                 47.58483975499621
                ],
                [
                 11.772244891055076,
                 47.59111923429204
                ],
                [
                 11.844538310587,
                 47.58302152110163
                ],
                [
                 11.891469151198377,
                 47.60916262349546
                ],
                [
                 12.009937678897424,
                 47.623915322063155
                ],
                [
                 12.079529921310117,
                 47.6104586736182
                ],
                [
                 12.14662968633101,
                 47.609353336492454
                ],
                [
                 12.175320951558362,
                 47.60160342259396
                ],
                [
                 12.195595985396162,
                 47.64285407432214
                ],
                [
                 12.184026980293938,
                 47.65804441718302
                ],
                [
                 12.180651314626534,
                 47.70120062762335
                ],
                [
                 12.240330224610581,
                 47.69238467703806
                ],
                [
                 12.254361683792434,
                 47.679812739802
                ],
                [
                 12.324310078465027,
                 47.69608147950925
                ],
                [
                 12.33717443056712,
                 47.6910781928758
                ],
                [
                 12.437252407684086,
                 47.695932457970244
                ],
                [
                 12.437942165400903,
                 47.67460365242248
                ],
                [
                 12.496355889630921,
                 47.62581036913322
                ],
                [
                 12.522425020996293,
                 47.631461509939584
                ],
                [
                 12.572213000152678,
                 47.63302734283744
                ],
                [
                 12.571713210946912,
                 47.60570124217504
                ],
                [
                 12.650732825987651,
                 47.588739771087816
                ],
                [
                 12.62535195417081,
                 47.55025842621544
                ],
                [
                 12.651318336612611,
                 47.53748228560774
                ],
                [
                 12.662316157261458,
                 47.506781030711906
                ],
                [
                 12.696777382304528,
                 47.47859809099986
                ],
                [
                 12.629463336415112,
                 47.465777514603346
                ],
                [
                 12.629478377239565,
                 47.432807492676346
                ],
                [
                 12.621757739986972,
                 47.42322767010251
                ],
                [
                 12.575794307927712,
                 47.39321028987878
                ],
                [
                 12.542482549397553,
                 47.39875406995694
                ],
                [
                 12.503274276420276,
                 47.394842678075356
                ],
                [
                 12.476154094388688,
                 47.368943885527884
                ],
                [
                 12.492393544557732,
                 47.33812330074012
                ],
                [
                 12.47549976642619,
                 47.32710774589435
                ],
                [
                 12.37177067497208,
                 47.31202262451423
                ],
                [
                 12.33243725497615,
                 47.32923161071505
                ],
                [
                 12.29368730421171,
                 47.32880364491527
                ],
                [
                 12.261297429832275,
                 47.302924956931115
                ],
                [
                 12.25187573191091,
                 47.30867861955565
                ],
                [
                 12.21616138062162,
                 47.31184493836425
                ],
                [
                 12.161804090720976,
                 47.30225548421314
                ],
                [
                 12.11172562405633,
                 47.307158890850715
                ],
                [
                 12.075754696908119,
                 47.27589522045737
                ],
                [
                 12.107262767387029,
                 47.24110464334159
                ],
                [
                 12.0799689120931,
                 47.196434418696505
                ],
                [
                 12.090447365445778,
                 47.14676824315532
                ],
                [
                 12.133192576151718,
                 47.08138357679902
                ],
                [
                 12.017121405985966,
                 47.04778411332054
                ],
                [
                 11.976302948360514,
                 47.05071756822536
                ],
                [
                 11.871221080459375,
                 47.010795853416134
                ],
                [
                 11.761502559228102,
                 46.973467443400445
                ],
                [
                 11.708564156894194,
                 46.99396640682449
                ],
                [
                 11.661565928376545,
                 46.99265408144388
                ],
                [
                 11.62437336198879,
                 47.014017249269244
                ],
                [
                 11.58707436084756,
                 47.006113145263335
                ],
                [
                 11.535699669879767,
                 46.9847991350959
                ],
                [
                 11.475939460574509,
                 47.0116969716107
                ],
                [
                 11.43205135015384,
                 46.974812456332245
                ],
                [
                 11.398692874663546,
                 46.96569498502723
                ],
                [
                 11.356262359666182,
                 46.99091703234566
                ],
                [
                 11.317672499645997,
                 46.993090697138044
                ],
                [
                 11.24645582377226,
                 46.97489913417677
                ],
                [
                 11.161450501034402,
                 46.966442235048454
                ],
                [
                 11.152137670378973,
                 46.93474335229433
                ],
                [
                 11.112563878850608,
                 46.93220792675269
                ],
                [
                 11.069056213028512,
                 46.85672201174444
                ],
                [
                 11.080594534498601,
                 46.82325010558045
                ],
                [
                 11.033221878969464,
                 46.79460921420747
                ],
                [
                 11.01914495199923,
                 46.76662828387846
                ],
                [
                 10.915267525310016,
                 46.77569752888964
                ],
                [
                 10.880113888722828,
                 46.76356772659452
                ],
                [
                 10.793090242425658,
                 46.792036941378946
                ],
                [
                 10.761011171375584,
                 46.823350473631386
                ],
                [
                 10.69127276896304,
                 46.85287124599388
                ],
                [
                 10.664533079139378,
                 46.876212266836106
                ],
                [
                 10.621446193557658,
                 46.865129833771505
                ]
               ]
              ],
              [
               [
                [
                 10.451606268660269,
                 47.5565158960459
                ],
                [
                 10.43211614062269,
                 47.58434362891172
                ],
                [
                 10.466845068726881,
                 47.58784816659636
                ],
                [
                 10.451606268660269,
                 47.5565158960459
                ]
               ]
              ]
             ],
             "type": "MultiPolygon"
            },
            "properties": {
             "iso": "7",
             "name": "Tirol"
            },
            "type": "Feature"
           },
           {
            "geometry": {
             "coordinates": [
              [
               [
                [
                 10.131710106273683,
                 47.03007593651905
                ],
                [
                 10.15696699113046,
                 46.98447380186136
                ],
                [
                 10.095380369809417,
                 46.92808123012872
                ],
                [
                 10.142134531334351,
                 46.85173310139351
                ],
                [
                 10.084607822663017,
                 46.861924493419814
                ],
                [
                 9.975045857897188,
                 46.91661377194212
                ],
                [
                 9.943300382180304,
                 46.91308046235146
                ],
                [
                 9.873472458173548,
                 46.9358597522813
                ],
                [
                 9.88595733270574,
                 47.00145701328279
                ],
                [
                 9.790312411237773,
                 47.03197639952213
                ],
                [
                 9.705314358299798,
                 47.05355071067595
                ],
                [
                 9.674611092605879,
                 47.06213107256141
                ],
                [
                 9.604234693994679,
                 47.06149897975254
                ],
                [
                 9.63155980599962,
                 47.10181666977854
                ],
                [
                 9.617737867746301,
                 47.15236918432538
                ],
                [
                 9.57029884553658,
                 47.17642945369458
                ],
                [
                 9.581966650939734,
                 47.20529419545041
                ],
                [
                 9.527906274165764,
                 47.27130446534194
                ],
                [
                 9.556383781335274,
                 47.30091465843335
                ],
                [
                 9.585446891637062,
                 47.3182672826373
                ],
                [
                 9.593511040008812,
                 47.338242925141124
                ],
                [
                 9.616832692245142,
                 47.363157550504276
                ],
                [
                 9.646704609417956,
                 47.368168576420665
                ],
                [
                 9.670737857835704,
                 47.39201317736705
                ],
                [
                 9.649039609013167,
                 47.409514420679024
                ],
                [
                 9.656608880410563,
                 47.45210456370628
                ],
                [
                 9.604408048327947,
                 47.47105056049308
                ],
                [
                 9.590053123568174,
                 47.4666961752656
                ],
                [
                 9.559020177329709,
                 47.49735265730645
                ],
                [
                 9.575891483429718,
                 47.508236233244844
                ],
                [
                 9.61378241176977,
                 47.514851178860454
                ],
                [
                 9.637723710860172,
                 47.51902358905906
                ],
                [
                 9.665000937735615,
                 47.523770376211125
                ],
                [
                 9.729273360385836,
                 47.53444768379634
                ],
                [
                 9.752841469113573,
                 47.57288534772455
                ],
                [
                 9.773109717594943,
                 47.594125549008055
                ],
                [
                 9.817471623702062,
                 47.588360957551934
                ],
                [
                 9.826928505743602,
                 47.54525343563684
                ],
                [
                 9.871652054892266,
                 47.52925971450445
                ],
                [
                 9.877395933603122,
                 47.54863554637214
                ],
                [
                 9.962190659269536,
                 47.523721220675526
                ],
                [
                 9.996688566113756,
                 47.483737773966546
                ],
                [
                 10.034595458307908,
                 47.489898611763174
                ],
                [
                 10.101056495934124,
                 47.43122557134696
                ],
                [
                 10.070795318012706,
                 47.41515218607402
                ],
                [
                 10.094800257756095,
                 47.360579545574325
                ],
                [
                 10.097013498573132,
                 47.355482519485925
                ],
                [
                 10.11650965136806,
                 47.376335070568906
                ],
                [
                 10.166753684278076,
                 47.3720218050919
                ],
                [
                 10.19215131666309,
                 47.39008974130895
                ],
                [
                 10.234189635234534,
                 47.37437608647386
                ],
                [
                 10.169250645198016,
                 47.279800065458026
                ],
                [
                 10.175515804959819,
                 47.27083541340971
                ],
                [
                 10.194909802163204,
                 47.23730371456389
                ],
                [
                 10.208581427535876,
                 47.172052842700865
                ],
                [
                 10.210157276244534,
                 47.15830616955267
                ],
                [
                 10.130705085035299,
                 47.07861162544421
                ],
                [
                 10.131710106273683,
                 47.03007593651905
                ]
               ]
              ]
             ],
             "type": "MultiPolygon"
            },
            "properties": {
             "iso": "8",
             "name": "Vorarlberg"
            },
            "type": "Feature"
           },
           {
            "geometry": {
             "coordinates": [
              [
               [
                [
                 16.362860914712996,
                 48.12936740383815
                ],
                [
                 16.309429782935833,
                 48.12022714306248
                ],
                [
                 16.29577743156106,
                 48.126017999864594
                ],
                [
                 16.226346919323102,
                 48.12784698736299
                ],
                [
                 16.222751181809326,
                 48.12616536751681
                ],
                [
                 16.215319946458333,
                 48.12876260702782
                ],
                [
                 16.22042735257546,
                 48.15387843224085
                ],
                [
                 16.195198488648696,
                 48.155241722116926
                ],
                [
                 16.179122869495856,
                 48.17172505807664
                ],
                [
                 16.20461564491174,
                 48.20303439441751
                ],
                [
                 16.18239186839708,
                 48.22390134272117
                ],
                [
                 16.205295593469874,
                 48.264791213360155
                ],
                [
                 16.253842706615437,
                 48.24057601187154
                ],
                [
                 16.282784673675316,
                 48.25901822523876
                ],
                [
                 16.353184316827658,
                 48.284042653322786
                ],
                [
                 16.360411753940745,
                 48.28299603442784
                ],
                [
                 16.39239950424916,
                 48.323256351480374
                ],
                [
                 16.425226930412876,
                 48.32107384619422
                ],
                [
                 16.471936075452582,
                 48.276008516001454
                ],
                [
                 16.4994138251528,
                 48.291052237931495
                ],
                [
                 16.512124331592528,
                 48.28622670147884
                ],
                [
                 16.54420825354776,
                 48.26369178826104
                ],
                [
                 16.549971211397587,
                 48.23969285403885
                ],
                [
                 16.533509707881418,
                 48.177768384145324
                ],
                [
                 16.574217561105915,
                 48.14513007099916
                ],
                [
                 16.57325705011586,
                 48.13591277512623
                ],
                [
                 16.511013602174128,
                 48.1596215500773
                ],
                [
                 16.43344804359402,
                 48.13867258550262
                ],
                [
                 16.434246243952863,
                 48.12062596106924
                ],
                [
                 16.410046375913776,
                 48.118937473447055
                ],
                [
                 16.38556577135256,
                 48.12606494554488
                ],
                [
                 16.363113841196046,
                 48.129094678210095
                ],
                [
                 16.362860914712996,
                 48.12936740383815
                ]
               ]
              ]
             ],
             "type": "MultiPolygon"
            },
            "properties": {
             "iso": "9",
             "name": "Wien"
            },
            "type": "Feature"
           },
           {
            "geometry": {
             "coordinates": [
              [
               [
                [
                 16.06292885586225,
                 46.85059656895981
                ],
                [
                 15.993444557407093,
                 46.8361010228545
                ],
                [
                 15.999889799681938,
                 46.84759547874293
                ],
                [
                 16.02063565181343,
                 46.88863061392031
                ],
                [
                 16.032607364588106,
                 46.893565782674635
                ],
                [
                 16.051258370533102,
                 46.911077148922466
                ],
                [
                 16.0920023328516,
                 46.93504614362515
                ],
                [
                 16.092612098137973,
                 46.95473777555299
                ],
                [
                 16.104969698078822,
                 46.966031480721185
                ],
                [
                 16.151740961122126,
                 46.99151535103217
                ],
                [
                 16.142810831509557,
                 47.00050122374456
                ],
                [
                 16.12793859490346,
                 47.01282713383637
                ],
                [
                 16.0955744934835,
                 47.061767746088016
                ],
                [
                 16.08379119127893,
                 47.088540159123625
                ],
                [
                 16.09200488331858,
                 47.112900947470955
                ],
                [
                 16.11223706808718,
                 47.13389169512108
                ],
                [
                 16.106498791610996,
                 47.16748643081477
                ],
                [
                 16.099793329518068,
                 47.18435125977481
                ],
                [
                 16.08870982183728,
                 47.199163592268384
                ],
                [
                 16.090014113418867,
                 47.200610938367774
                ],
                [
                 16.083734166890213,
                 47.23424160111403
                ],
                [
                 16.07348043721224,
                 47.27232749291293
                ],
                [
                 16.071944319118813,
                 47.275387030187574
                ],
                [
                 16.055664585847495,
                 47.31082316246469
                ],
                [
                 16.05673238140275,
                 47.315391460800434
                ],
                [
                 16.031718176228672,
                 47.356307783280435
                ],
                [
                 16.027430487596547,
                 47.37210245401324
                ],
                [
                 16.031256102645052,
                 47.372894344310296
                ],
                [
                 16.02732620577123,
                 47.37998987335984
                ],
                [
                 16.055967976466043,
                 47.384506814206084
                ],
                [
                 16.05763297797225,
                 47.38493882757068
                ],
                [
                 16.081326072415987,
                 47.40985517946214
                ],
                [
                 16.113357185217723,
                 47.41457019243507
                ],
                [
                 16.138900969886,
                 47.41820793584231
                ],
                [
                 16.16225508757511,
                 47.421446209348034
                ],
                [
                 16.168984537359943,
                 47.42309851780552
                ],
                [
                 16.204232454542808,
                 47.42534545906766
                ],
                [
                 16.250379469394755,
                 47.44879197302711
                ],
                [
                 16.27829728927083,
                 47.45583072325187
                ],
                [
                 16.31803676050826,
                 47.49440856379773
                ],
                [
                 16.33689793466329,
                 47.51686862264116
                ],
                [
                 16.31343312313319,
                 47.54302902159353
                ],
                [
                 16.310899424541972,
                 47.54343328881605
                ],
                [
                 16.310379184086287,
                 47.56604267323226
                ],
                [
                 16.328181570547695,
                 47.59020133838872
                ],
                [
                 16.34157804623995,
                 47.603496687062126
                ],
                [
                 16.36972106462448,
                 47.643182430568785
                ],
                [
                 16.353910123786463,
                 47.680223516491566
                ],
                [
                 16.32098198217421,
                 47.684020871094084
                ],
                [
                 16.30626007036071,
                 47.68786961112027
                ],
                [
                 16.30633345433366,
                 47.69610853538658
                ],
                [
                 16.292270048199715,
                 47.71600852539431
                ],
                [
                 16.292853913209843,
                 47.74298347359984
                ],
                [
                 16.296561008927558,
                 47.76188094970652
                ],
                [
                 16.29560707465297,
                 47.762426246673286
                ],
                [
                 16.26596696179286,
                 47.79177241507691
                ],
                [
                 16.283111982106668,
                 47.812154047917055
                ],
                [
                 16.312839520214343,
                 47.78528870451298
                ],
                [
                 16.35197571862428,
                 47.82140801243818
                ],
                [
                 16.359575179437723,
                 47.82395074491146
                ],
                [
                 16.374408353813276,
                 47.82801619560718
                ],
                [
                 16.371726354412612,
                 47.85318242791672
                ],
                [
                 16.345205623935428,
                 47.86884180661631
                ],
                [
                 16.379864999603505,
                 47.87697313029638
                ],
                [
                 16.386112966164124,
                 47.88229641225812
                ],
                [
                 16.42002654599533,
                 47.90262218974607
                ],
                [
                 16.449579415505003,
                 47.934958462722626
                ],
                [
                 16.515899532448145,
                 47.944264537338306
                ],
                [
                 16.538264510538703,
                 47.920369002731974
                ],
                [
                 16.571232259949394,
                 47.88696873231212
                ],
                [
                 16.577502815389312,
                 47.889302841196105
                ],
                [
                 16.59453528022339,
                 47.90458679138213
                ],
                [
                 16.605575246026643,
                 47.913049268193646
                ],
                [
                 16.629303767916955,
                 47.93410193548187
                ],
                [
                 16.629113866608552,
                 47.934487523744856
                ],
                [
                 16.637013055109616,
                 47.94663617645925
                ],
                [
                 16.662417861038595,
                 47.95776385758359
                ],
                [
                 16.698409667384464,
                 47.974499943912654
                ],
                [
                 16.699325155015398,
                 48.01234541497467
                ],
                [
                 16.8224484323827,
                 48.029842217267436
                ],
                [
                 16.825388139976685,
                 48.029851275277565
                ],
                [
                 16.871311734331908,
                 48.07304320397352
                ],
                [
                 16.901505578559604,
                 48.07170756911927
                ],
                [
                 16.912439984108136,
                 48.0573978763389
                ],
                [
                 16.966191013958028,
                 48.02688375933133
                ],
                [
                 16.990966118475157,
                 48.04615674102818
                ],
                [
                 17.013523461741293,
                 48.07421258671947
                ],
                [
                 16.995991166528455,
                 48.084821275472564
                ],
                [
                 16.968312239323314,
                 48.10126385975401
                ],
                [
                 16.98377462656014,
                 48.112100974566474
                ],
                [
                 16.99508675688021,
                 48.109778326838715
                ],
                [
                 17.00437190427233,
                 48.09215768227161
                ],
                [
                 17.033224294610196,
                 48.0849940261275
                ],
                [
                 17.0639703389668,
                 48.119372977795
                ],
                [
                 17.067390953142212,
                 48.05770374615449
                ],
                [
                 17.072854908075506,
                 48.02824246222237
                ],
                [
                 17.10728240058563,
                 48.03192458486286
                ],
                [
                 17.15786908837973,
                 48.00722705356292
                ],
                [
                 17.09188970442628,
                 47.9715637746233
                ],
                [
                 17.114213572049977,
                 47.96159564440019
                ],
                [
                 17.10139670289824,
                 47.899952847634395
                ],
                [
                 17.075026504657576,
                 47.878239703521594
                ],
                [
                 17.008422643118024,
                 47.85809103152148
                ],
                [
                 17.04414003527141,
                 47.82904489461225
                ],
                [
                 17.067988587955945,
                 47.75064893321053
                ],
                [
                 17.068491944686123,
                 47.70734546518337
                ],
                [
                 17.037366782040753,
                 47.70501681009862
                ],
                [
                 16.956554676862233,
                 47.6934040684487
                ],
                [
                 16.86885591602544,
                 47.69079982555234
                ],
                [
                 16.864127728652694,
                 47.72233776522754
                ],
                [
                 16.825550790348405,
                 47.68343003857542
                ],
                [
                 16.746249931218795,
                 47.68212465361253
                ],
                [
                 16.737020305371466,
                 47.69594609890398
                ],
                [
                 16.718164802359098,
                 47.736029476109195
                ],
                [
                 16.654397498250383,
                 47.74225112165735
                ],
                [
                 16.631485811337217,
                 47.75974811334682
                ],
                [
                 16.61935403324121,
                 47.75793646235263
                ],
                [
                 16.588171540535217,
                 47.758657291005036
                ],
                [
                 16.539944205865016,
                 47.74304196274296
                ],
                [
                 16.534788735311388,
                 47.74069163948882
                ],
                [
                 16.5336858091214,
                 47.73733785616481
                ],
                [
                 16.494986821815136,
                 47.70411003711086
                ],
                [
                 16.44454765373676,
                 47.69700515540072
                ],
                [
                 16.418762235075995,
                 47.66599463668965
                ],
                [
                 16.419065734321073,
                 47.66540076884538
                ],
                [
                 16.447440481309574,
                 47.65649513553265
                ],
                [
                 16.49504641447893,
                 47.640047784040384
                ],
                [
                 16.513624617929747,
                 47.64607168961034
                ],
                [
                 16.587467933694693,
                 47.61815920186904
                ],
                [
                 16.650150250037502,
                 47.622933043767326
                ],
                [
                 16.660368296847604,
                 47.569398933656224
                ],
                [
                 16.70282078270522,
                 47.52388678306067
                ],
                [
                 16.649559959279543,
                 47.50103285908685
                ],
                [
                 16.6592441398403,
                 47.45639763988556
                ],
                [
                 16.609024577645982,
                 47.43232726685147
                ],
                [
                 16.585114694932837,
                 47.423478381971535
                ],
                [
                 16.572966932473676,
                 47.40705896891354
                ],
                [
                 16.455909694105863,
                 47.413685371410274
                ],
                [
                 16.45421358162934,
                 47.367931263774615
                ],
                [
                 16.430978378251755,
                 47.35361641726944
                ],
                [
                 16.460229585514284,
                 47.33650737722064
                ],
                [
                 16.47536651328228,
                 47.27580197324926
                ],
                [
                 16.42769378317476,
                 47.25105269418027
                ],
                [
                 16.41411312421021,
                 47.20603833787363
                ],
                [
                 16.418314416059623,
                 47.197824486953344
                ],
                [
                 16.45046806412569,
                 47.18882085596126
                ],
                [
                 16.451514619913517,
                 47.14300862345645
                ],
                [
                 16.497089227248306,
                 47.12411363545492
                ],
                [
                 16.461827485158516,
                 47.09965089474552
                ],
                [
                 16.48450167558544,
                 47.06953996729686
                ],
                [
                 16.4484602172117,
                 47.04078654143369
                ],
                [
                 16.489742666748867,
                 47.010867066630965
                ],
                [
                 16.424683505828202,
                 46.9938368845392
                ],
                [
                 16.38373849435677,
                 47.00112410683754
                ],
                [
                 16.34015105970244,
                 46.999794818816234
                ],
                [
                 16.319681953878646,
                 47.003264715475744
                ],
                [
                 16.29948484882968,
                 46.999134689026306
                ],
                [
                 16.29595589732107,
                 47.00677492785637
                ],
                [
                 16.286511552627722,
                 47.01412270172017
                ],
                [
                 16.252534754682205,
                 46.96490969573436
                ],
                [
                 16.20724352130954,
                 46.94320062412089
                ],
                [
                 16.19475542672988,
                 46.940658521397594
                ],
                [
                 16.176434891954955,
                 46.907343743319686
                ],
                [
                 16.089141127913905,
                 46.86528228567972
                ],
                [
                 16.06292885586225,
                 46.85059656895981
                ]
               ]
              ]
             ],
             "type": "MultiPolygon"
            },
            "properties": {
             "iso": "1",
             "name": "Burgenland"
            },
            "type": "Feature"
           },
           {
            "geometry": {
             "coordinates": [
              [
               [
                [
                 14.431692925911257,
                 46.44365425302772
                ],
                [
                 14.305342799404816,
                 46.431338016743794
                ],
                [
                 14.28039112325805,
                 46.444209047511066
                ],
                [
                 14.234377009537496,
                 46.43292966140553
                ],
                [
                 14.188290480159955,
                 46.44463875719028
                ],
                [
                 14.151832852705116,
                 46.43638612801249
                ],
                [
                 14.108624532282356,
                 46.479516018884404
                ],
                [
                 14.047936696941981,
                 46.49390231330789
                ],
                [
                 14.003683669933451,
                 46.482070900703945
                ],
                [
                 13.972825007641028,
                 46.498978509036355
                ],
                [
                 13.909152198216141,
                 46.52184892138495
                ],
                [
                 13.796129488432994,
                 46.50725382920029
                ],
                [
                 13.6883135349986,
                 46.52171292062461
                ],
                [
                 13.619081134351674,
                 46.542909931771035
                ],
                [
                 13.511982045177659,
                 46.54952811507516
                ],
                [
                 13.50143526403357,
                 46.56701736426058
                ],
                [
                 13.420670044436319,
                 46.55928901690671
                ],
                [
                 13.369421917320153,
                 46.57998709766953
                ],
                [
                 13.319276323709943,
                 46.55392028719338
                ],
                [
                 13.249993269013684,
                 46.5611940504026
                ],
                [
                 13.165783664211574,
                 46.589614349290045
                ],
                [
                 13.084789000801713,
                 46.60197302792549
                ],
                [
                 13.06781896006076,
                 46.600231131949634
                ],
                [
                 13.029760059273684,
                 46.596731636449576
                ],
                [
                 12.93075056680859,
                 46.6104151416533
                ],
                [
                 12.887392948554197,
                 46.607939085915575
                ],
                [
                 12.830858429966487,
                 46.61060259950278
                ],
                [
                 12.773114549599189,
                 46.647408684654124
                ],
                [
                 12.728569302262331,
                 46.635007776264885
                ],
                [
                 12.687814998391627,
                 46.657687939565015
                ],
                [
                 12.708906048803351,
                 46.736370258232114
                ],
                [
                 12.745381295751143,
                 46.74816493301869
                ],
                [
                 12.793001465389452,
                 46.75605573563165
                ],
                [
                 12.807097813753057,
                 46.75699830816364
                ],
                [
                 12.83840776878861,
                 46.75005145771911
                ],
                [
                 12.854022169611744,
                 46.76088408544631
                ],
                [
                 12.896567448024967,
                 46.777562323716694
                ],
                [
                 12.928609757041915,
                 46.76475736834992
                ],
                [
                 12.960670629253963,
                 46.79936335184976
                ],
                [
                 12.904298041316295,
                 46.82338779024406
                ],
                [
                 12.90264695172511,
                 46.82334499490438
                ],
                [
                 12.89278121589817,
                 46.82652148783386
                ],
                [
                 12.838340668011002,
                 46.86169424249905
                ],
                [
                 12.819009511450858,
                 46.917531662989035
                ],
                [
                 12.805634318053574,
                 46.92331374882672
                ],
                [
                 12.790855801946638,
                 46.92719618819176
                ],
                [
                 12.78359041430831,
                 46.940276760811784
                ],
                [
                 12.756752974781406,
                 46.95732550566128
                ],
                [
                 12.73826593135879,
                 46.96970298983289
                ],
                [
                 12.752064972756102,
                 47.02557638523418
                ],
                [
                 12.707697515119014,
                 47.04914786384203
                ],
                [
                 12.654016066248188,
                 47.100231353836485
                ],
                [
                 12.663320495046412,
                 47.12354691699273
                ],
                [
                 12.728080438914334,
                 47.13170610856031
                ],
                [
                 12.736033033360467,
                 47.10102981945141
                ],
                [
                 12.817464537284497,
                 47.09837715608704
                ],
                [
                 12.934473141851598,
                 47.07671988824226
                ],
                [
                 12.950189502492924,
                 47.0499694167178
                ],
                [
                 12.982537409143534,
                 47.036315422559284
                ],
                [
                 13.000275721836859,
                 47.04458431950818
                ],
                [
                 13.070207373241482,
                 47.01412404171541
                ],
                [
                 13.077521976587828,
                 47.02752186224722
                ],
                [
                 13.245313561168297,
                 47.05128768878815
                ],
                [
                 13.274503599910444,
                 47.095862267896415
                ],
                [
                 13.35170799917132,
                 47.09781536481606
                ],
                [
                 13.403554866604855,
                 47.06996352363297
                ],
                [
                 13.424763290456012,
                 47.0820862928719
                ],
                [
                 13.591419662691269,
                 47.056673264809525
                ],
                [
                 13.634826979627563,
                 47.056210337271956
                ],
                [
                 13.683729312368797,
                 47.04052982514287
                ],
                [
                 13.696406737061356,
                 47.00399643062416
                ],
                [
                 13.768931487558667,
                 46.97779355575246
                ],
                [
                 13.781858253483055,
                 46.944566726240176
                ],
                [
                 13.812548725751137,
                 46.91922079716213
                ],
                [
                 13.879060825088889,
                 46.91852569455783
                ],
                [
                 13.94391568309175,
                 46.941339953575834
                ],
                [
                 13.965353819946968,
                 46.96375750198801
                ],
                [
                 14.013625887190985,
                 46.989780922491505
                ],
                [
                 14.076338288515274,
                 47.02273881391121
                ],
                [
                 14.129757610613044,
                 47.06305077344774
                ],
                [
                 14.158799840554162,
                 47.05312008248935
                ],
                [
                 14.19962181928544,
                 47.0766044867391
                ],
                [
                 14.232236104985565,
                 47.02653071848637
                ],
                [
                 14.234893334266026,
                 47.02906133305401
                ],
                [
                 14.327397088037056,
                 47.02984590762905
                ],
                [
                 14.42739604891257,
                 47.00118650442543
                ],
                [
                 14.4690500355669,
                 47.00841794284422
                ],
                [
                 14.583124270383646,
                 47.0124232984338
                ],
                [
                 14.612463774440057,
                 46.998655758835234
                ],
                [
                 14.624948149152406,
                 47.01428298253796
                ],
                [
                 14.695861526766844,
                 47.01698773271139
                ],
                [
                 14.771524903004831,
                 47.04001782848264
                ],
                [
                 14.841676489061658,
                 47.048805304818195
                ],
                [
                 14.84417882509954,
                 47.03364454740318
                ],
                [
                 14.882741006492154,
                 47.01187740670246
                ],
                [
                 14.964149997281826,
                 46.982472194636294
                ],
                [
                 15.024207631891255,
                 46.910440804398895
                ],
                [
                 15.012112493120615,
                 46.881946353479314
                ],
                [
                 15.005425055975238,
                 46.880570359407294
                ],
                [
                 15.016832434338669,
                 46.844960815216176
                ],
                [
                 14.973464266422333,
                 46.785491239529
                ],
                [
                 14.993871884429375,
                 46.78153279916539
                ],
                [
                 15.028749900382708,
                 46.746421499326736
                ],
                [
                 15.039478767649438,
                 46.72158463624366
                ],
                [
                 15.021723960006229,
                 46.67044019676584
                ],
                [
                 15.062313842013335,
                 46.65277657493685
                ],
                [
                 15.013368241990358,
                 46.641529001273476
                ],
                [
                 14.976576037392586,
                 46.60210463029701
                ],
                [
                 14.952874555691627,
                 46.63343538070825
                ],
                [
                 14.920242590075713,
                 46.60395521961447
                ],
                [
                 14.87686361624382,
                 46.61195597427698
                ],
                [
                 14.819946564830833,
                 46.53525123161495
                ],
                [
                 14.815810830087,
                 46.51009850020857
                ],
                [
                 14.756288397793044,
                 46.50515144573579
                ],
                [
                 14.711967345197497,
                 46.50065880758124
                ],
                [
                 14.696326755027028,
                 46.4643026251442
                ],
                [
                 14.537070079808835,
                 46.41230158735734
                ],
                [
                 14.443957445302393,
                 46.42230367767151
                ],
                [
                 14.431692925911257,
                 46.44365425302772
                ]
               ]
              ]
             ],
             "type": "MultiPolygon"
            },
            "properties": {
             "iso": "2",
             "name": "Kaernten"
            },
            "type": "Feature"
           },
           {
            "geometry": {
             "coordinates": [
              [
               [
                [
                 16.250379469394755,
                 47.44879197302711
                ],
                [
                 16.204232454542808,
                 47.42534545906766
                ],
                [
                 16.168984537359943,
                 47.42309851780552
                ],
                [
                 16.13519069023434,
                 47.46213595254102
                ],
                [
                 16.108419408036877,
                 47.52267217535619
                ],
                [
                 16.084613735772102,
                 47.50785604821462
                ],
                [
                 16.062303772060602,
                 47.487035116629556
                ],
                [
                 15.997287113811915,
                 47.516538148561374
                ],
                [
                 15.955735933816998,
                 47.518553434992604
                ],
                [
                 15.917716205195124,
                 47.53071767551388
                ],
                [
                 15.911075331820498,
                 47.53112632814445
                ],
                [
                 15.902627080805715,
                 47.56050479117799
                ],
                [
                 15.844224479544629,
                 47.56848860973404
                ],
                [
                 15.85778105484603,
                 47.617376268322836
                ],
                [
                 15.837512602790229,
                 47.61880014884725
                ],
                [
                 15.778544678678688,
                 47.64299940448292
                ],
                [
                 15.739522772636551,
                 47.642908508568475
                ],
                [
                 15.72231622717731,
                 47.6471548134285
                ],
                [
                 15.716360145031679,
                 47.71058281328566
                ],
                [
                 15.675945114743612,
                 47.69969487804562
                ],
                [
                 15.63317312259398,
                 47.716120757997125
                ],
                [
                 15.608925525753648,
                 47.75178605106096
                ],
                [
                 15.51100145314899,
                 47.74725153227008
                ],
                [
                 15.503824297663224,
                 47.76849707072922
                ],
                [
                 15.458173341840908,
                 47.770446655783324
                ],
                [
                 15.376750891518832,
                 47.82424031724305
                ],
                [
                 15.343100790488187,
                 47.826458307274905
                ],
                [
                 15.342419192626412,
                 47.8263742451942
                ],
                [
                 15.297045639104294,
                 47.8217441428425
                ],
                [
                 15.286082617985503,
                 47.79187864761831
                ],
                [
                 15.214516325735632,
                 47.79672841493683
                ],
                [
                 15.196587995010171,
                 47.75412792009144
                ],
                [
                 15.132045631353076,
                 47.75870100875711
                ],
                [
                 15.086457681336192,
                 47.74217222908681
                ],
                [
                 15.031926069993437,
                 47.75344200233826
                ],
                [
                 14.970044350325894,
                 47.744303408961784
                ],
                [
                 14.898419706847834,
                 47.711530267676075
                ],
                [
                 14.85526693611768,
                 47.7411939788452
                ],
                [
                 14.815521484791581,
                 47.74490961049843
                ],
                [
                 14.764254891795062,
                 47.7270126926241
                ],
                [
                 14.73566808338259,
                 47.749426793777985
                ],
                [
                 14.70908265136549,
                 47.7907888318586
                ],
                [
                 14.707199855307106,
                 47.85134395356477
                ],
                [
                 14.759948034358755,
                 47.87294189127239
                ],
                [
                 14.766758218261662,
                 47.88031598057858
                ],
                [
                 14.725084760353196,
                 47.935665590452615
                ],
                [
                 14.667816193597279,
                 47.93544154897088
                ],
                [
                 14.646271824385098,
                 47.942846942149735
                ],
                [
                 14.613423048698143,
                 47.94880206559831
                ],
                [
                 14.552335912421619,
                 47.98056368741308
                ],
                [
                 14.489303378556682,
                 48.01155203960905
                ],
                [
                 14.453328788357997,
                 48.04373968089135
                ],
                [
                 14.456054223911236,
                 48.07471409261751
                ],
                [
                 14.45511611401903,
                 48.08939123399559
                ],
                [
                 14.476249613684136,
                 48.10511664536289
                ],
                [
                 14.490160602378694,
                 48.11066844412551
                ],
                [
                 14.46511946673231,
                 48.148296658581444
                ],
                [
                 14.480047265119381,
                 48.172261697684455
                ],
                [
                 14.479323305252938,
                 48.17919735664716
                ],
                [
                 14.47815826291343,
                 48.202624776750156
                ],
                [
                 14.512754675251516,
                 48.23476123119458
                ],
                [
                 14.518386993837433,
                 48.238310752577775
                ],
                [
                 14.55807323829416,
                 48.231687424757496
                ],
                [
                 14.620464597522956,
                 48.191385824204254
                ],
                [
                 14.640839520032836,
                 48.17594383171885
                ],
                [
                 14.685579357914088,
                 48.15799181197546
                ],
                [
                 14.71249549298957,
                 48.17936993754109
                ],
                [
                 14.75880317196169,
                 48.178278333262355
                ],
                [
                 14.7662172367989,
                 48.179814509183586
                ],
                [
                 14.837515898992754,
                 48.19443533879205
                ],
                [
                 14.853860494650831,
                 48.21202671893576
                ],
                [
                 14.882880860379144,
                 48.23345935719385
                ],
                [
                 14.941654295692935,
                 48.227976825078045
                ],
                [
                 14.959655590894204,
                 48.2030813602234
                ],
                [
                 14.9713677938265,
                 48.199533558138796
                ],
                [
                 14.9493765953804,
                 48.21983256245666
                ],
                [
                 14.967176679359643,
                 48.246454313680665
                ],
                [
                 14.989257710600386,
                 48.25662772166145
                ],
                [
                 14.98229724223215,
                 48.299809064582774
                ],
                [
                 14.940899818669662,
                 48.324346429341
                ],
                [
                 14.944696456681836,
                 48.334060909925796
                ],
                [
                 14.961661862276186,
                 48.37921100464351
                ],
                [
                 14.95359394767566,
                 48.392005112113246
                ],
                [
                 14.925412208947593,
                 48.424502749993884
                ],
                [
                 14.908937674498883,
                 48.43537910048248
                ],
                [
                 14.874229757250031,
                 48.46507772877569
                ],
                [
                 14.91817106851184,
                 48.506423610629525
                ],
                [
                 14.872313402415301,
                 48.52844246254901
                ],
                [
                 14.808355569985297,
                 48.55445214731674
                ],
                [
                 14.733512866405684,
                 48.553484172246414
                ],
                [
                 14.688226952664776,
                 48.58500109238852
                ],
                [
                 14.718354997522574,
                 48.603076705437715
                ],
                [
                 14.719335904651496,
                 48.63908058379089
                ],
                [
                 14.720672548060689,
                 48.67639835335183
                ],
                [
                 14.738011793297394,
                 48.70201358776005
                ],
                [
                 14.80535366479332,
                 48.734578392881396
                ],
                [
                 14.826505263821442,
                 48.78118462355596
                ],
                [
                 14.878515393980718,
                 48.78080325481152
                ],
                [
                 14.96095802937347,
                 48.76384768746768
                ],
                [
                 14.96696038109277,
                 48.824599254268456
                ],
                [
                 14.985075129117067,
                 48.895943317304145
                ],
                [
                 14.973715380388786,
                 48.956519350294435
                ],
                [
                 14.995047359971757,
                 48.99265310857604
                ],
                [
                 15.018951011986436,
                 49.021160570100974
                ],
                [
                 15.102862904426933,
                 48.996901065404224
                ],
                [
                 15.15585995053525,
                 48.990604496273136
                ],
                [
                 15.157467543278031,
                 48.94238199302791
                ],
                [
                 15.221669314475886,
                 48.960834559976554
                ],
                [
                 15.258669983287632,
                 48.95461799799502
                ],
                [
                 15.288251143314094,
                 48.98500701379043
                ],
                [
                 15.318956553726645,
                 48.97681832333384
                ],
                [
                 15.364197726131652,
                 48.98257139274837
                ],
                [
                 15.42675608545628,
                 48.95188253615465
                ],
                [
                 15.465710717754735,
                 48.95250650920895
                ],
                [
                 15.510610351038196,
                 48.914811254519044
                ],
                [
                 15.584317685813051,
                 48.89668056387212
                ],
                [
                 15.616816384821187,
                 48.896298413540016
                ],
                [
                 15.68979805612949,
                 48.85622182399376
                ],
                [
                 15.750881335199988,
                 48.85286553641451
                ],
                [
                 15.776751556907506,
                 48.87557410899057
                ],
                [
                 15.824799733754151,
                 48.87173809257282
                ],
                [
                 15.967289442397114,
                 48.79600999173755
                ],
                [
                 16.06189523534486,
                 48.75554032964282
                ],
                [
                 16.086203511193652,
                 48.748515658553934
                ],
                [
                 16.100111483084625,
                 48.74608853301508
                ],
                [
                 16.14711359989114,
                 48.74388583401482
                ],
                [
                 16.220728389706213,
                 48.74079591508512
                ],
                [
                 16.270246299768875,
                 48.74196866816831
                ],
                [
                 16.35699545719752,
                 48.72875891866815
                ],
                [
                 16.425453394516435,
                 48.76333870658652
                ],
                [
                 16.432228250167324,
                 48.76632072783392
                ],
                [
                 16.445926809612626,
                 48.80006951889997
                ],
                [
                 16.53128201340749,
                 48.811517501346984
                ],
                [
                 16.59046297544054,
                 48.78348303632656
                ],
                [
                 16.6486497365074,
                 48.78583664445341
                ],
                [
                 16.679775730542573,
                 48.72877701111707
                ],
                [
                 16.679817776884818,
                 48.728482535918694
                ],
                [
                 16.744512212590028,
                 48.73280794703052
                ],
                [
                 16.757694009288155,
                 48.71748037802902
                ],
                [
                 16.90288051310717,
                 48.71465362866254
                ],
                [
                 16.90771280899858,
                 48.67938070352061
                ],
                [
                 16.925637128813538,
                 48.63957995053511
                ],
                [
                 16.932088347684548,
                 48.602928166820696
                ],
                [
                 16.935745550204242,
                 48.5660678099936
                ],
                [
                 16.918697640430135,
                 48.51646483655429
                ],
                [
                 16.877946595193354,
                 48.47817228864426
                ],
                [
                 16.84837565916137,
                 48.43932234589058
                ],
                [
                 16.859357845974603,
                 48.41826107204193
                ],
                [
                 16.8394258681644,
                 48.36082317296454
                ],
                [
                 16.904578010832964,
                 48.327419832777174
                ],
                [
                 16.897937963088,
                 48.298573169937285
                ],
                [
                 16.949336383327477,
                 48.25837219940928
                ],
                [
                 16.959323827464573,
                 48.21818137235134
                ],
                [
                 16.97334065223632,
                 48.17295812671726
                ],
                [
                 16.99678075091509,
                 48.15929581523624
                ],
                [
                 17.059408008536607,
                 48.12371991846312
                ],
                [
                 17.0639703389668,
                 48.119372977795
                ],
                [
                 17.033224294610196,
                 48.0849940261275
                ],
                [
                 17.00437190427233,
                 48.09215768227161
                ],
                [
                 16.99508675688021,
                 48.109778326838715
                ],
                [
                 16.98377462656014,
                 48.112100974566474
                ],
                [
                 16.968312239323314,
                 48.10126385975401
                ],
                [
                 16.995991166528455,
                 48.084821275472564
                ],
                [
                 17.013523461741293,
                 48.07421258671947
                ],
                [
                 16.990966118475157,
                 48.04615674102818
                ],
                [
                 16.966191013958028,
                 48.02688375933133
                ],
                [
                 16.912439984108136,
                 48.0573978763389
                ],
                [
                 16.901505578559604,
                 48.07170756911927
                ],
                [
                 16.871311734331908,
                 48.07304320397352
                ],
                [
                 16.825388139976685,
                 48.029851275277565
                ],
                [
                 16.8224484323827,
                 48.029842217267436
                ],
                [
                 16.699325155015398,
                 48.01234541497467
                ],
                [
                 16.698409667384464,
                 47.974499943912654
                ],
                [
                 16.662417861038595,
                 47.95776385758359
                ],
                [
                 16.637013055109616,
                 47.94663617645925
                ],
                [
                 16.629113866608552,
                 47.934487523744856
                ],
                [
                 16.629303767916955,
                 47.93410193548187
                ],
                [
                 16.605575246026643,
                 47.913049268193646
                ],
                [
                 16.59453528022339,
                 47.90458679138213
                ],
                [
                 16.577502815389312,
                 47.889302841196105
                ],
                [
                 16.571232259949394,
                 47.88696873231212
                ],
                [
                 16.538264510538703,
                 47.920369002731974
                ],
                [
                 16.515899532448145,
                 47.944264537338306
                ],
                [
                 16.449579415505003,
                 47.934958462722626
                ],
                [
                 16.42002654599533,
                 47.90262218974607
                ],
                [
                 16.386112966164124,
                 47.88229641225812
                ],
                [
                 16.379864999603505,
                 47.87697313029638
                ],
                [
                 16.345205623935428,
                 47.86884180661631
                ],
                [
                 16.371726354412612,
                 47.85318242791672
                ],
                [
                 16.374408353813276,
                 47.82801619560718
                ],
                [
                 16.359575179437723,
                 47.82395074491146
                ],
                [
                 16.35197571862428,
                 47.82140801243818
                ],
                [
                 16.312839520214343,
                 47.78528870451298
                ],
                [
                 16.283111982106668,
                 47.812154047917055
                ],
                [
                 16.26596696179286,
                 47.79177241507691
                ],
                [
                 16.29560707465297,
                 47.762426246673286
                ],
                [
                 16.296561008927558,
                 47.76188094970652
                ],
                [
                 16.292853913209843,
                 47.74298347359984
                ],
                [
                 16.292270048199715,
                 47.71600852539431
                ],
                [
                 16.30633345433366,
                 47.69610853538658
                ],
                [
                 16.30626007036071,
                 47.68786961112027
                ],
                [
                 16.32098198217421,
                 47.684020871094084
                ],
                [
                 16.353910123786463,
                 47.680223516491566
                ],
                [
                 16.36972106462448,
                 47.643182430568785
                ],
                [
                 16.34157804623995,
                 47.603496687062126
                ],
                [
                 16.328181570547695,
                 47.59020133838872
                ],
                [
                 16.310379184086287,
                 47.56604267323226
                ],
                [
                 16.310899424541972,
                 47.54343328881605
                ],
                [
                 16.31343312313319,
                 47.54302902159353
                ],
                [
                 16.33689793466329,
                 47.51686862264116
                ],
                [
                 16.31803676050826,
                 47.49440856379773
                ],
                [
                 16.27829728927083,
                 47.45583072325187
                ],
                [
                 16.250379469394755,
                 47.44879197302711
                ]
               ],
               [
                [
                 16.205295593469874,
                 48.264791213360155
                ],
                [
                 16.18239186839708,
                 48.22390134272117
                ],
                [
                 16.20461564491174,
                 48.20303439441751
                ],
                [
                 16.179122869495856,
                 48.17172505807664
                ],
                [
                 16.195198488648696,
                 48.155241722116926
                ],
                [
                 16.22042735257546,
                 48.15387843224085
                ],
                [
                 16.215319946458333,
                 48.12876260702782
                ],
                [
                 16.222751181809326,
                 48.12616536751681
                ],
                [
                 16.226346919323102,
                 48.12784698736299
                ],
                [
                 16.29577743156106,
                 48.126017999864594
                ],
                [
                 16.309429782935833,
                 48.12022714306248
                ],
                [
                 16.362860914712996,
                 48.12936740383815
                ],
                [
                 16.363113841196046,
                 48.129094678210095
                ],
                [
                 16.38556577135256,
                 48.12606494554488
                ],
                [
                 16.410046375913776,
                 48.118937473447055
                ],
                [
                 16.434246243952863,
                 48.12062596106924
                ],
                [
                 16.43344804359402,
                 48.13867258550262
                ],
                [
                 16.511013602174128,
                 48.1596215500773
                ],
                [
                 16.57325705011586,
                 48.13591277512623
                ],
                [
                 16.574217561105915,
                 48.14513007099916
                ],
                [
                 16.533509707881418,
                 48.177768384145324
                ],
                [
                 16.549971211397587,
                 48.23969285403885
                ],
                [
                 16.54420825354776,
                 48.26369178826104
                ],
                [
                 16.512124331592528,
                 48.28622670147884
                ],
                [
                 16.4994138251528,
                 48.291052237931495
                ],
                [
                 16.471936075452582,
                 48.276008516001454
                ],
                [
                 16.425226930412876,
                 48.32107384619422
                ],
                [
                 16.39239950424916,
                 48.323256351480374
                ],
                [
                 16.360411753940745,
                 48.28299603442784
                ],
                [
                 16.353184316827658,
                 48.284042653322786
                ],
                [
                 16.282784673675316,
                 48.25901822523876
                ],
                [
                 16.253842706615437,
                 48.24057601187154
                ],
                [
                 16.205295593469874,
                 48.264791213360155
                ]
               ]
              ]
             ],
             "type": "MultiPolygon"
            },
            "properties": {
             "iso": "3",
             "name": "Niederoesterreich"
            },
            "type": "Feature"
           },
           {
            "geometry": {
             "coordinates": [
              [
               [
                [
                 13.691787532748462,
                 47.57998041592989
                ],
                [
                 13.732654022442613,
                 47.57773034335252
                ],
                [
                 13.757865107283767,
                 47.5210073854116
                ],
                [
                 13.74632626158727,
                 47.50232005685372
                ],
                [
                 13.719754990487411,
                 47.46281999761018
                ],
                [
                 13.605942430202054,
                 47.47584573560712
                ],
                [
                 13.602876972006017,
                 47.475896454616894
                ],
                [
                 13.582856450628059,
                 47.47550827496876
                ],
                [
                 13.51336171370177,
                 47.49721345287628
                ],
                [
                 13.47393478304975,
                 47.531024630060806
                ],
                [
                 13.478469659926446,
                 47.562433763605
                ],
                [
                 13.51747441347207,
                 47.62388895672504
                ],
                [
                 13.487057210977767,
                 47.63103549735677
                ],
                [
                 13.514140817579701,
                 47.67624104126502
                ],
                [
                 13.548063967268417,
                 47.71482345429212
                ],
                [
                 13.433469015572669,
                 47.73925871047796
                ],
                [
                 13.462474874718307,
                 47.7868595313544
                ],
                [
                 13.532580670419073,
                 47.77684447891034
                ],
                [
                 13.5266703981245,
                 47.797732246245786
                ],
                [
                 13.44761088071781,
                 47.804451135674846
                ],
                [
                 13.395275767028675,
                 47.79860057191996
                ],
                [
                 13.348156258606874,
                 47.810649045104206
                ],
                [
                 13.309401296692693,
                 47.8135364131342
                ],
                [
                 13.290325527302539,
                 47.86446689504523
                ],
                [
                 13.267308525551996,
                 47.89213552582762
                ],
                [
                 13.278323565236123,
                 47.90534293936875
                ],
                [
                 13.27748367233546,
                 47.95542212434089
                ],
                [
                 13.30473321992954,
                 47.96472179538623
                ],
                [
                 13.355740647248055,
                 47.940468302241094
                ],
                [
                 13.360320994161707,
                 47.94478873157334
                ],
                [
                 13.368852912648117,
                 47.9726880695492
                ],
                [
                 13.301126898814976,
                 48.00857637935583
                ],
                [
                 13.209901470411149,
                 47.98317470618085
                ],
                [
                 13.20707267531659,
                 47.979650150038374
                ],
                [
                 13.195874250533201,
                 47.974880264576974
                ],
                [
                 13.142370975421642,
                 47.97505273345684
                ],
                [
                 13.12144503777586,
                 47.99688921221891
                ],
                [
                 13.101131942650055,
                 47.997459459925935
                ],
                [
                 13.09995818793229,
                 47.99826928865161
                ],
                [
                 13.054856938977494,
                 48.01399941780563
                ],
                [
                 13.044399891734093,
                 48.027968838524316
                ],
                [
                 13.044189302795095,
                 48.03806907306838
                ],
                [
                 13.009492383988002,
                 48.03721884633031
                ],
                [
                 12.986804806863335,
                 48.02854596229712
                ],
                [
                 12.936698792726006,
                 48.037115468453756
                ],
                [
                 12.935265163581597,
                 48.0366690206478
                ],
                [
                 12.889187330800945,
                 47.991719778098854
                ],
                [
                 12.857373111808512,
                 47.99734890974755
                ],
                [
                 12.83118509068697,
                 48.0287719771843
                ],
                [
                 12.767673450093653,
                 48.06665677116696
                ],
                [
                 12.747826656014277,
                 48.100304100647094
                ],
                [
                 12.790346772329324,
                 48.13315744537651
                ],
                [
                 12.845252918438023,
                 48.16856968273441
                ],
                [
                 12.870881070167139,
                 48.203182106974296
                ],
                [
                 12.952378942158441,
                 48.20967364184935
                ],
                [
                 13.015391671626906,
                 48.25703851753609
                ],
                [
                 13.061375271190983,
                 48.27004501197854
                ],
                [
                 13.139822670863945,
                 48.28359704154739
                ],
                [
                 13.192688191200137,
                 48.296170250328196
                ],
                [
                 13.25088294137018,
                 48.29386175367304
                ],
                [
                 13.311682411530184,
                 48.31712769524386
                ],
                [
                 13.338548653413923,
                 48.33239741106821
                ],
                [
                 13.341050019387982,
                 48.33418792108856
                ],
                [
                 13.37125457639638,
                 48.35717518435716
                ],
                [
                 13.405037671422647,
                 48.37286534715562
                ],
                [
                 13.417363959519246,
                 48.40073697627005
                ],
                [
                 13.433191830057275,
                 48.42644131393122
                ],
                [
                 13.431445079844236,
                 48.44582856081033
                ],
                [
                 13.436763053259218,
                 48.479597690391955
                ],
                [
                 13.440462322656579,
                 48.48596381248104
                ],
                [
                 13.44213347706727,
                 48.528795266536655
                ],
                [
                 13.47228162522768,
                 48.55669015613033
                ],
                [
                 13.508662244547365,
                 48.591828028544256
                ],
                [
                 13.548703234276186,
                 48.57148084298868
                ],
                [
                 13.638347253103191,
                 48.55319978445303
                ],
                [
                 13.674360798678439,
                 48.531203739405335
                ],
                [
                 13.724293960302278,
                 48.51372234135987
                ],
                [
                 13.761501495250306,
                 48.56131120555194
                ],
                [
                 13.798201945685692,
                 48.57439244049023
                ],
                [
                 13.822976306837825,
                 48.619325703855495
                ],
                [
                 13.814563703814196,
                 48.6594152652378
                ],
                [
                 13.830810367795081,
                 48.692603328274984
                ],
                [
                 13.834546973023194,
                 48.700829893613104
                ],
                [
                 13.818321368921968,
                 48.7552369829344
                ],
                [
                 13.874166490423294,
                 48.76667507631359
                ],
                [
                 13.923547047315743,
                 48.73539194920978
                ],
                [
                 13.973700672480517,
                 48.71179319563461
                ],
                [
                 14.000496542507,
                 48.70928357147841
                ],
                [
                 14.055060253195919,
                 48.65843982022575
                ],
                [
                 14.00777687982591,
                 48.64035473646379
                ],
                [
                 14.03940102613522,
                 48.613557738746344
                ],
                [
                 14.092791744772713,
                 48.59293951082102
                ],
                [
                 14.160742302808048,
                 48.58993624174441
                ],
                [
                 14.267600759754272,
                 48.58169515407956
                ],
                [
                 14.330418283185368,
                 48.55252643335807
                ],
                [
                 14.33862381175925,
                 48.55538478799617
                ],
                [
                 14.390866619742345,
                 48.57817399588618
                ],
                [
                 14.440767624693814,
                 48.60484441715599
                ],
                [
                 14.471901256140397,
                 48.644650018063714
                ],
                [
                 14.501203068003178,
                 48.617915201286756
                ],
                [
                 14.552094269195178,
                 48.60645558813764
                ],
                [
                 14.603578015697249,
                 48.629287997532494
                ],
                [
                 14.623950449236242,
                 48.60505470425649
                ],
                [
                 14.688226952664776,
                 48.58500109238852
                ],
                [
                 14.733512866405684,
                 48.553484172246414
                ],
                [
                 14.808355569985297,
                 48.55445214731674
                ],
                [
                 14.872313402415301,
                 48.52844246254901
                ],
                [
                 14.91817106851184,
                 48.506423610629525
                ],
                [
                 14.874229757250031,
                 48.46507772877569
                ],
                [
                 14.908937674498883,
                 48.43537910048248
                ],
                [
                 14.925412208947593,
                 48.424502749993884
                ],
                [
                 14.95359394767566,
                 48.392005112113246
                ],
                [
                 14.961661862276186,
                 48.37921100464351
                ],
                [
                 14.944696456681836,
                 48.334060909925796
                ],
                [
                 14.940899818669662,
                 48.324346429341
                ],
                [
                 14.98229724223215,
                 48.299809064582774
                ],
                [
                 14.989257710600386,
                 48.25662772166145
                ],
                [
                 14.967176679359643,
                 48.246454313680665
                ],
                [
                 14.9493765953804,
                 48.21983256245666
                ],
                [
                 14.9713677938265,
                 48.199533558138796
                ],
                [
                 14.959655590894204,
                 48.2030813602234
                ],
                [
                 14.941654295692935,
                 48.227976825078045
                ],
                [
                 14.882880860379144,
                 48.23345935719385
                ],
                [
                 14.853860494650831,
                 48.21202671893576
                ],
                [
                 14.837515898992754,
                 48.19443533879205
                ],
                [
                 14.7662172367989,
                 48.179814509183586
                ],
                [
                 14.75880317196169,
                 48.178278333262355
                ],
                [
                 14.71249549298957,
                 48.17936993754109
                ],
                [
                 14.685579357914088,
                 48.15799181197546
                ],
                [
                 14.640839520032836,
                 48.17594383171885
                ],
                [
                 14.620464597522956,
                 48.191385824204254
                ],
                [
                 14.55807323829416,
                 48.231687424757496
                ],
                [
                 14.518386993837433,
                 48.238310752577775
                ],
                [
                 14.512754675251516,
                 48.23476123119458
                ],
                [
                 14.47815826291343,
                 48.202624776750156
                ],
                [
                 14.479323305252938,
                 48.17919735664716
                ],
                [
                 14.480047265119381,
                 48.172261697684455
                ],
                [
                 14.46511946673231,
                 48.148296658581444
                ],
                [
                 14.490160602378694,
                 48.11066844412551
                ],
                [
                 14.476249613684136,
                 48.10511664536289
                ],
                [
                 14.45511611401903,
                 48.08939123399559
                ],
                [
                 14.456054223911236,
                 48.07471409261751
                ],
                [
                 14.453328788357997,
                 48.04373968089135
                ],
                [
                 14.489303378556682,
                 48.01155203960905
                ],
                [
                 14.552335912421619,
                 47.98056368741308
                ],
                [
                 14.613423048698143,
                 47.94880206559831
                ],
                [
                 14.646271824385098,
                 47.942846942149735
                ],
                [
                 14.667816193597279,
                 47.93544154897088
                ],
                [
                 14.725084760353196,
                 47.935665590452615
                ],
                [
                 14.766758218261662,
                 47.88031598057858
                ],
                [
                 14.759948034358755,
                 47.87294189127239
                ],
                [
                 14.707199855307106,
                 47.85134395356477
                ],
                [
                 14.70908265136549,
                 47.7907888318586
                ],
                [
                 14.73566808338259,
                 47.749426793777985
                ],
                [
                 14.6941683957161,
                 47.76650462689978
                ],
                [
                 14.643463521446574,
                 47.726160420642856
                ],
                [
                 14.528885381761471,
                 47.7143019672102
                ],
                [
                 14.485769844431777,
                 47.682746730614916
                ],
                [
                 14.441435979634011,
                 47.656118020052254
                ],
                [
                 14.41805486150295,
                 47.65728031640895
                ],
                [
                 14.388734994989315,
                 47.636643741682384
                ],
                [
                 14.323597311082393,
                 47.60825952976716
                ],
                [
                 14.261611978484815,
                 47.61117896452449
                ],
                [
                 14.229754900473345,
                 47.651335265305775
                ],
                [
                 14.202993128424746,
                 47.65324349425967
                ],
                [
                 14.174786412508292,
                 47.63865431978715
                ],
                [
                 14.090321147711409,
                 47.620244800293115
                ],
                [
                 14.04797578242021,
                 47.61786314553959
                ],
                [
                 14.045938276604826,
                 47.63762832958257
                ],
                [
                 14.052627135407647,
                 47.66859366683909
                ],
                [
                 14.007797462698619,
                 47.70159791563943
                ],
                [
                 13.893114702931202,
                 47.71818645283093
                ],
                [
                 13.857510045138977,
                 47.7279221891866
                ],
                [
                 13.774852101100302,
                 47.719032619853486
                ],
                [
                 13.70505213579654,
                 47.65716240372051
                ],
                [
                 13.695703979460355,
                 47.60275900602188
                ],
                [
                 13.691787532748462,
                 47.57998041592989
                ]
               ]
              ]
             ],
             "type": "MultiPolygon"
            },
            "properties": {
             "iso": "4",
             "name": "Oberoesterreich"
            },
            "type": "Feature"
           },
           {
            "geometry": {
             "coordinates": [
              [
               [
                [
                 13.798352103631528,
                 46.951844674621924
                ],
                [
                 13.781858253483055,
                 46.944566726240176
                ],
                [
                 13.768931487558667,
                 46.97779355575246
                ],
                [
                 13.696406737061356,
                 47.00399643062416
                ],
                [
                 13.683729312368797,
                 47.04052982514287
                ],
                [
                 13.634826979627563,
                 47.056210337271956
                ],
                [
                 13.591419662691269,
                 47.056673264809525
                ],
                [
                 13.424763290456012,
                 47.0820862928719
                ],
                [
                 13.403554866604855,
                 47.06996352363297
                ],
                [
                 13.35170799917132,
                 47.09781536481606
                ],
                [
                 13.274503599910444,
                 47.095862267896415
                ],
                [
                 13.245313561168297,
                 47.05128768878815
                ],
                [
                 13.077521976587828,
                 47.02752186224722
                ],
                [
                 13.070207373241482,
                 47.01412404171541
                ],
                [
                 13.000275721836859,
                 47.04458431950818
                ],
                [
                 12.982537409143534,
                 47.036315422559284
                ],
                [
                 12.950189502492924,
                 47.0499694167178
                ],
                [
                 12.934473141851598,
                 47.07671988824226
                ],
                [
                 12.817464537284497,
                 47.09837715608704
                ],
                [
                 12.736033033360467,
                 47.10102981945141
                ],
                [
                 12.728080438914334,
                 47.13170610856031
                ],
                [
                 12.663320495046412,
                 47.12354691699273
                ],
                [
                 12.654016066248188,
                 47.100231353836485
                ],
                [
                 12.5894168444659,
                 47.12558674595656
                ],
                [
                 12.563556470390875,
                 47.136739497405685
                ],
                [
                 12.48070043046074,
                 47.15855964154146
                ],
                [
                 12.462736611250595,
                 47.14506846369805
                ],
                [
                 12.396701690532645,
                 47.15351595995203
                ],
                [
                 12.360454539252105,
                 47.142098997698724
                ],
                [
                 12.342795704847681,
                 47.10998476028861
                ],
                [
                 12.280957414203254,
                 47.09326480647793
                ],
                [
                 12.237924613286085,
                 47.069884004190115
                ],
                [
                 12.183138449276436,
                 47.09286179526465
                ],
                [
                 12.133192576151718,
                 47.08138357679902
                ],
                [
                 12.090447365445778,
                 47.14676824315532
                ],
                [
                 12.0799689120931,
                 47.196434418696505
                ],
                [
                 12.107262767387029,
                 47.24110464334159
                ],
                [
                 12.075754696908119,
                 47.27589522045737
                ],
                [
                 12.11172562405633,
                 47.307158890850715
                ],
                [
                 12.161804090720976,
                 47.30225548421314
                ],
                [
                 12.21616138062162,
                 47.31184493836425
                ],
                [
                 12.25187573191091,
                 47.30867861955565
                ],
                [
                 12.261297429832275,
                 47.302924956931115
                ],
                [
                 12.29368730421171,
                 47.32880364491527
                ],
                [
                 12.33243725497615,
                 47.32923161071505
                ],
                [
                 12.37177067497208,
                 47.31202262451423
                ],
                [
                 12.47549976642619,
                 47.32710774589435
                ],
                [
                 12.492393544557732,
                 47.33812330074012
                ],
                [
                 12.476154094388688,
                 47.368943885527884
                ],
                [
                 12.503274276420276,
                 47.394842678075356
                ],
                [
                 12.542482549397553,
                 47.39875406995694
                ],
                [
                 12.575794307927712,
                 47.39321028987878
                ],
                [
                 12.621757739986972,
                 47.42322767010251
                ],
                [
                 12.629478377239565,
                 47.432807492676346
                ],
                [
                 12.629463336415112,
                 47.465777514603346
                ],
                [
                 12.696777382304528,
                 47.47859809099986
                ],
                [
                 12.662316157261458,
                 47.506781030711906
                ],
                [
                 12.651318336612611,
                 47.53748228560774
                ],
                [
                 12.62535195417081,
                 47.55025842621544
                ],
                [
                 12.650732825987651,
                 47.588739771087816
                ],
                [
                 12.571713210946912,
                 47.60570124217504
                ],
                [
                 12.572213000152678,
                 47.63302734283744
                ],
                [
                 12.600584094360492,
                 47.67292687273303
                ],
                [
                 12.663274400481706,
                 47.681752463021496
                ],
                [
                 12.742010996435436,
                 47.67647165646622
                ],
                [
                 12.786886172366993,
                 47.63393170802258
                ],
                [
                 12.788515205985565,
                 47.5990781803635
                ],
                [
                 12.776444015382088,
                 47.57999669054089
                ],
                [
                 12.783545828560367,
                 47.5687317828688
                ],
                [
                 12.881657514824614,
                 47.513466587663615
                ],
                [
                 12.929111962535124,
                 47.488461701056174
                ],
                [
                 12.99824236041834,
                 47.46472201900445
                ],
                [
                 13.015056978575542,
                 47.4753883664406
                ],
                [
                 13.043245063668714,
                 47.521212831363364
                ],
                [
                 13.068698231612442,
                 47.59060827180462
                ],
                [
                 13.095138628499006,
                 47.634426505171646
                ],
                [
                 13.075814245585148,
                 47.68867507656984
                ],
                [
                 13.043132293801934,
                 47.713407424860314
                ],
                [
                 12.984388964825083,
                 47.708121198638366
                ],
                [
                 12.930368321934951,
                 47.71025461386205
                ],
                [
                 12.940655718630108,
                 47.76361507204281
                ],
                [
                 12.986257062250298,
                 47.83267212381816
                ],
                [
                 12.998581847888278,
                 47.85510337499348
                ],
                [
                 12.984790236493808,
                 47.869900339367774
                ],
                [
                 12.963649379017989,
                 47.90137425902917
                ],
                [
                 12.936454197863693,
                 47.93736666165952
                ],
                [
                 12.917879824205455,
                 47.951591297071886
                ],
                [
                 12.868304939173719,
                 47.96714218663524
                ],
                [
                 12.857373111808512,
                 47.99734890974755
                ],
                [
                 12.889187330800945,
                 47.991719778098854
                ],
                [
                 12.935265163581597,
                 48.0366690206478
                ],
                [
                 12.936698792726006,
                 48.037115468453756
                ],
                [
                 12.986804806863335,
                 48.02854596229712
                ],
                [
                 13.009492383988002,
                 48.03721884633031
                ],
                [
                 13.044189302795095,
                 48.03806907306838
                ],
                [
                 13.044399891734093,
                 48.027968838524316
                ],
                [
                 13.054856938977494,
                 48.01399941780563
                ],
                [
                 13.09995818793229,
                 47.99826928865161
                ],
                [
                 13.101131942650055,
                 47.997459459925935
                ],
                [
                 13.12144503777586,
                 47.99688921221891
                ],
                [
                 13.142370975421642,
                 47.97505273345684
                ],
                [
                 13.195874250533201,
                 47.974880264576974
                ],
                [
                 13.20707267531659,
                 47.979650150038374
                ],
                [
                 13.209901470411149,
                 47.98317470618085
                ],
                [
                 13.301126898814976,
                 48.00857637935583
                ],
                [
                 13.368852912648117,
                 47.9726880695492
                ],
                [
                 13.360320994161707,
                 47.94478873157334
                ],
                [
                 13.355740647248055,
                 47.940468302241094
                ],
                [
                 13.30473321992954,
                 47.96472179538623
                ],
                [
                 13.27748367233546,
                 47.95542212434089
                ],
                [
                 13.278323565236123,
                 47.90534293936875
                ],
                [
                 13.267308525551996,
                 47.89213552582762
                ],
                [
                 13.290325527302539,
                 47.86446689504523
                ],
                [
                 13.309401296692693,
                 47.8135364131342
                ],
                [
                 13.348156258606874,
                 47.810649045104206
                ],
                [
                 13.395275767028675,
                 47.79860057191996
                ],
                [
                 13.44761088071781,
                 47.804451135674846
                ],
                [
                 13.5266703981245,
                 47.797732246245786
                ],
                [
                 13.532580670419073,
                 47.77684447891034
                ],
                [
                 13.462474874718307,
                 47.7868595313544
                ],
                [
                 13.433469015572669,
                 47.73925871047796
                ],
                [
                 13.548063967268417,
                 47.71482345429212
                ],
                [
                 13.514140817579701,
                 47.67624104126502
                ],
                [
                 13.487057210977767,
                 47.63103549735677
                ],
                [
                 13.51747441347207,
                 47.62388895672504
                ],
                [
                 13.478469659926446,
                 47.562433763605
                ],
                [
                 13.47393478304975,
                 47.531024630060806
                ],
                [
                 13.51336171370177,
                 47.49721345287628
                ],
                [
                 13.582856450628059,
                 47.47550827496876
                ],
                [
                 13.561322502595704,
                 47.41877795531392
                ],
                [
                 13.561746557279987,
                 47.41739787895367
                ],
                [
                 13.569492539300748,
                 47.39381056606523
                ],
                [
                 13.596895659286297,
                 47.341409015053536
                ],
                [
                 13.605134010473964,
                 47.28409682834876
                ],
                [
                 13.693014143657168,
                 47.26079573074071
                ],
                [
                 13.709056671941815,
                 47.26021105480682
                ],
                [
                 13.757832871689208,
                 47.266979618653856
                ],
                [
                 13.822535502019646,
                 47.29391075928638
                ],
                [
                 13.86137413022891,
                 47.252877782610945
                ],
                [
                 13.861939615717835,
                 47.22064419930689
                ],
                [
                 13.939942624981187,
                 47.16710273135776
                ],
                [
                 13.99009642683173,
                 47.1429496672736
                ],
                [
                 13.985012729848352,
                 47.12781112252956
                ],
                [
                 13.932850541084347,
                 47.13580419887789
                ],
                [
                 13.875611432150723,
                 47.10107458962025
                ],
                [
                 13.903967588488547,
                 47.0708202774534
                ],
                [
                 13.829007172764317,
                 46.96615800830227
                ],
                [
                 13.798352103631528,
                 46.951844674621924
                ]
               ]
              ]
             ],
             "type": "MultiPolygon"
            },
            "properties": {
             "iso": "5",
             "name": "Salzburg"
            },
            "type": "Feature"
           },
           {
            "geometry": {
             "coordinates": [
              [
               [
                [
                 15.062313842013335,
                 46.65277657493685
                ],
                [
                 15.021723960006229,
                 46.67044019676584
                ],
                [
                 15.039478767649438,
                 46.72158463624366
                ],
                [
                 15.028749900382708,
                 46.746421499326736
                ],
                [
                 14.993871884429375,
                 46.78153279916539
                ],
                [
                 14.973464266422333,
                 46.785491239529
                ],
                [
                 15.016832434338669,
                 46.844960815216176
                ],
                [
                 15.005425055975238,
                 46.880570359407294
                ],
                [
                 15.012112493120615,
                 46.881946353479314
                ],
                [
                 15.024207631891255,
                 46.910440804398895
                ],
                [
                 14.964149997281826,
                 46.982472194636294
                ],
                [
                 14.882741006492154,
                 47.01187740670246
                ],
                [
                 14.84417882509954,
                 47.03364454740318
                ],
                [
                 14.841676489061658,
                 47.048805304818195
                ],
                [
                 14.771524903004831,
                 47.04001782848264
                ],
                [
                 14.695861526766844,
                 47.01698773271139
                ],
                [
                 14.624948149152406,
                 47.01428298253796
                ],
                [
                 14.612463774440057,
                 46.998655758835234
                ],
                [
                 14.583124270383646,
                 47.0124232984338
                ],
                [
                 14.4690500355669,
                 47.00841794284422
                ],
                [
                 14.42739604891257,
                 47.00118650442543
                ],
                [
                 14.327397088037056,
                 47.02984590762905
                ],
                [
                 14.234893334266026,
                 47.02906133305401
                ],
                [
                 14.232236104985565,
                 47.02653071848637
                ],
                [
                 14.19962181928544,
                 47.0766044867391
                ],
                [
                 14.158799840554162,
                 47.05312008248935
                ],
                [
                 14.129757610613044,
                 47.06305077344774
                ],
                [
                 14.076338288515274,
                 47.02273881391121
                ],
                [
                 14.013625887190985,
                 46.989780922491505
                ],
                [
                 13.965353819946968,
                 46.96375750198801
                ],
                [
                 13.94391568309175,
                 46.941339953575834
                ],
                [
                 13.879060825088889,
                 46.91852569455783
                ],
                [
                 13.812548725751137,
                 46.91922079716213
                ],
                [
                 13.781858253483055,
                 46.944566726240176
                ],
                [
                 13.798352103631528,
                 46.951844674621924
                ],
                [
                 13.829007172764317,
                 46.96615800830227
                ],
                [
                 13.903967588488547,
                 47.0708202774534
                ],
                [
                 13.875611432150723,
                 47.10107458962025
                ],
                [
                 13.932850541084347,
                 47.13580419887789
                ],
                [
                 13.985012729848352,
                 47.12781112252956
                ],
                [
                 13.99009642683173,
                 47.1429496672736
                ],
                [
                 13.939942624981187,
                 47.16710273135776
                ],
                [
                 13.861939615717835,
                 47.22064419930689
                ],
                [
                 13.86137413022891,
                 47.252877782610945
                ],
                [
                 13.822535502019646,
                 47.29391075928638
                ],
                [
                 13.757832871689208,
                 47.266979618653856
                ],
                [
                 13.709056671941815,
                 47.26021105480682
                ],
                [
                 13.693014143657168,
                 47.26079573074071
                ],
                [
                 13.605134010473964,
                 47.28409682834876
                ],
                [
                 13.596895659286297,
                 47.341409015053536
                ],
                [
                 13.569492539300748,
                 47.39381056606523
                ],
                [
                 13.561746557279987,
                 47.41739787895367
                ],
                [
                 13.561322502595704,
                 47.41877795531392
                ],
                [
                 13.582856450628059,
                 47.47550827496876
                ],
                [
                 13.602876972006017,
                 47.475896454616894
                ],
                [
                 13.605942430202054,
                 47.47584573560712
                ],
                [
                 13.719754990487411,
                 47.46281999761018
                ],
                [
                 13.74632626158727,
                 47.50232005685372
                ],
                [
                 13.757865107283767,
                 47.5210073854116
                ],
                [
                 13.732654022442613,
                 47.57773034335252
                ],
                [
                 13.691787532748462,
                 47.57998041592989
                ],
                [
                 13.695703979460355,
                 47.60275900602188
                ],
                [
                 13.70505213579654,
                 47.65716240372051
                ],
                [
                 13.774852101100302,
                 47.719032619853486
                ],
                [
                 13.857510045138977,
                 47.7279221891866
                ],
                [
                 13.893114702931202,
                 47.71818645283093
                ],
                [
                 14.007797462698619,
                 47.70159791563943
                ],
                [
                 14.052627135407647,
                 47.66859366683909
                ],
                [
                 14.045938276604826,
                 47.63762832958257
                ],
                [
                 14.04797578242021,
                 47.61786314553959
                ],
                [
                 14.090321147711409,
                 47.620244800293115
                ],
                [
                 14.174786412508292,
                 47.63865431978715
                ],
                [
                 14.202993128424746,
                 47.65324349425967
                ],
                [
                 14.229754900473345,
                 47.651335265305775
                ],
                [
                 14.261611978484815,
                 47.61117896452449
                ],
                [
                 14.323597311082393,
                 47.60825952976716
                ],
                [
                 14.388734994989315,
                 47.636643741682384
                ],
                [
                 14.41805486150295,
                 47.65728031640895
                ],
                [
                 14.441435979634011,
                 47.656118020052254
                ],
                [
                 14.485769844431777,
                 47.682746730614916
                ],
                [
                 14.528885381761471,
                 47.7143019672102
                ],
                [
                 14.643463521446574,
                 47.726160420642856
                ],
                [
                 14.6941683957161,
                 47.76650462689978
                ],
                [
                 14.73566808338259,
                 47.749426793777985
                ],
                [
                 14.764254891795062,
                 47.7270126926241
                ],
                [
                 14.815521484791581,
                 47.74490961049843
                ],
                [
                 14.85526693611768,
                 47.7411939788452
                ],
                [
                 14.898419706847834,
                 47.711530267676075
                ],
                [
                 14.970044350325894,
                 47.744303408961784
                ],
                [
                 15.031926069993437,
                 47.75344200233826
                ],
                [
                 15.086457681336192,
                 47.74217222908681
                ],
                [
                 15.132045631353076,
                 47.75870100875711
                ],
                [
                 15.196587995010171,
                 47.75412792009144
                ],
                [
                 15.214516325735632,
                 47.79672841493683
                ],
                [
                 15.286082617985503,
                 47.79187864761831
                ],
                [
                 15.297045639104294,
                 47.8217441428425
                ],
                [
                 15.342419192626412,
                 47.8263742451942
                ],
                [
                 15.343100790488187,
                 47.826458307274905
                ],
                [
                 15.376750891518832,
                 47.82424031724305
                ],
                [
                 15.458173341840908,
                 47.770446655783324
                ],
                [
                 15.503824297663224,
                 47.76849707072922
                ],
                [
                 15.51100145314899,
                 47.74725153227008
                ],
                [
                 15.608925525753648,
                 47.75178605106096
                ],
                [
                 15.63317312259398,
                 47.716120757997125
                ],
                [
                 15.675945114743612,
                 47.69969487804562
                ],
                [
                 15.716360145031679,
                 47.71058281328566
                ],
                [
                 15.72231622717731,
                 47.6471548134285
                ],
                [
                 15.739522772636551,
                 47.642908508568475
                ],
                [
                 15.778544678678688,
                 47.64299940448292
                ],
                [
                 15.837512602790229,
                 47.61880014884725
                ],
                [
                 15.85778105484603,
                 47.617376268322836
                ],
                [
                 15.844224479544629,
                 47.56848860973404
                ],
                [
                 15.902627080805715,
                 47.56050479117799
                ],
                [
                 15.911075331820498,
                 47.53112632814445
                ],
                [
                 15.917716205195124,
                 47.53071767551388
                ],
                [
                 15.955735933816998,
                 47.518553434992604
                ],
                [
                 15.997287113811915,
                 47.516538148561374
                ],
                [
                 16.062303772060602,
                 47.487035116629556
                ],
                [
                 16.084613735772102,
                 47.50785604821462
                ],
                [
                 16.108419408036877,
                 47.52267217535619
                ],
                [
                 16.13519069023434,
                 47.46213595254102
                ],
                [
                 16.168984537359943,
                 47.42309851780552
                ],
                [
                 16.16225508757511,
                 47.421446209348034
                ],
                [
                 16.138900969886,
                 47.41820793584231
                ],
                [
                 16.113357185217723,
                 47.41457019243507
                ],
                [
                 16.081326072415987,
                 47.40985517946214
                ],
                [
                 16.05763297797225,
                 47.38493882757068
                ],
                [
                 16.055967976466043,
                 47.384506814206084
                ],
                [
                 16.02732620577123,
                 47.37998987335984
                ],
                [
                 16.031256102645052,
                 47.372894344310296
                ],
                [
                 16.027430487596547,
                 47.37210245401324
                ],
                [
                 16.031718176228672,
                 47.356307783280435
                ],
                [
                 16.05673238140275,
                 47.315391460800434
                ],
                [
                 16.055664585847495,
                 47.31082316246469
                ],
                [
                 16.071944319118813,
                 47.275387030187574
                ],
                [
                 16.07348043721224,
                 47.27232749291293
                ],
                [
                 16.083734166890213,
                 47.23424160111403
                ],
                [
                 16.090014113418867,
                 47.200610938367774
                ],
                [
                 16.08870982183728,
                 47.199163592268384
                ],
                [
                 16.099793329518068,
                 47.18435125977481
                ],
                [
                 16.106498791610996,
                 47.16748643081477
                ],
                [
                 16.11223706808718,
                 47.13389169512108
                ],
                [
                 16.09200488331858,
                 47.112900947470955
                ],
                [
                 16.08379119127893,
                 47.088540159123625
                ],
                [
                 16.0955744934835,
                 47.061767746088016
                ],
                [
                 16.12793859490346,
                 47.01282713383637
                ],
                [
                 16.142810831509557,
                 47.00050122374456
                ],
                [
                 16.151740961122126,
                 46.99151535103217
                ],
                [
                 16.104969698078822,
                 46.966031480721185
                ],
                [
                 16.092612098137973,
                 46.95473777555299
                ],
                [
                 16.0920023328516,
                 46.93504614362515
                ],
                [
                 16.051258370533102,
                 46.911077148922466
                ],
                [
                 16.032607364588106,
                 46.893565782674635
                ],
                [
                 16.02063565181343,
                 46.88863061392031
                ],
                [
                 15.999889799681938,
                 46.84759547874293
                ],
                [
                 15.993444557407093,
                 46.8361010228545
                ],
                [
                 15.990246335972122,
                 46.80503827011241
                ],
                [
                 15.991074058234284,
                 46.731309120135435
                ],
                [
                 15.998980769151713,
                 46.67913941001775
                ],
                [
                 15.944271763223398,
                 46.6897696212966
                ],
                [
                 15.874362255140666,
                 46.72037419163835
                ],
                [
                 15.827678233311913,
                 46.72235674188238
                ],
                [
                 15.749649088414047,
                 46.69867313405675
                ],
                [
                 15.671143464648242,
                 46.70769892036839
                ],
                [
                 15.611752080737702,
                 46.6828740150043
                ],
                [
                 15.567357317663744,
                 46.68161490896958
                ],
                [
                 15.543483174661946,
                 46.67085858678629
                ],
                [
                 15.540751620293973,
                 46.6329194776281
                ],
                [
                 15.47005564365718,
                 46.61270289994332
                ],
                [
                 15.446856573597634,
                 46.64304530357307
                ],
                [
                 15.38009834434934,
                 46.652329541572676
                ],
                [
                 15.305197043876301,
                 46.6531438691042
                ],
                [
                 15.23311517595507,
                 46.64009200845612
                ],
                [
                 15.179858196910967,
                 46.65672814158692
                ],
                [
                 15.062313842013335,
                 46.65277657493685
                ]
               ]
              ]
             ],
             "type": "MultiPolygon"
            },
            "properties": {
             "iso": "6",
             "name": "Steiermark"
            },
            "type": "Feature"
           }
          ],
          "name": "laender_999_geo",
          "type": "FeatureCollection"
         },
         "locations": [
          1,
          1,
          1,
          1,
          1,
          1,
          1,
          1,
          1,
          1,
          1,
          1,
          1,
          1,
          1,
          1,
          1,
          1,
          1,
          1,
          1,
          1,
          1,
          1,
          1,
          1,
          1,
          1,
          1,
          1,
          1,
          1,
          1,
          1,
          1,
          1,
          1,
          1,
          1,
          1,
          1,
          1,
          1,
          1,
          1,
          1,
          1,
          1,
          1,
          1,
          1,
          1,
          1,
          1,
          1,
          1,
          1,
          1,
          1,
          1,
          1,
          1,
          1,
          1,
          1,
          1,
          1,
          1,
          1,
          1,
          1,
          1,
          1,
          1,
          1,
          1,
          1,
          1,
          1,
          1,
          1,
          1,
          1,
          1,
          1,
          1,
          1,
          1,
          1,
          1,
          1,
          1,
          1,
          1,
          1,
          1,
          1,
          1,
          1,
          1,
          1,
          1,
          1,
          1,
          1,
          1,
          1,
          1,
          1,
          1,
          1,
          1,
          1,
          1,
          1,
          1,
          1,
          1,
          1,
          1,
          1,
          1,
          1,
          1,
          1,
          1,
          1,
          1,
          1,
          1,
          1,
          1,
          1,
          1,
          1,
          1,
          1,
          1,
          1,
          1,
          1,
          1,
          1,
          1,
          1,
          1,
          1,
          1,
          1,
          1,
          1,
          1,
          1,
          1,
          1,
          1,
          1,
          1,
          1,
          1,
          1,
          1,
          1,
          1,
          1,
          1,
          1,
          1,
          1,
          1,
          1,
          2,
          2,
          2,
          2,
          2,
          2,
          2,
          2,
          2,
          2,
          2,
          2,
          2,
          2,
          2,
          2,
          2,
          2,
          2,
          2,
          2,
          2,
          2,
          2,
          2,
          2,
          2,
          2,
          2,
          2,
          2,
          2,
          2,
          2,
          2,
          2,
          2,
          2,
          2,
          2,
          2,
          2,
          2,
          2,
          2,
          2,
          2,
          2,
          2,
          2,
          2,
          2,
          2,
          2,
          2,
          2,
          2,
          2,
          2,
          2,
          2,
          2,
          2,
          2,
          2,
          2,
          2,
          2,
          2,
          2,
          2,
          2,
          2,
          2,
          2,
          2,
          2,
          2,
          2,
          2,
          2,
          2,
          2,
          2,
          2,
          2,
          2,
          2,
          2,
          2,
          2,
          2,
          2,
          2,
          2,
          2,
          2,
          2,
          2,
          2,
          2,
          2,
          2,
          2,
          2,
          2,
          2,
          2,
          2,
          2,
          2,
          2,
          2,
          2,
          2,
          2,
          2,
          2,
          2,
          2,
          2,
          2,
          2,
          2,
          2,
          2,
          2,
          2,
          2,
          2,
          2,
          2,
          3,
          3,
          3,
          3,
          3,
          3,
          3,
          3,
          3,
          3,
          3,
          3,
          3,
          3,
          3,
          3,
          3,
          3,
          3,
          3,
          3,
          3,
          3,
          3,
          3,
          3,
          3,
          3,
          3,
          3,
          3,
          3,
          3,
          3,
          3,
          3,
          3,
          3,
          3,
          3,
          3,
          3,
          3,
          3,
          3,
          3,
          3,
          3,
          3,
          3,
          3,
          3,
          3,
          3,
          3,
          3,
          3,
          3,
          3,
          3,
          3,
          3,
          3,
          3,
          3,
          3,
          3,
          3,
          3,
          3,
          3,
          3,
          3,
          3,
          3,
          3,
          3,
          3,
          3,
          3,
          3,
          3,
          3,
          3,
          3,
          3,
          3,
          3,
          3,
          3,
          3,
          3,
          3,
          3,
          3,
          3,
          3,
          3,
          3,
          3,
          3,
          3,
          3,
          3,
          3,
          3,
          3,
          3,
          3,
          3,
          3,
          3,
          3,
          3,
          3,
          3,
          3,
          3,
          3,
          3,
          3,
          3,
          3,
          3,
          3,
          3,
          3,
          3,
          3,
          3,
          3,
          3,
          3,
          3,
          3,
          3,
          3,
          3,
          3,
          3,
          3,
          3,
          3,
          3,
          3,
          3,
          3,
          3,
          3,
          3,
          3,
          3,
          3,
          3,
          3,
          3,
          3,
          3,
          3,
          3,
          3,
          3,
          3,
          3,
          3,
          3,
          3,
          3,
          3,
          3,
          3,
          3,
          3,
          3,
          3,
          3,
          3,
          3,
          3,
          3,
          3,
          3,
          3,
          3,
          3,
          3,
          3,
          3,
          3,
          3,
          3,
          3,
          3,
          3,
          3,
          3,
          3,
          3,
          3,
          3,
          3,
          3,
          3,
          3,
          3,
          3,
          3,
          3,
          3,
          3,
          3,
          3,
          3,
          3,
          3,
          3,
          3,
          3,
          3,
          3,
          3,
          3,
          3,
          3,
          3,
          3,
          3,
          3,
          3,
          3,
          3,
          3,
          3,
          3,
          3,
          3,
          3,
          3,
          3,
          3,
          3,
          3,
          3,
          3,
          3,
          3,
          3,
          3,
          3,
          3,
          3,
          3,
          3,
          3,
          3,
          3,
          3,
          3,
          3,
          3,
          3,
          3,
          3,
          3,
          3,
          3,
          3,
          3,
          3,
          3,
          3,
          3,
          3,
          3,
          3,
          3,
          3,
          3,
          3,
          3,
          3,
          3,
          3,
          3,
          3,
          3,
          3,
          3,
          3,
          3,
          3,
          3,
          3,
          3,
          3,
          3,
          3,
          3,
          3,
          3,
          3,
          3,
          3,
          3,
          3,
          3,
          3,
          3,
          3,
          3,
          3,
          3,
          3,
          3,
          3,
          3,
          3,
          3,
          3,
          3,
          3,
          3,
          3,
          3,
          3,
          3,
          3,
          3,
          3,
          3,
          3,
          3,
          3,
          3,
          3,
          3,
          3,
          3,
          3,
          3,
          3,
          3,
          3,
          3,
          3,
          3,
          3,
          3,
          3,
          3,
          3,
          3,
          3,
          3,
          3,
          3,
          3,
          3,
          3,
          3,
          3,
          3,
          3,
          3,
          3,
          3,
          3,
          3,
          3,
          3,
          3,
          3,
          3,
          3,
          3,
          3,
          3,
          3,
          3,
          3,
          3,
          3,
          3,
          3,
          3,
          3,
          3,
          3,
          3,
          3,
          3,
          3,
          3,
          3,
          3,
          3,
          3,
          3,
          3,
          3,
          3,
          3,
          3,
          3,
          3,
          3,
          3,
          3,
          3,
          3,
          3,
          3,
          3,
          3,
          3,
          3,
          3,
          3,
          3,
          3,
          3,
          3,
          3,
          3,
          3,
          3,
          3,
          3,
          3,
          3,
          3,
          3,
          3,
          3,
          3,
          3,
          3,
          3,
          3,
          3,
          3,
          3,
          3,
          3,
          3,
          3,
          3,
          3,
          3,
          3,
          3,
          3,
          3,
          3,
          3,
          3,
          3,
          3,
          3,
          3,
          3,
          3,
          3,
          3,
          3,
          3,
          3,
          3,
          3,
          3,
          3,
          3,
          3,
          3,
          3,
          3,
          3,
          3,
          3,
          3,
          3,
          3,
          3,
          3,
          3,
          3,
          3,
          3,
          3,
          3,
          3,
          3,
          3,
          3,
          3,
          3,
          3,
          3,
          3,
          3,
          3,
          3,
          3,
          3,
          3,
          3,
          3,
          3,
          3,
          3,
          3,
          3,
          3,
          3,
          3,
          3,
          3,
          3,
          3,
          3,
          3,
          3,
          3,
          3,
          3,
          3,
          3,
          3,
          3,
          3,
          3,
          3,
          3,
          3,
          3,
          3,
          3,
          3,
          3,
          3,
          3,
          3,
          3,
          3,
          3,
          3,
          3,
          3,
          3,
          3,
          3,
          3,
          3,
          3,
          3,
          3,
          3,
          3,
          3,
          3,
          3,
          3,
          3,
          3,
          3,
          3,
          3,
          3,
          3,
          3,
          3,
          3,
          3,
          4,
          4,
          4,
          4,
          4,
          4,
          4,
          4,
          4,
          4,
          4,
          4,
          4,
          4,
          4,
          4,
          4,
          4,
          4,
          4,
          4,
          4,
          4,
          4,
          4,
          4,
          4,
          4,
          4,
          4,
          4,
          4,
          4,
          4,
          4,
          4,
          4,
          4,
          4,
          4,
          4,
          4,
          4,
          4,
          4,
          4,
          4,
          4,
          4,
          4,
          4,
          4,
          4,
          4,
          4,
          4,
          4,
          4,
          4,
          4,
          4,
          4,
          4,
          4,
          4,
          4,
          4,
          4,
          4,
          4,
          4,
          4,
          4,
          4,
          4,
          4,
          4,
          4,
          4,
          4,
          4,
          4,
          4,
          4,
          4,
          4,
          4,
          4,
          4,
          4,
          4,
          4,
          4,
          4,
          4,
          4,
          4,
          4,
          4,
          4,
          4,
          4,
          4,
          4,
          4,
          4,
          4,
          4,
          4,
          4,
          4,
          4,
          4,
          4,
          4,
          4,
          4,
          4,
          4,
          4,
          4,
          4,
          4,
          4,
          4,
          4,
          4,
          4,
          4,
          4,
          4,
          4,
          4,
          4,
          4,
          4,
          4,
          4,
          4,
          4,
          4,
          4,
          4,
          4,
          4,
          4,
          4,
          4,
          4,
          4,
          4,
          4,
          4,
          4,
          4,
          4,
          4,
          4,
          4,
          4,
          4,
          4,
          4,
          4,
          4,
          4,
          4,
          4,
          4,
          4,
          4,
          4,
          4,
          4,
          4,
          4,
          4,
          4,
          4,
          4,
          4,
          4,
          4,
          4,
          4,
          4,
          4,
          4,
          4,
          4,
          4,
          4,
          4,
          4,
          4,
          4,
          4,
          4,
          4,
          4,
          4,
          4,
          4,
          4,
          4,
          4,
          4,
          4,
          4,
          4,
          4,
          4,
          4,
          4,
          4,
          4,
          4,
          4,
          4,
          4,
          4,
          4,
          4,
          4,
          4,
          4,
          4,
          4,
          4,
          4,
          4,
          4,
          4,
          4,
          4,
          4,
          4,
          4,
          4,
          4,
          4,
          4,
          4,
          4,
          4,
          4,
          4,
          4,
          4,
          4,
          4,
          4,
          4,
          4,
          4,
          4,
          4,
          4,
          4,
          4,
          4,
          4,
          4,
          4,
          4,
          4,
          4,
          4,
          4,
          4,
          4,
          4,
          4,
          4,
          4,
          4,
          4,
          4,
          4,
          4,
          4,
          4,
          4,
          4,
          4,
          4,
          4,
          4,
          4,
          4,
          4,
          4,
          4,
          4,
          4,
          4,
          4,
          4,
          4,
          4,
          4,
          4,
          4,
          4,
          4,
          4,
          4,
          4,
          4,
          4,
          4,
          4,
          4,
          4,
          4,
          4,
          4,
          4,
          4,
          4,
          4,
          4,
          4,
          4,
          4,
          4,
          4,
          4,
          4,
          4,
          4,
          4,
          4,
          4,
          4,
          4,
          4,
          4,
          4,
          4,
          4,
          4,
          4,
          4,
          4,
          4,
          4,
          4,
          4,
          4,
          4,
          4,
          4,
          4,
          4,
          4,
          4,
          4,
          4,
          4,
          4,
          4,
          4,
          4,
          4,
          4,
          4,
          4,
          4,
          4,
          4,
          4,
          4,
          4,
          4,
          4,
          4,
          4,
          4,
          4,
          4,
          4,
          4,
          4,
          4,
          4,
          4,
          4,
          4,
          4,
          4,
          4,
          4,
          4,
          4,
          4,
          4,
          4,
          4,
          4,
          4,
          4,
          4,
          4,
          4,
          4,
          4,
          4,
          4,
          4,
          4,
          4,
          4,
          4,
          4,
          4,
          4,
          4,
          4,
          4,
          4,
          4,
          4,
          4,
          4,
          4,
          4,
          4,
          4,
          4,
          4,
          4,
          4,
          4,
          4,
          4,
          4,
          4,
          5,
          5,
          5,
          5,
          5,
          5,
          5,
          5,
          5,
          5,
          5,
          5,
          5,
          5,
          5,
          5,
          5,
          5,
          5,
          5,
          5,
          5,
          5,
          5,
          5,
          5,
          5,
          5,
          5,
          5,
          5,
          5,
          5,
          5,
          5,
          5,
          5,
          5,
          5,
          5,
          5,
          5,
          5,
          5,
          5,
          5,
          5,
          5,
          5,
          5,
          5,
          5,
          5,
          5,
          5,
          5,
          5,
          5,
          5,
          5,
          5,
          5,
          5,
          5,
          5,
          5,
          5,
          5,
          5,
          5,
          5,
          5,
          5,
          5,
          5,
          5,
          5,
          5,
          5,
          5,
          5,
          5,
          5,
          5,
          5,
          5,
          5,
          5,
          5,
          5,
          5,
          5,
          5,
          5,
          5,
          5,
          5,
          5,
          5,
          5,
          5,
          5,
          5,
          5,
          5,
          5,
          5,
          5,
          5,
          5,
          5,
          5,
          5,
          5,
          5,
          5,
          5,
          5,
          5,
          6,
          6,
          6,
          6,
          6,
          6,
          6,
          6,
          6,
          6,
          6,
          6,
          6,
          6,
          6,
          6,
          6,
          6,
          6,
          6,
          6,
          6,
          6,
          6,
          6,
          6,
          6,
          6,
          6,
          6,
          6,
          6,
          6,
          6,
          6,
          6,
          6,
          6,
          6,
          6,
          6,
          6,
          6,
          6,
          6,
          6,
          6,
          6,
          6,
          6,
          6,
          6,
          6,
          6,
          6,
          6,
          6,
          6,
          6,
          6,
          6,
          6,
          6,
          6,
          6,
          6,
          6,
          6,
          6,
          6,
          6,
          6,
          6,
          6,
          6,
          6,
          6,
          6,
          6,
          6,
          6,
          6,
          6,
          6,
          6,
          6,
          6,
          6,
          6,
          6,
          6,
          6,
          6,
          6,
          6,
          6,
          6,
          6,
          6,
          6,
          6,
          6,
          6,
          6,
          6,
          6,
          6,
          6,
          6,
          6,
          6,
          6,
          6,
          6,
          6,
          6,
          6,
          6,
          6,
          6,
          6,
          6,
          6,
          6,
          6,
          6,
          6,
          6,
          6,
          6,
          6,
          6,
          6,
          6,
          6,
          6,
          6,
          6,
          6,
          6,
          6,
          6,
          6,
          6,
          6,
          6,
          6,
          6,
          6,
          6,
          6,
          6,
          6,
          6,
          6,
          6,
          6,
          6,
          6,
          6,
          6,
          6,
          6,
          6,
          6,
          6,
          6,
          6,
          6,
          6,
          6,
          6,
          6,
          6,
          6,
          6,
          6,
          6,
          6,
          6,
          6,
          6,
          6,
          6,
          6,
          6,
          6,
          6,
          6,
          6,
          6,
          6,
          6,
          6,
          6,
          6,
          6,
          6,
          6,
          6,
          6,
          6,
          6,
          6,
          6,
          6,
          6,
          6,
          6,
          6,
          6,
          6,
          6,
          6,
          6,
          6,
          6,
          6,
          6,
          6,
          6,
          6,
          6,
          6,
          6,
          6,
          6,
          6,
          6,
          6,
          6,
          6,
          6,
          6,
          6,
          6,
          6,
          6,
          6,
          6,
          6,
          6,
          6,
          6,
          6,
          6,
          6,
          6,
          6,
          6,
          6,
          6,
          6,
          6,
          6,
          6,
          6,
          6,
          6,
          6,
          6,
          6,
          6,
          6,
          6,
          6,
          6,
          6,
          6,
          6,
          6,
          6,
          6,
          6,
          6,
          6,
          6,
          6,
          6,
          6,
          6,
          6,
          6,
          6,
          6,
          6,
          7,
          7,
          7,
          7,
          7,
          7,
          7,
          7,
          7,
          7,
          7,
          7,
          7,
          7,
          7,
          7,
          7,
          7,
          7,
          7,
          7,
          7,
          7,
          7,
          7,
          7,
          7,
          7,
          7,
          7,
          7,
          7,
          7,
          7,
          7,
          7,
          7,
          7,
          7,
          7,
          7,
          7,
          7,
          7,
          7,
          7,
          7,
          7,
          7,
          7,
          7,
          7,
          7,
          7,
          7,
          7,
          7,
          7,
          7,
          7,
          7,
          7,
          7,
          7,
          7,
          7,
          7,
          7,
          7,
          7,
          7,
          7,
          7,
          7,
          7,
          7,
          7,
          7,
          7,
          7,
          7,
          7,
          7,
          7,
          7,
          7,
          7,
          7,
          7,
          7,
          7,
          7,
          7,
          7,
          7,
          7,
          7,
          7,
          7,
          7,
          7,
          7,
          7,
          7,
          7,
          7,
          7,
          7,
          7,
          7,
          7,
          7,
          7,
          7,
          7,
          7,
          7,
          7,
          7,
          7,
          7,
          7,
          7,
          7,
          7,
          7,
          7,
          7,
          7,
          7,
          7,
          7,
          7,
          7,
          7,
          7,
          7,
          7,
          7,
          7,
          7,
          7,
          7,
          7,
          7,
          7,
          7,
          7,
          7,
          7,
          7,
          7,
          7,
          7,
          7,
          7,
          7,
          7,
          7,
          7,
          7,
          7,
          7,
          7,
          7,
          7,
          7,
          7,
          7,
          7,
          7,
          7,
          7,
          7,
          7,
          7,
          7,
          7,
          7,
          7,
          7,
          7,
          7,
          7,
          7,
          7,
          7,
          7,
          7,
          7,
          7,
          7,
          7,
          7,
          7,
          7,
          7,
          7,
          7,
          7,
          7,
          7,
          7,
          7,
          7,
          7,
          7,
          7,
          7,
          7,
          7,
          7,
          7,
          7,
          7,
          7,
          7,
          7,
          7,
          7,
          7,
          7,
          7,
          7,
          7,
          7,
          7,
          7,
          7,
          7,
          7,
          7,
          7,
          7,
          7,
          7,
          7,
          7,
          7,
          7,
          7,
          7,
          7,
          7,
          7,
          7,
          7,
          7,
          7,
          7,
          7,
          7,
          7,
          7,
          7,
          7,
          7,
          7,
          7,
          7,
          7,
          7,
          7,
          7,
          7,
          7,
          7,
          7,
          7,
          7,
          7,
          7,
          7,
          7,
          7,
          7,
          7,
          7,
          7,
          8,
          8,
          8,
          8,
          8,
          8,
          8,
          8,
          8,
          8,
          8,
          8,
          8,
          8,
          8,
          8,
          8,
          8,
          8,
          8,
          8,
          8,
          8,
          8,
          8,
          8,
          8,
          8,
          8,
          8,
          8,
          8,
          8,
          8,
          8,
          8,
          8,
          8,
          8,
          8,
          8,
          8,
          8,
          8,
          8,
          8,
          8,
          8,
          8,
          8,
          8,
          8,
          8,
          8,
          8,
          8,
          8,
          8,
          8,
          8,
          8,
          8,
          8,
          8,
          8,
          8,
          8,
          8,
          8,
          8,
          8,
          8,
          8,
          8,
          8,
          8,
          8,
          8,
          8,
          8,
          8,
          8,
          8,
          8,
          8,
          8,
          8,
          8,
          8,
          8,
          8,
          8,
          8,
          8,
          8,
          8,
          9,
          9,
          9,
          9,
          9,
          9,
          9,
          9,
          9,
          9,
          9,
          9,
          9,
          9,
          9,
          9,
          9,
          9,
          9,
          9,
          9,
          9,
          9
         ],
         "marker": {
          "line": {
           "width": 0.5
          }
         },
         "reversescale": true,
         "type": "choropleth",
         "z": [
          10961,
          1512,
          1444,
          1424,
          1591,
          2365,
          837,
          952,
          1714,
          1069,
          2631,
          1393,
          1023,
          2236,
          2080,
          1088,
          2287,
          2133,
          1607,
          1144,
          1435,
          370,
          600,
          724,
          851,
          593,
          911,
          711,
          778,
          2794,
          715,
          569,
          1381,
          720,
          341,
          1004,
          698,
          713,
          1907,
          923,
          705,
          1014,
          259,
          328,
          190,
          244,
          199,
          54,
          165,
          290,
          245,
          324,
          285,
          1212,
          639,
          898,
          2894,
          741,
          809,
          636,
          1529,
          1440,
          514,
          544,
          304,
          902,
          2011,
          772,
          823,
          1544,
          5429,
          3318,
          578,
          2144,
          2013,
          1557,
          1810,
          917,
          862,
          1960,
          563,
          680,
          968,
          432,
          1839,
          1348,
          2177,
          437,
          2147,
          947,
          2940,
          1497,
          1889,
          1175,
          1670,
          1682,
          6126,
          1249,
          801,
          1252,
          3144,
          1725,
          1082,
          952,
          1345,
          1857,
          1042,
          1555,
          478,
          403,
          497,
          2505,
          1054,
          837,
          1040,
          1449,
          427,
          1459,
          911,
          1464,
          640,
          1322,
          915,
          1275,
          854,
          1102,
          2434,
          1225,
          632,
          721,
          747,
          964,
          1064,
          1325,
          436,
          483,
          468,
          271,
          594,
          1202,
          1632,
          858,
          859,
          2678,
          583,
          1024,
          1102,
          802,
          934,
          875,
          1316,
          515,
          1212,
          722,
          1752,
          5355,
          4155,
          2290,
          1198,
          1123,
          500,
          1508,
          791,
          678,
          618,
          815,
          970,
          530,
          603,
          216,
          201,
          68412,
          40894,
          778,
          4632,
          1677,
          2039,
          989,
          831,
          736,
          5308,
          1644,
          4712,
          1964,
          1679,
          2068,
          2461,
          1152,
          1694,
          2702,
          1183,
          3014,
          1936,
          2180,
          678,
          1669,
          1452,
          364,
          2421,
          3380,
          1831,
          585,
          833,
          3427,
          561,
          875,
          979,
          939,
          1267,
          1222,
          2231,
          1264,
          670,
          881,
          2474,
          8418,
          1365,
          1296,
          2413,
          1095,
          1069,
          706,
          1040,
          744,
          640,
          1473,
          1051,
          585,
          1150,
          672,
          980,
          526,
          1080,
          2148,
          367,
          640,
          719,
          1189,
          3576,
          794,
          1036,
          798,
          4071,
          9255,
          587,
          1196,
          592,
          547,
          677,
          798,
          1605,
          1370,
          951,
          4280,
          704,
          1441,
          448,
          718,
          1142,
          5904,
          690,
          480,
          1322,
          3515,
          1149,
          2641,
          750,
          3077,
          6052,
          1894,
          3446,
          2498,
          441,
          3835,
          1347,
          1317,
          1143,
          1028,
          2118,
          677,
          959,
          2927,
          1288,
          7127,
          2791,
          1689,
          1641,
          598,
          1197,
          6258,
          1049,
          2022,
          16550,
          593,
          9020,
          1224,
          608,
          1317,
          477,
          1095,
          891,
          2425,
          990,
          17192,
          38079,
          6917,
          30554,
          1301,
          15278,
          2215,
          2363,
          1934,
          1395,
          2031,
          1469,
          638,
          1644,
          1123,
          3607,
          2215,
          1073,
          1707,
          1737,
          1162,
          1313,
          500,
          349,
          1860,
          1800,
          2948,
          6536,
          1997,
          2428,
          1357,
          795,
          1451,
          1293,
          1175,
          1283,
          1804,
          1187,
          1839,
          1344,
          8582,
          18500,
          6004,
          7964,
          2859,
          583,
          1128,
          1044,
          1094,
          1528,
          1200,
          5054,
          3274,
          2008,
          3454,
          2666,
          5149,
          1956,
          1229,
          1468,
          1175,
          749,
          1025,
          1217,
          12863,
          2520,
          1113,
          1228,
          705,
          1360,
          534,
          5812,
          2545,
          1149,
          1564,
          4288,
          1476,
          951,
          1188,
          453,
          2958,
          989,
          1213,
          1144,
          927,
          1543,
          2220,
          631,
          2800,
          4043,
          2463,
          5705,
          665,
          1356,
          3865,
          1648,
          1289,
          581,
          1562,
          14130,
          1264,
          164,
          100,
          2491,
          1479,
          1319,
          6360,
          820,
          1711,
          675,
          954,
          1462,
          8394,
          230,
          8478,
          68,
          955,
          911,
          948,
          1986,
          705,
          868,
          2069,
          2053,
          256,
          2144,
          685,
          2015,
          935,
          1302,
          1613,
          981,
          130,
          1077,
          480,
          946,
          1500,
          750,
          7673,
          959,
          1249,
          576,
          1435,
          4176,
          720,
          723,
          1016,
          439,
          437,
          3743,
          1472,
          843,
          730,
          504,
          317,
          2668,
          391,
          996,
          777,
          1605,
          377,
          712,
          3774,
          645,
          782,
          1925,
          544,
          2242,
          1182,
          845,
          1288,
          1010,
          1170,
          1011,
          955,
          8823,
          430,
          1453,
          904,
          766,
          1154,
          1201,
          3330,
          734,
          697,
          763,
          1606,
          1685,
          1865,
          2514,
          547,
          572,
          986,
          820,
          2666,
          2594,
          994,
          4715,
          1005,
          530,
          525,
          656,
          528,
          339,
          816,
          556,
          923,
          1233,
          1215,
          472,
          3642,
          1332,
          2359,
          1222,
          1627,
          1730,
          3071,
          2810,
          9840,
          6334,
          872,
          3884,
          1058,
          3038,
          1848,
          785,
          998,
          12577,
          1107,
          8582,
          477,
          666,
          882,
          624,
          2283,
          2127,
          1576,
          2499,
          1430,
          659,
          486,
          5473,
          977,
          1335,
          673,
          2636,
          910,
          1927,
          931,
          1466,
          824,
          668,
          1327,
          1237,
          1198,
          676,
          786,
          1076,
          1351,
          670,
          377,
          789,
          2497,
          951,
          602,
          476,
          1792,
          352,
          525,
          907,
          1238,
          2343,
          2330,
          1373,
          730,
          1106,
          812,
          1592,
          289,
          1554,
          683,
          863,
          1105,
          1261,
          1682,
          598,
          686,
          919,
          891,
          2585,
          1996,
          1031,
          563,
          3841,
          983,
          1301,
          563,
          1479,
          871,
          2642,
          1528,
          661,
          1284,
          1785,
          1039,
          699,
          651,
          655,
          650,
          3748,
          809,
          899,
          1292,
          1133,
          591,
          1354,
          1217,
          1014,
          832,
          377,
          604,
          688,
          3001,
          915,
          1668,
          1113,
          830,
          1291,
          612,
          747,
          896,
          1167,
          1234,
          4785,
          1787,
          8822,
          994,
          657,
          875,
          4134,
          783,
          653,
          1495,
          1180,
          2041,
          409,
          1209,
          1557,
          5633,
          411,
          1023,
          2394,
          4674,
          8779,
          1329,
          1845,
          2933,
          6712,
          1145,
          2931,
          2422,
          900,
          2215,
          6551,
          15126,
          2252,
          11806,
          5408,
          6848,
          2138,
          226,
          1215,
          1107,
          1031,
          209,
          251,
          598,
          1413,
          697,
          4119,
          1546,
          881,
          1093,
          1606,
          392,
          1145,
          8133,
          365,
          1444,
          1950,
          301,
          1761,
          215,
          1793,
          250,
          1455,
          1329,
          411,
          243,
          1314,
          337,
          1005,
          368,
          10189,
          810,
          338,
          102,
          1010,
          1144,
          680,
          1044,
          1113,
          898,
          599,
          2185,
          1455,
          3381,
          810,
          3425,
          1198,
          709,
          1711,
          1176,
          797,
          5217,
          1083,
          823,
          1517,
          872,
          2073,
          1572,
          343,
          2254,
          1432,
          505,
          1040,
          5789,
          1111,
          1258,
          3174,
          1591,
          1161,
          2258,
          1575,
          720,
          211,
          983,
          443,
          4275,
          951,
          877,
          4305,
          1605,
          3658,
          2717,
          5583,
          7132,
          2113,
          1262,
          1956,
          1428,
          1203,
          692,
          1167,
          1680,
          173,
          3283,
          911,
          567,
          692,
          720,
          2898,
          1371,
          739,
          2745,
          1977,
          938,
          1704,
          2263,
          1722,
          2424,
          744,
          2506,
          1662,
          2783,
          1059,
          1779,
          1797,
          2580,
          5370,
          1697,
          2368,
          12215,
          1051,
          1638,
          2870,
          5931,
          1269,
          20892,
          772,
          1030,
          739,
          1970,
          981,
          735,
          644,
          590,
          1979,
          937,
          1749,
          3709,
          758,
          339,
          655,
          2495,
          480,
          1940,
          3399,
          2203,
          2939,
          780,
          1126,
          693,
          985,
          625,
          2244,
          1909,
          1480,
          2751,
          561,
          1910,
          2091,
          1444,
          388,
          331,
          1359,
          215,
          804,
          543,
          3420,
          2418,
          933,
          1341,
          749,
          758,
          952,
          1313,
          3034,
          1476,
          1303,
          783,
          207,
          789,
          1279,
          524,
          2541,
          795,
          357,
          407,
          941,
          959,
          628,
          642,
          449,
          618,
          955,
          779,
          398,
          1087,
          1313,
          639,
          747,
          7292,
          135260,
          24257,
          37884,
          2973,
          1443,
          299,
          10737,
          1532,
          1454,
          888,
          633,
          647,
          803,
          346,
          727,
          2061,
          1664,
          647,
          373,
          669,
          2663,
          1581,
          926,
          3868,
          1546,
          807,
          615,
          934,
          1722,
          1287,
          1809,
          626,
          545,
          637,
          772,
          498,
          496,
          219,
          1049,
          1844,
          1428,
          323,
          197,
          2316,
          574,
          1127,
          387,
          394,
          867,
          4146,
          1461,
          2770,
          1604,
          771,
          2569,
          1340,
          1903,
          1262,
          1507,
          1452,
          957,
          5130,
          1064,
          1761,
          1900,
          761,
          377,
          1433,
          1767,
          1869,
          672,
          919,
          2058,
          596,
          3658,
          1907,
          826,
          873,
          1634,
          1121,
          1965,
          1254,
          1401,
          862,
          2925,
          597,
          1026,
          1826,
          6369,
          4932,
          9432,
          5320,
          8788,
          1232,
          1252,
          1783,
          495,
          1241,
          5869,
          552,
          3307,
          2494,
          1234,
          657,
          1796,
          1143,
          2967,
          4321,
          595,
          2891,
          567,
          1684,
          2350,
          885,
          3260,
          1528,
          395,
          1053,
          1613,
          893,
          1022,
          788,
          1277,
          935,
          940,
          362,
          603,
          1103,
          628,
          1238,
          905,
          329,
          2027,
          633,
          1229,
          650,
          2438,
          2014,
          1140,
          520,
          2827,
          404,
          2304,
          603,
          1149,
          3066,
          694,
          4281,
          3913,
          2345,
          1422,
          261,
          2734,
          1698,
          459,
          1200,
          245,
          1835,
          1395,
          496,
          1178,
          507,
          1836,
          1699,
          806,
          10455,
          4342,
          677,
          7783,
          910,
          4050,
          1367,
          1894,
          1852,
          2341,
          19410,
          4510,
          4354,
          1388,
          1410,
          5063,
          1159,
          2613,
          3121,
          14707,
          4144,
          777,
          984,
          1131,
          490,
          1842,
          2132,
          584,
          1213,
          1736,
          2918,
          3347,
          1120,
          1036,
          2441,
          908,
          5729,
          543,
          2936,
          1081,
          3005,
          496,
          529,
          1080,
          3595,
          1529,
          934,
          440,
          663,
          1958,
          2096,
          539,
          329,
          890,
          755,
          1509,
          416,
          446,
          726,
          1356,
          1508,
          1381,
          215,
          437,
          1692,
          1052,
          778,
          609,
          428,
          601,
          1004,
          8034,
          401,
          578,
          1306,
          798,
          474,
          1456,
          1027,
          1044,
          1405,
          373,
          323,
          1347,
          709,
          232,
          264,
          1668,
          216,
          964,
          937,
          694,
          819,
          1145,
          851,
          936,
          259,
          342,
          772,
          506,
          1147,
          402,
          932,
          881,
          927,
          828,
          880,
          577,
          2411,
          322,
          1012,
          394,
          829,
          1262,
          370,
          2008,
          2130,
          3507,
          973,
          685,
          415,
          3291,
          1312,
          943,
          680,
          840,
          626,
          1062,
          1823,
          719,
          1096,
          189,
          1610,
          1414,
          945,
          1352,
          935,
          1991,
          1235,
          1061,
          673,
          3470,
          1364,
          552,
          960,
          1848,
          353,
          698,
          972,
          1183,
          1157,
          1410,
          3665,
          2166,
          1109,
          4334,
          1653,
          608,
          1010,
          837,
          1519,
          1048,
          949,
          2033,
          808,
          6185,
          2079,
          1445,
          2163,
          2697,
          2476,
          3075,
          2666,
          1342,
          6023,
          3797,
          4653,
          605,
          3644,
          607,
          1574,
          1630,
          1449,
          2033,
          1934,
          357,
          3477,
          3430,
          903,
          946,
          923,
          1057,
          657,
          3410,
          3133,
          1110,
          1515,
          2007,
          1077,
          5259,
          655,
          1051,
          635,
          1108,
          528,
          2929,
          2153,
          1853,
          663,
          3234,
          480,
          2437,
          1612,
          649,
          729,
          929,
          826,
          904,
          2239,
          898,
          403,
          349,
          1281,
          664,
          364,
          294,
          992,
          4064,
          1342,
          161,
          2525,
          1511,
          889,
          2291,
          2633,
          3800,
          588,
          875,
          2372,
          3816,
          927,
          1035,
          8286,
          2953,
          523,
          1067,
          1295,
          976,
          757,
          316,
          484,
          1531,
          2647,
          1316,
          1470,
          863,
          4016,
          645,
          2182,
          2331,
          8428,
          602,
          1093,
          566,
          1934,
          1641,
          898,
          1335,
          3259,
          1450,
          1598,
          3690,
          2289,
          99071,
          3330,
          2075,
          1319,
          2566,
          13095,
          438,
          3991,
          2892,
          3099,
          478,
          816,
          713,
          1146,
          2933,
          2437,
          3724,
          1006,
          3037,
          903,
          857,
          1986,
          3757,
          4566,
          1646,
          1075,
          434,
          4848,
          1644,
          2729,
          3162,
          255,
          2252,
          1668,
          2304,
          2355,
          2173,
          3877,
          1400,
          3471,
          3143,
          806,
          1618,
          2565,
          670,
          1156,
          4372,
          2375,
          3573,
          9089,
          7161,
          2793,
          4687,
          2879,
          6909,
          1167,
          1563,
          856,
          1748,
          321,
          1648,
          2293,
          971,
          563,
          526,
          1044,
          1630,
          3110,
          7489,
          1042,
          2511,
          2501,
          301,
          1993,
          2003,
          658,
          223,
          354,
          1625,
          1161,
          271,
          665,
          505,
          435,
          2217,
          3791,
          224,
          168,
          611,
          217,
          668,
          2591,
          3271,
          571,
          539,
          802,
          2193,
          534,
          945,
          2362,
          1436,
          2443,
          1425,
          3681,
          1691,
          1701,
          2555,
          2261,
          1925,
          11413,
          804,
          990,
          1787,
          1097,
          1869,
          365,
          697,
          268,
          6860,
          199393,
          2080,
          2431,
          1109,
          1295,
          1077,
          819,
          1083,
          7942,
          4007,
          2829,
          1944,
          2299,
          2904,
          5699,
          2735,
          4436,
          2775,
          5646,
          3895,
          1025,
          2510,
          2119,
          5098,
          2717,
          1970,
          3708,
          1553,
          934,
          898,
          1525,
          2098,
          2170,
          475,
          1772,
          1469,
          3108,
          1886,
          1651,
          1115,
          2939,
          2287,
          4645,
          3400,
          4751,
          8975,
          4990,
          1892,
          3301,
          2404,
          8151,
          4442,
          1091,
          664,
          964,
          808,
          1795,
          1421,
          1322,
          957,
          846,
          912,
          1557,
          1263,
          1036,
          1098,
          1338,
          1635,
          2544,
          4320,
          1673,
          2255,
          1800,
          1864,
          8708,
          2337,
          1086,
          1565,
          3676,
          3080,
          4113,
          2922,
          644,
          1108,
          910,
          16895,
          1289,
          1719,
          1170,
          376,
          2066,
          1542,
          1324,
          955,
          705,
          390,
          7767,
          1623,
          1220,
          542,
          886,
          3317,
          1904,
          789,
          1454,
          1075,
          1744,
          1008,
          2242,
          347,
          747,
          3468,
          813,
          3153,
          880,
          2384,
          1960,
          5258,
          625,
          1107,
          1228,
          3129,
          1217,
          4241,
          976,
          1879,
          572,
          423,
          1413,
          658,
          1112,
          2547,
          3336,
          2147,
          814,
          1250,
          1205,
          1430,
          1190,
          1243,
          1730,
          2197,
          1413,
          1058,
          484,
          1981,
          6515,
          3867,
          1095,
          934,
          699,
          1052,
          6756,
          1817,
          2775,
          1335,
          1030,
          761,
          557,
          1925,
          1459,
          1615,
          457,
          1397,
          1452,
          855,
          1274,
          830,
          549,
          400,
          744,
          2559,
          2532,
          1247,
          1648,
          2590,
          3193,
          1187,
          1031,
          7390,
          1152,
          1265,
          3034,
          2205,
          3309,
          8041,
          5240,
          918,
          253,
          1379,
          313,
          641,
          750,
          895,
          937,
          4722,
          1355,
          6684,
          8270,
          2593,
          2055,
          1707,
          1428,
          1905,
          3655,
          3250,
          1198,
          3968,
          2873,
          1821,
          2610,
          1127,
          1227,
          1039,
          1862,
          11364,
          14831,
          6037,
          2445,
          6030,
          1771,
          4976,
          1906,
          1649,
          1404,
          1105,
          1407,
          745,
          748,
          1687,
          1188,
          895,
          4602,
          1360,
          970,
          1031,
          2046,
          1288,
          680,
          1461,
          951,
          837,
          1034,
          1515,
          963,
          2532,
          1319,
          1462,
          6118,
          2052,
          1435,
          1256,
          2511,
          1787,
          1257,
          930,
          3880,
          940,
          1812,
          2913,
          1021,
          937,
          805,
          1304,
          946,
          1077,
          908,
          955,
          857,
          849,
          3698,
          2484,
          1279,
          5043,
          9170,
          4010,
          2066,
          2881,
          2484,
          1837,
          1715,
          3491,
          1688,
          1913,
          2331,
          2464,
          88501,
          1975,
          3192,
          7125,
          447,
          591,
          398,
          424,
          2939,
          2662,
          409,
          874,
          1451,
          958,
          1607,
          1608,
          1210,
          862,
          1044,
          1617,
          2056,
          1019,
          1530,
          2044,
          1326,
          5136,
          1902,
          1166,
          4277,
          920,
          1002,
          753,
          864,
          1477,
          3015,
          575,
          2915,
          835,
          416,
          998,
          250,
          1046,
          2770,
          2069,
          1174,
          504,
          779,
          1597,
          640,
          1272,
          3163,
          953,
          1563,
          1511,
          1253,
          3268,
          1195,
          242,
          2151,
          781,
          699,
          793,
          822,
          814,
          712,
          984,
          1215,
          6547,
          131,
          915,
          575,
          694,
          2381,
          955,
          1619,
          9454,
          2358,
          1081,
          10584,
          2897,
          802,
          1107,
          183,
          340,
          4877,
          3013,
          483,
          5513,
          623,
          5719,
          715,
          1845,
          3014,
          1147,
          898,
          3854,
          777,
          931,
          3186,
          2518,
          5337,
          2601,
          1497,
          1003,
          525,
          6216,
          1218,
          512,
          1279,
          2547,
          1435,
          607,
          1912,
          1017,
          2252,
          1956,
          3528,
          1745,
          793,
          3689,
          3306,
          11916,
          3173,
          2708,
          265,
          2290,
          1716,
          343,
          1639,
          265,
          1638,
          274,
          950,
          1599,
          2282,
          1927,
          1222,
          1119,
          2826,
          8861,
          221,
          200,
          671,
          1973,
          712,
          610,
          978,
          1166,
          1885,
          265,
          421,
          319,
          326,
          5287,
          1024,
          1061,
          1504,
          567,
          1178,
          753,
          1681,
          1080,
          811,
          818,
          36,
          417,
          813,
          347,
          406,
          2517,
          398,
          501,
          288,
          738,
          1070,
          474,
          1318,
          512,
          417,
          453,
          323,
          617,
          494,
          185,
          458,
          7521,
          2683,
          536,
          2160,
          815,
          474,
          599,
          584,
          133,
          425,
          227,
          1274,
          525,
          368,
          922,
          132,
          1080,
          585,
          401,
          450,
          434,
          508,
          966,
          557,
          1750,
          560,
          269,
          151,
          419,
          23,
          427,
          320,
          59,
          843,
          248,
          119,
          41,
          1336,
          748,
          256,
          45,
          289,
          69,
          935,
          234,
          4372,
          285,
          322,
          433,
          690,
          988,
          174,
          595,
          784,
          146,
          1560,
          1237,
          210,
          787,
          1846,
          2270,
          1006,
          2871,
          948,
          424,
          578,
          280,
          469,
          1089,
          953,
          4946,
          854,
          2728,
          806,
          1119,
          899,
          401,
          1016,
          9736,
          1184,
          1598,
          166,
          586,
          1295,
          520,
          1622,
          1407,
          1269,
          3773,
          1218,
          1756,
          1535,
          1195,
          423,
          1476,
          210,
          9743,
          1554,
          515,
          2257,
          321,
          1059,
          288,
          937,
          682,
          420,
          1229,
          203,
          2148,
          3985,
          3437,
          575,
          462,
          1481,
          185,
          2690,
          536,
          358,
          193,
          1450,
          437,
          1432,
          1906,
          1982,
          1603,
          1146,
          1315,
          494,
          691,
          19156,
          390,
          247,
          654,
          2224,
          230,
          2643,
          1216,
          9295,
          1241,
          5320,
          4380,
          849,
          1222,
          690,
          966,
          669,
          6908,
          914,
          4294,
          831,
          3189,
          386,
          460,
          611,
          311,
          627,
          157,
          2674,
          1213,
          204,
          1113,
          102,
          5836,
          33296,
          10758,
          14929,
          4380,
          287,
          85,
          23047,
          4309,
          459,
          2225,
          7748,
          2006,
          3122,
          458,
          2490,
          1363,
          7924,
          245,
          1463,
          1720,
          1649,
          466,
          1703,
          417,
          263,
          1420,
          2171,
          11197,
          68593,
          64417,
          22838,
          35930,
          22293,
          22974,
          17188,
          29843,
          128996,
          65858,
          62168,
          38935,
          63711,
          47603,
          65131,
          37045,
          36092,
          52359,
          53092,
          116970,
          138751,
          78109
         ]
        }
       ],
       "layout": {
        "template": {
         "data": {
          "bar": [
           {
            "error_x": {
             "color": "#2a3f5f"
            },
            "error_y": {
             "color": "#2a3f5f"
            },
            "marker": {
             "line": {
              "color": "#E5ECF6",
              "width": 0.5
             },
             "pattern": {
              "fillmode": "overlay",
              "size": 10,
              "solidity": 0.2
             }
            },
            "type": "bar"
           }
          ],
          "barpolar": [
           {
            "marker": {
             "line": {
              "color": "#E5ECF6",
              "width": 0.5
             },
             "pattern": {
              "fillmode": "overlay",
              "size": 10,
              "solidity": 0.2
             }
            },
            "type": "barpolar"
           }
          ],
          "carpet": [
           {
            "aaxis": {
             "endlinecolor": "#2a3f5f",
             "gridcolor": "white",
             "linecolor": "white",
             "minorgridcolor": "white",
             "startlinecolor": "#2a3f5f"
            },
            "baxis": {
             "endlinecolor": "#2a3f5f",
             "gridcolor": "white",
             "linecolor": "white",
             "minorgridcolor": "white",
             "startlinecolor": "#2a3f5f"
            },
            "type": "carpet"
           }
          ],
          "choropleth": [
           {
            "colorbar": {
             "outlinewidth": 0,
             "ticks": ""
            },
            "type": "choropleth"
           }
          ],
          "contour": [
           {
            "colorbar": {
             "outlinewidth": 0,
             "ticks": ""
            },
            "colorscale": [
             [
              0,
              "#0d0887"
             ],
             [
              0.1111111111111111,
              "#46039f"
             ],
             [
              0.2222222222222222,
              "#7201a8"
             ],
             [
              0.3333333333333333,
              "#9c179e"
             ],
             [
              0.4444444444444444,
              "#bd3786"
             ],
             [
              0.5555555555555556,
              "#d8576b"
             ],
             [
              0.6666666666666666,
              "#ed7953"
             ],
             [
              0.7777777777777778,
              "#fb9f3a"
             ],
             [
              0.8888888888888888,
              "#fdca26"
             ],
             [
              1,
              "#f0f921"
             ]
            ],
            "type": "contour"
           }
          ],
          "contourcarpet": [
           {
            "colorbar": {
             "outlinewidth": 0,
             "ticks": ""
            },
            "type": "contourcarpet"
           }
          ],
          "heatmap": [
           {
            "colorbar": {
             "outlinewidth": 0,
             "ticks": ""
            },
            "colorscale": [
             [
              0,
              "#0d0887"
             ],
             [
              0.1111111111111111,
              "#46039f"
             ],
             [
              0.2222222222222222,
              "#7201a8"
             ],
             [
              0.3333333333333333,
              "#9c179e"
             ],
             [
              0.4444444444444444,
              "#bd3786"
             ],
             [
              0.5555555555555556,
              "#d8576b"
             ],
             [
              0.6666666666666666,
              "#ed7953"
             ],
             [
              0.7777777777777778,
              "#fb9f3a"
             ],
             [
              0.8888888888888888,
              "#fdca26"
             ],
             [
              1,
              "#f0f921"
             ]
            ],
            "type": "heatmap"
           }
          ],
          "heatmapgl": [
           {
            "colorbar": {
             "outlinewidth": 0,
             "ticks": ""
            },
            "colorscale": [
             [
              0,
              "#0d0887"
             ],
             [
              0.1111111111111111,
              "#46039f"
             ],
             [
              0.2222222222222222,
              "#7201a8"
             ],
             [
              0.3333333333333333,
              "#9c179e"
             ],
             [
              0.4444444444444444,
              "#bd3786"
             ],
             [
              0.5555555555555556,
              "#d8576b"
             ],
             [
              0.6666666666666666,
              "#ed7953"
             ],
             [
              0.7777777777777778,
              "#fb9f3a"
             ],
             [
              0.8888888888888888,
              "#fdca26"
             ],
             [
              1,
              "#f0f921"
             ]
            ],
            "type": "heatmapgl"
           }
          ],
          "histogram": [
           {
            "marker": {
             "pattern": {
              "fillmode": "overlay",
              "size": 10,
              "solidity": 0.2
             }
            },
            "type": "histogram"
           }
          ],
          "histogram2d": [
           {
            "colorbar": {
             "outlinewidth": 0,
             "ticks": ""
            },
            "colorscale": [
             [
              0,
              "#0d0887"
             ],
             [
              0.1111111111111111,
              "#46039f"
             ],
             [
              0.2222222222222222,
              "#7201a8"
             ],
             [
              0.3333333333333333,
              "#9c179e"
             ],
             [
              0.4444444444444444,
              "#bd3786"
             ],
             [
              0.5555555555555556,
              "#d8576b"
             ],
             [
              0.6666666666666666,
              "#ed7953"
             ],
             [
              0.7777777777777778,
              "#fb9f3a"
             ],
             [
              0.8888888888888888,
              "#fdca26"
             ],
             [
              1,
              "#f0f921"
             ]
            ],
            "type": "histogram2d"
           }
          ],
          "histogram2dcontour": [
           {
            "colorbar": {
             "outlinewidth": 0,
             "ticks": ""
            },
            "colorscale": [
             [
              0,
              "#0d0887"
             ],
             [
              0.1111111111111111,
              "#46039f"
             ],
             [
              0.2222222222222222,
              "#7201a8"
             ],
             [
              0.3333333333333333,
              "#9c179e"
             ],
             [
              0.4444444444444444,
              "#bd3786"
             ],
             [
              0.5555555555555556,
              "#d8576b"
             ],
             [
              0.6666666666666666,
              "#ed7953"
             ],
             [
              0.7777777777777778,
              "#fb9f3a"
             ],
             [
              0.8888888888888888,
              "#fdca26"
             ],
             [
              1,
              "#f0f921"
             ]
            ],
            "type": "histogram2dcontour"
           }
          ],
          "mesh3d": [
           {
            "colorbar": {
             "outlinewidth": 0,
             "ticks": ""
            },
            "type": "mesh3d"
           }
          ],
          "parcoords": [
           {
            "line": {
             "colorbar": {
              "outlinewidth": 0,
              "ticks": ""
             }
            },
            "type": "parcoords"
           }
          ],
          "pie": [
           {
            "automargin": true,
            "type": "pie"
           }
          ],
          "scatter": [
           {
            "fillpattern": {
             "fillmode": "overlay",
             "size": 10,
             "solidity": 0.2
            },
            "type": "scatter"
           }
          ],
          "scatter3d": [
           {
            "line": {
             "colorbar": {
              "outlinewidth": 0,
              "ticks": ""
             }
            },
            "marker": {
             "colorbar": {
              "outlinewidth": 0,
              "ticks": ""
             }
            },
            "type": "scatter3d"
           }
          ],
          "scattercarpet": [
           {
            "marker": {
             "colorbar": {
              "outlinewidth": 0,
              "ticks": ""
             }
            },
            "type": "scattercarpet"
           }
          ],
          "scattergeo": [
           {
            "marker": {
             "colorbar": {
              "outlinewidth": 0,
              "ticks": ""
             }
            },
            "type": "scattergeo"
           }
          ],
          "scattergl": [
           {
            "marker": {
             "colorbar": {
              "outlinewidth": 0,
              "ticks": ""
             }
            },
            "type": "scattergl"
           }
          ],
          "scattermapbox": [
           {
            "marker": {
             "colorbar": {
              "outlinewidth": 0,
              "ticks": ""
             }
            },
            "type": "scattermapbox"
           }
          ],
          "scatterpolar": [
           {
            "marker": {
             "colorbar": {
              "outlinewidth": 0,
              "ticks": ""
             }
            },
            "type": "scatterpolar"
           }
          ],
          "scatterpolargl": [
           {
            "marker": {
             "colorbar": {
              "outlinewidth": 0,
              "ticks": ""
             }
            },
            "type": "scatterpolargl"
           }
          ],
          "scatterternary": [
           {
            "marker": {
             "colorbar": {
              "outlinewidth": 0,
              "ticks": ""
             }
            },
            "type": "scatterternary"
           }
          ],
          "surface": [
           {
            "colorbar": {
             "outlinewidth": 0,
             "ticks": ""
            },
            "colorscale": [
             [
              0,
              "#0d0887"
             ],
             [
              0.1111111111111111,
              "#46039f"
             ],
             [
              0.2222222222222222,
              "#7201a8"
             ],
             [
              0.3333333333333333,
              "#9c179e"
             ],
             [
              0.4444444444444444,
              "#bd3786"
             ],
             [
              0.5555555555555556,
              "#d8576b"
             ],
             [
              0.6666666666666666,
              "#ed7953"
             ],
             [
              0.7777777777777778,
              "#fb9f3a"
             ],
             [
              0.8888888888888888,
              "#fdca26"
             ],
             [
              1,
              "#f0f921"
             ]
            ],
            "type": "surface"
           }
          ],
          "table": [
           {
            "cells": {
             "fill": {
              "color": "#EBF0F8"
             },
             "line": {
              "color": "white"
             }
            },
            "header": {
             "fill": {
              "color": "#C8D4E3"
             },
             "line": {
              "color": "white"
             }
            },
            "type": "table"
           }
          ]
         },
         "layout": {
          "annotationdefaults": {
           "arrowcolor": "#2a3f5f",
           "arrowhead": 0,
           "arrowwidth": 1
          },
          "autotypenumbers": "strict",
          "coloraxis": {
           "colorbar": {
            "outlinewidth": 0,
            "ticks": ""
           }
          },
          "colorscale": {
           "diverging": [
            [
             0,
             "#8e0152"
            ],
            [
             0.1,
             "#c51b7d"
            ],
            [
             0.2,
             "#de77ae"
            ],
            [
             0.3,
             "#f1b6da"
            ],
            [
             0.4,
             "#fde0ef"
            ],
            [
             0.5,
             "#f7f7f7"
            ],
            [
             0.6,
             "#e6f5d0"
            ],
            [
             0.7,
             "#b8e186"
            ],
            [
             0.8,
             "#7fbc41"
            ],
            [
             0.9,
             "#4d9221"
            ],
            [
             1,
             "#276419"
            ]
           ],
           "sequential": [
            [
             0,
             "#0d0887"
            ],
            [
             0.1111111111111111,
             "#46039f"
            ],
            [
             0.2222222222222222,
             "#7201a8"
            ],
            [
             0.3333333333333333,
             "#9c179e"
            ],
            [
             0.4444444444444444,
             "#bd3786"
            ],
            [
             0.5555555555555556,
             "#d8576b"
            ],
            [
             0.6666666666666666,
             "#ed7953"
            ],
            [
             0.7777777777777778,
             "#fb9f3a"
            ],
            [
             0.8888888888888888,
             "#fdca26"
            ],
            [
             1,
             "#f0f921"
            ]
           ],
           "sequentialminus": [
            [
             0,
             "#0d0887"
            ],
            [
             0.1111111111111111,
             "#46039f"
            ],
            [
             0.2222222222222222,
             "#7201a8"
            ],
            [
             0.3333333333333333,
             "#9c179e"
            ],
            [
             0.4444444444444444,
             "#bd3786"
            ],
            [
             0.5555555555555556,
             "#d8576b"
            ],
            [
             0.6666666666666666,
             "#ed7953"
            ],
            [
             0.7777777777777778,
             "#fb9f3a"
            ],
            [
             0.8888888888888888,
             "#fdca26"
            ],
            [
             1,
             "#f0f921"
            ]
           ]
          },
          "colorway": [
           "#636efa",
           "#EF553B",
           "#00cc96",
           "#ab63fa",
           "#FFA15A",
           "#19d3f3",
           "#FF6692",
           "#B6E880",
           "#FF97FF",
           "#FECB52"
          ],
          "font": {
           "color": "#2a3f5f"
          },
          "geo": {
           "bgcolor": "white",
           "lakecolor": "white",
           "landcolor": "#E5ECF6",
           "showlakes": true,
           "showland": true,
           "subunitcolor": "white"
          },
          "hoverlabel": {
           "align": "left"
          },
          "hovermode": "closest",
          "mapbox": {
           "style": "light"
          },
          "paper_bgcolor": "white",
          "plot_bgcolor": "#E5ECF6",
          "polar": {
           "angularaxis": {
            "gridcolor": "white",
            "linecolor": "white",
            "ticks": ""
           },
           "bgcolor": "#E5ECF6",
           "radialaxis": {
            "gridcolor": "white",
            "linecolor": "white",
            "ticks": ""
           }
          },
          "scene": {
           "xaxis": {
            "backgroundcolor": "#E5ECF6",
            "gridcolor": "white",
            "gridwidth": 2,
            "linecolor": "white",
            "showbackground": true,
            "ticks": "",
            "zerolinecolor": "white"
           },
           "yaxis": {
            "backgroundcolor": "#E5ECF6",
            "gridcolor": "white",
            "gridwidth": 2,
            "linecolor": "white",
            "showbackground": true,
            "ticks": "",
            "zerolinecolor": "white"
           },
           "zaxis": {
            "backgroundcolor": "#E5ECF6",
            "gridcolor": "white",
            "gridwidth": 2,
            "linecolor": "white",
            "showbackground": true,
            "ticks": "",
            "zerolinecolor": "white"
           }
          },
          "shapedefaults": {
           "line": {
            "color": "#2a3f5f"
           }
          },
          "ternary": {
           "aaxis": {
            "gridcolor": "white",
            "linecolor": "white",
            "ticks": ""
           },
           "baxis": {
            "gridcolor": "white",
            "linecolor": "white",
            "ticks": ""
           },
           "bgcolor": "#E5ECF6",
           "caxis": {
            "gridcolor": "white",
            "linecolor": "white",
            "ticks": ""
           }
          },
          "title": {
           "x": 0.05
          },
          "xaxis": {
           "automargin": true,
           "gridcolor": "white",
           "linecolor": "white",
           "ticks": "",
           "title": {
            "standoff": 15
           },
           "zerolinecolor": "white",
           "zerolinewidth": 2
          },
          "yaxis": {
           "automargin": true,
           "gridcolor": "white",
           "linecolor": "white",
           "ticks": "",
           "title": {
            "standoff": 15
           },
           "zerolinecolor": "white",
           "zerolinewidth": 2
          }
         }
        }
       }
      }
     },
     "metadata": {},
     "output_type": "display_data"
    }
   ],
   "source": [
    "import plotly.graph_objs as go\n",
    "\n",
    "import json\n",
    "\n",
    "\n",
    "austria_geojson_path = 'laender_999_geo.json'\n",
    "\n",
    "\n",
    "with open(austria_geojson_path,  'r') as f:\n",
    "    austria_geojson = json.load(f)\n",
    "\n",
    "Impf = graph.run(\"\"\"\n",
    "MATCH (i:Impf_Patient2021)\n",
    "RETURN i.bezirkId, i.zweiteImpfung\n",
    "ORDER BY i.Vollimmuiniserte DESC\n",
    "\"\"\")\n",
    "\n",
    "df = pd.DataFrame([dict(r) for r in Impf], columns=['i.bezirkId', 'i.zweiteImpfung'])\n",
    "\n",
    "df['bundesland'] = df['i.bezirkId'].apply(lambda x: int(str(x)[0]))\n",
    "\n",
    "df['i.zweiteImpfung'] = pd.to_numeric(df['i.zweiteImpfung'])\n",
    "\n",
    "\n",
    "\n",
    "austriamap = [go.Choropleth(\n",
    "    geojson=austria_geojson,  # Verweise auf die GeoJSON-Datei\n",
    "    featureidkey=\"properties.iso\",  # Pfad zum Attribut im GeoJSON Feature, das den Namen des Bundeslandes enthält\n",
    "    locations=df['bundesland'],  # Hier die Namen der Bundesländer\n",
    "    z=df['i.zweiteImpfung'],  # Hier die Anzahl der Befragten\n",
    "    colorscale=\"Blues\",\n",
    "    reversescale=True,\n",
    "    marker=dict(line=dict(width=0.5)),\n",
    "    colorbar=dict(title='Anzahl der Befragten')  # Entferne autotick, da es nicht unterstützt wird\n",
    ")]\n",
    "\n",
    "layout = go.Layout(\n",
    "    title_text=\"Anzahl der Befragten in Österreich nach Bundesländern\",\n",
    "    geo=dict(\n",
    "        scope=\"europe\",  # Begrenzt die Ansicht auf Europa\n",
    "        showlakes=True,\n",
    "        lakecolor=\"rgb(255, 255, 255)\",\n",
    "        center={\"lat\": 47.6965, \"lon\": 13.3457},  # Zentriere die Karte auf Österreich\n",
    "        lataxis={\"range\": [46, 49]},  # Begrenzt den Breitengradbereich\n",
    "        lonaxis={\"range\": [9, 17]},  # Begrenzt den Längengradbereich\n",
    "        countrycolor=\"DarkBlue\",\n",
    "        landcolor=\"LightGreen\",\n",
    "        showcountries=True,\n",
    "        countrywidth=1.0\n",
    "    )\n",
    ")\n",
    "\n",
    "\n",
    "fig = go.Figure(data=austriamap)\n",
    "fig.show()"
   ]
  },
  {
   "cell_type": "markdown",
   "id": "92ce2c2c",
   "metadata": {},
   "source": [
    "Oder mit localhost:7687 kann man neo4j im Browser starten und sich dann mit den Daten anmelden und schauen ob die Verbindung möglich ist."
   ]
  },
  {
   "attachments": {
    "image.png": {
     "image/png": "[encoded data removed]"
    }
   },
   "cell_type": "markdown",
   "id": "77c9f4da",
   "metadata": {},
   "source": [
    "![image.png](attachment:image.png)"
   ]
  },
  {
   "cell_type": "markdown",
   "id": "72026b2a",
   "metadata": {},
   "source": [
    "Die Daten können dann mit hilfe von csv, was vorher importiert wurde, einglesen werden und nachdem die Nodes deklariert wurden, kann der Graph erstellt werden mit py2neo."
   ]
  },
  {
   "cell_type": "markdown",
   "id": "a50fc80e",
   "metadata": {},
   "source": [
    "Um abzufragen wie viele Nodes in Der Tabelle sind, kann diese Query verwendet werden:"
   ]
  },
  {
   "cell_type": "code",
   "execution_count": null,
   "id": "3e253ba5",
   "metadata": {},
   "outputs": [],
   "source": [
    "with driver.session() as session:\n",
    "    result = session.run(\"MATCH (n) RETURN count(n) AS node_count\")\n",
    "    for record in result:\n",
    "        print(record[\"node_count\"])"
   ]
  },
  {
   "cell_type": "markdown",
   "id": "6d055cd2",
   "metadata": {},
   "source": [
    "In Neo4j wird as Sprache \"Cypher\" verwendet. In dieser Sprache sind die Nodes mit () dargestellt und die Edges mit [] dargestellt. Hier werden alle Patienten die Covid gehabt haben ausgegeben:"
   ]
  },
  {
   "cell_type": "code",
   "execution_count": null,
   "id": "87acd633",
   "metadata": {
    "scrolled": true
   },
   "outputs": [],
   "source": [
    "cypher_query = \"\"\"\n",
    "MATCH (i:Impf_Patient)\n",
    "RETURN i.datum AS Year, sum(i.ersteImpfung) AS Vaccinations\n",
    "\"\"\"\n",
    "\n",
    "result = graph.run(cypher_query)\n",
    "\n",
    "# Fetch all records\n",
    "records = result.data()\n",
    "\n",
    "# Print the result\n",
    "for record in records:\n",
    "    print(record)\n"
   ]
  },
  {
   "cell_type": "markdown",
   "id": "ebf452c4",
   "metadata": {},
   "source": [
    "Dies kann auch mit panda dargestellt werden:"
   ]
  },
  {
   "cell_type": "code",
   "execution_count": null,
   "id": "46280681",
   "metadata": {},
   "outputs": [],
   "source": [
    "import pandas as pd\n",
    "\n",
    "# Assuming you have already executed the cypher_query and stored the result in 'result'\n",
    "cypher_query = \"\"\"\n",
    "MATCH (p:Patient) WHERE p.covid='1'\n",
    "RETURN p.kalenderWoche, p.wohnort, p.Geschlecht, p.covid, p.influenza, p.rsv, p.sonstige, p.aufnahmen, p.bev_zahl\n",
    "\n",
    "\"\"\"\n",
    "\n",
    "result = graph.run(cypher_query)\n",
    "\n",
    "# Extract data from result\n",
    "data = [dict(record) for record in result]\n",
    "\n",
    "# Convert the result to a DataFrame\n",
    "df = pd.DataFrame(data)\n",
    "\n",
    "# Print the DataFrame\n",
    "print(df)\n"
   ]
  },
  {
   "cell_type": "markdown",
   "id": "f6b2a1e6",
   "metadata": {},
   "source": [
    "In dem Neo4j Browser kann man auch alle vorhandenen Eigenschaften einer Column sehen. Dies wird erreicht durch das Anklicken des markierten Feldes:"
   ]
  },
  {
   "attachments": {
    "image-2.png": {
     "image/png": "[encoded data removed]"
    }
   },
   "cell_type": "markdown",
   "id": "1b38489c",
   "metadata": {},
   "source": [
    "![image-2.png](attachment:image-2.png)"
   ]
  },
  {
   "cell_type": "markdown",
   "id": "ebae64c0",
   "metadata": {},
   "source": [
    "Danach kann der Container wieder geschlossen werden."
   ]
  },
  {
   "cell_type": "code",
   "execution_count": null,
   "id": "20de9c60",
   "metadata": {},
   "outputs": [],
   "source": [
    "!docker ps"
   ]
  },
  {
   "cell_type": "code",
   "execution_count": null,
   "id": "288858e8",
   "metadata": {
    "scrolled": true
   },
   "outputs": [],
   "source": [
    "!docker-compose down"
   ]
  },
  {
   "cell_type": "code",
   "execution_count": null,
   "id": "b1b84648",
   "metadata": {},
   "outputs": [],
   "source": [
    "!docker-compose -p completx_sql down"
   ]
  },
  {
   "cell_type": "code",
   "execution_count": null,
   "id": "ddf92a46",
   "metadata": {},
   "outputs": [],
   "source": [
    "!docker volume ls"
   ]
  },
  {
   "cell_type": "markdown",
   "id": "12356444",
   "metadata": {},
   "source": [
    "Um ein Volume zu löschen, kann man wieder folgenden Befehl verwenden:"
   ]
  },
  {
   "cell_type": "code",
   "execution_count": null,
   "id": "d11424b9",
   "metadata": {},
   "outputs": [],
   "source": [
    "!docker volume rm completx_sql_neo4j-data"
   ]
  },
  {
   "cell_type": "markdown",
   "id": "25738b15",
   "metadata": {},
   "source": [
    "Anbei ist ein GitHub-Repository zu finden, in dem einige Queries sowie Videos verlinkt sind, die Ihnen helfen können, Cypher und Neo4j besser zu verstehen:\n",
    "https://github.com/cj2001/bite_sized_data_science/tree/main\n",
    "\n",
    "Ebenfalls sind in der Dokumentation von Neo4j viele hilfreiche Hinweise zu finden, zum Beispiel zum Import von CSV-Dateien über Python:\n",
    "https://neo4j.com/docs/getting-started/data-import/csv-import/\n",
    "\n",
    "Zuletzt noch ein Cheatsheet für Cypher: https://neo4j.com/docs/cypher-cheat-sheet/5/auradb-enterprise/"
   ]
  }
 ],
 "metadata": {
  "kernelspec": {
   "display_name": "Python 3 (ipykernel)",
   "language": "python",
   "name": "python3"
  },
  "language_info": {
   "codemirror_mode": {
    "name": "ipython",
    "version": 3
   },
   "file_extension": ".py",
   "mimetype": "text/x-python",
   "name": "python",
   "nbconvert_exporter": "python",
   "pygments_lexer": "ipython3",
   "version": "3.10.6"
  }
 },
 "nbformat": 4,
 "nbformat_minor": 5
}
