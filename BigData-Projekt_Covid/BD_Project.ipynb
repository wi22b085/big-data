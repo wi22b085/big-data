{
 "cells": [
  {
   "cell_type": "markdown",
   "id": "5b612750-cc4e-459e-80a9-c3772d959a03",
   "metadata": {},
   "source": [
    "# Big Data Infrastructure Projekt"
   ]
  },
  {
   "cell_type": "markdown",
   "id": "1f05d111-e3fe-4897-bbb3-c357e45e7598",
   "metadata": {},
   "source": [
    "### GitHub: https://github.com/wi22b085/big-data"
   ]
  },
  {
   "cell_type": "markdown",
   "id": "a6f4e4cc-ce37-48fd-9b23-523a5b99eea7",
   "metadata": {},
   "source": [
    "## Zusammenhang zwischen positiven Covid19-Testungen und Impfungen"
   ]
  },
  {
   "cell_type": "markdown",
   "id": "1349c127-d8bc-4b00-8293-0f80ca154960",
   "metadata": {},
   "source": [
    "In diesem Big Data Infrastructure-Projekt geht es darum  die Anzahl der positiven Testungen sowie die Impfungen in Österreich bzw. in den jeweiligen Bundesländern/Gemeinden zu analysieren, zu visualisieren und miteinander in Zusammenhang zu setzen. \n",
    "\n",
    "In diesem Jupiter-Notebook werden alle relevanten Schritte (sowie Erklärungen dazu) dokumentiert."
   ]
  },
  {
   "cell_type": "markdown",
   "id": "1e719f47-026f-4658-a799-303d8c28aa26",
   "metadata": {},
   "source": [
    "## Neo4J"
   ]
  },
  {
   "cell_type": "markdown",
   "id": "d8be6d4b-d612-4a50-a1c8-21a8aeb03dca",
   "metadata": {},
   "source": [
    "Neo4J ist eine NoSQL-Graph-Database. Sie wurde aus folgenden Gründen für dieses Projekt gewählt:\n",
    "\n",
    "- Flexibilität\n",
    "- ACID-Transaktionen werden unterstützt\n",
    "- Daten sind eng miteinander verbunden\n",
    "- Einfache Darstellung der Daten"
   ]
  },
  {
   "cell_type": "markdown",
   "id": "007e5841-458b-49c1-9dc3-11cb6bab3823",
   "metadata": {},
   "source": [
    "BILD für letzten beiden punkte\n",
    "BILD\n",
    "BILD\n",
    "BILD??????????"
   ]
  },
  {
   "cell_type": "code",
   "execution_count": null,
   "id": "b9f8564a",
   "metadata": {},
   "outputs": [],
   "source": []
  },
  {
   "cell_type": "markdown",
   "id": "e991783f-46e0-4239-979e-c607ff3301dc",
   "metadata": {},
   "source": [
    "# Big Data Criteria"
   ]
  },
  {
   "cell_type": "markdown",
   "id": "9a9760df-ae10-4412-b0c9-c7063cb0d2fb",
   "metadata": {},
   "source": [
    "## 5 V's"
   ]
  },
  {
   "cell_type": "markdown",
   "id": "5700a6fe-da5b-4210-900c-3e845e87e00c",
   "metadata": {},
   "source": [
    "### Volume:"
   ]
  },
  {
   "cell_type": "markdown",
   "id": "13f06361-3bc2-40ec-90a3-516d57eba9ac",
   "metadata": {},
   "source": [
    "- Fallen die Daten in großen Mengen an?"
   ]
  },
  {
   "cell_type": "markdown",
   "id": "705bc35d-b348-4993-9a90-0559b1500e4c",
   "metadata": {},
   "source": [
    "Es ist wichtig anzumerken, dass die Größe der Datenmenge relativ ist. Dennoch fallen in diesem Projekt eindeutig keine großen Datenmengen an. Daher ist dieser Punkt hier wenig Big-Data-relevant. Die Daten wurden zu Übungszwecken in der NoSQL-Graph-Database \"Neo4J\" gespeichert."
   ]
  },
  {
   "cell_type": "markdown",
   "id": "db0de349-12b4-4e61-87a0-1318fffdcef2",
   "metadata": {},
   "source": [
    "Alle genutzten Daten (4 CSV-Files) haben eine gemeinsame Größe von:\n",
    "- ~ 13 000 Datensätzen\n",
    "- ~ 900 KB"
   ]
  },
  {
   "cell_type": "markdown",
   "id": "27edd72f-dad0-4c3f-bd22-6e2f99cd1d9e",
   "metadata": {},
   "source": [
    "### Velocity:"
   ]
  },
  {
   "cell_type": "markdown",
   "id": "3041dabe-af17-4672-8b53-30286209bdc9",
   "metadata": {},
   "source": [
    "- Fallen die Daten in einer großen Geschwindigkeit an?\n",
    "- In welcher Geschwindigkeit werden die Daten verarbeitet?"
   ]
  },
  {
   "cell_type": "markdown",
   "id": "6f58493c-c830-46ff-943f-8667c2ce0df8",
   "metadata": {},
   "source": [
    "Da in diesem Projekt keine neuen Daten anfallen und sie auch nur einmalig verarbeitet werden, ist Velocity hier wenig relevant."
   ]
  },
  {
   "cell_type": "markdown",
   "id": "86e5df0a-e24c-4c9a-92d7-071d410dbf3c",
   "metadata": {},
   "source": [
    "Neo4J speichert die eigentlichen Daten auf der Festplatte. Jedoch lädt Neo4J Daten in den Arbeitsspeicher, um sie schneller verarbeiten zu können. In diesem Projekt wird nur Batch processing angewandt. Die Daten werden batchweise eingelesen, verarbeitet, in die Datenbank geladen und analysiert."
   ]
  },
  {
   "cell_type": "markdown",
   "id": "768ae98a-ef81-4728-a165-fd2ef6d80409",
   "metadata": {},
   "source": [
    "Lese-Zeit für ~ 900 KB:\n",
    "- HDD: ~ 0,009 Sekunden bei 100 MB/s\n",
    "- SSD: ~ 0,002 Sekunden bei 450 MB/s"
   ]
  },
  {
   "cell_type": "markdown",
   "id": "c6c959a1-f40c-4d83-a7a6-37a7fcf1f487",
   "metadata": {},
   "source": [
    "Transfer-Zeit über Netzwertk für ~ 900 KB:\n",
    "- ~ 0,009 Sekunden bei 100 MB/s"
   ]
  },
  {
   "cell_type": "markdown",
   "id": "830d823b-58e8-4747-9814-5edd5c9ba096",
   "metadata": {},
   "source": [
    "### Variety:"
   ]
  },
  {
   "cell_type": "markdown",
   "id": "b1c1d618-62a9-4c6f-8c08-3c05ab2297de",
   "metadata": {},
   "source": [
    "- Fallen die Daten in Großer Vielfalt an (Datentyp, Datenstruktur)?"
   ]
  },
  {
   "cell_type": "markdown",
   "id": "b435d4c5-6955-4132-8e4c-4e47165bef6c",
   "metadata": {},
   "source": [
    "Alle genutzten Daten dieses Projekts sind vom TYP CSV und strukturiert. Daher sind sie auch vollständig und folgen einem klaren Schema. Die Daten könnten daher auch in einer relationalen Datenbank mit Reihen und Spalten gespeichert werden."
   ]
  },
  {
   "cell_type": "markdown",
   "id": "6cb48086-1960-4059-98d6-bc6b447a68cb",
   "metadata": {},
   "source": [
    "### Veracity:"
   ]
  },
  {
   "cell_type": "markdown",
   "id": "2f095133-2e39-4c49-9692-c85cbf9445d4",
   "metadata": {},
   "source": [
    "- Sind die daten von hoher Qualität (Glaubwürdigkeit, Gültigkeit, Wahrhaftigkeit)?"
   ]
  },
  {
   "cell_type": "markdown",
   "id": "248decc8-5f65-44c4-9002-aecff4ba83c9",
   "metadata": {},
   "source": [
    "Alle Daten dieses Projekts stammen aus glaubwürdigen Quellen:\n",
    "- https://info.gesundheitsministerium.at/\n",
    "- https://www.data.gv.at/"
   ]
  },
  {
   "cell_type": "markdown",
   "id": "07015dc2-b7e0-4e95-8b66-6e75c19366dd",
   "metadata": {},
   "source": [
    "Zusätzlich wurden die Daten auf Unstimmigkeiten (Ausreißer, Widersprüche, Fehlende Werte) geprüft. Hierfür wurde manuell vorgegangen und Python-Funktionen der Pandas-Library genutzt. Zusätzlich wurden die Ergebnisse mit anderen Quellen verglichen. Ein weiterer guter Indikator ist, dass die Impfzahlen für einen Ort nie kleiner sind als aus einem vorherigen Jahr. Aus diesen Gründen kann davon ausgegangen werden, dass die Daten von hoher Qualität sind."
   ]
  },
  {
   "cell_type": "markdown",
   "id": "ec2db3a9-1331-46c7-9969-59c23cfb98c7",
   "metadata": {},
   "source": [
    "### Value:"
   ]
  },
  {
   "cell_type": "markdown",
   "id": "0bb25900-d052-41e0-8a29-aae1a802c146",
   "metadata": {},
   "source": [
    "- Haben die Daten einen Mehrwert?"
   ]
  },
  {
   "cell_type": "markdown",
   "id": "2205a040-57f0-4cd5-9449-c16049cf16dc",
   "metadata": {},
   "source": [
    "Die genutzten Daten haben einen großen Mehrwert. Durch ihre Analyse wird ein möglicher Zusammenhang zwischen den positiven Covid19-Testungen und den Impfungen festgestellt. ??????????"
   ]
  },
  {
   "cell_type": "markdown",
   "id": "5feaa612-13e5-42cb-abbf-102182941e70",
   "metadata": {},
   "source": [
    "## 4 Levels of Data Processing"
   ]
  },
  {
   "cell_type": "markdown",
   "id": "a732ded6-2eb7-4a55-b338-cec06a249fc8",
   "metadata": {},
   "source": [
    "### Data Sources (Data Source Layer):"
   ]
  },
  {
   "cell_type": "markdown",
   "id": "e0771187-fa5a-4904-84cb-687723906dac",
   "metadata": {},
   "source": [
    "Für dieses Projekt sind keine Tools zur Datengewinnung notwendig. Die Daten wurden einmalig aus Quellen des Internets lokal abgespeichert."
   ]
  },
  {
   "cell_type": "markdown",
   "id": "f150695b-db31-4dc6-829f-dbee4e918d37",
   "metadata": {},
   "source": [
    "Daten:\n",
    "- Typ: Strukturiert\n",
    "- Velocity und Volume: Die Daten fallen einamlig in geringer Menge an\n",
    "- Externe Datenquelle: https://info.gesundheitsministerium.at/ und https://www.data.gv.at/\n",
    "- Daten-Typ: CSV"
   ]
  },
  {
   "cell_type": "markdown",
   "id": "d617d2d3-2581-4006-a778-c773578f5efa",
   "metadata": {},
   "source": [
    "### Data Messaging and Store Layer (Data Storage Layer):"
   ]
  },
  {
   "cell_type": "markdown",
   "id": "21c683bc-05b3-4f17-916b-c7428cdb5662",
   "metadata": {},
   "source": [
    "Die Daten wurden über Docker in der NoSQL-Graph-Database \"Neo4J\" gespeichert. ??????????????\n",
    "ETL (Extract, Transform, Load): In diesem Ansatz werden Daten zuerst aus einer oder mehreren Quellen extrahiert, dann transformiert oder umgewandelt, um sie an die Anforderungen des Zielsystems anzupassen, und schließlich in das Zielsystem geladen.\n",
    "ELT (Extract, Load, Transform): Im ELT-Ansatz werden Daten zuerst extrahiert und dann direkt in das Zielsystem geladen. Die Transformation oder Umwandlung findet dann innerhalb des Zielsystems statt."
   ]
  },
  {
   "cell_type": "markdown",
   "id": "2ffd8528-0711-4f04-ab68-bc34bee10f9a",
   "metadata": {},
   "source": [
    "CAP:\n",
    "- Consistency: Neo4J bietet ACID-Transaktionen\n",
    "- Availability: Noe4J bietet Mechanismen für teilweisen Systemausfall\n",
    "- Partition Tolerance: Wenig relevant, da die Datenbank nur auf einem System ist"
   ]
  },
  {
   "cell_type": "markdown",
   "id": "41244927-403b-46df-b040-1038fb20350f",
   "metadata": {},
   "source": [
    "### Analysis Layer (Processing Layer):"
   ]
  },
  {
   "cell_type": "markdown",
   "id": "17dd7d17-8929-4b3c-adfd-f07450bb649b",
   "metadata": {},
   "source": [
    "Die Daten wurden mit verschiedenen Pandas Funktionen analysiert. Zudem wurde eine MapReduce-Calculation durchgeführt. Hiefür wurde ausschließlich Python genutzt. ???????????"
   ]
  },
  {
   "cell_type": "markdown",
   "id": "17d3a3a2-636e-4716-957f-a795cf4d3b61",
   "metadata": {},
   "source": [
    "### Consumption Layer (Data Output Layer):"
   ]
  },
  {
   "cell_type": "markdown",
   "id": "f6450644-a41c-45c7-a5a4-61ba1143ab0f",
   "metadata": {},
   "source": [
    "Die Ergebnisse der Analyse und deren Value wurden mithilfe von Visualisierungen dargestellt. Hierzu wurden die Python-Libraries \"Matplotlib\" und \"Seaborn\" verwendet. ??????????"
   ]
  },
  {
   "cell_type": "markdown",
   "id": "a524986c-39bd-45db-bdec-83f04ef2d54f",
   "metadata": {},
   "source": [
    "Folgende Diagrammtypen wurden eingesetzt:\n",
    "- Barplots\n",
    "- Histogramme\n",
    "- Kreisdiagramme\n",
    "- Boxplots                    ???????????????\n",
    "- Streudiagramme\n",
    "- Choroplethenkarten"
   ]
  },
  {
   "cell_type": "markdown",
   "id": "882a3ac0-2d53-45c9-90e7-feb73d895293",
   "metadata": {},
   "source": [
    "Es wurden außerdem die Datenbank-Visualisierungen von Neo4J genutzt."
   ]
  },
  {
   "cell_type": "markdown",
   "id": "59c91f8a-b18e-484f-b592-83e95e2908fa",
   "metadata": {},
   "source": [
    "Zielgruppe der Visualisierungen:\n",
    "- Fachkolleg*innen"
   ]
  },
  {
   "cell_type": "markdown",
   "id": "9312efbf-b6a4-4488-b1cf-f25f83b37a1d",
   "metadata": {},
   "source": [
    "In diesem Projekt mussten keine ?????? Ergebnisse zurück ins System gespeist werden. Kein Ergebnis ist von einem anderen Ergebnis abhängig."
   ]
  },
  {
   "cell_type": "markdown",
   "id": "4c7582d7-04f5-4e4b-a98d-49e92a3977ed",
   "metadata": {},
   "source": [
    "# Data Source and Storage"
   ]
  },
  {
   "cell_type": "markdown",
   "id": "9dba0a13",
   "metadata": {},
   "source": [
    "Zuerst wird ein Docker Container erstellt. Dieser enthällt einen Container, ein neo4j Image, auf welches durch die Ports 7474 und 7687 zugegriffen wird, sowie auch ein Volume und die Verbindung mit neo4j mit Username und Passwort."
   ]
  },
  {
   "cell_type": "code",
   "execution_count": 4,
   "id": "44d92447",
   "metadata": {},
   "outputs": [
    {
     "name": "stderr",
     "output_type": "stream",
     "text": [
      " Network completx_sql_default  Creating\n",
      " Network completx_sql_default  Created\n",
      " Volume \"completx_sql_neo4j-data\"  Creating\n",
      " Volume \"completx_sql_neo4j-data\"  Created\n",
      " Container neo4j-container  Creating\n",
      " Container neo4j-container  Created\n",
      " Container neo4j-container  Starting\n",
      " Container neo4j-container  Started\n"
     ]
    }
   ],
   "source": [
    "!docker-compose -p completx_sql up -d"
   ]
  },
  {
   "cell_type": "markdown",
   "id": "d5df03f2",
   "metadata": {},
   "source": [
    "Um Neo4j zu verwenden, müssen Sie es und seinen Python-Treiber installieren. Darüber hinaus erleichtert die Installation der Bibliothek py2neo die Verbindungen und Interaktionen mit der Neo4j-Datenbank."
   ]
  },
  {
   "cell_type": "code",
   "execution_count": 5,
   "id": "6d7b0f8d",
   "metadata": {},
   "outputs": [
    {
     "name": "stdout",
     "output_type": "stream",
     "text": [
      "Requirement already satisfied: neo4j in c:\\users\\matthias jenewein\\appdata\\local\\programs\\python\\python310\\lib\\site-packages (5.19.0)\n",
      "Requirement already satisfied: pytz in c:\\users\\matthias jenewein\\appdata\\local\\programs\\python\\python310\\lib\\site-packages (from neo4j) (2022.7.1)\n",
      "Note: you may need to restart the kernel to use updated packages.\n"
     ]
    },
    {
     "name": "stderr",
     "output_type": "stream",
     "text": [
      "\n",
      "[notice] A new release of pip is available: 23.3.2 -> 24.0\n",
      "[notice] To update, run: python.exe -m pip install --upgrade pip\n"
     ]
    }
   ],
   "source": [
    "pip install neo4j"
   ]
  },
  {
   "cell_type": "code",
   "execution_count": 6,
   "id": "12af5d82",
   "metadata": {},
   "outputs": [
    {
     "name": "stdout",
     "output_type": "stream",
     "text": [
      "Requirement already satisfied: py2neo in c:\\users\\matthias jenewein\\appdata\\local\\programs\\python\\python310\\lib\\site-packages (2021.2.4)\n",
      "Requirement already satisfied: certifi in c:\\users\\matthias jenewein\\appdata\\local\\programs\\python\\python310\\lib\\site-packages (from py2neo) (2024.2.2)\n",
      "Requirement already satisfied: interchange~=2021.0.4 in c:\\users\\matthias jenewein\\appdata\\local\\programs\\python\\python310\\lib\\site-packages (from py2neo) (2021.0.4)\n",
      "Requirement already satisfied: monotonic in c:\\users\\matthias jenewein\\appdata\\local\\programs\\python\\python310\\lib\\site-packages (from py2neo) (1.6)\n",
      "Requirement already satisfied: packaging in c:\\users\\matthias jenewein\\appdata\\local\\programs\\python\\python310\\lib\\site-packages (from py2neo) (23.0)\n",
      "Requirement already satisfied: pansi>=2020.7.3 in c:\\users\\matthias jenewein\\appdata\\local\\programs\\python\\python310\\lib\\site-packages (from py2neo) (2020.7.3)\n",
      "Requirement already satisfied: pygments>=2.0.0 in c:\\users\\matthias jenewein\\appdata\\roaming\\python\\python310\\site-packages (from py2neo) (2.17.2)\n",
      "Requirement already satisfied: six>=1.15.0 in c:\\users\\matthias jenewein\\appdata\\local\\programs\\python\\python310\\lib\\site-packages (from py2neo) (1.16.0)\n",
      "Requirement already satisfied: urllib3 in c:\\users\\matthias jenewein\\appdata\\local\\programs\\python\\python310\\lib\\site-packages (from py2neo) (2.2.1)\n",
      "Requirement already satisfied: pytz in c:\\users\\matthias jenewein\\appdata\\local\\programs\\python\\python310\\lib\\site-packages (from interchange~=2021.0.4->py2neo) (2022.7.1)\n",
      "Note: you may need to restart the kernel to use updated packages.\n"
     ]
    },
    {
     "name": "stderr",
     "output_type": "stream",
     "text": [
      "\n",
      "[notice] A new release of pip is available: 23.3.2 -> 24.0\n",
      "[notice] To update, run: python.exe -m pip install --upgrade pip\n"
     ]
    }
   ],
   "source": [
    "pip install py2neo"
   ]
  },
  {
   "cell_type": "code",
   "execution_count": 7,
   "id": "97a391c1",
   "metadata": {},
   "outputs": [
    {
     "name": "stdout",
     "output_type": "stream",
     "text": [
      "Requirement already satisfied: requests in c:\\users\\matthias jenewein\\appdata\\local\\programs\\python\\python310\\lib\\site-packages (2.31.0)Note: you may need to restart the kernel to use updated packages.\n",
      "\n",
      "Requirement already satisfied: charset-normalizer<4,>=2 in c:\\users\\matthias jenewein\\appdata\\local\\programs\\python\\python310\\lib\\site-packages (from requests) (3.3.2)\n",
      "Requirement already satisfied: idna<4,>=2.5 in c:\\users\\matthias jenewein\\appdata\\local\\programs\\python\\python310\\lib\\site-packages (from requests) (3.3)\n",
      "Requirement already satisfied: urllib3<3,>=1.21.1 in c:\\users\\matthias jenewein\\appdata\\local\\programs\\python\\python310\\lib\\site-packages (from requests) (2.2.1)\n",
      "Requirement already satisfied: certifi>=2017.4.17 in c:\\users\\matthias jenewein\\appdata\\local\\programs\\python\\python310\\lib\\site-packages (from requests) (2024.2.2)\n"
     ]
    },
    {
     "name": "stderr",
     "output_type": "stream",
     "text": [
      "\n",
      "[notice] A new release of pip is available: 23.3.2 -> 24.0\n",
      "[notice] To update, run: python.exe -m pip install --upgrade pip\n"
     ]
    }
   ],
   "source": [
    "pip install requests"
   ]
  },
  {
   "cell_type": "code",
   "execution_count": 8,
   "id": "4e04a173",
   "metadata": {},
   "outputs": [
    {
     "name": "stdout",
     "output_type": "stream",
     "text": [
      "Requirement already satisfied: matplotlib in c:\\users\\matthias jenewein\\appdata\\local\\programs\\python\\python310\\lib\\site-packages (3.7.0)\n",
      "Requirement already satisfied: contourpy>=1.0.1 in c:\\users\\matthias jenewein\\appdata\\local\\programs\\python\\python310\\lib\\site-packages (from matplotlib) (1.0.7)\n",
      "Requirement already satisfied: cycler>=0.10 in c:\\users\\matthias jenewein\\appdata\\local\\programs\\python\\python310\\lib\\site-packages (from matplotlib) (0.11.0)\n",
      "Requirement already satisfied: fonttools>=4.22.0 in c:\\users\\matthias jenewein\\appdata\\local\\programs\\python\\python310\\lib\\site-packages (from matplotlib) (4.38.0)\n",
      "Requirement already satisfied: kiwisolver>=1.0.1 in c:\\users\\matthias jenewein\\appdata\\local\\programs\\python\\python310\\lib\\site-packages (from matplotlib) (1.4.4)\n",
      "Requirement already satisfied: numpy>=1.20 in c:\\users\\matthias jenewein\\appdata\\local\\programs\\python\\python310\\lib\\site-packages (from matplotlib) (1.24.2)\n",
      "Requirement already satisfied: packaging>=20.0 in c:\\users\\matthias jenewein\\appdata\\local\\programs\\python\\python310\\lib\\site-packages (from matplotlib) (23.0)\n",
      "Requirement already satisfied: pillow>=6.2.0 in c:\\users\\matthias jenewein\\appdata\\local\\programs\\python\\python310\\lib\\site-packages (from matplotlib) (9.4.0)\n",
      "Requirement already satisfied: pyparsing>=2.3.1 in c:\\users\\matthias jenewein\\appdata\\local\\programs\\python\\python310\\lib\\site-packages (from matplotlib) (3.0.9)\n",
      "Requirement already satisfied: python-dateutil>=2.7 in c:\\users\\matthias jenewein\\appdata\\local\\programs\\python\\python310\\lib\\site-packages (from matplotlib) (2.8.2)\n",
      "Requirement already satisfied: six>=1.5 in c:\\users\\matthias jenewein\\appdata\\local\\programs\\python\\python310\\lib\\site-packages (from python-dateutil>=2.7->matplotlib) (1.16.0)\n",
      "Note: you may need to restart the kernel to use updated packages.\n"
     ]
    },
    {
     "name": "stderr",
     "output_type": "stream",
     "text": [
      "\n",
      "[notice] A new release of pip is available: 23.3.2 -> 24.0\n",
      "[notice] To update, run: python.exe -m pip install --upgrade pip\n"
     ]
    }
   ],
   "source": [
    "pip install matplotlib"
   ]
  },
  {
   "cell_type": "code",
   "execution_count": 9,
   "id": "56e2238e",
   "metadata": {},
   "outputs": [
    {
     "name": "stdout",
     "output_type": "stream",
     "text": [
      "Requirement already satisfied: plotly in c:\\users\\matthias jenewein\\appdata\\local\\programs\\python\\python310\\lib\\site-packages (5.21.0)\n",
      "Requirement already satisfied: tenacity>=6.2.0 in c:\\users\\matthias jenewein\\appdata\\local\\programs\\python\\python310\\lib\\site-packages (from plotly) (8.2.3)\n",
      "Requirement already satisfied: packaging in c:\\users\\matthias jenewein\\appdata\\local\\programs\\python\\python310\\lib\\site-packages (from plotly) (23.0)\n",
      "Note: you may need to restart the kernel to use updated packages.\n"
     ]
    },
    {
     "name": "stderr",
     "output_type": "stream",
     "text": [
      "\n",
      "[notice] A new release of pip is available: 23.3.2 -> 24.0\n",
      "[notice] To update, run: python.exe -m pip install --upgrade pip\n"
     ]
    }
   ],
   "source": [
    "pip install plotly"
   ]
  },
  {
   "cell_type": "code",
   "execution_count": 10,
   "id": "2473336c",
   "metadata": {},
   "outputs": [
    {
     "name": "stdout",
     "output_type": "stream",
     "text": [
      "Note: you may need to restart the kernel to use updated packages.\n"
     ]
    },
    {
     "name": "stderr",
     "output_type": "stream",
     "text": [
      "\n",
      "[notice] A new release of pip is available: 23.3.2 -> 24.0\n",
      "[notice] To update, run: python.exe -m pip install --upgrade pip\n"
     ]
    }
   ],
   "source": [
    "pip install nbformat>=4.20"
   ]
  },
  {
   "cell_type": "markdown",
   "id": "06ed6610-7712-4c27-b43e-3a0138564d82",
   "metadata": {},
   "source": [
    "Die folgende Python-Version wurde genutzt:"
   ]
  },
  {
   "cell_type": "code",
   "execution_count": 11,
   "id": "7757a535-61c7-4c86-bce6-a9cac1228c9b",
   "metadata": {},
   "outputs": [
    {
     "name": "stdout",
     "output_type": "stream",
     "text": [
      "3.10.6 (tags/v3.10.6:9c7b4bd, Aug  1 2022, 21:53:49) [MSC v.1932 64 bit (AMD64)]\n"
     ]
    }
   ],
   "source": [
    "import sys\n",
    "print(sys.version)"
   ]
  },
  {
   "cell_type": "code",
   "execution_count": null,
   "id": "6c133c49-74c9-4894-aa15-ffb27eb14d7e",
   "metadata": {},
   "outputs": [],
   "source": [
    "Um die restlichen Komponenten aufzulisten wurde die Library \"pkg_resouces\" genutzt:"
   ]
  },
  {
   "cell_type": "code",
   "execution_count": 12,
   "id": "661e086f-e8d3-4901-8214-e68e3fd3189a",
   "metadata": {},
   "outputs": [
    {
     "name": "stdout",
     "output_type": "stream",
     "text": [
      "pywin32 306\n",
      "pyzmq 25.1.2\n",
      "ipython 8.22.2\n",
      "jupyter-client 8.6.0\n",
      "ipykernel 6.29.3\n",
      "tornado 6.4\n",
      "traitlets 5.14.1\n",
      "psutil 5.9.8\n",
      "jupyter-core 5.7.1\n",
      "decorator 5.1.1\n",
      "platformdirs 4.2.0\n",
      "prompt-toolkit 3.0.43\n",
      "pygments 2.17.2\n",
      "asttokens 2.4.1\n",
      "executing 2.0.1\n",
      "debugpy 1.8.1\n",
      "nest-asyncio 1.6.0\n",
      "exceptiongroup 1.2.0\n",
      "jedi 0.19.1\n",
      "parso 0.8.3\n",
      "stack-data 0.6.3\n",
      "colorama 0.4.6\n",
      "wcwidth 0.2.13\n",
      "pure-eval 0.2.2\n",
      "comm 0.2.1\n",
      "matplotlib-inline 0.1.6\n",
      "certifi 2024.2.2\n",
      "jsonschema-specifications 2023.12.1\n",
      "pytz 2022.7.1\n",
      "youtube-dl 2021.12.17\n",
      "py2neo 2021.2.4\n",
      "interchange 2021.0.4\n",
      "pansi 2020.7.3\n",
      "setuptools 63.2.0\n",
      "pip 23.3.2\n",
      "attrs 23.2.0\n",
      "packaging 23.0\n",
      "Pillow 9.4.0\n",
      "mysql-connector-python 8.3.0\n",
      "tenacity 8.2.3\n",
      "multidict 6.0.2\n",
      "plotly 5.21.0\n",
      "neo4j 5.19.0\n",
      "nbformat 5.10.4\n",
      "fonttools 4.38.0\n",
      "jsonschema 4.21.1\n",
      "typing-extensions 4.3.0\n",
      "chardet 4.0.0\n",
      "aiohttp 3.7.4.post0\n",
      "matplotlib 3.7.0\n",
      "charset-normalizer 3.3.2\n",
      "idna 3.3\n",
      "pyparsing 3.0.9\n",
      "async-timeout 3.0.1\n",
      "requests 2.31.0\n",
      "pycparser 2.21\n",
      "fastjsonschema 2.19.1\n",
      "psycopg2 2.9.9\n",
      "python-dateutil 2.8.2\n",
      "urllib3 2.2.1\n",
      "numpy 1.24.2\n",
      "six 1.16.0\n",
      "cffi 1.15.1\n",
      "yarl 1.8.1\n",
      "discord 1.7.3\n",
      "discord.py 1.7.3\n",
      "monotonic 1.6\n",
      "pandas 1.5.3\n",
      "kiwisolver 1.4.4\n",
      "ffmpeg 1.4\n",
      "PyNaCl 1.4.0\n",
      "contourpy 1.0.7\n",
      "referencing 0.34.0\n",
      "rpds-py 0.18.0\n",
      "cycler 0.11.0\n"
     ]
    }
   ],
   "source": [
    "import pkg_resources\n",
    "for d in pkg_resources.working_set:\n",
    "    print(d.project_name, d.version)"
   ]
  },
  {
   "cell_type": "markdown",
   "id": "1af430fa",
   "metadata": {},
   "source": [
    "Pandas, CSV, Requests und verschiedene Modules von Py2Neo werden importiert:"
   ]
  },
  {
   "cell_type": "code",
   "execution_count": 13,
   "id": "2bc33061",
   "metadata": {},
   "outputs": [],
   "source": [
    "from py2neo import Graph, Node, Relationship\n",
    "import csv\n",
    "import pandas as pd\n",
    "import requests"
   ]
  },
  {
   "cell_type": "markdown",
   "id": "4521dfc7",
   "metadata": {},
   "source": [
    "Die benötigten CSV-Dateien werden mithilfe von pdf.read_csv eingelesen.\n",
    "Ingesamt gibt es vier CSV-Dateien. Drei davon enthalten Informationen über die Impfungen für die Jahre 2021, 2022 und 2023. Die vierte Datei gibt Information über die Testungen pro Bundesland in den Jahren 2021 bis Ende 2022.  "
   ]
  },
  {
   "cell_type": "code",
   "execution_count": 14,
   "id": "bb18dd18",
   "metadata": {},
   "outputs": [],
   "source": [
    "faelle = pd.read_csv('timeline-faelle-bundeslaender.csv',delimiter=';')\n",
    "vaccines_2021_cumulated = pd.read_csv('impfungen_2021.csv',delimiter=';')\n",
    "vaccines_2022_cumulated = pd.read_csv('impfungen_2022.csv',delimiter=';')\n",
    "vaccines_2023_cumulated = pd.read_csv('impfungen_2023.csv',delimiter=';')"
   ]
  },
  {
   "cell_type": "markdown",
   "id": "4d6b05bf",
   "metadata": {},
   "source": [
    "Im folgenden ein paar allgemeine Informationen über Struktur und Inhalt der CSV-Dateien."
   ]
  },
  {
   "cell_type": "markdown",
   "id": "0062d0fc-07d8-4f47-9fd5-e7aee885ec9b",
   "metadata": {},
   "source": [
    "Alle genutzten CSV-Files verfügen über folgende Metadaten:\n",
    "- Spaltenüberschriften\n",
    "- Dateiformat\n",
    "- Dateiname\n",
    "- Dateigröße\n",
    "- Erstellungsdatum\n",
    "- Letzte Änderungsdatum\n",
    "- Semikolons als Trennzeichen"
   ]
  },
  {
   "cell_type": "code",
   "execution_count": null,
   "id": "8f3fbfa7",
   "metadata": {},
   "outputs": [],
   "source": [
    "faelle.head()"
   ]
  },
  {
   "cell_type": "code",
   "execution_count": null,
   "id": "2167d150",
   "metadata": {},
   "outputs": [],
   "source": [
    "faelle.tail()"
   ]
  },
  {
   "cell_type": "code",
   "execution_count": null,
   "id": "e77e4913",
   "metadata": {},
   "outputs": [],
   "source": [
    "vaccines_2021_cumulated.head()"
   ]
  },
  {
   "cell_type": "code",
   "execution_count": null,
   "id": "de210a29",
   "metadata": {},
   "outputs": [],
   "source": [
    "vaccines_2022_cumulated.head()"
   ]
  },
  {
   "cell_type": "code",
   "execution_count": null,
   "id": "04c46eb4",
   "metadata": {},
   "outputs": [],
   "source": [
    "vaccines_2023_cumulated.head()"
   ]
  },
  {
   "cell_type": "code",
   "execution_count": null,
   "id": "5daa92de",
   "metadata": {},
   "outputs": [],
   "source": [
    "vaccines_2021_cumulated.tail()"
   ]
  },
  {
   "cell_type": "code",
   "execution_count": null,
   "id": "0710fc4a",
   "metadata": {},
   "outputs": [],
   "source": [
    "vaccines_2022_cumulated.tail()"
   ]
  },
  {
   "cell_type": "code",
   "execution_count": null,
   "id": "e24f5340",
   "metadata": {},
   "outputs": [],
   "source": [
    "vaccines_2023_cumulated.tail()"
   ]
  },
  {
   "cell_type": "code",
   "execution_count": null,
   "id": "6e8de93e",
   "metadata": {},
   "outputs": [],
   "source": [
    "faelle.shape"
   ]
  },
  {
   "cell_type": "code",
   "execution_count": null,
   "id": "d64d9940",
   "metadata": {},
   "outputs": [],
   "source": [
    "vaccines_2021_cumulated.shape"
   ]
  },
  {
   "cell_type": "code",
   "execution_count": null,
   "id": "a6f00254",
   "metadata": {},
   "outputs": [],
   "source": [
    "vaccines_2022_cumulated.shape"
   ]
  },
  {
   "cell_type": "code",
   "execution_count": null,
   "id": "93dde0cf",
   "metadata": {},
   "outputs": [],
   "source": [
    "vaccines_2023_cumulated.shape"
   ]
  },
  {
   "cell_type": "markdown",
   "id": "b2aa0a38",
   "metadata": {},
   "source": [
    "Wie unten ersichtlich, besteht der Datensatz aus einem Datum, welches mit Uhrzeit angegeben ist, der BundeslandID, dem Namen des jeweiligen Bundesland sowie der Anzahl der durchgeführten Coronatests. Diese werden dann wieder aufgeteilt in PCR- und Antigentests."
   ]
  },
  {
   "cell_type": "code",
   "execution_count": null,
   "id": "4ad711f8",
   "metadata": {},
   "outputs": [],
   "source": [
    "faelle.columns.tolist()"
   ]
  },
  {
   "cell_type": "markdown",
   "id": "86208e6b",
   "metadata": {},
   "source": [
    "Der Impfungsdatensatz besteht, wie durch die Form ersichtlich ist, aus 8 Spalten. Diese beinhalten, wie oben erwähnt, das Datum mit Uhrzeit, die ID des Bezirks (diese sind nach der ersten Zahl auch dem jeweiligen Bundesland zuordenbar), den Namen des Bezirks, die Bevölkerung und dann die Anzahl der Personen, die die jeweilige Impfungsanzahl erhalten haben."
   ]
  },
  {
   "cell_type": "code",
   "execution_count": null,
   "id": "07f42474",
   "metadata": {},
   "outputs": [],
   "source": [
    "vaccines_2022_cumulated.columns.tolist()"
   ]
  },
  {
   "cell_type": "markdown",
   "id": "16196153",
   "metadata": {},
   "source": [
    "Es wird noch überprüft, ob einige Datensätze unvollständig sind oder fehlende Werte aufweisen."
   ]
  },
  {
   "cell_type": "code",
   "execution_count": null,
   "id": "b85d0a25",
   "metadata": {},
   "outputs": [],
   "source": [
    "faelle.isnull().sum()"
   ]
  },
  {
   "cell_type": "code",
   "execution_count": null,
   "id": "3be959d9",
   "metadata": {
    "scrolled": true
   },
   "outputs": [],
   "source": [
    "vaccines_2021_cumulated.isnull().sum()"
   ]
  },
  {
   "cell_type": "code",
   "execution_count": null,
   "id": "09633024",
   "metadata": {},
   "outputs": [],
   "source": [
    "vaccines_2022_cumulated.isnull().sum()"
   ]
  },
  {
   "cell_type": "code",
   "execution_count": null,
   "id": "2bea5a91",
   "metadata": {},
   "outputs": [],
   "source": [
    "vaccines_2023_cumulated.isnull().sum()"
   ]
  },
  {
   "cell_type": "markdown",
   "id": "5120696e",
   "metadata": {},
   "source": [
    "In diesem Fall sind alle Datensätze vollständig. Abschließend werden noch die allgemeinen Eigenschaften des Datensatzes angezeigt:"
   ]
  },
  {
   "cell_type": "code",
   "execution_count": null,
   "id": "b536e310",
   "metadata": {
    "scrolled": true
   },
   "outputs": [],
   "source": [
    "faelle.info()"
   ]
  },
  {
   "cell_type": "code",
   "execution_count": null,
   "id": "dc9f8550",
   "metadata": {},
   "outputs": [],
   "source": [
    "vaccines_2023_cumulated.info()"
   ]
  },
  {
   "cell_type": "markdown",
   "id": "72a13ed2",
   "metadata": {},
   "source": [
    "* Es ist ein DataFrame.\n",
    "* Es gibt 6600 Einträge, d.h. 6600 Zeilen.\n",
    "* Jede Zeile hat eine Zeilenbeschriftung (auch bekannt als index) mit Werten von 0 bis 6599.\n",
    "* Die Tabelle hat 6 Spalten. Alle Spalten haben einen Wert für jede der Zeilen (alle 6600 Werte sind non-null).\n",
    "* Die Spalten Datum und Name bestehen aus Textdaten (Strings, auch bekannt als object). Die anderen Spalten sind numerische Daten, von denen alle ganze Zahlen (aka integer) sind.\n",
    "* Die Art der Daten (Zeichen, Ganzzahlen,…) in den verschiedenen Spalten werden durch Auflisten der dtypes dargestellt.\n",
    "* Die ungefähre Menge an RAM, die zum Halten des DataFrame verwendet wird, wird ebenfalls angegeben. Das ist in dem Fall ~310 kb"
   ]
  },
  {
   "cell_type": "code",
   "execution_count": null,
   "id": "96971c44",
   "metadata": {},
   "outputs": [],
   "source": [
    "# vaccines.info()"
   ]
  },
  {
   "cell_type": "markdown",
   "id": "4cb1ccc4",
   "metadata": {},
   "source": [
    "* Es ist ein DataFrame.\n",
    "* Es gibt 2115 Einträge, d.h. 2115 Zeilen.\n",
    "* Jede Zeile hat eine Zeilenbeschriftung (auch bekannt als index) mit Werten von 0 bis 2114.\n",
    "* Die Tabelle hat 8 Spalten. Alle Spalten haben einen Wert für jede der Zeilen (alle 6600 Werte sind non-null).\n",
    "* Die Spalten Date und Bezirks-name bestehen aus Textdaten (Strings, auch bekannt als object). Die anderen Spalten sind numerische Daten, von denen alle ganze Zahlen (aka integer) sind.\n",
    "* Die Art der Daten (Zeichen, Ganzzahlen,…) in den verschiedenen Spalten werden durch Auflisten der dtypes dargestellt.\n",
    "* Die ungefähre Menge an RAM, die zum Halten des DataFrame verwendet wird, wird ebenfalls angegeben. Das ist in dem Fall ~133 kb"
   ]
  },
  {
   "cell_type": "code",
   "execution_count": 15,
   "id": "7b7ace02",
   "metadata": {},
   "outputs": [],
   "source": [
    "from neo4j import GraphDatabase\n",
    "\n",
    "uri = \"neo4j://localhost:7687\"\n",
    "username = \"neo4j\"\n",
    "password = \"aveQho9yf6tx29vgW3kv\"\n",
    "\n",
    "graph = Graph(uri, auth=(username, password))\n",
    "driver=GraphDatabase.driver(uri, auth=(username, password))\n"
   ]
  },
  {
   "cell_type": "code",
   "execution_count": 16,
   "id": "632cf6d5",
   "metadata": {
    "scrolled": true
   },
   "outputs": [
    {
     "name": "stdout",
     "output_type": "stream",
     "text": [
      "Website is accessible.\n"
     ]
    }
   ],
   "source": [
    "url = \"http://localhost:7474/browser/\"\n",
    "response = requests.get(url)\n",
    "\n",
    "if response.status_code == 200:\n",
    "    print(\"Website is accessible.\")\n",
    "else:\n",
    "    print(\"Failed to access website.\")\n",
    "\n"
   ]
  },
  {
   "cell_type": "markdown",
   "id": "ade97f9f",
   "metadata": {},
   "source": [
    "Im Folgenden werden die vier CSV-Dateien in die Datenbank eingespeichert."
   ]
  },
  {
   "cell_type": "code",
   "execution_count": 17,
   "id": "e6e0db64",
   "metadata": {},
   "outputs": [],
   "source": [
    "with open('impfungen_2023.csv', 'r') as csvfile:\n",
    "    csvreader = csv.DictReader(csvfile, delimiter=';')\n",
    "    \n",
    "    for row in csvreader:\n",
    "            stripped_row = {key.replace('ï»¿', ''): value for key, value in row.items()}\n",
    "            # Create a Node for each row in the CSV file\n",
    "            impfPatient_node = Node(\"Impf_Patient\",\n",
    "                                    datum=row['date'],\n",
    "                                    bezirkId=row['municipality_id'],\n",
    "                                    bezirksName=row['municipality_name'],\n",
    "                                    ersteImpfung=int(stripped_row['vaccination_1']),\n",
    "                                    zweiteImpfung=int(stripped_row['vaccination_2']),\n",
    "                                    dritteImpfung=int(stripped_row['vaccination_3']),\n",
    "                                    mehrAls3=int(stripped_row['vaccination_4+']))\n",
    "            \n",
    "            # Add the Node to the graph\n",
    "            graph.create(impfPatient_node)"
   ]
  },
  {
   "cell_type": "code",
   "execution_count": 18,
   "id": "7d466d39",
   "metadata": {},
   "outputs": [],
   "source": [
    "with open('impfungen_2021.csv', 'r') as csvfile:\n",
    "    csvreader = csv.DictReader(csvfile, delimiter=';')\n",
    "    \n",
    "    for row in csvreader:\n",
    "            stripped_row = {key.replace('ï»¿', ''): value for key, value in row.items()}\n",
    "            # Create a Node for each row in the CSV file\n",
    "            impfPatient_node = Node(\"Impf_Patient\",\n",
    "                                    datum=stripped_row['Datum'],\n",
    "                                    bezirkId=row['Gemeindecode'],\n",
    "                                    population=row['Einwohner'],\n",
    "                                    ersteImpfung=int(stripped_row['Teilgeimpfte']),\n",
    "                                    zweiteImpfung=int(stripped_row['Vollimmunisierte']))\n",
    "            \n",
    "            # Add the Node to the graph\n",
    "            graph.create(impfPatient_node)"
   ]
  },
  {
   "cell_type": "code",
   "execution_count": 19,
   "id": "58517b98",
   "metadata": {},
   "outputs": [],
   "source": [
    "with open('impfungen_2022.csv', 'r') as csvfile:\n",
    "    csvreader = csv.DictReader(csvfile, delimiter=';')\n",
    "    \n",
    "    for row in csvreader:\n",
    "            stripped_row = {key.replace('ï»¿', ''): value for key, value in row.items()}\n",
    "            # Create a Node for each row in the CSV file\n",
    "            impfPatient_node = Node(\"Impf_Patient\",\n",
    "                                    datum=stripped_row['date'],\n",
    "                                    bezirkId=row['municipality_id'],\n",
    "                                    bezirksName=row['municipality_name'],\n",
    "                                    ersteImpfung=int(stripped_row['dose_1']),\n",
    "                                    zweiteImpfung=int(stripped_row['dose_2']),\n",
    "                                    dritteImpfung=int(stripped_row['dose_3']),\n",
    "                                    vierteImpfung=int(stripped_row['dose_4']),\n",
    "                                    mehrAlsVier=int(stripped_row['dose_5+']))\n",
    "            \n",
    "            # Add the Node to the graph\n",
    "            graph.create(impfPatient_node)"
   ]
  },
  {
   "cell_type": "code",
   "execution_count": 25,
   "id": "bbba3af5",
   "metadata": {},
   "outputs": [],
   "source": [
    "with open('timeline-faelle-bundeslaender.csv', 'r') as csvfile:\n",
    "    csvreader = csv.DictReader(csvfile, delimiter=';')\n",
    "    \n",
    "    for row in csvreader:\n",
    "            stripped_row = {key.replace('ï»¿', ''): value for key, value in row.items()}\n",
    "            tests_value = stripped_row['Testungen']\n",
    "            tests_value = int(tests_value) if tests_value.isdigit() else None\n",
    "            # Create a Node for each row in the CSV file\n",
    "            tests_node = Node(\"Tests\",\n",
    "                                datum=stripped_row['Datum'],\n",
    "                                BundeslandID=row['BundeslandID'],\n",
    "                                BundeslandName=row['Name'],\n",
    "                                Tests=int(tests_value),\n",
    "                                PCR=row['TestungenPCR'],\n",
    "                                Antigen=row['TestungenAntigen'],\n",
    "                                fällePositiv = int(stripped_row.get('Fälle', '0'))\n",
    "                               )\n",
    "            \n",
    "            # Add the Node to the graph\n",
    "            graph.create(tests_node)"
   ]
  },
  {
   "cell_type": "code",
   "execution_count": 22,
   "id": "fc79d5b3",
   "metadata": {},
   "outputs": [],
   "source": [
    "def create_relationships_with_limit(graph, node1_label, node2_label, relationship_type, limit):\n",
    "    # Query that matches nodes, creates a limited number of relationships, and ensures no duplicate relationships\n",
    "    query = f\"\"\"\n",
    "    MATCH (n1:{node1_label}), (n2:{node2_label})\n",
    "    WHERE n1.datum = n2.datum AND NOT EXISTS((n1)-[:{relationship_type}]->(n2))\n",
    "    WITH n1, n2 LIMIT {limit}\n",
    "    CREATE (n1)-[r:{relationship_type}]->(n2)\n",
    "    RETURN count(r) as created_count\n",
    "    \"\"\"\n",
    "    # Running the query\n",
    "    result = graph.run(query).single().value()\n",
    "    print(f\"{result} relationships created\")\n",
    "    return result"
   ]
  },
  {
   "cell_type": "code",
   "execution_count": null,
   "id": "3a483d4c",
   "metadata": {},
   "outputs": [],
   "source": [
    "query = f\"\"\"\n",
    "\n",
    "MATCH (t:Tests), (i:Impf_Patient)\n",
    "WHERE t.datum = i.datum\n",
    "WITH t, i LIMIT 100000 \n",
    "CREATE (t)-[r:RELATIONSHIP_TYPE]->(i)\n",
    "RETURN count(r)\n",
    "\n",
    "MATCH (t:Tests)-[r:RELATIONSHIP_TYPE]->(i:Impf_Patient)\n",
    "RETURN t, r, i LIMIT 25\n",
    "\"\"\""
   ]
  },
  {
   "cell_type": "markdown",
   "id": "18e34b84",
   "metadata": {},
   "source": [
    "Um eine Verbindung zur Datenbank herzustellen, muss eine URL eingeben, über die die Verbindung hergestellt wird, sowie Authentifizierungsdaten, bestehend aus Benutzername und Passwort. Mit py2neo kann dann die Verbindung mithilfe von Graph hergestellt werden. Dies ist auch mit GraphDatabase von Neo4J möglich."
   ]
  },
  {
   "cell_type": "markdown",
   "id": "aba1f8bc",
   "metadata": {},
   "source": [
    "Um zu überprüfen, ob die Seite aktiv ist, kann diese Funktion verwendet werden:"
   ]
  },
  {
   "cell_type": "markdown",
   "id": "c709be5e-e48e-4a0b-a03e-f25f662b385a",
   "metadata": {},
   "source": [
    "# Visualizations"
   ]
  },
  {
   "cell_type": "code",
   "execution_count": null,
   "id": "a81e7f03",
   "metadata": {},
   "outputs": [],
   "source": [
    "import matplotlib.pyplot as plt\n",
    "import pandas as pd\n",
    "from neo4j import GraphDatabase\n",
    "import numpy as np  # Import numpy for array operations\n",
    "\n",
    "# Run Cypher query\n",
    "result = graph.run(\"\"\"\n",
    "MATCH (t:Tests) where t.BundeslandName <> 'Österreich'AND t.BundeslandName <> 'Ã–sterreich'\n",
    "RETURN t.BundeslandName, t.Tests\n",
    "ORDER BY t.Tests DESC\n",
    "\"\"\")\n",
    "\n",
    "# Convert result to DataFrame\n",
    "df = pd.DataFrame([r.values() for r in result], columns=result.keys())\n",
    "\n",
    "# Replace None values with np.nan (NaN) or a default value\n",
    "df['t.BundeslandName'].replace({None: 'Unknown'}, inplace=True)\n",
    "df['t.Tests'].replace({None: 0}, inplace=True)  # Replace with 0 or np.nan based on your preference\n",
    "\n",
    "# Convert 't.Tests' column to numeric (in case it's not already)\n",
    "df['t.Tests'] = pd.to_numeric(df['t.Tests'])\n",
    "\n",
    "# Create bar chart\n",
    "plt.figure(figsize=(10, 6))\n",
    "plt.bar(df['t.BundeslandName'], df['t.Tests'])\n",
    "plt.xlabel('State')\n",
    "plt.ylabel('Number of Tests')\n",
    "plt.title('Number of Tests')\n",
    "plt.xticks(rotation=45)\n",
    "plt.tight_layout()\n",
    "plt.show()\n"
   ]
  },
  {
   "cell_type": "code",
   "execution_count": null,
   "id": "ff37ee50",
   "metadata": {},
   "outputs": [],
   "source": [
    "cypher_query = \"\"\"\n",
    "MATCH (n)\n",
    "RETURN n.datum AS Year, sum(n.Tests) AS tests, sum(n.ersteImpfung) AS Vaccinations\n",
    "ORDER BY Year\n",
    "\"\"\"\n",
    "\n",
    "with driver.session() as session:\n",
    "    result = session.run(cypher_query)\n",
    "    df = pd.DataFrame([dict(record) for record in result])\n",
    "\n",
    "# Create subplots\n",
    "fig, (ax1, ax2) = plt.subplots(1, 2, figsize=(16, 6))\n",
    "\n",
    "# Diagram for Tests\n",
    "ax1.bar(df['Year'], df['tests'], color='b', edgecolor='black', label='tests')\n",
    "ax1.set_xlabel(\"Year\")\n",
    "ax1.set_ylabel(\"Count\")\n",
    "ax1.set_title(\"Number of people tested each year\")\n",
    "ax1.set_xticks(df['Year'])\n",
    "ax1.legend()\n",
    "\n",
    "# Diagram for Vaccinations\n",
    "ax2.bar(df['Year'], df['Vaccinations'], color='g', edgecolor='black', label='Vaccinations')\n",
    "ax2.set_xlabel(\"Year\")\n",
    "ax2.set_ylabel(\"Count\")\n",
    "ax2.set_title(\"Number of people vaccinated each year\")\n",
    "ax2.set_xticks(df['Year'])\n",
    "ax2.legend()\n",
    "\n",
    "# Adjust layout\n",
    "plt.tight_layout()\n",
    "\n",
    "# Show plots\n",
    "plt.show()"
   ]
  },
  {
   "cell_type": "code",
   "execution_count": null,
   "id": "bb9b698f",
   "metadata": {},
   "outputs": [],
   "source": [
    "cypher_query = \"\"\"\n",
    "MATCH (t:Tests)\n",
    "WHERE t.BundeslandName <> 'Österreich' AND t.BundeslandName <> 'Ã–sterreich'\n",
    "RETURN t.BundeslandName, sum(t.Tests) as Tests\n",
    "\"\"\"\n",
    "\n",
    "result = graph.run(cypher_query)\n",
    "\n",
    "# Convert result to DataFrame\n",
    "df = pd.DataFrame([dict(r) for r in result], columns=['t.BundeslandName', 'Tests'])\n",
    "\n",
    "# Replace None values with 'Unknown' for BundeslandName and 0 for Tests\n",
    "df['t.BundeslandName'].replace({None: 'Unknown'}, inplace=True)\n",
    "df['Tests'].replace({None: 0}, inplace=True)\n",
    "\n",
    "# Convert 'Tests' column to numeric (in case it's not already)\n",
    "df['Tests'] = pd.to_numeric(df['Tests'], errors='coerce')\n",
    "\n",
    "# Remove rows with non-finite 'Tests' values\n",
    "df = df[np.isfinite(df['Tests'])]\n",
    "\n",
    "# Create pie chart\n",
    "plt.figure(figsize=(10, 6))\n",
    "plt.pie(df['Tests'], labels=df['t.BundeslandName'], autopct='%1.1f%%')\n",
    "plt.title('Distribution of Tests by State')\n",
    "plt.tight_layout()\n",
    "plt.show()\n",
    "\n"
   ]
  },
  {
   "cell_type": "code",
   "execution_count": null,
   "id": "92159632",
   "metadata": {},
   "outputs": [],
   "source": [
    "print(df.columns)"
   ]
  },
  {
   "cell_type": "code",
   "execution_count": null,
   "id": "d0c88699",
   "metadata": {},
   "outputs": [],
   "source": [
    "# Cypher query to retrieve vaccination data\n",
    "cypher_query = \"\"\"\n",
    "MATCH (i:Impf_Patient)\n",
    "RETURN i.BundeslandName AS BundeslandName, i.datum AS Year, sum(i.ersteImpfung+i.zweiteImpfung) AS Vaccinations\n",
    "ORDER BY Year\n",
    "\"\"\"\n",
    "\n",
    "with driver.session() as session:\n",
    "    result = session.run(cypher_query)\n",
    "    df = pd.DataFrame([dict(record) for record in result])\n",
    "\n",
    "# Pivot the DataFrame to have Years as columns\n",
    "df_pivot = df.pivot(index='BundeslandName', columns='Year', values='Vaccinations')\n",
    "\n",
    "# Plotting\n",
    "plt.figure(figsize=(12, 6))\n",
    "df_pivot.plot(kind='line', marker='o')\n",
    "plt.title('Change in Vaccinations Over Years by State')\n",
    "plt.xlabel('State')\n",
    "plt.ylabel('Number of Vaccinations')\n",
    "plt.grid(True)\n",
    "plt.tight_layout()\n",
    "plt.show()\n",
    "\n"
   ]
  },
  {
   "cell_type": "code",
   "execution_count": null,
   "id": "bc2d57ee",
   "metadata": {},
   "outputs": [],
   "source": [
    "cypher_query = \"\"\"\n",
    "MATCH (i:Impf_Patient)\n",
    "RETURN i.datum AS Year,i.bezirkId AS opt,sum(i.ersteImpfung) as Vaccinations\n",
    "\"\"\"\n",
    "\n",
    "with driver.session() as session:\n",
    "    result = session.run(cypher_query)\n",
    "    df = pd.DataFrame([dict(record) for record in result])\n",
    "\n",
    "\n",
    "\n",
    "# Pivot the DataFrame to have Years as columns\n",
    "df_pivot = df.pivot(index='opt', columns='Year', values='Vaccinations')\n",
    "\n",
    "# Plotting\n",
    "plt.figure(figsize=(12, 6))\n",
    "df_pivot.plot(kind='bar', figsize=(12, 6), stacked=True)\n",
    "plt.title('Total Vaccinations Over Years by District')\n",
    "plt.xlabel('District (bezirk)')\n",
    "plt.ylabel('Number of Vaccinations')\n",
    "plt.legend(title='Year')\n",
    "plt.tight_layout()\n",
    "plt.show()"
   ]
  },
  {
   "cell_type": "code",
   "execution_count": null,
   "id": "4e63e300",
   "metadata": {},
   "outputs": [],
   "source": [
    "# Define the Cypher query\n",
    "cypher_query = \"\"\"\n",
    "MATCH (n:nodes)\n",
    "RETURN n.datum AS Year, sum(n.ersteImpfung) as Vaccinations\n",
    "\"\"\"\n",
    "\n",
    "# Execute the Cypher query\n",
    "with driver.session() as session:\n",
    "    result = session.run(cypher_query)\n",
    "    df = pd.DataFrame([dict(record) for record in result])\n",
    "\n",
    "# Convert the result to pandas DataFrame\n",
    "df = pd.DataFrame(result)\n",
    "\n",
    "# Pivot the DataFrame to have Years as columns\n",
    "df_pivot = df.pivot(columns='Year', values='Vaccinations')\n",
    "\n",
    "# Plotting\n",
    "plt.figure(figsize=(10, 6))\n",
    "\n",
    "# Define bar positions and widths\n",
    "bar_width = 0.35\n",
    "r1 = range(len(df_pivot))\n",
    "r2 = [x + bar_width for x in r1]\n",
    "\n",
    "# Create bars\n",
    "plt.bar(r1, df_pivot.iloc[:, 0], width=bar_width, label='Vaccinations')\n",
    "\n",
    "# Add labels, title, and legend\n",
    "plt.xlabel('Year', fontweight='bold')\n",
    "plt.ylabel('Count', fontweight='bold')\n",
    "plt.title('Vaccinations Per Year from Neo4j')\n",
    "plt.xticks([r + bar_width/2 for r in range(len(df_pivot.columns))], df_pivot.columns)\n",
    "plt.legend()\n",
    "\n",
    "# Show plot\n",
    "plt.tight_layout()\n",
    "plt.show()\n"
   ]
  },
  {
   "cell_type": "code",
   "execution_count": null,
   "id": "b5b12c93-88bd-4068-88ee-58144f422915",
   "metadata": {},
   "outputs": [],
   "source": [
    "# Cypher-Abfrage definieren\n",
    "cypher_query = \"\"\"\n",
    "MATCH (i:Impf_Patient)\n",
    "RETURN i.datum AS Year, i.bezirkId AS opt,\n",
    "       CASE WHEN i.datum CONTAINS '2021' THEN sum(i.ersteImpfung) + sum(i.zweiteImpfung)\n",
    "            WHEN i.datum CONTAINS '2022' THEN sum(i.ersteImpfung) + sum(i.zweiteImpfung) + sum(i.dritteImpfung) + sum(i.vierteImpfung) + sum(i.mehrAlsVier)\n",
    "            WHEN i.datum CONTAINS '2024' THEN sum(i.ersteImpfung) + sum(i.zweiteImpfung) + sum(i.dritteImpfung) + sum(i.mehrAls3)\n",
    "       END as Vaccinations\n",
    "\"\"\"\n",
    "\n",
    "# Ergebnisse aus der Datenbank abrufen\n",
    "with driver.session() as session:\n",
    "    result = session.run(cypher_query)\n",
    "    df = pd.DataFrame([dict(record) for record in result])\n",
    "\n",
    "# Bundesland aus der Bezirks-ID extrahieren\n",
    "df['bundesland'] = df['opt'].apply(lambda x: int(str(x)[0]))\n",
    "\n",
    "# DataFrame pivotieren, um Jahre als Spalten zu haben\n",
    "df_pivot = df.pivot_table(index='bundesland', columns='Year', values='Vaccinations', aggfunc='sum')\n",
    "\n",
    "# Plot erstellen\n",
    "fig, ax = plt.subplots(figsize=(12, 6))\n",
    "\n",
    "colors = ['#1f77b4', '#ff7f0e', '#2ca02c']  # Farben für Jahre\n",
    "\n",
    "bar_width = 0.2\n",
    "for i, year in enumerate(df_pivot.columns):\n",
    "    x = df_pivot.index + i * bar_width  # x-Koordinaten für Balken\n",
    "    ax.bar(x, df_pivot[year], width=bar_width, label=year, color=colors[i % len(colors)])\n",
    "\n",
    "ax.set_title('Gesamtimpfungen über Jahre nach Bundesland')\n",
    "ax.set_xlabel('Bundesland')\n",
    "ax.set_ylabel('Anzahl der Impfungen')\n",
    "ax.set_xticks(df_pivot.index + (len(df_pivot.columns) - 1) * bar_width / 2)\n",
    "ax.set_xticklabels(['Burgenland', 'Kärnten', 'Niederösterreich', 'Oberösterreich',\n",
    "                    'Salzburg', 'Steiermark', 'Tirol', 'Vorarlberg', 'Wien'])\n",
    "ax.legend(title='Jahr')\n",
    "plt.tight_layout()\n",
    "plt.show()\n"
   ]
  },
  {
   "cell_type": "code",
   "execution_count": null,
   "id": "da8e9949",
   "metadata": {},
   "outputs": [],
   "source": [
    "import plotly.graph_objs as go\n",
    "import pandas as pd\n",
    "import json\n",
    "\n",
    "\n",
    "austria_geojson_path = 'laender_999_geo.json'\n",
    "\n",
    "\n",
    "with open(austria_geojson_path) as f:\n",
    "    austria_geojson = json.load(f)\n",
    "\n",
    "\n",
    "bundeslander = ['Wien', 'Niederoesterreich', 'Oberoesterreich', 'Steiermark', 'Kaernten', \n",
    "                'Salzburg', 'Tirol', 'Vorarlberg', 'Burgenland']\n",
    "\n",
    "\n",
    "anzahl_befragte = [100, 200, 150, 250, 80, 90, 120, 60, 30]\n",
    "\n",
    "austriamap = go.Choropleth(\n",
    "    geojson=austria_geojson,  # Verweise auf die GeoJSON-Datei\n",
    "    featureidkey=\"properties.name\",  # Pfad zum Attribut im GeoJSON Feature, das den Namen des Bundeslandes enthält\n",
    "    locations=bundeslander,  # Namen der Bundesländer aus deiner Liste\n",
    "    z=anzahl_befragte,  # Numerische Werte, die du darstellen möchtest\n",
    "    colorscale=\"Blues\",\n",
    "    reversescale=True,\n",
    "    marker_line_width=0.5,\n",
    "    colorbar_title=\"Anzahl der Befragten\"\n",
    ")\n",
    "\n",
    "layout = go.Layout(\n",
    "    title_text=\"Anzahl der Befragten in Österreich nach Bundesländern\",\n",
    "    geo=dict(\n",
    "        scope=\"europe\",  # Begrenzt die Ansicht auf Europa\n",
    "        showlakes=True,\n",
    "        lakecolor=\"rgb(255, 255, 255)\",\n",
    "        center={\"lat\": 47.6965, \"lon\": 13.3457},  # Zentriere die Karte auf Österreich\n",
    "        lataxis={\"range\": [46, 49]},  # Begrenzt den Breitengradbereich\n",
    "        lonaxis={\"range\": [9, 17]},  # Begrenzt den Längengradbereich\n",
    "        countrycolor=\"DarkBlue\",\n",
    "        landcolor=\"White\",\n",
    "        showcountries=True,\n",
    "        countrywidth=1.0\n",
    "    )\n",
    ")\n",
    "\n",
    "fig = go.Figure(data=austriamap, layout=layout)\n",
    "fig.show()"
   ]
  },
  {
   "cell_type": "code",
   "execution_count": null,
   "id": "10cced98",
   "metadata": {},
   "outputs": [],
   "source": [
    "import plotly.graph_objs as go\n",
    "import pandas as pd\n",
    "import json\n",
    "\n",
    "\n",
    "with open('laender_999_geo.json', 'r') as f:\n",
    "    austria_geojson = json.load(f)\n",
    "\n",
    "Impf = graph.run(\"\"\"\n",
    "MATCH (i:Impf_Patient)\n",
    "WHERE i.datum STARTS WITH '2021'\n",
    "WITH i, substring(i.bezirkId, 0, 1) AS bundeslandId\n",
    "RETURN bundeslandId AS bezirkId, sum(i.zweiteImpfung) AS TotalImpfungen\n",
    "ORDER BY TotalImpfungen DESC\n",
    "\n",
    "\"\"\")\n",
    "\n",
    "\n",
    "df = pd.DataFrame([dict(r) for r in Impf], columns=['bezirkId', 'TotalImpfungen'])\n",
    "\n",
    "\n",
    "df['TotalImpfungen'] = pd.to_numeric(df['TotalImpfungen'])\n",
    "\n",
    "# Create Choropleth Map\n",
    "austriamap = [go.Choropleth(\n",
    "    geojson=austria_geojson,  # Reference to your GeoJSON file\n",
    "    featureidkey=\"properties.iso\",  # Path to the 'iso' property in the GeoJSON that matches 'bezirkId'\n",
    "    locations=df['bezirkId'],  # Names of the regions (make sure these match the GeoJSON)\n",
    "    z=df['TotalImpfungen'],  # Data to be mapped\n",
    "    colorscale=\"Blues\",\n",
    "    marker_line_width=0.5,\n",
    "    colorbar_title=\"Anzahl der Geimpften\"\n",
    ")]\n",
    "\n",
    "layout = go.Layout(\n",
    "    title_text=\"Anzahl der Geimpften 2021 in Österreich nach Bundesländern\",\n",
    "    geo=dict(\n",
    "        scope=\"europe\",\n",
    "        showcountries=True,\n",
    "        showlakes=True,\n",
    "        lakecolor=\"rgb(255, 255, 255)\",\n",
    "        countrycolor=\"DarkBlue\"\n",
    "    )\n",
    ")\n",
    "\n",
    "fig = go.Figure(data=austriamap, layout=layout)\n",
    "fig.show()\n"
   ]
  },
  {
   "cell_type": "code",
   "execution_count": null,
   "id": "e5a08a6a",
   "metadata": {},
   "outputs": [],
   "source": [
    "import plotly.graph_objs as go\n",
    "import pandas as pd\n",
    "import json\n",
    "\n",
    "\n",
    "with open('laender_999_geo.json', 'r') as f:\n",
    "    austria_geojson = json.load(f)\n",
    "\n",
    "Impf = graph.run(\"\"\"\n",
    "MATCH (i:Impf_Patient)\n",
    "WHERE i.datum STARTS WITH '2022'\n",
    "WITH i, substring(i.bezirkId, 0, 1) AS bundeslandId\n",
    "RETURN bundeslandId AS bezirkId, sum(i.zweiteImpfung) AS TotalImpfungen\n",
    "ORDER BY TotalImpfungen DESC\n",
    "\"\"\")\n",
    "\n",
    "\n",
    "df = pd.DataFrame([dict(r) for r in Impf], columns=['bezirkId', 'TotalImpfungen'])\n",
    "\n",
    "\n",
    "df['TotalImpfungen'] = pd.to_numeric(df['TotalImpfungen'])\n",
    "\n",
    "# Create Choropleth Map\n",
    "austriamap = [go.Choropleth(\n",
    "    geojson=austria_geojson,  # Reference to your GeoJSON file\n",
    "    featureidkey=\"properties.iso\",  # Path to the 'iso' property in the GeoJSON that matches 'bezirkId'\n",
    "    locations=df['bezirkId'],  # Names of the regions (make sure these match the GeoJSON)\n",
    "    z=df['TotalImpfungen'],  # Data to be mapped\n",
    "    colorscale=\"Blues\",\n",
    "    marker_line_width=0.5,\n",
    "    colorbar_title=\"Anzahl der Geimpften\"\n",
    ")]\n",
    "\n",
    "layout = go.Layout(\n",
    "    title_text=\"Anzahl der Geimpften 2022 in Österreich nach Bundesländern\",\n",
    "    geo=dict(\n",
    "        scope=\"europe\",\n",
    "        showcountries=True,\n",
    "        showlakes=True,\n",
    "        lakecolor=\"rgb(255, 255, 255)\",\n",
    "        countrycolor=\"DarkBlue\"\n",
    "    )\n",
    ")\n",
    "\n",
    "fig = go.Figure(data=austriamap, layout=layout)\n",
    "fig.show()\n"
   ]
  },
  {
   "cell_type": "code",
   "execution_count": null,
   "id": "87acee10",
   "metadata": {},
   "outputs": [],
   "source": [
    "import plotly.graph_objs as go\n",
    "import pandas as pd\n",
    "import json\n",
    "\n",
    "\n",
    "with open('laender_999_geo.json', 'r') as f:\n",
    "    austria_geojson = json.load(f)\n",
    "\n",
    "Impf = graph.run(\"\"\"\n",
    "MATCH (i:Impf_Patient)\n",
    "WHERE i.datum STARTS WITH '2023'\n",
    "WITH i, substring(i.bezirkId, 0, 1) AS bundeslandId\n",
    "RETURN bundeslandId AS bezirkId, sum(i.zweiteImpfung) AS TotalImpfungen\n",
    "ORDER BY TotalImpfungen DESC\n",
    "\n",
    "\"\"\")\n",
    "\n",
    "\n",
    "df = pd.DataFrame([dict(r) for r in Impf], columns=['bezirkId', 'TotalImpfungen'])\n",
    "\n",
    "\n",
    "df['TotalImpfungen'] = pd.to_numeric(df['TotalImpfungen'])\n",
    "\n",
    "# Create Choropleth Map\n",
    "austriamap = [go.Choropleth(\n",
    "    geojson=austria_geojson,  # Reference to your GeoJSON file\n",
    "    featureidkey=\"properties.iso\",  # Path to the 'iso' property in the GeoJSON that matches 'bezirkId'\n",
    "    locations=df['bezirkId'],  # Names of the regions (make sure these match the GeoJSON)\n",
    "    z=df['TotalImpfungen'],  # Data to be mapped\n",
    "    colorscale=\"Blues\",\n",
    "    marker_line_width=0.5,\n",
    "    colorbar_title=\"Anzahl der Geimpften\"\n",
    ")]\n",
    "\n",
    "layout = go.Layout(\n",
    "    title_text=\"Anzahl der Geimpften 2023 in Österreich nach Bundesländern\",\n",
    "    geo=dict(\n",
    "        scope=\"europe\",\n",
    "        showcountries=True,\n",
    "        showlakes=True,\n",
    "        lakecolor=\"rgb(255, 255, 255)\",\n",
    "        countrycolor=\"DarkBlue\"\n",
    "    )\n",
    ")\n",
    "\n",
    "fig = go.Figure(data=austriamap, layout=layout)\n",
    "fig.show()\n"
   ]
  },
  {
   "cell_type": "code",
   "execution_count": null,
   "id": "456b9502",
   "metadata": {},
   "outputs": [],
   "source": [
    "Test = graph.run(\"\"\"\n",
    "MATCH (t:Tests)\n",
    "WHERE t.BundeslandName <> 'Österreich' AND t.BundeslandName <> 'Ã–sterreich'\n",
    "WITH t.BundeslandID as BundeslandID, toInteger(t.Tests) as TotalTestungen, t.BundeslandName as Name\n",
    "ORDER BY t.datum DESC\n",
    "RETURN BundeslandID, Name, TotalTestungen\n",
    "LIMIT 9\n",
    "\"\"\")\n",
    "\n",
    "for record in Test:\n",
    "    print(record)"
   ]
  },
  {
   "cell_type": "code",
   "execution_count": null,
   "id": "a535aef1",
   "metadata": {},
   "outputs": [],
   "source": [
    "import plotly.graph_objs as go\n",
    "import pandas as pd\n",
    "import json\n",
    "\n",
    "\n",
    "with open('laender_999_geo.json', 'r') as f:\n",
    "    austria_geojson = json.load(f)\n",
    "\n",
    "\n",
    "Test = graph.run(\"\"\"\n",
    "MATCH (t:Tests)\n",
    "WHERE t.BundeslandName <> 'Österreich' AND t.BundeslandName <> 'Ã–sterreich'\n",
    "WITH t.BundeslandID as BundeslandID, toInteger(t.fällePositiv) as TotalCases, t.BundeslandName as Name\n",
    "ORDER BY t.datum DESC\n",
    "RETURN BundeslandID, Name, TotalTestungen\n",
    "LIMIT 9\n",
    "\"\"\")\n",
    "\n",
    "df = pd.DataFrame([dict(r) for r in Test], columns=['BundeslandID', 'TotalCases'])\n",
    "\n",
    "austriamap = [go.Choropleth(\n",
    "    geojson=austria_geojson,  \n",
    "    featureidkey=\"properties.iso\",  \n",
    "    locations=df['BundeslandID'],  \n",
    "    z=df['TotalCases'],  \n",
    "    colorscale=\"Blues\",\n",
    "    marker_line_width=0.5,\n",
    "    colorbar_title=\"Anzahl der positiven Fälle\"\n",
    ")]\n",
    "\n",
    "layout = go.Layout(\n",
    "    title_text=\"Anzahl der positiven Fälle in Österreich nach Bundesländern\",\n",
    "    geo=dict(\n",
    "        scope=\"europe\",\n",
    "        showcountries=True,\n",
    "        showlakes=True,\n",
    "        lataxis={\"range\": [46, 49]},  # Begrenzt den Breitengradbereich\n",
    "        lonaxis={\"range\": [9, 17]},\n",
    "        lakecolor=\"rgb(255, 255, 255)\",\n",
    "        countrycolor=\"DarkBlue\"\n",
    "    )\n",
    ")\n",
    "\n",
    "fig = go.Figure(data=austriamap, layout=layout)\n",
    "fig.show()"
   ]
  },
  {
   "cell_type": "code",
   "execution_count": null,
   "id": "867b6143",
   "metadata": {},
   "outputs": [],
   "source": [
    "cypher_query = \"\"\"\n",
    "MATCH (i:Impf_Patient)\n",
    "WITH i, substring(i.bezirkId, 0, 1) AS bundeslandId\n",
    "RETURN  bundeslandId AS bezirkId, i.datum AS Year, sum(i.ersteImpfung) AS Vaccinations\n",
    "ORDER BY bezirkId, Year\n",
    "\"\"\"\n",
    "\n",
    "with driver.session() as session:\n",
    "    result = session.run(cypher_query)\n",
    "    df = pd.DataFrame([dict(record) for record in result])\n",
    "\n",
    "# Print DataFrame columns to verify\n",
    "print(df.columns)\n",
    "\n",
    "# Pivot the DataFrame to have Years as columns\n",
    "df_pivot = df.pivot(index='bezirkId', columns='Year', values='Vaccinations')\n",
    "\n",
    "# Plotting\n",
    "plt.figure(figsize=(12, 6))\n",
    "df_pivot.plot(kind='bar', figsize=(12, 6), stacked=True)\n",
    "plt.title('Total Vaccinations Over Years by District')\n",
    "plt.xlabel('District (bezirk)')\n",
    "plt.ylabel('Number of Vaccinations')\n",
    "plt.legend(title='Year')\n",
    "plt.tight_layout()\n",
    "plt.show()"
   ]
  },
  {
   "cell_type": "code",
   "execution_count": null,
   "id": "4e2f961e",
   "metadata": {},
   "outputs": [],
   "source": [
    "cypher_query = \"\"\"\n",
    "MATCH (i:Impf_Patient)\n",
    "WITH i, substring(i.bezirkId, 0, 1) AS bundeslandId\n",
    "RETURN  bundeslandId AS bezirkId, i.datum AS Year, sum(i.ersteImpfung) AS Vaccinations\n",
    "ORDER BY bezirkId, Year\n",
    "\"\"\"\n",
    "\n",
    "with driver.session() as session:\n",
    "    result = session.run(cypher_query)\n",
    "    df = pd.DataFrame([dict(record) for record in result])\n",
    "\n",
    "# Print DataFrame columns to verify\n",
    "print(df.columns)\n",
    "\n",
    "bundeslaender = np.array([\n",
    "    \"Burgenland\",\n",
    "    \"Kärnten\",\n",
    "    \"Niederösterreich\",\n",
    "    \"Oberösterreich\",\n",
    "    \"Salzburg\",\n",
    "    \"Steiermark\",\n",
    "    \"Tirol\",\n",
    "    \"Vorarlberg\",\n",
    "    \"Wien\"\n",
    "])\n",
    "\n",
    "# Pivot the DataFrame to have Years as columns\n",
    "df_pivot = df.pivot(index='bezirkId', columns='Year', values='Vaccinations')\n",
    "\n",
    "# Plotting\n",
    "plt.figure(figsize=(12, 6))\n",
    "ax = df_pivot.plot(kind='bar', figsize=(12, 6), stacked=True)\n",
    "\n",
    "# Set x-ticks and labels\n",
    "ax.set_xticks(np.arange(len(bundeslaender)))\n",
    "ax.set_xticklabels(bundeslaender)\n",
    "\n",
    "plt.title('Total Vaccinations Over Years by Bundesland')\n",
    "plt.xlabel('Bundesland')\n",
    "plt.ylabel('Number of Vaccinations')\n",
    "plt.legend(title='Year')\n",
    "plt.tight_layout()\n",
    "plt.show()"
   ]
  },
  {
   "cell_type": "code",
   "execution_count": null,
   "id": "20638f6b",
   "metadata": {},
   "outputs": [],
   "source": [
    "import plotly.graph_objs as go\n",
    "\n",
    "import json\n",
    "\n",
    "\n",
    "austria_geojson_path = 'laender_999_geo.json'\n",
    "\n",
    "\n",
    "with open(austria_geojson_path,  'r') as f:\n",
    "    austria_geojson = json.load(f)\n",
    "\n",
    "Impf = graph.run(\"\"\"\n",
    "MATCH (i:Impf_Patient2021)\n",
    "RETURN i.bezirkId, i.zweiteImpfung\n",
    "ORDER BY i.Vollimmuiniserte DESC\n",
    "\"\"\")\n",
    "\n",
    "df = pd.DataFrame([dict(r) for r in Impf], columns=['i.bezirkId', 'i.zweiteImpfung'])\n",
    "\n",
    "df['bundesland'] = df['i.bezirkId'].apply(lambda x: int(str(x)[0]))\n",
    "\n",
    "df['i.zweiteImpfung'] = pd.to_numeric(df['i.zweiteImpfung'])\n",
    "\n",
    "\n",
    "\n",
    "austriamap = [go.Choropleth(\n",
    "    geojson=austria_geojson,  # Verweise auf die GeoJSON-Datei\n",
    "    featureidkey=\"properties.iso\",  # Pfad zum Attribut im GeoJSON Feature, das den Namen des Bundeslandes enthält\n",
    "    locations=df['bundesland'],  # Hier die Namen der Bundesländer\n",
    "    z=df['i.zweiteImpfung'],  # Hier die Anzahl der Befragten\n",
    "    colorscale=\"Blues\",\n",
    "    reversescale=True,\n",
    "    marker=dict(line=dict(width=0.5)),\n",
    "    colorbar=dict(title='Anzahl der Befragten')  # Entferne autotick, da es nicht unterstützt wird\n",
    ")]\n",
    "\n",
    "layout = go.Layout(\n",
    "    title_text=\"Anzahl der Befragten in Österreich nach Bundesländern\",\n",
    "    geo=dict(\n",
    "        scope=\"europe\",  # Begrenzt die Ansicht auf Europa\n",
    "        showlakes=True,\n",
    "        lakecolor=\"rgb(255, 255, 255)\",\n",
    "        center={\"lat\": 47.6965, \"lon\": 13.3457},  # Zentriere die Karte auf Österreich\n",
    "        lataxis={\"range\": [46, 49]},  # Begrenzt den Breitengradbereich\n",
    "        lonaxis={\"range\": [9, 17]},  # Begrenzt den Längengradbereich\n",
    "        countrycolor=\"DarkBlue\",\n",
    "        landcolor=\"LightGreen\",\n",
    "        showcountries=True,\n",
    "        countrywidth=1.0\n",
    "    )\n",
    ")\n",
    "\n",
    "\n",
    "fig = go.Figure(data=austriamap)\n",
    "fig.show()"
   ]
  },
  {
   "cell_type": "markdown",
   "id": "92ce2c2c",
   "metadata": {},
   "source": [
    "Über den localhost:7687 kann man Neo4J im Browser starten und sich die Nodes und Edges ansehen:"
   ]
  },
  {
   "cell_type": "markdown",
   "id": "72026b2a",
   "metadata": {},
   "source": [
    "Die Daten können dann mit hilfe von csv, was vorher importiert wurde, einglesen werden und nachdem die Nodes deklariert wurden, kann der Graph erstellt werden mit py2neo."
   ]
  },
  {
   "cell_type": "markdown",
   "id": "a50fc80e",
   "metadata": {},
   "source": [
    "Um abzufragen wie viele Nodes in Der Tabelle sind, kann diese Query verwendet werden:"
   ]
  },
  {
   "cell_type": "code",
   "execution_count": null,
   "id": "3e253ba5",
   "metadata": {},
   "outputs": [],
   "source": [
    "with driver.session() as session:\n",
    "    result = session.run(\"MATCH (n) RETURN count(n) AS node_count\")\n",
    "    for record in result:\n",
    "        print(record[\"node_count\"])"
   ]
  },
  {
   "cell_type": "markdown",
   "id": "6d055cd2",
   "metadata": {},
   "source": [
    "In Neo4j wird as Sprache \"Cypher\" verwendet. In dieser Sprache sind die Nodes mit () dargestellt und die Edges mit [] dargestellt. Hier werden alle Patienten die Covid gehabt haben ausgegeben:"
   ]
  },
  {
   "cell_type": "code",
   "execution_count": null,
   "id": "87acd633",
   "metadata": {
    "scrolled": true
   },
   "outputs": [],
   "source": [
    "cypher_query = \"\"\"\n",
    "MATCH (i:Impf_Patient)\n",
    "RETURN i.datum AS Year, sum(i.ersteImpfung) AS Vaccinations\n",
    "\"\"\"\n",
    "\n",
    "result = graph.run(cypher_query)\n",
    "\n",
    "# Fetch all records\n",
    "records = result.data()\n",
    "\n",
    "# Print the result\n",
    "for record in records:\n",
    "    print(record)\n"
   ]
  },
  {
   "cell_type": "markdown",
   "id": "ebf452c4",
   "metadata": {},
   "source": [
    "Dies kann auch mit panda dargestellt werden:"
   ]
  },
  {
   "cell_type": "code",
   "execution_count": null,
   "id": "46280681",
   "metadata": {},
   "outputs": [],
   "source": [
    "import pandas as pd\n",
    "\n",
    "# Assuming you have already executed the cypher_query and stored the result in 'result'\n",
    "cypher_query = \"\"\"\n",
    "MATCH (p:Patient) WHERE p.covid='1'\n",
    "RETURN p.kalenderWoche, p.wohnort, p.Geschlecht, p.covid, p.influenza, p.rsv, p.sonstige, p.aufnahmen, p.bev_zahl\n",
    "\n",
    "\"\"\"\n",
    "\n",
    "result = graph.run(cypher_query)\n",
    "\n",
    "# Extract data from result\n",
    "data = [dict(record) for record in result]\n",
    "\n",
    "# Convert the result to a DataFrame\n",
    "df = pd.DataFrame(data)\n",
    "\n",
    "# Print the DataFrame\n",
    "print(df)\n"
   ]
  },
  {
   "cell_type": "markdown",
   "id": "ebae64c0",
   "metadata": {},
   "source": [
    "Danach wird der Container wieder geschlossen:"
   ]
  },
  {
   "cell_type": "code",
   "execution_count": null,
   "id": "20de9c60",
   "metadata": {},
   "outputs": [],
   "source": [
    "!docker ps"
   ]
  },
  {
   "cell_type": "code",
   "execution_count": 2,
   "id": "288858e8",
   "metadata": {
    "scrolled": true
   },
   "outputs": [],
   "source": [
    "!docker-compose down"
   ]
  },
  {
   "cell_type": "code",
   "execution_count": 1,
   "id": "b1b84648",
   "metadata": {},
   "outputs": [
    {
     "name": "stderr",
     "output_type": "stream",
     "text": [
      " Container neo4j-container  Stopping\n",
      " Container neo4j-container  Stopped\n",
      " Container neo4j-container  Removing\n",
      " Container neo4j-container  Removed\n",
      " Network completx_sql_default  Removing\n",
      " Network completx_sql_default  Removed\n"
     ]
    }
   ],
   "source": [
    "!docker-compose -p completx_sql down"
   ]
  },
  {
   "cell_type": "code",
   "execution_count": null,
   "id": "ddf92a46",
   "metadata": {},
   "outputs": [],
   "source": [
    "!docker volume ls"
   ]
  },
  {
   "cell_type": "markdown",
   "id": "12356444",
   "metadata": {},
   "source": [
    "Um ein Volume zu löschen, kann man wieder folgenden Befehl verwenden:"
   ]
  },
  {
   "cell_type": "code",
   "execution_count": 3,
   "id": "d11424b9",
   "metadata": {},
   "outputs": [
    {
     "name": "stdout",
     "output_type": "stream",
     "text": [
      "completx_sql_neo4j-data\n"
     ]
    }
   ],
   "source": [
    "!docker volume rm completx_sql_neo4j-data"
   ]
  },
  {
   "cell_type": "markdown",
   "id": "25738b15",
   "metadata": {},
   "source": [
    "Anbei ist ein GitHub-Repository zu finden, in dem einige Queries sowie Videos verlinkt sind, die Ihnen helfen können, Cypher und Neo4j besser zu verstehen:\n",
    "https://github.com/cj2001/bite_sized_data_science/tree/main\n",
    "\n",
    "Ebenfalls sind in der Dokumentation von Neo4j viele hilfreiche Hinweise zu finden, zum Beispiel zum Import von CSV-Dateien über Python:\n",
    "https://neo4j.com/docs/getting-started/data-import/csv-import/\n",
    "\n",
    "Zuletzt noch ein Cheatsheet für Cypher: https://neo4j.com/docs/cypher-cheat-sheet/5/auradb-enterprise/"
   ]
  }
 ],
 "metadata": {
  "kernelspec": {
   "display_name": "Python 3 (ipykernel)",
   "language": "python",
   "name": "python3"
  },
  "language_info": {
   "codemirror_mode": {
    "name": "ipython",
    "version": 3
   },
   "file_extension": ".py",
   "mimetype": "text/x-python",
   "name": "python",
   "nbconvert_exporter": "python",
   "pygments_lexer": "ipython3",
   "version": "3.10.6"
  }
 },
 "nbformat": 4,
 "nbformat_minor": 5
}
